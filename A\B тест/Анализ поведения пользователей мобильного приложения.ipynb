{
 "cells": [
  {
   "cell_type": "markdown",
   "metadata": {},
   "source": [
    "# Анализ поведения пользователей мобильного приложения\n",
    "\n",
    "## Описание проекта:\n",
    "- Необходимо разобраться в поведении пользователей мобильного приложения по доставке продуктов питания.   \n",
    "- Исследуем воронку продаж,  узнаем как пользователи доходят до покупки.   \n",
    "- Дизайнеры захотели поменять шрифты в приложении, а  чтобы посмотреть как пользователи реагируют на нововведения запустили A/A/B тест.Исследуем результаты тестирования и выясним какой шрифт лучше.\n",
    "\n",
    "## Описание данных:\n",
    "Файл /datasets/hypothesis.csv\n",
    "\n",
    "- Hypothesis — краткое описание гипотезы;\n",
    "- Reach — охват пользователей по 10-балльной шкале;\n",
    "- Impact — влияние на пользователей по 10-балльной шкале;\n",
    "- Confidence — уверенность в гипотезе по 10-балльной шкале;\n",
    "- Efforts — затраты ресурсов на проверку гипотезы по 10-балльной шкале. Чем больше значение Efforts, тем дороже проверка гипотезы.   \n",
    "   \n",
    "Файл /datasets/orders.csv\n",
    "\n",
    "- transactionId — идентификатор заказа;\n",
    "- visitorId — идентификатор пользователя, совершившего заказ;\n",
    "- date — дата, когда был совершён заказ;\n",
    "- revenue — выручка заказа;\n",
    "- group — группа A/B-теста, в которую попал заказ.    \n",
    "    \n",
    "Файл /datasets/visitors.csv.\n",
    "\n",
    "- date — дата;\n",
    "- group — группа A/B-теста;\n",
    "- visitors — количество пользователей в указанную дату в указанной группе A/B-теста"
   ]
  },
  {
   "cell_type": "markdown",
   "metadata": {},
   "source": [
    "##  Знакомство с информацией."
   ]
  },
  {
   "cell_type": "markdown",
   "metadata": {},
   "source": [
    "Подключим необходимые библиотеки, которые потребуются для выполнения проекта"
   ]
  },
  {
   "cell_type": "code",
   "execution_count": 1,
   "metadata": {},
   "outputs": [],
   "source": [
    "import pandas as pd\n",
    "import datetime as dt\n",
    "import numpy as np\n",
    "import matplotlib.pyplot as plt\n",
    "import seaborn as sns\n",
    "from scipy import stats as st\n",
    "import plotly.express as px\n",
    "import math as mth\n",
    "import warnings"
   ]
  },
  {
   "cell_type": "code",
   "execution_count": 2,
   "metadata": {},
   "outputs": [],
   "source": [
    "warnings.filterwarnings(\"ignore\")"
   ]
  },
  {
   "cell_type": "markdown",
   "metadata": {},
   "source": [
    "Сохраним датасет в переменную data. и воспользуемся разделителем по '\\t'"
   ]
  },
  {
   "cell_type": "code",
   "execution_count": 3,
   "metadata": {},
   "outputs": [],
   "source": [
    "try:\n",
    "    data = pd.read_csv('/datasets/logs_exp.csv', sep = '\\t')\n",
    "except FileNotFoundError:\n",
    "    data = pd.read_csv('/Users/aleksandrefimcev/Desktop/logs_exp.csv', sep = '\\t') "
   ]
  },
  {
   "cell_type": "code",
   "execution_count": 4,
   "metadata": {},
   "outputs": [
    {
     "data": {
      "text/html": [
       "<div>\n",
       "<style scoped>\n",
       "    .dataframe tbody tr th:only-of-type {\n",
       "        vertical-align: middle;\n",
       "    }\n",
       "\n",
       "    .dataframe tbody tr th {\n",
       "        vertical-align: top;\n",
       "    }\n",
       "\n",
       "    .dataframe thead th {\n",
       "        text-align: right;\n",
       "    }\n",
       "</style>\n",
       "<table border=\"1\" class=\"dataframe\">\n",
       "  <thead>\n",
       "    <tr style=\"text-align: right;\">\n",
       "      <th></th>\n",
       "      <th>EventName</th>\n",
       "      <th>DeviceIDHash</th>\n",
       "      <th>EventTimestamp</th>\n",
       "      <th>ExpId</th>\n",
       "    </tr>\n",
       "  </thead>\n",
       "  <tbody>\n",
       "    <tr>\n",
       "      <th>0</th>\n",
       "      <td>MainScreenAppear</td>\n",
       "      <td>4575588528974610257</td>\n",
       "      <td>1564029816</td>\n",
       "      <td>246</td>\n",
       "    </tr>\n",
       "    <tr>\n",
       "      <th>1</th>\n",
       "      <td>MainScreenAppear</td>\n",
       "      <td>7416695313311560658</td>\n",
       "      <td>1564053102</td>\n",
       "      <td>246</td>\n",
       "    </tr>\n",
       "    <tr>\n",
       "      <th>2</th>\n",
       "      <td>PaymentScreenSuccessful</td>\n",
       "      <td>3518123091307005509</td>\n",
       "      <td>1564054127</td>\n",
       "      <td>248</td>\n",
       "    </tr>\n",
       "    <tr>\n",
       "      <th>3</th>\n",
       "      <td>CartScreenAppear</td>\n",
       "      <td>3518123091307005509</td>\n",
       "      <td>1564054127</td>\n",
       "      <td>248</td>\n",
       "    </tr>\n",
       "    <tr>\n",
       "      <th>4</th>\n",
       "      <td>PaymentScreenSuccessful</td>\n",
       "      <td>6217807653094995999</td>\n",
       "      <td>1564055322</td>\n",
       "      <td>248</td>\n",
       "    </tr>\n",
       "  </tbody>\n",
       "</table>\n",
       "</div>"
      ],
      "text/plain": [
       "                 EventName         DeviceIDHash  EventTimestamp  ExpId\n",
       "0         MainScreenAppear  4575588528974610257      1564029816    246\n",
       "1         MainScreenAppear  7416695313311560658      1564053102    246\n",
       "2  PaymentScreenSuccessful  3518123091307005509      1564054127    248\n",
       "3         CartScreenAppear  3518123091307005509      1564054127    248\n",
       "4  PaymentScreenSuccessful  6217807653094995999      1564055322    248"
      ]
     },
     "execution_count": 4,
     "metadata": {},
     "output_type": "execute_result"
    }
   ],
   "source": [
    "data.head(5)"
   ]
  },
  {
   "cell_type": "markdown",
   "metadata": {},
   "source": [
    "##  Подготовка данных."
   ]
  },
  {
   "cell_type": "markdown",
   "metadata": {},
   "source": [
    "###  Приведение столбцов к удобному виду."
   ]
  },
  {
   "cell_type": "code",
   "execution_count": 5,
   "metadata": {},
   "outputs": [],
   "source": [
    "data = ( data.rename(columns = {'EventName':'event_name'\n",
    "                                ,'DeviceIDHash':'user_id','EventTimestamp':'event_time'\n",
    "                               ,'ExpId':'group'})\n",
    "       )"
   ]
  },
  {
   "cell_type": "code",
   "execution_count": 6,
   "metadata": {},
   "outputs": [
    {
     "name": "stdout",
     "output_type": "stream",
     "text": [
      "<class 'pandas.core.frame.DataFrame'>\n",
      "RangeIndex: 244126 entries, 0 to 244125\n",
      "Data columns (total 4 columns):\n",
      " #   Column      Non-Null Count   Dtype \n",
      "---  ------      --------------   ----- \n",
      " 0   event_name  244126 non-null  object\n",
      " 1   user_id     244126 non-null  int64 \n",
      " 2   event_time  244126 non-null  int64 \n",
      " 3   group       244126 non-null  int64 \n",
      "dtypes: int64(3), object(1)\n",
      "memory usage: 7.5+ MB\n"
     ]
    }
   ],
   "source": [
    "data.info()"
   ]
  },
  {
   "cell_type": "markdown",
   "metadata": {},
   "source": [
    "В датасете 4 колонки с 224126 записей.   \n",
    "Пропусков в датасете нет.    \n",
    "Подготовим данные для дальнейшего исследования.      \n",
    "Изменим тип времени."
   ]
  },
  {
   "cell_type": "code",
   "execution_count": 7,
   "metadata": {},
   "outputs": [],
   "source": [
    "data['event_time'] = data['event_time'].apply(dt.datetime.fromtimestamp)"
   ]
  },
  {
   "cell_type": "code",
   "execution_count": 8,
   "metadata": {},
   "outputs": [
    {
     "data": {
      "text/html": [
       "<div>\n",
       "<style scoped>\n",
       "    .dataframe tbody tr th:only-of-type {\n",
       "        vertical-align: middle;\n",
       "    }\n",
       "\n",
       "    .dataframe tbody tr th {\n",
       "        vertical-align: top;\n",
       "    }\n",
       "\n",
       "    .dataframe thead th {\n",
       "        text-align: right;\n",
       "    }\n",
       "</style>\n",
       "<table border=\"1\" class=\"dataframe\">\n",
       "  <thead>\n",
       "    <tr style=\"text-align: right;\">\n",
       "      <th></th>\n",
       "      <th>event_name</th>\n",
       "      <th>user_id</th>\n",
       "      <th>event_time</th>\n",
       "      <th>group</th>\n",
       "    </tr>\n",
       "  </thead>\n",
       "  <tbody>\n",
       "    <tr>\n",
       "      <th>0</th>\n",
       "      <td>MainScreenAppear</td>\n",
       "      <td>4575588528974610257</td>\n",
       "      <td>2019-07-25 07:43:36</td>\n",
       "      <td>246</td>\n",
       "    </tr>\n",
       "    <tr>\n",
       "      <th>1</th>\n",
       "      <td>MainScreenAppear</td>\n",
       "      <td>7416695313311560658</td>\n",
       "      <td>2019-07-25 14:11:42</td>\n",
       "      <td>246</td>\n",
       "    </tr>\n",
       "    <tr>\n",
       "      <th>2</th>\n",
       "      <td>PaymentScreenSuccessful</td>\n",
       "      <td>3518123091307005509</td>\n",
       "      <td>2019-07-25 14:28:47</td>\n",
       "      <td>248</td>\n",
       "    </tr>\n",
       "    <tr>\n",
       "      <th>3</th>\n",
       "      <td>CartScreenAppear</td>\n",
       "      <td>3518123091307005509</td>\n",
       "      <td>2019-07-25 14:28:47</td>\n",
       "      <td>248</td>\n",
       "    </tr>\n",
       "    <tr>\n",
       "      <th>4</th>\n",
       "      <td>PaymentScreenSuccessful</td>\n",
       "      <td>6217807653094995999</td>\n",
       "      <td>2019-07-25 14:48:42</td>\n",
       "      <td>248</td>\n",
       "    </tr>\n",
       "  </tbody>\n",
       "</table>\n",
       "</div>"
      ],
      "text/plain": [
       "                event_name              user_id          event_time  group\n",
       "0         MainScreenAppear  4575588528974610257 2019-07-25 07:43:36    246\n",
       "1         MainScreenAppear  7416695313311560658 2019-07-25 14:11:42    246\n",
       "2  PaymentScreenSuccessful  3518123091307005509 2019-07-25 14:28:47    248\n",
       "3         CartScreenAppear  3518123091307005509 2019-07-25 14:28:47    248\n",
       "4  PaymentScreenSuccessful  6217807653094995999 2019-07-25 14:48:42    248"
      ]
     },
     "execution_count": 8,
     "metadata": {},
     "output_type": "execute_result"
    }
   ],
   "source": [
    "data.head(5)"
   ]
  },
  {
   "cell_type": "markdown",
   "metadata": {},
   "source": [
    "### Добавление отдельного столбца с датой."
   ]
  },
  {
   "cell_type": "code",
   "execution_count": 9,
   "metadata": {},
   "outputs": [],
   "source": [
    "data['date'] = data['event_time'].dt.to_period('D')"
   ]
  },
  {
   "cell_type": "code",
   "execution_count": 10,
   "metadata": {},
   "outputs": [
    {
     "data": {
      "text/html": [
       "<div>\n",
       "<style scoped>\n",
       "    .dataframe tbody tr th:only-of-type {\n",
       "        vertical-align: middle;\n",
       "    }\n",
       "\n",
       "    .dataframe tbody tr th {\n",
       "        vertical-align: top;\n",
       "    }\n",
       "\n",
       "    .dataframe thead th {\n",
       "        text-align: right;\n",
       "    }\n",
       "</style>\n",
       "<table border=\"1\" class=\"dataframe\">\n",
       "  <thead>\n",
       "    <tr style=\"text-align: right;\">\n",
       "      <th></th>\n",
       "      <th>event_name</th>\n",
       "      <th>user_id</th>\n",
       "      <th>event_time</th>\n",
       "      <th>group</th>\n",
       "      <th>date</th>\n",
       "    </tr>\n",
       "  </thead>\n",
       "  <tbody>\n",
       "    <tr>\n",
       "      <th>0</th>\n",
       "      <td>MainScreenAppear</td>\n",
       "      <td>4575588528974610257</td>\n",
       "      <td>2019-07-25 07:43:36</td>\n",
       "      <td>246</td>\n",
       "      <td>2019-07-25</td>\n",
       "    </tr>\n",
       "    <tr>\n",
       "      <th>1</th>\n",
       "      <td>MainScreenAppear</td>\n",
       "      <td>7416695313311560658</td>\n",
       "      <td>2019-07-25 14:11:42</td>\n",
       "      <td>246</td>\n",
       "      <td>2019-07-25</td>\n",
       "    </tr>\n",
       "    <tr>\n",
       "      <th>2</th>\n",
       "      <td>PaymentScreenSuccessful</td>\n",
       "      <td>3518123091307005509</td>\n",
       "      <td>2019-07-25 14:28:47</td>\n",
       "      <td>248</td>\n",
       "      <td>2019-07-25</td>\n",
       "    </tr>\n",
       "    <tr>\n",
       "      <th>3</th>\n",
       "      <td>CartScreenAppear</td>\n",
       "      <td>3518123091307005509</td>\n",
       "      <td>2019-07-25 14:28:47</td>\n",
       "      <td>248</td>\n",
       "      <td>2019-07-25</td>\n",
       "    </tr>\n",
       "    <tr>\n",
       "      <th>4</th>\n",
       "      <td>PaymentScreenSuccessful</td>\n",
       "      <td>6217807653094995999</td>\n",
       "      <td>2019-07-25 14:48:42</td>\n",
       "      <td>248</td>\n",
       "      <td>2019-07-25</td>\n",
       "    </tr>\n",
       "  </tbody>\n",
       "</table>\n",
       "</div>"
      ],
      "text/plain": [
       "                event_name              user_id          event_time  group  \\\n",
       "0         MainScreenAppear  4575588528974610257 2019-07-25 07:43:36    246   \n",
       "1         MainScreenAppear  7416695313311560658 2019-07-25 14:11:42    246   \n",
       "2  PaymentScreenSuccessful  3518123091307005509 2019-07-25 14:28:47    248   \n",
       "3         CartScreenAppear  3518123091307005509 2019-07-25 14:28:47    248   \n",
       "4  PaymentScreenSuccessful  6217807653094995999 2019-07-25 14:48:42    248   \n",
       "\n",
       "         date  \n",
       "0  2019-07-25  \n",
       "1  2019-07-25  \n",
       "2  2019-07-25  \n",
       "3  2019-07-25  \n",
       "4  2019-07-25  "
      ]
     },
     "execution_count": 10,
     "metadata": {},
     "output_type": "execute_result"
    }
   ],
   "source": [
    "data.head(5)"
   ]
  },
  {
   "cell_type": "markdown",
   "metadata": {},
   "source": [
    "### Проверка данных на дубликаты"
   ]
  },
  {
   "cell_type": "markdown",
   "metadata": {},
   "source": [
    "Посчитаем количествло дубликатов в датасете"
   ]
  },
  {
   "cell_type": "code",
   "execution_count": 11,
   "metadata": {},
   "outputs": [
    {
     "data": {
      "text/plain": [
       "413"
      ]
     },
     "execution_count": 11,
     "metadata": {},
     "output_type": "execute_result"
    }
   ],
   "source": [
    "data.duplicated().sum()"
   ]
  },
  {
   "cell_type": "markdown",
   "metadata": {},
   "source": [
    "В наших данных 413 явных дубликатов."
   ]
  },
  {
   "cell_type": "code",
   "execution_count": 12,
   "metadata": {},
   "outputs": [
    {
     "name": "stdout",
     "output_type": "stream",
     "text": [
      "0.17% дубликатов в датасете\n"
     ]
    }
   ],
   "source": [
    "print(f'{round((data.duplicated().sum()) / len (data) * 100 ,2)}% дубликатов в датасете')"
   ]
  },
  {
   "cell_type": "markdown",
   "metadata": {},
   "source": [
    "Так как 0.17 % не повлияют на исход анализа,  удалим дубликаты"
   ]
  },
  {
   "cell_type": "code",
   "execution_count": 13,
   "metadata": {},
   "outputs": [],
   "source": [
    "data = data.drop_duplicates()"
   ]
  },
  {
   "cell_type": "markdown",
   "metadata": {},
   "source": [
    "Убедимся в том,  что дубликаты удалены."
   ]
  },
  {
   "cell_type": "code",
   "execution_count": 14,
   "metadata": {},
   "outputs": [
    {
     "data": {
      "text/plain": [
       "0"
      ]
     },
     "execution_count": 14,
     "metadata": {},
     "output_type": "execute_result"
    }
   ],
   "source": [
    "data.duplicated().sum()"
   ]
  },
  {
   "cell_type": "markdown",
   "metadata": {},
   "source": [
    "На этом шаге мы:   \n",
    "-- изменили названия столбцов на названия удобные для работы  \n",
    "-- преобразовали столбец event_time из секунд в дату и время   \n",
    "-- удалили дубликаты    \n",
    "-- дополнительно создали столбец с датой"
   ]
  },
  {
   "cell_type": "markdown",
   "metadata": {},
   "source": [
    "## Изучение  и проверка данных"
   ]
  },
  {
   "cell_type": "markdown",
   "metadata": {},
   "source": [
    "### Количество событий в логе"
   ]
  },
  {
   "cell_type": "code",
   "execution_count": 15,
   "metadata": {},
   "outputs": [
    {
     "name": "stdout",
     "output_type": "stream",
     "text": [
      "Всего в логе: 243713 событий\n"
     ]
    }
   ],
   "source": [
    "count_log = data['event_name'].count()\n",
    "print(f'Всего в логе: {count_log} событий')"
   ]
  },
  {
   "cell_type": "markdown",
   "metadata": {},
   "source": [
    "### Количество пользователей в логе"
   ]
  },
  {
   "cell_type": "code",
   "execution_count": 16,
   "metadata": {},
   "outputs": [
    {
     "name": "stdout",
     "output_type": "stream",
     "text": [
      "Всего в логе: 7551 пользователей\n"
     ]
    }
   ],
   "source": [
    "count_user = data['user_id'].nunique()\n",
    "print(f'Всего в логе: {count_user} пользователей')"
   ]
  },
  {
   "cell_type": "markdown",
   "metadata": {},
   "source": [
    " ### Среднее количество событий на пользователя"
   ]
  },
  {
   "cell_type": "code",
   "execution_count": 17,
   "metadata": {},
   "outputs": [
    {
     "name": "stdout",
     "output_type": "stream",
     "text": [
      "Среднее количество событий в логе на одного пользователя: 32\n"
     ]
    }
   ],
   "source": [
    "print(f'Среднее количество событий в логе на одного пользователя: {int(count_log/count_user)}')"
   ]
  },
  {
   "cell_type": "markdown",
   "metadata": {},
   "source": [
    "Посмотрим как распределяются события по пользователям. Построим гистограмму"
   ]
  },
  {
   "cell_type": "code",
   "execution_count": 18,
   "metadata": {},
   "outputs": [],
   "source": [
    "event_df = data.pivot_table(index = 'user_id'\n",
    "                 , values = 'event_name'\n",
    "                 , aggfunc = {'count'})"
   ]
  },
  {
   "cell_type": "code",
   "execution_count": 19,
   "metadata": {},
   "outputs": [
    {
     "data": {
      "image/png": "[encoded data removed]",
      "text/plain": [
       "<Figure size 1000x500 with 1 Axes>"
      ]
     },
     "metadata": {},
     "output_type": "display_data"
    }
   ],
   "source": [
    "plt.figure(figsize=(10, 5))\n",
    "fig = sns.histplot(data = event_df, x='count', bins=1000)\n",
    "fig.set(xlabel='Кол-во событий'\n",
    "        , ylabel = 'Кол-во пользователей'\n",
    "        , title = 'Гистограмма распределения количества событий по пользователям'\n",
    "        , xlim = (0,200)\n",
    "       );"
   ]
  },
  {
   "cell_type": "markdown",
   "metadata": {},
   "source": [
    "Посмотрим на значение медианы"
   ]
  },
  {
   "cell_type": "code",
   "execution_count": 20,
   "metadata": {},
   "outputs": [
    {
     "data": {
      "text/plain": [
       "count    20.0\n",
       "dtype: float64"
      ]
     },
     "execution_count": 20,
     "metadata": {},
     "output_type": "execute_result"
    }
   ],
   "source": [
    "data.pivot_table(index = 'user_id'\n",
    "                 , values = 'event_name'\n",
    "                 , aggfunc = {'count'}).median()"
   ]
  },
  {
   "cell_type": "markdown",
   "metadata": {},
   "source": [
    "Как мы видим распределение на гистограмме скошено вправо. Среднее сдвинуто по отношению к медиане вправо."
   ]
  },
  {
   "cell_type": "markdown",
   "metadata": {},
   "source": [
    "Посмотрим  на минимальную и максимульную даты"
   ]
  },
  {
   "cell_type": "code",
   "execution_count": 21,
   "metadata": {},
   "outputs": [
    {
     "name": "stdout",
     "output_type": "stream",
     "text": [
      "Минимальная дата: 2019-07-25\n"
     ]
    }
   ],
   "source": [
    "min_date = data['date'].min()\n",
    "print(f'Минимальная дата: {min_date}')"
   ]
  },
  {
   "cell_type": "code",
   "execution_count": 22,
   "metadata": {},
   "outputs": [
    {
     "name": "stdout",
     "output_type": "stream",
     "text": [
      "Максимальная дата: 2019-08-08\n"
     ]
    }
   ],
   "source": [
    "max_date = data['date'].max()\n",
    "print(f'Максимальная дата: {max_date}')"
   ]
  },
  {
   "cell_type": "markdown",
   "metadata": {},
   "source": [
    "Минимальная дата в нашем датасете: 25 июля 2019 года    \n",
    "Максимальная дата в нашем датасете: 07 августа 2019 года "
   ]
  },
  {
   "cell_type": "markdown",
   "metadata": {},
   "source": [
    "Построим гистограмму по дате и времени"
   ]
  },
  {
   "cell_type": "code",
   "execution_count": 23,
   "metadata": {},
   "outputs": [
    {
     "data": {
      "text/plain": [
       "''"
      ]
     },
     "execution_count": 23,
     "metadata": {},
     "output_type": "execute_result"
    },
    {
     "data": {
      "image/png": "[encoded data removed]",
      "text/plain": [
       "<Figure size 1500x700 with 1 Axes>"
      ]
     },
     "metadata": {},
     "output_type": "display_data"
    }
   ],
   "source": [
    "plt.figure(figsize=(15, 7))\n",
    "fig = sns.histplot(data = data['event_time'],bins = 14*24)\n",
    "plt.xticks(rotation=45, ha='right')\n",
    "plt.title('Гистограмма по дате и времени событий')\n",
    "fig.set(xlabel = 'Дата',ylabel = 'Кол-во событий')\n",
    ";\n"
   ]
  },
  {
   "cell_type": "markdown",
   "metadata": {},
   "source": [
    "Как видно на гистограмме полные данные начинаются с 1 августа 2019 года. Посчитаем процент данных до 1 августа 2019 года."
   ]
  },
  {
   "cell_type": "markdown",
   "metadata": {},
   "source": [
    "Отбросим ненужные данные и сохраним в новом датафреме data_new   \n",
    "Изначальный датафрейм не будем перезаписывать,  тк в дальнейшем возможно он может понадобиться."
   ]
  },
  {
   "cell_type": "code",
   "execution_count": 25,
   "metadata": {},
   "outputs": [],
   "source": [
    "data_new = data[data['date'] >=  '2019-08-01']"
   ]
  },
  {
   "cell_type": "markdown",
   "metadata": {},
   "source": [
    "###  Взглянем много ли событий и пользователей исчезнут, отбросив старые данные"
   ]
  },
  {
   "cell_type": "code",
   "execution_count": 83,
   "metadata": {},
   "outputs": [
    {
     "name": "stdout",
     "output_type": "stream",
     "text": [
      "Отбросив старые данные мы потеряли 0.82 % событий\n"
     ]
    }
   ],
   "source": [
    "print(f'Отбросив старые данные мы потеряли {round(len(until_aug) / len(data) * 100,2)} % событий')"
   ]
  },
  {
   "cell_type": "code",
   "execution_count": 84,
   "metadata": {},
   "outputs": [],
   "source": [
    "old_users = data['user_id'].nunique()"
   ]
  },
  {
   "cell_type": "code",
   "execution_count": 85,
   "metadata": {},
   "outputs": [],
   "source": [
    "new_users = data_new['user_id'].nunique()"
   ]
  },
  {
   "cell_type": "code",
   "execution_count": 86,
   "metadata": {},
   "outputs": [
    {
     "name": "stdout",
     "output_type": "stream",
     "text": [
      "Количество пользователей в старыйх данных: 7551\n",
      "Количество пользователей в новых данных: 7538\n",
      "Потеря пользователей составила: 0.17%\n",
      "          \n"
     ]
    }
   ],
   "source": [
    "print (   f'''Количество пользователей в старыйх данных: {old_users}\n",
    "Количество пользователей в новых данных: {new_users}\n",
    "Потеря пользователей составила: {round(100 - (new_users / old_users * 100),2)}%\n",
    "          ''')\n",
    "      "
   ]
  },
  {
   "cell_type": "markdown",
   "metadata": {},
   "source": [
    "После того как мы отбросили данные, мы потеряли чуть более 1% событий и 0.23% пользователей. Это незначительнное количество данных, можно продолжать исследование."
   ]
  },
  {
   "cell_type": "markdown",
   "metadata": {},
   "source": [
    "### Проверим что в наших данных присутствуют пользователи из трёх разных групп"
   ]
  },
  {
   "cell_type": "code",
   "execution_count": 31,
   "metadata": {},
   "outputs": [],
   "source": [
    "user_group = data_new.pivot_table(index = 'group', values = 'user_id', aggfunc = {'nunique'}).reset_index()"
   ]
  },
  {
   "cell_type": "code",
   "execution_count": 32,
   "metadata": {},
   "outputs": [],
   "source": [
    "user_group.columns = ['Номер группы','Количество человек']"
   ]
  },
  {
   "cell_type": "code",
   "execution_count": 33,
   "metadata": {},
   "outputs": [
    {
     "data": {
      "text/html": [
       "<div>\n",
       "<style scoped>\n",
       "    .dataframe tbody tr th:only-of-type {\n",
       "        vertical-align: middle;\n",
       "    }\n",
       "\n",
       "    .dataframe tbody tr th {\n",
       "        vertical-align: top;\n",
       "    }\n",
       "\n",
       "    .dataframe thead th {\n",
       "        text-align: right;\n",
       "    }\n",
       "</style>\n",
       "<table border=\"1\" class=\"dataframe\">\n",
       "  <thead>\n",
       "    <tr style=\"text-align: right;\">\n",
       "      <th></th>\n",
       "      <th>Номер группы</th>\n",
       "      <th>Количество человек</th>\n",
       "    </tr>\n",
       "  </thead>\n",
       "  <tbody>\n",
       "    <tr>\n",
       "      <th>0</th>\n",
       "      <td>246</td>\n",
       "      <td>2484</td>\n",
       "    </tr>\n",
       "    <tr>\n",
       "      <th>1</th>\n",
       "      <td>247</td>\n",
       "      <td>2517</td>\n",
       "    </tr>\n",
       "    <tr>\n",
       "      <th>2</th>\n",
       "      <td>248</td>\n",
       "      <td>2537</td>\n",
       "    </tr>\n",
       "  </tbody>\n",
       "</table>\n",
       "</div>"
      ],
      "text/plain": [
       "   Номер группы  Количество человек\n",
       "0           246                2484\n",
       "1           247                2517\n",
       "2           248                2537"
      ]
     },
     "execution_count": 33,
     "metadata": {},
     "output_type": "execute_result"
    }
   ],
   "source": [
    "user_group"
   ]
  },
  {
   "cell_type": "markdown",
   "metadata": {},
   "source": [
    "Создадим функцию формата,  которая будет выводить вместе с процентами числовое значение в графиках"
   ]
  },
  {
   "cell_type": "code",
   "execution_count": 34,
   "metadata": {},
   "outputs": [],
   "source": [
    "def autopct_format(values):\n",
    "        def my_format(pct):\n",
    "            total = sum(values)\n",
    "            val = int(round(pct*total/100.0))\n",
    "            return '{:.1f}%\\n({v:d})'.format(pct, v=val)\n",
    "        return my_format"
   ]
  },
  {
   "cell_type": "code",
   "execution_count": 35,
   "metadata": {},
   "outputs": [
    {
     "data": {
      "image/png": "[encoded data removed]",
      "text/plain": [
       "<Figure size 1000x700 with 1 Axes>"
      ]
     },
     "metadata": {},
     "output_type": "display_data"
    }
   ],
   "source": [
    "plt.figure(figsize=(10, 7))\n",
    "plt.pie(data = user_group\n",
    "        ,x = 'Количество человек'\n",
    "        , labels = 'Номер группы'\n",
    "        ,autopct=autopct_format(user_group['Количество человек']))\n",
    "plt.title('Количество пользователей по группам')\n",
    "plt.show()"
   ]
  },
  {
   "cell_type": "markdown",
   "metadata": {},
   "source": [
    "Как мы видим пользователи всех трёх групп присутствуют в данных. Группы разделены примерно поровну."
   ]
  },
  {
   "cell_type": "markdown",
   "metadata": {},
   "source": [
    "##  Изучим воронку событий"
   ]
  },
  {
   "cell_type": "markdown",
   "metadata": {},
   "source": [
    "### Посмотрим  какие события есть в логах и как часто они встречаются"
   ]
  },
  {
   "cell_type": "code",
   "execution_count": 36,
   "metadata": {},
   "outputs": [],
   "source": [
    "event_logs = (\n",
    "    data_new.pivot_table(index = 'event_name',\n",
    "    values = 'user_id', aggfunc = {'count'})\n",
    "    .sort_values(by = 'count',ascending = False)\n",
    "    .reset_index()\n",
    ")"
   ]
  },
  {
   "cell_type": "code",
   "execution_count": 37,
   "metadata": {},
   "outputs": [],
   "source": [
    "event_logs.columns = ['Название события', 'Количество событий']"
   ]
  },
  {
   "cell_type": "code",
   "execution_count": 38,
   "metadata": {},
   "outputs": [
    {
     "data": {
      "text/html": [
       "<div>\n",
       "<style scoped>\n",
       "    .dataframe tbody tr th:only-of-type {\n",
       "        vertical-align: middle;\n",
       "    }\n",
       "\n",
       "    .dataframe tbody tr th {\n",
       "        vertical-align: top;\n",
       "    }\n",
       "\n",
       "    .dataframe thead th {\n",
       "        text-align: right;\n",
       "    }\n",
       "</style>\n",
       "<table border=\"1\" class=\"dataframe\">\n",
       "  <thead>\n",
       "    <tr style=\"text-align: right;\">\n",
       "      <th></th>\n",
       "      <th>Название события</th>\n",
       "      <th>Количество событий</th>\n",
       "    </tr>\n",
       "  </thead>\n",
       "  <tbody>\n",
       "    <tr>\n",
       "      <th>0</th>\n",
       "      <td>MainScreenAppear</td>\n",
       "      <td>117889</td>\n",
       "    </tr>\n",
       "    <tr>\n",
       "      <th>1</th>\n",
       "      <td>OffersScreenAppear</td>\n",
       "      <td>46531</td>\n",
       "    </tr>\n",
       "    <tr>\n",
       "      <th>2</th>\n",
       "      <td>CartScreenAppear</td>\n",
       "      <td>42343</td>\n",
       "    </tr>\n",
       "    <tr>\n",
       "      <th>3</th>\n",
       "      <td>PaymentScreenSuccessful</td>\n",
       "      <td>33951</td>\n",
       "    </tr>\n",
       "    <tr>\n",
       "      <th>4</th>\n",
       "      <td>Tutorial</td>\n",
       "      <td>1010</td>\n",
       "    </tr>\n",
       "  </tbody>\n",
       "</table>\n",
       "</div>"
      ],
      "text/plain": [
       "          Название события  Количество событий\n",
       "0         MainScreenAppear              117889\n",
       "1       OffersScreenAppear               46531\n",
       "2         CartScreenAppear               42343\n",
       "3  PaymentScreenSuccessful               33951\n",
       "4                 Tutorial                1010"
      ]
     },
     "execution_count": 38,
     "metadata": {},
     "output_type": "execute_result"
    }
   ],
   "source": [
    "event_logs"
   ]
  },
  {
   "cell_type": "code",
   "execution_count": 39,
   "metadata": {},
   "outputs": [
    {
     "data": {
      "image/png": "[encoded data removed]",
      "text/plain": [
       "<Figure size 1000x700 with 1 Axes>"
      ]
     },
     "metadata": {},
     "output_type": "display_data"
    }
   ],
   "source": [
    "plt.figure(figsize=(10, 7))\n",
    "explode = [0.05,0.05,0.05,0.05,0.05]\n",
    "plt.pie(\n",
    "    data = event_logs\n",
    "    ,x = 'Количество событий'\n",
    "    ,labels = 'Название события'\n",
    "    , autopct=autopct_format(event_logs['Количество событий'])\n",
    "    , explode = explode\n",
    ")\n",
    "colors = sns.color_palette('bright')\n",
    "plt.title('Количество событий')\n",
    "plt.show()\n"
   ]
  },
  {
   "cell_type": "markdown",
   "metadata": {},
   "source": [
    "Почти половину из всех событий в логах приходится на нахождение в  основном экране приложения 48,7 %.  \n",
    "Экран предложений насчитывает 19,2 %   \n",
    "Экран с корзиной насчитывает 17.6 %    \n",
    "На экран с покупкой приходится  14.1 %   \n",
    "Менее 1 %  составляют логи с обучением.  Почти никто не пользуется экраном обучения.\n"
   ]
  },
  {
   "cell_type": "markdown",
   "metadata": {},
   "source": [
    "### Посчитаем сколько пользователей совершали каждое из этих событий."
   ]
  },
  {
   "cell_type": "code",
   "execution_count": 40,
   "metadata": {},
   "outputs": [],
   "source": [
    "event_user = (\n",
    "    data_new.pivot_table(index = 'event_name',\n",
    "    values = 'user_id', aggfunc = {'nunique'})\n",
    "    .sort_values(by = 'nunique',ascending = False)\n",
    "    .reset_index()\n",
    ")"
   ]
  },
  {
   "cell_type": "code",
   "execution_count": 41,
   "metadata": {},
   "outputs": [],
   "source": [
    "event_user.columns = ['Название события', 'Количество пользователей']"
   ]
  },
  {
   "cell_type": "code",
   "execution_count": 42,
   "metadata": {},
   "outputs": [
    {
     "data": {
      "text/html": [
       "<div>\n",
       "<style scoped>\n",
       "    .dataframe tbody tr th:only-of-type {\n",
       "        vertical-align: middle;\n",
       "    }\n",
       "\n",
       "    .dataframe tbody tr th {\n",
       "        vertical-align: top;\n",
       "    }\n",
       "\n",
       "    .dataframe thead th {\n",
       "        text-align: right;\n",
       "    }\n",
       "</style>\n",
       "<table border=\"1\" class=\"dataframe\">\n",
       "  <thead>\n",
       "    <tr style=\"text-align: right;\">\n",
       "      <th></th>\n",
       "      <th>Название события</th>\n",
       "      <th>Количество пользователей</th>\n",
       "    </tr>\n",
       "  </thead>\n",
       "  <tbody>\n",
       "    <tr>\n",
       "      <th>0</th>\n",
       "      <td>MainScreenAppear</td>\n",
       "      <td>7423</td>\n",
       "    </tr>\n",
       "    <tr>\n",
       "      <th>1</th>\n",
       "      <td>OffersScreenAppear</td>\n",
       "      <td>4597</td>\n",
       "    </tr>\n",
       "    <tr>\n",
       "      <th>2</th>\n",
       "      <td>CartScreenAppear</td>\n",
       "      <td>3736</td>\n",
       "    </tr>\n",
       "    <tr>\n",
       "      <th>3</th>\n",
       "      <td>PaymentScreenSuccessful</td>\n",
       "      <td>3540</td>\n",
       "    </tr>\n",
       "    <tr>\n",
       "      <th>4</th>\n",
       "      <td>Tutorial</td>\n",
       "      <td>843</td>\n",
       "    </tr>\n",
       "  </tbody>\n",
       "</table>\n",
       "</div>"
      ],
      "text/plain": [
       "          Название события  Количество пользователей\n",
       "0         MainScreenAppear                      7423\n",
       "1       OffersScreenAppear                      4597\n",
       "2         CartScreenAppear                      3736\n",
       "3  PaymentScreenSuccessful                      3540\n",
       "4                 Tutorial                       843"
      ]
     },
     "execution_count": 42,
     "metadata": {},
     "output_type": "execute_result"
    }
   ],
   "source": [
    "event_user"
   ]
  },
  {
   "cell_type": "code",
   "execution_count": 90,
   "metadata": {},
   "outputs": [
    {
     "data": {
      "image/png": "[encoded data removed]",
      "text/plain": [
       "<Figure size 1000x500 with 1 Axes>"
      ]
     },
     "metadata": {},
     "output_type": "display_data"
    }
   ],
   "source": [
    "plt.figure(figsize=(10, 5))\n",
    "fig = sns.barplot (x= 'Количество пользователей', y= 'Название события', data=event_user)\n",
    "fig.set(xlabel='Кол-во пользователей'\n",
    "        , ylabel = 'Название события'\n",
    "        , title = 'Количество событий совершенных пользователями'\n",
    "       );"
   ]
  },
  {
   "cell_type": "markdown",
   "metadata": {},
   "source": [
    "Как мы видим  на гланый  экран приложения пришли почти 7419 пользователей из них 4593 человек перешли в раздел с предложениями,  3734 человек дошли до просмотра корзины с покупками, и до раздела оплаты дошло 3539 человек.   \n",
    "Раздел с обучением открыло 840 клиентов.   \n",
    "На предыдущем графике было показано что событие 'Просмотр туториала ' в логах происходило 1005 раз,  видимо некоторые клинеты просматривали этот раздел повторно."
   ]
  },
  {
   "cell_type": "markdown",
   "metadata": {},
   "source": [
    "### Посчитаем  долю пользователей, которые хоть раз совершали событие."
   ]
  },
  {
   "cell_type": "markdown",
   "metadata": {},
   "source": [
    "Созадим переменную в которую добавим клиентов которые дошли до главного экрана"
   ]
  },
  {
   "cell_type": "code",
   "execution_count": 44,
   "metadata": {},
   "outputs": [],
   "source": [
    "event_user_1 = data_new[data_new['event_name'] == 'MainScreenAppear']['user_id'].nunique()"
   ]
  },
  {
   "cell_type": "code",
   "execution_count": 45,
   "metadata": {},
   "outputs": [
    {
     "name": "stdout",
     "output_type": "stream",
     "text": [
      "Доля пользователей хоть раз совершивших событие: 98.47%\n"
     ]
    }
   ],
   "source": [
    "print(f'Доля пользователей хоть раз совершивших событие: {round(event_user_1 / new_users *100,2)}%')"
   ]
  },
  {
   "cell_type": "markdown",
   "metadata": {},
   "source": [
    "Как видно что в наших данных есть 1.5 процента пользователей случайно попавших в нашу выборку   \n",
    "Посмотрим на примере пользователя с ID: 9217594193087726423"
   ]
  },
  {
   "cell_type": "code",
   "execution_count": 46,
   "metadata": {},
   "outputs": [
    {
     "data": {
      "text/html": [
       "<div>\n",
       "<style scoped>\n",
       "    .dataframe tbody tr th:only-of-type {\n",
       "        vertical-align: middle;\n",
       "    }\n",
       "\n",
       "    .dataframe tbody tr th {\n",
       "        vertical-align: top;\n",
       "    }\n",
       "\n",
       "    .dataframe thead th {\n",
       "        text-align: right;\n",
       "    }\n",
       "</style>\n",
       "<table border=\"1\" class=\"dataframe\">\n",
       "  <thead>\n",
       "    <tr style=\"text-align: right;\">\n",
       "      <th></th>\n",
       "      <th>event_name</th>\n",
       "      <th>user_id</th>\n",
       "      <th>event_time</th>\n",
       "      <th>group</th>\n",
       "      <th>date</th>\n",
       "    </tr>\n",
       "  </thead>\n",
       "  <tbody>\n",
       "    <tr>\n",
       "      <th>48912</th>\n",
       "      <td>PaymentScreenSuccessful</td>\n",
       "      <td>9217594193087726423</td>\n",
       "      <td>2019-08-02 12:00:57</td>\n",
       "      <td>246</td>\n",
       "      <td>2019-08-02</td>\n",
       "    </tr>\n",
       "    <tr>\n",
       "      <th>48918</th>\n",
       "      <td>CartScreenAppear</td>\n",
       "      <td>9217594193087726423</td>\n",
       "      <td>2019-08-02 12:00:58</td>\n",
       "      <td>246</td>\n",
       "      <td>2019-08-02</td>\n",
       "    </tr>\n",
       "    <tr>\n",
       "      <th>48930</th>\n",
       "      <td>PaymentScreenSuccessful</td>\n",
       "      <td>9217594193087726423</td>\n",
       "      <td>2019-08-02 12:01:06</td>\n",
       "      <td>246</td>\n",
       "      <td>2019-08-02</td>\n",
       "    </tr>\n",
       "    <tr>\n",
       "      <th>48931</th>\n",
       "      <td>CartScreenAppear</td>\n",
       "      <td>9217594193087726423</td>\n",
       "      <td>2019-08-02 12:01:06</td>\n",
       "      <td>246</td>\n",
       "      <td>2019-08-02</td>\n",
       "    </tr>\n",
       "    <tr>\n",
       "      <th>48933</th>\n",
       "      <td>OffersScreenAppear</td>\n",
       "      <td>9217594193087726423</td>\n",
       "      <td>2019-08-02 12:01:08</td>\n",
       "      <td>246</td>\n",
       "      <td>2019-08-02</td>\n",
       "    </tr>\n",
       "    <tr>\n",
       "      <th>48969</th>\n",
       "      <td>OffersScreenAppear</td>\n",
       "      <td>9217594193087726423</td>\n",
       "      <td>2019-08-02 12:01:38</td>\n",
       "      <td>246</td>\n",
       "      <td>2019-08-02</td>\n",
       "    </tr>\n",
       "    <tr>\n",
       "      <th>80840</th>\n",
       "      <td>PaymentScreenSuccessful</td>\n",
       "      <td>9217594193087726423</td>\n",
       "      <td>2019-08-03 11:09:24</td>\n",
       "      <td>246</td>\n",
       "      <td>2019-08-03</td>\n",
       "    </tr>\n",
       "    <tr>\n",
       "      <th>80843</th>\n",
       "      <td>OffersScreenAppear</td>\n",
       "      <td>9217594193087726423</td>\n",
       "      <td>2019-08-03 11:09:25</td>\n",
       "      <td>246</td>\n",
       "      <td>2019-08-03</td>\n",
       "    </tr>\n",
       "    <tr>\n",
       "      <th>80844</th>\n",
       "      <td>CartScreenAppear</td>\n",
       "      <td>9217594193087726423</td>\n",
       "      <td>2019-08-03 11:09:25</td>\n",
       "      <td>246</td>\n",
       "      <td>2019-08-03</td>\n",
       "    </tr>\n",
       "  </tbody>\n",
       "</table>\n",
       "</div>"
      ],
      "text/plain": [
       "                    event_name              user_id          event_time  \\\n",
       "48912  PaymentScreenSuccessful  9217594193087726423 2019-08-02 12:00:57   \n",
       "48918         CartScreenAppear  9217594193087726423 2019-08-02 12:00:58   \n",
       "48930  PaymentScreenSuccessful  9217594193087726423 2019-08-02 12:01:06   \n",
       "48931         CartScreenAppear  9217594193087726423 2019-08-02 12:01:06   \n",
       "48933       OffersScreenAppear  9217594193087726423 2019-08-02 12:01:08   \n",
       "48969       OffersScreenAppear  9217594193087726423 2019-08-02 12:01:38   \n",
       "80840  PaymentScreenSuccessful  9217594193087726423 2019-08-03 11:09:24   \n",
       "80843       OffersScreenAppear  9217594193087726423 2019-08-03 11:09:25   \n",
       "80844         CartScreenAppear  9217594193087726423 2019-08-03 11:09:25   \n",
       "\n",
       "       group        date  \n",
       "48912    246  2019-08-02  \n",
       "48918    246  2019-08-02  \n",
       "48930    246  2019-08-02  \n",
       "48931    246  2019-08-02  \n",
       "48933    246  2019-08-02  \n",
       "48969    246  2019-08-02  \n",
       "80840    246  2019-08-03  \n",
       "80843    246  2019-08-03  \n",
       "80844    246  2019-08-03  "
      ]
     },
     "execution_count": 46,
     "metadata": {},
     "output_type": "execute_result"
    }
   ],
   "source": [
    "data[data['user_id']== 9217594193087726423]"
   ]
  },
  {
   "cell_type": "markdown",
   "metadata": {},
   "source": [
    "Из лога пользователя видно,  что у все действия происходили без выхода на главный экран, такие пользователи могут некорректно повлиять на исследование,  но поскольку таких пользователей 1.5 % они не помешают исследованию."
   ]
  },
  {
   "cell_type": "markdown",
   "metadata": {},
   "source": [
    "### Посчитаем  долю пользователей, которые хоть раз совершали каждое из событий."
   ]
  },
  {
   "cell_type": "code",
   "execution_count": 47,
   "metadata": {},
   "outputs": [],
   "source": [
    "event_user['Все пользователи'] = data_new['user_id'].nunique()"
   ]
  },
  {
   "cell_type": "code",
   "execution_count": 48,
   "metadata": {},
   "outputs": [],
   "source": [
    "event_user['Процент пользователей'] = (round(event_user['Количество пользователей'] \n",
    "                                             / event_user['Все пользователи'] \n",
    "                                    * 100,2)\n",
    "                             )"
   ]
  },
  {
   "cell_type": "code",
   "execution_count": 93,
   "metadata": {},
   "outputs": [
    {
     "data": {
      "text/html": [
       "<div>\n",
       "<style scoped>\n",
       "    .dataframe tbody tr th:only-of-type {\n",
       "        vertical-align: middle;\n",
       "    }\n",
       "\n",
       "    .dataframe tbody tr th {\n",
       "        vertical-align: top;\n",
       "    }\n",
       "\n",
       "    .dataframe thead th {\n",
       "        text-align: right;\n",
       "    }\n",
       "</style>\n",
       "<table border=\"1\" class=\"dataframe\">\n",
       "  <thead>\n",
       "    <tr style=\"text-align: right;\">\n",
       "      <th></th>\n",
       "      <th>Название события</th>\n",
       "      <th>Количество пользователей</th>\n",
       "      <th>Все пользователи</th>\n",
       "      <th>Процент пользователей</th>\n",
       "    </tr>\n",
       "  </thead>\n",
       "  <tbody>\n",
       "    <tr>\n",
       "      <th>0</th>\n",
       "      <td>MainScreenAppear</td>\n",
       "      <td>7423</td>\n",
       "      <td>7538</td>\n",
       "      <td>98.47</td>\n",
       "    </tr>\n",
       "    <tr>\n",
       "      <th>1</th>\n",
       "      <td>OffersScreenAppear</td>\n",
       "      <td>4597</td>\n",
       "      <td>7538</td>\n",
       "      <td>60.98</td>\n",
       "    </tr>\n",
       "    <tr>\n",
       "      <th>2</th>\n",
       "      <td>CartScreenAppear</td>\n",
       "      <td>3736</td>\n",
       "      <td>7538</td>\n",
       "      <td>49.56</td>\n",
       "    </tr>\n",
       "    <tr>\n",
       "      <th>3</th>\n",
       "      <td>PaymentScreenSuccessful</td>\n",
       "      <td>3540</td>\n",
       "      <td>7538</td>\n",
       "      <td>46.96</td>\n",
       "    </tr>\n",
       "    <tr>\n",
       "      <th>4</th>\n",
       "      <td>Tutorial</td>\n",
       "      <td>843</td>\n",
       "      <td>7538</td>\n",
       "      <td>11.18</td>\n",
       "    </tr>\n",
       "  </tbody>\n",
       "</table>\n",
       "</div>"
      ],
      "text/plain": [
       "          Название события  Количество пользователей  Все пользователи  \\\n",
       "0         MainScreenAppear                      7423              7538   \n",
       "1       OffersScreenAppear                      4597              7538   \n",
       "2         CartScreenAppear                      3736              7538   \n",
       "3  PaymentScreenSuccessful                      3540              7538   \n",
       "4                 Tutorial                       843              7538   \n",
       "\n",
       "   Процент пользователей  \n",
       "0                  98.47  \n",
       "1                  60.98  \n",
       "2                  49.56  \n",
       "3                  46.96  \n",
       "4                  11.18  "
      ]
     },
     "execution_count": 93,
     "metadata": {},
     "output_type": "execute_result"
    }
   ],
   "source": [
    "event_user"
   ]
  },
  {
   "cell_type": "code",
   "execution_count": 94,
   "metadata": {},
   "outputs": [
    {
     "data": {
      "image/png": "[encoded data removed]",
      "text/plain": [
       "<Figure size 1000x700 with 1 Axes>"
      ]
     },
     "metadata": {},
     "output_type": "display_data"
    }
   ],
   "source": [
    "plt.figure(figsize=(10, 7))\n",
    "fig = sns.barplot (x= 'Процент пользователей', y= 'Название события', data=event_user)\n",
    "fig.set(xlabel='Процент пользователей'\n",
    "        , ylabel = 'Название события'\n",
    "        , title = 'Доля пользователей хоть раз совершивших событие'\n",
    "       );"
   ]
  },
  {
   "cell_type": "markdown",
   "metadata": {},
   "source": [
    "Как мы видим чуть более 98,5 % пользователей перешли на главный экран.  \n",
    "61% пользователей перешли на экран предложений.   \n",
    "49,5 % пользователей перешли в корзину.    \n",
    "47% пользователей дошли до страницы с оплатой\n",
    "11 %. пользователей воспользоватлись туториалом.\n"
   ]
  },
  {
   "cell_type": "markdown",
   "metadata": {},
   "source": [
    "### Предположим, в каком порядке происходят события"
   ]
  },
  {
   "cell_type": "code",
   "execution_count": 51,
   "metadata": {},
   "outputs": [
    {
     "data": {
      "image/png": "[encoded data removed]",
      "text/plain": [
       "<Figure size 1000x700 with 1 Axes>"
      ]
     },
     "metadata": {},
     "output_type": "display_data"
    }
   ],
   "source": [
    "plt.figure(figsize=(10, 7))\n",
    "sns.barplot (x= 'Количество пользователей', y= 'Название события', data=event_user);"
   ]
  },
  {
   "cell_type": "markdown",
   "metadata": {},
   "source": [
    "Исходя из графика можно сделать вывод что пользователь попадает на начальный экран, далее переходит на экран с предложениями,  после выбора необходимых товаров переходит в корзину, далее идет страница оплаты. Туториал покупатель может посмотреть в любой момент. "
   ]
  },
  {
   "cell_type": "markdown",
   "metadata": {},
   "source": [
    "### По воронке событий посчитаем, какая доля пользователей проходит на следующий шаг"
   ]
  },
  {
   "cell_type": "code",
   "execution_count": 52,
   "metadata": {},
   "outputs": [],
   "source": [
    "next_step = event_user[['Название события','Количество пользователей']]"
   ]
  },
  {
   "cell_type": "code",
   "execution_count": 53,
   "metadata": {},
   "outputs": [],
   "source": [
    "next_step['previous'] = next_step['Количество пользователей'].shift(1,fill_value=0)"
   ]
  },
  {
   "cell_type": "markdown",
   "metadata": {},
   "source": [
    "Проверим как отображаются даные"
   ]
  },
  {
   "cell_type": "code",
   "execution_count": 54,
   "metadata": {},
   "outputs": [
    {
     "data": {
      "text/html": [
       "<div>\n",
       "<style scoped>\n",
       "    .dataframe tbody tr th:only-of-type {\n",
       "        vertical-align: middle;\n",
       "    }\n",
       "\n",
       "    .dataframe tbody tr th {\n",
       "        vertical-align: top;\n",
       "    }\n",
       "\n",
       "    .dataframe thead th {\n",
       "        text-align: right;\n",
       "    }\n",
       "</style>\n",
       "<table border=\"1\" class=\"dataframe\">\n",
       "  <thead>\n",
       "    <tr style=\"text-align: right;\">\n",
       "      <th></th>\n",
       "      <th>Название события</th>\n",
       "      <th>Количество пользователей</th>\n",
       "      <th>previous</th>\n",
       "    </tr>\n",
       "  </thead>\n",
       "  <tbody>\n",
       "    <tr>\n",
       "      <th>0</th>\n",
       "      <td>MainScreenAppear</td>\n",
       "      <td>7423</td>\n",
       "      <td>0</td>\n",
       "    </tr>\n",
       "    <tr>\n",
       "      <th>1</th>\n",
       "      <td>OffersScreenAppear</td>\n",
       "      <td>4597</td>\n",
       "      <td>7423</td>\n",
       "    </tr>\n",
       "    <tr>\n",
       "      <th>2</th>\n",
       "      <td>CartScreenAppear</td>\n",
       "      <td>3736</td>\n",
       "      <td>4597</td>\n",
       "    </tr>\n",
       "    <tr>\n",
       "      <th>3</th>\n",
       "      <td>PaymentScreenSuccessful</td>\n",
       "      <td>3540</td>\n",
       "      <td>3736</td>\n",
       "    </tr>\n",
       "    <tr>\n",
       "      <th>4</th>\n",
       "      <td>Tutorial</td>\n",
       "      <td>843</td>\n",
       "      <td>3540</td>\n",
       "    </tr>\n",
       "  </tbody>\n",
       "</table>\n",
       "</div>"
      ],
      "text/plain": [
       "          Название события  Количество пользователей  previous\n",
       "0         MainScreenAppear                      7423         0\n",
       "1       OffersScreenAppear                      4597      7423\n",
       "2         CartScreenAppear                      3736      4597\n",
       "3  PaymentScreenSuccessful                      3540      3736\n",
       "4                 Tutorial                       843      3540"
      ]
     },
     "execution_count": 54,
     "metadata": {},
     "output_type": "execute_result"
    }
   ],
   "source": [
    "next_step"
   ]
  },
  {
   "cell_type": "code",
   "execution_count": 55,
   "metadata": {},
   "outputs": [],
   "source": [
    "def user_next_step(df):\n",
    "    for index in df['Название события']:\n",
    "        df['percent_next_step'] = round(df['Количество пользователей'] / df['previous'] * 100)\n",
    "        \n",
    "    return df[1:-1] # Исключим первую строку с 0 и последнюю строку с туториалом\n",
    "        "
   ]
  },
  {
   "cell_type": "code",
   "execution_count": 56,
   "metadata": {},
   "outputs": [
    {
     "data": {
      "text/html": [
       "<div>\n",
       "<style scoped>\n",
       "    .dataframe tbody tr th:only-of-type {\n",
       "        vertical-align: middle;\n",
       "    }\n",
       "\n",
       "    .dataframe tbody tr th {\n",
       "        vertical-align: top;\n",
       "    }\n",
       "\n",
       "    .dataframe thead th {\n",
       "        text-align: right;\n",
       "    }\n",
       "</style>\n",
       "<table border=\"1\" class=\"dataframe\">\n",
       "  <thead>\n",
       "    <tr style=\"text-align: right;\">\n",
       "      <th></th>\n",
       "      <th>Название события</th>\n",
       "      <th>Количество пользователей</th>\n",
       "      <th>previous</th>\n",
       "      <th>percent_next_step</th>\n",
       "    </tr>\n",
       "  </thead>\n",
       "  <tbody>\n",
       "    <tr>\n",
       "      <th>1</th>\n",
       "      <td>OffersScreenAppear</td>\n",
       "      <td>4597</td>\n",
       "      <td>7423</td>\n",
       "      <td>62.0</td>\n",
       "    </tr>\n",
       "    <tr>\n",
       "      <th>2</th>\n",
       "      <td>CartScreenAppear</td>\n",
       "      <td>3736</td>\n",
       "      <td>4597</td>\n",
       "      <td>81.0</td>\n",
       "    </tr>\n",
       "    <tr>\n",
       "      <th>3</th>\n",
       "      <td>PaymentScreenSuccessful</td>\n",
       "      <td>3540</td>\n",
       "      <td>3736</td>\n",
       "      <td>95.0</td>\n",
       "    </tr>\n",
       "  </tbody>\n",
       "</table>\n",
       "</div>"
      ],
      "text/plain": [
       "          Название события  Количество пользователей  previous  \\\n",
       "1       OffersScreenAppear                      4597      7423   \n",
       "2         CartScreenAppear                      3736      4597   \n",
       "3  PaymentScreenSuccessful                      3540      3736   \n",
       "\n",
       "   percent_next_step  \n",
       "1               62.0  \n",
       "2               81.0  \n",
       "3               95.0  "
      ]
     },
     "execution_count": 56,
     "metadata": {},
     "output_type": "execute_result"
    }
   ],
   "source": [
    "user_next_step(next_step)"
   ]
  },
  {
   "cell_type": "markdown",
   "metadata": {},
   "source": [
    "От начального экрана до экрана с предложениями доходит: 62% пользователей.\n",
    "С экрана  предложений до корзины с покупками  доходит: 81% пользователей.\n",
    "Завершают покупку: 95% пользователей."
   ]
  },
  {
   "cell_type": "markdown",
   "metadata": {},
   "source": [
    "Визуализируем воронку пользователей"
   ]
  },
  {
   "cell_type": "code",
   "execution_count": 100,
   "metadata": {},
   "outputs": [
    {
     "data": {
      "application/vnd.plotly.v1+json": {
       "config": {
        "plotlyServerURL": "https://plot.ly"
       },
       "data": [
        {
         "hovertemplate": "number=%{x}<br>stage=%{y}<extra></extra>",
         "legendgroup": "",
         "marker": {
          "color": "#636efa"
         },
         "name": "",
         "orientation": "h",
         "showlegend": false,
         "type": "funnel",
         "x": [
          7420,
          4593,
          3734,
          3539
         ],
         "xaxis": "x",
         "y": [
          "Mainscreen",
          "Offers",
          "Cart",
          "Payment"
         ],
         "yaxis": "y"
        }
       ],
       "layout": {
        "legend": {
         "tracegroupgap": 0
        },
        "template": {
         "data": {
          "bar": [
           {
            "error_x": {
             "color": "#2a3f5f"
            },
            "error_y": {
             "color": "#2a3f5f"
            },
            "marker": {
             "line": {
              "color": "#E5ECF6",
              "width": 0.5
             },
             "pattern": {
              "fillmode": "overlay",
              "size": 10,
              "solidity": 0.2
             }
            },
            "type": "bar"
           }
          ],
          "barpolar": [
           {
            "marker": {
             "line": {
              "color": "#E5ECF6",
              "width": 0.5
             },
             "pattern": {
              "fillmode": "overlay",
              "size": 10,
              "solidity": 0.2
             }
            },
            "type": "barpolar"
           }
          ],
          "carpet": [
           {
            "aaxis": {
             "endlinecolor": "#2a3f5f",
             "gridcolor": "white",
             "linecolor": "white",
             "minorgridcolor": "white",
             "startlinecolor": "#2a3f5f"
            },
            "baxis": {
             "endlinecolor": "#2a3f5f",
             "gridcolor": "white",
             "linecolor": "white",
             "minorgridcolor": "white",
             "startlinecolor": "#2a3f5f"
            },
            "type": "carpet"
           }
          ],
          "choropleth": [
           {
            "colorbar": {
             "outlinewidth": 0,
             "ticks": ""
            },
            "type": "choropleth"
           }
          ],
          "contour": [
           {
            "colorbar": {
             "outlinewidth": 0,
             "ticks": ""
            },
            "colorscale": [
             [
              0,
              "#0d0887"
             ],
             [
              0.1111111111111111,
              "#46039f"
             ],
             [
              0.2222222222222222,
              "#7201a8"
             ],
             [
              0.3333333333333333,
              "#9c179e"
             ],
             [
              0.4444444444444444,
              "#bd3786"
             ],
             [
              0.5555555555555556,
              "#d8576b"
             ],
             [
              0.6666666666666666,
              "#ed7953"
             ],
             [
              0.7777777777777778,
              "#fb9f3a"
             ],
             [
              0.8888888888888888,
              "#fdca26"
             ],
             [
              1,
              "#f0f921"
             ]
            ],
            "type": "contour"
           }
          ],
          "contourcarpet": [
           {
            "colorbar": {
             "outlinewidth": 0,
             "ticks": ""
            },
            "type": "contourcarpet"
           }
          ],
          "heatmap": [
           {
            "colorbar": {
             "outlinewidth": 0,
             "ticks": ""
            },
            "colorscale": [
             [
              0,
              "#0d0887"
             ],
             [
              0.1111111111111111,
              "#46039f"
             ],
             [
              0.2222222222222222,
              "#7201a8"
             ],
             [
              0.3333333333333333,
              "#9c179e"
             ],
             [
              0.4444444444444444,
              "#bd3786"
             ],
             [
              0.5555555555555556,
              "#d8576b"
             ],
             [
              0.6666666666666666,
              "#ed7953"
             ],
             [
              0.7777777777777778,
              "#fb9f3a"
             ],
             [
              0.8888888888888888,
              "#fdca26"
             ],
             [
              1,
              "#f0f921"
             ]
            ],
            "type": "heatmap"
           }
          ],
          "heatmapgl": [
           {
            "colorbar": {
             "outlinewidth": 0,
             "ticks": ""
            },
            "colorscale": [
             [
              0,
              "#0d0887"
             ],
             [
              0.1111111111111111,
              "#46039f"
             ],
             [
              0.2222222222222222,
              "#7201a8"
             ],
             [
              0.3333333333333333,
              "#9c179e"
             ],
             [
              0.4444444444444444,
              "#bd3786"
             ],
             [
              0.5555555555555556,
              "#d8576b"
             ],
             [
              0.6666666666666666,
              "#ed7953"
             ],
             [
              0.7777777777777778,
              "#fb9f3a"
             ],
             [
              0.8888888888888888,
              "#fdca26"
             ],
             [
              1,
              "#f0f921"
             ]
            ],
            "type": "heatmapgl"
           }
          ],
          "histogram": [
           {
            "marker": {
             "pattern": {
              "fillmode": "overlay",
              "size": 10,
              "solidity": 0.2
             }
            },
            "type": "histogram"
           }
          ],
          "histogram2d": [
           {
            "colorbar": {
             "outlinewidth": 0,
             "ticks": ""
            },
            "colorscale": [
             [
              0,
              "#0d0887"
             ],
             [
              0.1111111111111111,
              "#46039f"
             ],
             [
              0.2222222222222222,
              "#7201a8"
             ],
             [
              0.3333333333333333,
              "#9c179e"
             ],
             [
              0.4444444444444444,
              "#bd3786"
             ],
             [
              0.5555555555555556,
              "#d8576b"
             ],
             [
              0.6666666666666666,
              "#ed7953"
             ],
             [
              0.7777777777777778,
              "#fb9f3a"
             ],
             [
              0.8888888888888888,
              "#fdca26"
             ],
             [
              1,
              "#f0f921"
             ]
            ],
            "type": "histogram2d"
           }
          ],
          "histogram2dcontour": [
           {
            "colorbar": {
             "outlinewidth": 0,
             "ticks": ""
            },
            "colorscale": [
             [
              0,
              "#0d0887"
             ],
             [
              0.1111111111111111,
              "#46039f"
             ],
             [
              0.2222222222222222,
              "#7201a8"
             ],
             [
              0.3333333333333333,
              "#9c179e"
             ],
             [
              0.4444444444444444,
              "#bd3786"
             ],
             [
              0.5555555555555556,
              "#d8576b"
             ],
             [
              0.6666666666666666,
              "#ed7953"
             ],
             [
              0.7777777777777778,
              "#fb9f3a"
             ],
             [
              0.8888888888888888,
              "#fdca26"
             ],
             [
              1,
              "#f0f921"
             ]
            ],
            "type": "histogram2dcontour"
           }
          ],
          "mesh3d": [
           {
            "colorbar": {
             "outlinewidth": 0,
             "ticks": ""
            },
            "type": "mesh3d"
           }
          ],
          "parcoords": [
           {
            "line": {
             "colorbar": {
              "outlinewidth": 0,
              "ticks": ""
             }
            },
            "type": "parcoords"
           }
          ],
          "pie": [
           {
            "automargin": true,
            "type": "pie"
           }
          ],
          "scatter": [
           {
            "fillpattern": {
             "fillmode": "overlay",
             "size": 10,
             "solidity": 0.2
            },
            "type": "scatter"
           }
          ],
          "scatter3d": [
           {
            "line": {
             "colorbar": {
              "outlinewidth": 0,
              "ticks": ""
             }
            },
            "marker": {
             "colorbar": {
              "outlinewidth": 0,
              "ticks": ""
             }
            },
            "type": "scatter3d"
           }
          ],
          "scattercarpet": [
           {
            "marker": {
             "colorbar": {
              "outlinewidth": 0,
              "ticks": ""
             }
            },
            "type": "scattercarpet"
           }
          ],
          "scattergeo": [
           {
            "marker": {
             "colorbar": {
              "outlinewidth": 0,
              "ticks": ""
             }
            },
            "type": "scattergeo"
           }
          ],
          "scattergl": [
           {
            "marker": {
             "colorbar": {
              "outlinewidth": 0,
              "ticks": ""
             }
            },
            "type": "scattergl"
           }
          ],
          "scattermapbox": [
           {
            "marker": {
             "colorbar": {
              "outlinewidth": 0,
              "ticks": ""
             }
            },
            "type": "scattermapbox"
           }
          ],
          "scatterpolar": [
           {
            "marker": {
             "colorbar": {
              "outlinewidth": 0,
              "ticks": ""
             }
            },
            "type": "scatterpolar"
           }
          ],
          "scatterpolargl": [
           {
            "marker": {
             "colorbar": {
              "outlinewidth": 0,
              "ticks": ""
             }
            },
            "type": "scatterpolargl"
           }
          ],
          "scatterternary": [
           {
            "marker": {
             "colorbar": {
              "outlinewidth": 0,
              "ticks": ""
             }
            },
            "type": "scatterternary"
           }
          ],
          "surface": [
           {
            "colorbar": {
             "outlinewidth": 0,
             "ticks": ""
            },
            "colorscale": [
             [
              0,
              "#0d0887"
             ],
             [
              0.1111111111111111,
              "#46039f"
             ],
             [
              0.2222222222222222,
              "#7201a8"
             ],
             [
              0.3333333333333333,
              "#9c179e"
             ],
             [
              0.4444444444444444,
              "#bd3786"
             ],
             [
              0.5555555555555556,
              "#d8576b"
             ],
             [
              0.6666666666666666,
              "#ed7953"
             ],
             [
              0.7777777777777778,
              "#fb9f3a"
             ],
             [
              0.8888888888888888,
              "#fdca26"
             ],
             [
              1,
              "#f0f921"
             ]
            ],
            "type": "surface"
           }
          ],
          "table": [
           {
            "cells": {
             "fill": {
              "color": "#EBF0F8"
             },
             "line": {
              "color": "white"
             }
            },
            "header": {
             "fill": {
              "color": "#C8D4E3"
             },
             "line": {
              "color": "white"
             }
            },
            "type": "table"
           }
          ]
         },
         "layout": {
          "annotationdefaults": {
           "arrowcolor": "#2a3f5f",
           "arrowhead": 0,
           "arrowwidth": 1
          },
          "autotypenumbers": "strict",
          "coloraxis": {
           "colorbar": {
            "outlinewidth": 0,
            "ticks": ""
           }
          },
          "colorscale": {
           "diverging": [
            [
             0,
             "#8e0152"
            ],
            [
             0.1,
             "#c51b7d"
            ],
            [
             0.2,
             "#de77ae"
            ],
            [
             0.3,
             "#f1b6da"
            ],
            [
             0.4,
             "#fde0ef"
            ],
            [
             0.5,
             "#f7f7f7"
            ],
            [
             0.6,
             "#e6f5d0"
            ],
            [
             0.7,
             "#b8e186"
            ],
            [
             0.8,
             "#7fbc41"
            ],
            [
             0.9,
             "#4d9221"
            ],
            [
             1,
             "#276419"
            ]
           ],
           "sequential": [
            [
             0,
             "#0d0887"
            ],
            [
             0.1111111111111111,
             "#46039f"
            ],
            [
             0.2222222222222222,
             "#7201a8"
            ],
            [
             0.3333333333333333,
             "#9c179e"
            ],
            [
             0.4444444444444444,
             "#bd3786"
            ],
            [
             0.5555555555555556,
             "#d8576b"
            ],
            [
             0.6666666666666666,
             "#ed7953"
            ],
            [
             0.7777777777777778,
             "#fb9f3a"
            ],
            [
             0.8888888888888888,
             "#fdca26"
            ],
            [
             1,
             "#f0f921"
            ]
           ],
           "sequentialminus": [
            [
             0,
             "#0d0887"
            ],
            [
             0.1111111111111111,
             "#46039f"
            ],
            [
             0.2222222222222222,
             "#7201a8"
            ],
            [
             0.3333333333333333,
             "#9c179e"
            ],
            [
             0.4444444444444444,
             "#bd3786"
            ],
            [
             0.5555555555555556,
             "#d8576b"
            ],
            [
             0.6666666666666666,
             "#ed7953"
            ],
            [
             0.7777777777777778,
             "#fb9f3a"
            ],
            [
             0.8888888888888888,
             "#fdca26"
            ],
            [
             1,
             "#f0f921"
            ]
           ]
          },
          "colorway": [
           "#636efa",
           "#EF553B",
           "#00cc96",
           "#ab63fa",
           "#FFA15A",
           "#19d3f3",
           "#FF6692",
           "#B6E880",
           "#FF97FF",
           "#FECB52"
          ],
          "font": {
           "color": "#2a3f5f"
          },
          "geo": {
           "bgcolor": "white",
           "lakecolor": "white",
           "landcolor": "#E5ECF6",
           "showlakes": true,
           "showland": true,
           "subunitcolor": "white"
          },
          "hoverlabel": {
           "align": "left"
          },
          "hovermode": "closest",
          "mapbox": {
           "style": "light"
          },
          "paper_bgcolor": "white",
          "plot_bgcolor": "#E5ECF6",
          "polar": {
           "angularaxis": {
            "gridcolor": "white",
            "linecolor": "white",
            "ticks": ""
           },
           "bgcolor": "#E5ECF6",
           "radialaxis": {
            "gridcolor": "white",
            "linecolor": "white",
            "ticks": ""
           }
          },
          "scene": {
           "xaxis": {
            "backgroundcolor": "#E5ECF6",
            "gridcolor": "white",
            "gridwidth": 2,
            "linecolor": "white",
            "showbackground": true,
            "ticks": "",
            "zerolinecolor": "white"
           },
           "yaxis": {
            "backgroundcolor": "#E5ECF6",
            "gridcolor": "white",
            "gridwidth": 2,
            "linecolor": "white",
            "showbackground": true,
            "ticks": "",
            "zerolinecolor": "white"
           },
           "zaxis": {
            "backgroundcolor": "#E5ECF6",
            "gridcolor": "white",
            "gridwidth": 2,
            "linecolor": "white",
            "showbackground": true,
            "ticks": "",
            "zerolinecolor": "white"
           }
          },
          "shapedefaults": {
           "line": {
            "color": "#2a3f5f"
           }
          },
          "ternary": {
           "aaxis": {
            "gridcolor": "white",
            "linecolor": "white",
            "ticks": ""
           },
           "baxis": {
            "gridcolor": "white",
            "linecolor": "white",
            "ticks": ""
           },
           "bgcolor": "#E5ECF6",
           "caxis": {
            "gridcolor": "white",
            "linecolor": "white",
            "ticks": ""
           }
          },
          "title": {
           "x": 0.05
          },
          "xaxis": {
           "automargin": true,
           "gridcolor": "white",
           "linecolor": "white",
           "ticks": "",
           "title": {
            "standoff": 15
           },
           "zerolinecolor": "white",
           "zerolinewidth": 2
          },
          "yaxis": {
           "automargin": true,
           "gridcolor": "white",
           "linecolor": "white",
           "ticks": "",
           "title": {
            "standoff": 15
           },
           "zerolinecolor": "white",
           "zerolinewidth": 2
          }
         }
        },
        "title": {
         "text": "Воронка пользователей"
        },
        "xaxis": {
         "anchor": "y",
         "domain": [
          0,
          1
         ],
         "title": {
          "text": "number"
         }
        },
        "yaxis": {
         "anchor": "x",
         "domain": [
          0,
          1
         ],
         "title": {
          "text": "stage"
         }
        }
       }
      },
      "text/html": [
       "<div>                            <div id=\"30ca675b-bab6-47d1-896b-f1d0428ae0aa\" class=\"plotly-graph-div\" style=\"height:525px; width:100%;\"></div>            <script type=\"text/javascript\">                require([\"plotly\"], function(Plotly) {                    window.PLOTLYENV=window.PLOTLYENV || {};                                    if (document.getElementById(\"30ca675b-bab6-47d1-896b-f1d0428ae0aa\")) {                    Plotly.newPlot(                        \"30ca675b-bab6-47d1-896b-f1d0428ae0aa\",                        [{\"hovertemplate\":\"number=%{x}<br>stage=%{y}<extra></extra>\",\"legendgroup\":\"\",\"marker\":{\"color\":\"#636efa\"},\"name\":\"\",\"orientation\":\"h\",\"showlegend\":false,\"x\":[7420,4593,3734,3539],\"xaxis\":\"x\",\"y\":[\"Mainscreen\",\"Offers\",\"Cart\",\"Payment\"],\"yaxis\":\"y\",\"type\":\"funnel\"}],                        {\"template\":{\"data\":{\"histogram2dcontour\":[{\"type\":\"histogram2dcontour\",\"colorbar\":{\"outlinewidth\":0,\"ticks\":\"\"},\"colorscale\":[[0.0,\"#0d0887\"],[0.1111111111111111,\"#46039f\"],[0.2222222222222222,\"#7201a8\"],[0.3333333333333333,\"#9c179e\"],[0.4444444444444444,\"#bd3786\"],[0.5555555555555556,\"#d8576b\"],[0.6666666666666666,\"#ed7953\"],[0.7777777777777778,\"#fb9f3a\"],[0.8888888888888888,\"#fdca26\"],[1.0,\"#f0f921\"]]}],\"choropleth\":[{\"type\":\"choropleth\",\"colorbar\":{\"outlinewidth\":0,\"ticks\":\"\"}}],\"histogram2d\":[{\"type\":\"histogram2d\",\"colorbar\":{\"outlinewidth\":0,\"ticks\":\"\"},\"colorscale\":[[0.0,\"#0d0887\"],[0.1111111111111111,\"#46039f\"],[0.2222222222222222,\"#7201a8\"],[0.3333333333333333,\"#9c179e\"],[0.4444444444444444,\"#bd3786\"],[0.5555555555555556,\"#d8576b\"],[0.6666666666666666,\"#ed7953\"],[0.7777777777777778,\"#fb9f3a\"],[0.8888888888888888,\"#fdca26\"],[1.0,\"#f0f921\"]]}],\"heatmap\":[{\"type\":\"heatmap\",\"colorbar\":{\"outlinewidth\":0,\"ticks\":\"\"},\"colorscale\":[[0.0,\"#0d0887\"],[0.1111111111111111,\"#46039f\"],[0.2222222222222222,\"#7201a8\"],[0.3333333333333333,\"#9c179e\"],[0.4444444444444444,\"#bd3786\"],[0.5555555555555556,\"#d8576b\"],[0.6666666666666666,\"#ed7953\"],[0.7777777777777778,\"#fb9f3a\"],[0.8888888888888888,\"#fdca26\"],[1.0,\"#f0f921\"]]}],\"heatmapgl\":[{\"type\":\"heatmapgl\",\"colorbar\":{\"outlinewidth\":0,\"ticks\":\"\"},\"colorscale\":[[0.0,\"#0d0887\"],[0.1111111111111111,\"#46039f\"],[0.2222222222222222,\"#7201a8\"],[0.3333333333333333,\"#9c179e\"],[0.4444444444444444,\"#bd3786\"],[0.5555555555555556,\"#d8576b\"],[0.6666666666666666,\"#ed7953\"],[0.7777777777777778,\"#fb9f3a\"],[0.8888888888888888,\"#fdca26\"],[1.0,\"#f0f921\"]]}],\"contourcarpet\":[{\"type\":\"contourcarpet\",\"colorbar\":{\"outlinewidth\":0,\"ticks\":\"\"}}],\"contour\":[{\"type\":\"contour\",\"colorbar\":{\"outlinewidth\":0,\"ticks\":\"\"},\"colorscale\":[[0.0,\"#0d0887\"],[0.1111111111111111,\"#46039f\"],[0.2222222222222222,\"#7201a8\"],[0.3333333333333333,\"#9c179e\"],[0.4444444444444444,\"#bd3786\"],[0.5555555555555556,\"#d8576b\"],[0.6666666666666666,\"#ed7953\"],[0.7777777777777778,\"#fb9f3a\"],[0.8888888888888888,\"#fdca26\"],[1.0,\"#f0f921\"]]}],\"surface\":[{\"type\":\"surface\",\"colorbar\":{\"outlinewidth\":0,\"ticks\":\"\"},\"colorscale\":[[0.0,\"#0d0887\"],[0.1111111111111111,\"#46039f\"],[0.2222222222222222,\"#7201a8\"],[0.3333333333333333,\"#9c179e\"],[0.4444444444444444,\"#bd3786\"],[0.5555555555555556,\"#d8576b\"],[0.6666666666666666,\"#ed7953\"],[0.7777777777777778,\"#fb9f3a\"],[0.8888888888888888,\"#fdca26\"],[1.0,\"#f0f921\"]]}],\"mesh3d\":[{\"type\":\"mesh3d\",\"colorbar\":{\"outlinewidth\":0,\"ticks\":\"\"}}],\"scatter\":[{\"fillpattern\":{\"fillmode\":\"overlay\",\"size\":10,\"solidity\":0.2},\"type\":\"scatter\"}],\"parcoords\":[{\"type\":\"parcoords\",\"line\":{\"colorbar\":{\"outlinewidth\":0,\"ticks\":\"\"}}}],\"scatterpolargl\":[{\"type\":\"scatterpolargl\",\"marker\":{\"colorbar\":{\"outlinewidth\":0,\"ticks\":\"\"}}}],\"bar\":[{\"error_x\":{\"color\":\"#2a3f5f\"},\"error_y\":{\"color\":\"#2a3f5f\"},\"marker\":{\"line\":{\"color\":\"#E5ECF6\",\"width\":0.5},\"pattern\":{\"fillmode\":\"overlay\",\"size\":10,\"solidity\":0.2}},\"type\":\"bar\"}],\"scattergeo\":[{\"type\":\"scattergeo\",\"marker\":{\"colorbar\":{\"outlinewidth\":0,\"ticks\":\"\"}}}],\"scatterpolar\":[{\"type\":\"scatterpolar\",\"marker\":{\"colorbar\":{\"outlinewidth\":0,\"ticks\":\"\"}}}],\"histogram\":[{\"marker\":{\"pattern\":{\"fillmode\":\"overlay\",\"size\":10,\"solidity\":0.2}},\"type\":\"histogram\"}],\"scattergl\":[{\"type\":\"scattergl\",\"marker\":{\"colorbar\":{\"outlinewidth\":0,\"ticks\":\"\"}}}],\"scatter3d\":[{\"type\":\"scatter3d\",\"line\":{\"colorbar\":{\"outlinewidth\":0,\"ticks\":\"\"}},\"marker\":{\"colorbar\":{\"outlinewidth\":0,\"ticks\":\"\"}}}],\"scattermapbox\":[{\"type\":\"scattermapbox\",\"marker\":{\"colorbar\":{\"outlinewidth\":0,\"ticks\":\"\"}}}],\"scatterternary\":[{\"type\":\"scatterternary\",\"marker\":{\"colorbar\":{\"outlinewidth\":0,\"ticks\":\"\"}}}],\"scattercarpet\":[{\"type\":\"scattercarpet\",\"marker\":{\"colorbar\":{\"outlinewidth\":0,\"ticks\":\"\"}}}],\"carpet\":[{\"aaxis\":{\"endlinecolor\":\"#2a3f5f\",\"gridcolor\":\"white\",\"linecolor\":\"white\",\"minorgridcolor\":\"white\",\"startlinecolor\":\"#2a3f5f\"},\"baxis\":{\"endlinecolor\":\"#2a3f5f\",\"gridcolor\":\"white\",\"linecolor\":\"white\",\"minorgridcolor\":\"white\",\"startlinecolor\":\"#2a3f5f\"},\"type\":\"carpet\"}],\"table\":[{\"cells\":{\"fill\":{\"color\":\"#EBF0F8\"},\"line\":{\"color\":\"white\"}},\"header\":{\"fill\":{\"color\":\"#C8D4E3\"},\"line\":{\"color\":\"white\"}},\"type\":\"table\"}],\"barpolar\":[{\"marker\":{\"line\":{\"color\":\"#E5ECF6\",\"width\":0.5},\"pattern\":{\"fillmode\":\"overlay\",\"size\":10,\"solidity\":0.2}},\"type\":\"barpolar\"}],\"pie\":[{\"automargin\":true,\"type\":\"pie\"}]},\"layout\":{\"autotypenumbers\":\"strict\",\"colorway\":[\"#636efa\",\"#EF553B\",\"#00cc96\",\"#ab63fa\",\"#FFA15A\",\"#19d3f3\",\"#FF6692\",\"#B6E880\",\"#FF97FF\",\"#FECB52\"],\"font\":{\"color\":\"#2a3f5f\"},\"hovermode\":\"closest\",\"hoverlabel\":{\"align\":\"left\"},\"paper_bgcolor\":\"white\",\"plot_bgcolor\":\"#E5ECF6\",\"polar\":{\"bgcolor\":\"#E5ECF6\",\"angularaxis\":{\"gridcolor\":\"white\",\"linecolor\":\"white\",\"ticks\":\"\"},\"radialaxis\":{\"gridcolor\":\"white\",\"linecolor\":\"white\",\"ticks\":\"\"}},\"ternary\":{\"bgcolor\":\"#E5ECF6\",\"aaxis\":{\"gridcolor\":\"white\",\"linecolor\":\"white\",\"ticks\":\"\"},\"baxis\":{\"gridcolor\":\"white\",\"linecolor\":\"white\",\"ticks\":\"\"},\"caxis\":{\"gridcolor\":\"white\",\"linecolor\":\"white\",\"ticks\":\"\"}},\"coloraxis\":{\"colorbar\":{\"outlinewidth\":0,\"ticks\":\"\"}},\"colorscale\":{\"sequential\":[[0.0,\"#0d0887\"],[0.1111111111111111,\"#46039f\"],[0.2222222222222222,\"#7201a8\"],[0.3333333333333333,\"#9c179e\"],[0.4444444444444444,\"#bd3786\"],[0.5555555555555556,\"#d8576b\"],[0.6666666666666666,\"#ed7953\"],[0.7777777777777778,\"#fb9f3a\"],[0.8888888888888888,\"#fdca26\"],[1.0,\"#f0f921\"]],\"sequentialminus\":[[0.0,\"#0d0887\"],[0.1111111111111111,\"#46039f\"],[0.2222222222222222,\"#7201a8\"],[0.3333333333333333,\"#9c179e\"],[0.4444444444444444,\"#bd3786\"],[0.5555555555555556,\"#d8576b\"],[0.6666666666666666,\"#ed7953\"],[0.7777777777777778,\"#fb9f3a\"],[0.8888888888888888,\"#fdca26\"],[1.0,\"#f0f921\"]],\"diverging\":[[0,\"#8e0152\"],[0.1,\"#c51b7d\"],[0.2,\"#de77ae\"],[0.3,\"#f1b6da\"],[0.4,\"#fde0ef\"],[0.5,\"#f7f7f7\"],[0.6,\"#e6f5d0\"],[0.7,\"#b8e186\"],[0.8,\"#7fbc41\"],[0.9,\"#4d9221\"],[1,\"#276419\"]]},\"xaxis\":{\"gridcolor\":\"white\",\"linecolor\":\"white\",\"ticks\":\"\",\"title\":{\"standoff\":15},\"zerolinecolor\":\"white\",\"automargin\":true,\"zerolinewidth\":2},\"yaxis\":{\"gridcolor\":\"white\",\"linecolor\":\"white\",\"ticks\":\"\",\"title\":{\"standoff\":15},\"zerolinecolor\":\"white\",\"automargin\":true,\"zerolinewidth\":2},\"scene\":{\"xaxis\":{\"backgroundcolor\":\"#E5ECF6\",\"gridcolor\":\"white\",\"linecolor\":\"white\",\"showbackground\":true,\"ticks\":\"\",\"zerolinecolor\":\"white\",\"gridwidth\":2},\"yaxis\":{\"backgroundcolor\":\"#E5ECF6\",\"gridcolor\":\"white\",\"linecolor\":\"white\",\"showbackground\":true,\"ticks\":\"\",\"zerolinecolor\":\"white\",\"gridwidth\":2},\"zaxis\":{\"backgroundcolor\":\"#E5ECF6\",\"gridcolor\":\"white\",\"linecolor\":\"white\",\"showbackground\":true,\"ticks\":\"\",\"zerolinecolor\":\"white\",\"gridwidth\":2}},\"shapedefaults\":{\"line\":{\"color\":\"#2a3f5f\"}},\"annotationdefaults\":{\"arrowcolor\":\"#2a3f5f\",\"arrowhead\":0,\"arrowwidth\":1},\"geo\":{\"bgcolor\":\"white\",\"landcolor\":\"#E5ECF6\",\"subunitcolor\":\"white\",\"showland\":true,\"showlakes\":true,\"lakecolor\":\"white\"},\"title\":{\"x\":0.05},\"mapbox\":{\"style\":\"light\"}}},\"xaxis\":{\"anchor\":\"y\",\"domain\":[0.0,1.0],\"title\":{\"text\":\"number\"}},\"yaxis\":{\"anchor\":\"x\",\"domain\":[0.0,1.0],\"title\":{\"text\":\"stage\"}},\"legend\":{\"tracegroupgap\":0},\"title\":{\"text\":\"\\u0412\\u043e\\u0440\\u043e\\u043d\\u043a\\u0430 \\u043f\\u043e\\u043b\\u044c\\u0437\\u043e\\u0432\\u0430\\u0442\\u0435\\u043b\\u0435\\u0439\"}},                        {\"responsive\": true}                    ).then(function(){\n",
       "                            \n",
       "var gd = document.getElementById('30ca675b-bab6-47d1-896b-f1d0428ae0aa');\n",
       "var x = new MutationObserver(function (mutations, observer) {{\n",
       "        var display = window.getComputedStyle(gd).display;\n",
       "        if (!display || display === 'none') {{\n",
       "            console.log([gd, 'removed!']);\n",
       "            Plotly.purge(gd);\n",
       "            observer.disconnect();\n",
       "        }}\n",
       "}});\n",
       "\n",
       "// Listen for the removal of the full notebook cells\n",
       "var notebookContainer = gd.closest('#notebook-container');\n",
       "if (notebookContainer) {{\n",
       "    x.observe(notebookContainer, {childList: true});\n",
       "}}\n",
       "\n",
       "// Listen for the clearing of the current output cell\n",
       "var outputEl = gd.closest('.output');\n",
       "if (outputEl) {{\n",
       "    x.observe(outputEl, {childList: true});\n",
       "}}\n",
       "\n",
       "                        })                };                });            </script>        </div>"
      ]
     },
     "metadata": {},
     "output_type": "display_data"
    }
   ],
   "source": [
    "voronka = dict(\n",
    "    number = [7420,4593,3734,3539],\n",
    "    stage = ['Mainscreen','Offers','Cart','Payment']\n",
    ")\n",
    "fig = px.funnel(voronka, x = 'number', y = 'stage',title = 'Воронка пользователей')\n",
    "fig.show()"
   ]
  },
  {
   "cell_type": "markdown",
   "metadata": {},
   "source": [
    "Как мы видим больше всего пользователей теряется на этапе перехода на страницу с предложениями,  хдоходит чуть более 60 %  пользователей. Далее пользователи охотно добавляют товары в корзину и приобретают, 80 % товаров добавленных в корзину покупают."
   ]
  },
  {
   "cell_type": "markdown",
   "metadata": {},
   "source": [
    "### Посмотрим какая доля пользователей доходит от первого события до оплаты"
   ]
  },
  {
   "cell_type": "code",
   "execution_count": 58,
   "metadata": {},
   "outputs": [
    {
     "data": {
      "text/html": [
       "<div>\n",
       "<style scoped>\n",
       "    .dataframe tbody tr th:only-of-type {\n",
       "        vertical-align: middle;\n",
       "    }\n",
       "\n",
       "    .dataframe tbody tr th {\n",
       "        vertical-align: top;\n",
       "    }\n",
       "\n",
       "    .dataframe thead th {\n",
       "        text-align: right;\n",
       "    }\n",
       "</style>\n",
       "<table border=\"1\" class=\"dataframe\">\n",
       "  <thead>\n",
       "    <tr style=\"text-align: right;\">\n",
       "      <th></th>\n",
       "      <th>Название события</th>\n",
       "      <th>Количество пользователей</th>\n",
       "      <th>previous</th>\n",
       "      <th>percent_next_step</th>\n",
       "    </tr>\n",
       "  </thead>\n",
       "  <tbody>\n",
       "    <tr>\n",
       "      <th>0</th>\n",
       "      <td>MainScreenAppear</td>\n",
       "      <td>7423</td>\n",
       "      <td>0</td>\n",
       "      <td>inf</td>\n",
       "    </tr>\n",
       "    <tr>\n",
       "      <th>1</th>\n",
       "      <td>OffersScreenAppear</td>\n",
       "      <td>4597</td>\n",
       "      <td>7423</td>\n",
       "      <td>62.0</td>\n",
       "    </tr>\n",
       "    <tr>\n",
       "      <th>2</th>\n",
       "      <td>CartScreenAppear</td>\n",
       "      <td>3736</td>\n",
       "      <td>4597</td>\n",
       "      <td>81.0</td>\n",
       "    </tr>\n",
       "    <tr>\n",
       "      <th>3</th>\n",
       "      <td>PaymentScreenSuccessful</td>\n",
       "      <td>3540</td>\n",
       "      <td>3736</td>\n",
       "      <td>95.0</td>\n",
       "    </tr>\n",
       "    <tr>\n",
       "      <th>4</th>\n",
       "      <td>Tutorial</td>\n",
       "      <td>843</td>\n",
       "      <td>3540</td>\n",
       "      <td>24.0</td>\n",
       "    </tr>\n",
       "  </tbody>\n",
       "</table>\n",
       "</div>"
      ],
      "text/plain": [
       "          Название события  Количество пользователей  previous  \\\n",
       "0         MainScreenAppear                      7423         0   \n",
       "1       OffersScreenAppear                      4597      7423   \n",
       "2         CartScreenAppear                      3736      4597   \n",
       "3  PaymentScreenSuccessful                      3540      3736   \n",
       "4                 Tutorial                       843      3540   \n",
       "\n",
       "   percent_next_step  \n",
       "0                inf  \n",
       "1               62.0  \n",
       "2               81.0  \n",
       "3               95.0  \n",
       "4               24.0  "
      ]
     },
     "execution_count": 58,
     "metadata": {},
     "output_type": "execute_result"
    }
   ],
   "source": [
    "next_step"
   ]
  },
  {
   "cell_type": "code",
   "execution_count": 59,
   "metadata": {},
   "outputs": [],
   "source": [
    "payment= next_step[next_step['Название события']=='PaymentScreenSuccessful']['Количество пользователей'].sum()"
   ]
  },
  {
   "cell_type": "code",
   "execution_count": 60,
   "metadata": {},
   "outputs": [],
   "source": [
    "main_screen = next_step[next_step['Название события']=='MainScreenAppear']['Количество пользователей'].sum()"
   ]
  },
  {
   "cell_type": "code",
   "execution_count": 61,
   "metadata": {},
   "outputs": [
    {
     "name": "stdout",
     "output_type": "stream",
     "text": [
      "От первого события до оплаты доходит: 48 % пользователей.\n"
     ]
    }
   ],
   "source": [
    "print(f'От первого события до оплаты доходит: {round(payment/main_screen * 100)} % пользователей.')"
   ]
  },
  {
   "cell_type": "code",
   "execution_count": 101,
   "metadata": {},
   "outputs": [
    {
     "data": {
      "application/vnd.plotly.v1+json": {
       "config": {
        "plotlyServerURL": "https://plot.ly"
       },
       "data": [
        {
         "hovertemplate": "znach=%{x}<br>label=%{y}<extra></extra>",
         "legendgroup": "",
         "marker": {
          "color": "#636efa"
         },
         "name": "",
         "orientation": "h",
         "showlegend": false,
         "type": "funnel",
         "x": [
          7423,
          3540
         ],
         "xaxis": "x",
         "y": [
          "Mainscreen",
          "Payment"
         ],
         "yaxis": "y"
        }
       ],
       "layout": {
        "legend": {
         "tracegroupgap": 0
        },
        "template": {
         "data": {
          "bar": [
           {
            "error_x": {
             "color": "#2a3f5f"
            },
            "error_y": {
             "color": "#2a3f5f"
            },
            "marker": {
             "line": {
              "color": "#E5ECF6",
              "width": 0.5
             },
             "pattern": {
              "fillmode": "overlay",
              "size": 10,
              "solidity": 0.2
             }
            },
            "type": "bar"
           }
          ],
          "barpolar": [
           {
            "marker": {
             "line": {
              "color": "#E5ECF6",
              "width": 0.5
             },
             "pattern": {
              "fillmode": "overlay",
              "size": 10,
              "solidity": 0.2
             }
            },
            "type": "barpolar"
           }
          ],
          "carpet": [
           {
            "aaxis": {
             "endlinecolor": "#2a3f5f",
             "gridcolor": "white",
             "linecolor": "white",
             "minorgridcolor": "white",
             "startlinecolor": "#2a3f5f"
            },
            "baxis": {
             "endlinecolor": "#2a3f5f",
             "gridcolor": "white",
             "linecolor": "white",
             "minorgridcolor": "white",
             "startlinecolor": "#2a3f5f"
            },
            "type": "carpet"
           }
          ],
          "choropleth": [
           {
            "colorbar": {
             "outlinewidth": 0,
             "ticks": ""
            },
            "type": "choropleth"
           }
          ],
          "contour": [
           {
            "colorbar": {
             "outlinewidth": 0,
             "ticks": ""
            },
            "colorscale": [
             [
              0,
              "#0d0887"
             ],
             [
              0.1111111111111111,
              "#46039f"
             ],
             [
              0.2222222222222222,
              "#7201a8"
             ],
             [
              0.3333333333333333,
              "#9c179e"
             ],
             [
              0.4444444444444444,
              "#bd3786"
             ],
             [
              0.5555555555555556,
              "#d8576b"
             ],
             [
              0.6666666666666666,
              "#ed7953"
             ],
             [
              0.7777777777777778,
              "#fb9f3a"
             ],
             [
              0.8888888888888888,
              "#fdca26"
             ],
             [
              1,
              "#f0f921"
             ]
            ],
            "type": "contour"
           }
          ],
          "contourcarpet": [
           {
            "colorbar": {
             "outlinewidth": 0,
             "ticks": ""
            },
            "type": "contourcarpet"
           }
          ],
          "heatmap": [
           {
            "colorbar": {
             "outlinewidth": 0,
             "ticks": ""
            },
            "colorscale": [
             [
              0,
              "#0d0887"
             ],
             [
              0.1111111111111111,
              "#46039f"
             ],
             [
              0.2222222222222222,
              "#7201a8"
             ],
             [
              0.3333333333333333,
              "#9c179e"
             ],
             [
              0.4444444444444444,
              "#bd3786"
             ],
             [
              0.5555555555555556,
              "#d8576b"
             ],
             [
              0.6666666666666666,
              "#ed7953"
             ],
             [
              0.7777777777777778,
              "#fb9f3a"
             ],
             [
              0.8888888888888888,
              "#fdca26"
             ],
             [
              1,
              "#f0f921"
             ]
            ],
            "type": "heatmap"
           }
          ],
          "heatmapgl": [
           {
            "colorbar": {
             "outlinewidth": 0,
             "ticks": ""
            },
            "colorscale": [
             [
              0,
              "#0d0887"
             ],
             [
              0.1111111111111111,
              "#46039f"
             ],
             [
              0.2222222222222222,
              "#7201a8"
             ],
             [
              0.3333333333333333,
              "#9c179e"
             ],
             [
              0.4444444444444444,
              "#bd3786"
             ],
             [
              0.5555555555555556,
              "#d8576b"
             ],
             [
              0.6666666666666666,
              "#ed7953"
             ],
             [
              0.7777777777777778,
              "#fb9f3a"
             ],
             [
              0.8888888888888888,
              "#fdca26"
             ],
             [
              1,
              "#f0f921"
             ]
            ],
            "type": "heatmapgl"
           }
          ],
          "histogram": [
           {
            "marker": {
             "pattern": {
              "fillmode": "overlay",
              "size": 10,
              "solidity": 0.2
             }
            },
            "type": "histogram"
           }
          ],
          "histogram2d": [
           {
            "colorbar": {
             "outlinewidth": 0,
             "ticks": ""
            },
            "colorscale": [
             [
              0,
              "#0d0887"
             ],
             [
              0.1111111111111111,
              "#46039f"
             ],
             [
              0.2222222222222222,
              "#7201a8"
             ],
             [
              0.3333333333333333,
              "#9c179e"
             ],
             [
              0.4444444444444444,
              "#bd3786"
             ],
             [
              0.5555555555555556,
              "#d8576b"
             ],
             [
              0.6666666666666666,
              "#ed7953"
             ],
             [
              0.7777777777777778,
              "#fb9f3a"
             ],
             [
              0.8888888888888888,
              "#fdca26"
             ],
             [
              1,
              "#f0f921"
             ]
            ],
            "type": "histogram2d"
           }
          ],
          "histogram2dcontour": [
           {
            "colorbar": {
             "outlinewidth": 0,
             "ticks": ""
            },
            "colorscale": [
             [
              0,
              "#0d0887"
             ],
             [
              0.1111111111111111,
              "#46039f"
             ],
             [
              0.2222222222222222,
              "#7201a8"
             ],
             [
              0.3333333333333333,
              "#9c179e"
             ],
             [
              0.4444444444444444,
              "#bd3786"
             ],
             [
              0.5555555555555556,
              "#d8576b"
             ],
             [
              0.6666666666666666,
              "#ed7953"
             ],
             [
              0.7777777777777778,
              "#fb9f3a"
             ],
             [
              0.8888888888888888,
              "#fdca26"
             ],
             [
              1,
              "#f0f921"
             ]
            ],
            "type": "histogram2dcontour"
           }
          ],
          "mesh3d": [
           {
            "colorbar": {
             "outlinewidth": 0,
             "ticks": ""
            },
            "type": "mesh3d"
           }
          ],
          "parcoords": [
           {
            "line": {
             "colorbar": {
              "outlinewidth": 0,
              "ticks": ""
             }
            },
            "type": "parcoords"
           }
          ],
          "pie": [
           {
            "automargin": true,
            "type": "pie"
           }
          ],
          "scatter": [
           {
            "fillpattern": {
             "fillmode": "overlay",
             "size": 10,
             "solidity": 0.2
            },
            "type": "scatter"
           }
          ],
          "scatter3d": [
           {
            "line": {
             "colorbar": {
              "outlinewidth": 0,
              "ticks": ""
             }
            },
            "marker": {
             "colorbar": {
              "outlinewidth": 0,
              "ticks": ""
             }
            },
            "type": "scatter3d"
           }
          ],
          "scattercarpet": [
           {
            "marker": {
             "colorbar": {
              "outlinewidth": 0,
              "ticks": ""
             }
            },
            "type": "scattercarpet"
           }
          ],
          "scattergeo": [
           {
            "marker": {
             "colorbar": {
              "outlinewidth": 0,
              "ticks": ""
             }
            },
            "type": "scattergeo"
           }
          ],
          "scattergl": [
           {
            "marker": {
             "colorbar": {
              "outlinewidth": 0,
              "ticks": ""
             }
            },
            "type": "scattergl"
           }
          ],
          "scattermapbox": [
           {
            "marker": {
             "colorbar": {
              "outlinewidth": 0,
              "ticks": ""
             }
            },
            "type": "scattermapbox"
           }
          ],
          "scatterpolar": [
           {
            "marker": {
             "colorbar": {
              "outlinewidth": 0,
              "ticks": ""
             }
            },
            "type": "scatterpolar"
           }
          ],
          "scatterpolargl": [
           {
            "marker": {
             "colorbar": {
              "outlinewidth": 0,
              "ticks": ""
             }
            },
            "type": "scatterpolargl"
           }
          ],
          "scatterternary": [
           {
            "marker": {
             "colorbar": {
              "outlinewidth": 0,
              "ticks": ""
             }
            },
            "type": "scatterternary"
           }
          ],
          "surface": [
           {
            "colorbar": {
             "outlinewidth": 0,
             "ticks": ""
            },
            "colorscale": [
             [
              0,
              "#0d0887"
             ],
             [
              0.1111111111111111,
              "#46039f"
             ],
             [
              0.2222222222222222,
              "#7201a8"
             ],
             [
              0.3333333333333333,
              "#9c179e"
             ],
             [
              0.4444444444444444,
              "#bd3786"
             ],
             [
              0.5555555555555556,
              "#d8576b"
             ],
             [
              0.6666666666666666,
              "#ed7953"
             ],
             [
              0.7777777777777778,
              "#fb9f3a"
             ],
             [
              0.8888888888888888,
              "#fdca26"
             ],
             [
              1,
              "#f0f921"
             ]
            ],
            "type": "surface"
           }
          ],
          "table": [
           {
            "cells": {
             "fill": {
              "color": "#EBF0F8"
             },
             "line": {
              "color": "white"
             }
            },
            "header": {
             "fill": {
              "color": "#C8D4E3"
             },
             "line": {
              "color": "white"
             }
            },
            "type": "table"
           }
          ]
         },
         "layout": {
          "annotationdefaults": {
           "arrowcolor": "#2a3f5f",
           "arrowhead": 0,
           "arrowwidth": 1
          },
          "autotypenumbers": "strict",
          "coloraxis": {
           "colorbar": {
            "outlinewidth": 0,
            "ticks": ""
           }
          },
          "colorscale": {
           "diverging": [
            [
             0,
             "#8e0152"
            ],
            [
             0.1,
             "#c51b7d"
            ],
            [
             0.2,
             "#de77ae"
            ],
            [
             0.3,
             "#f1b6da"
            ],
            [
             0.4,
             "#fde0ef"
            ],
            [
             0.5,
             "#f7f7f7"
            ],
            [
             0.6,
             "#e6f5d0"
            ],
            [
             0.7,
             "#b8e186"
            ],
            [
             0.8,
             "#7fbc41"
            ],
            [
             0.9,
             "#4d9221"
            ],
            [
             1,
             "#276419"
            ]
           ],
           "sequential": [
            [
             0,
             "#0d0887"
            ],
            [
             0.1111111111111111,
             "#46039f"
            ],
            [
             0.2222222222222222,
             "#7201a8"
            ],
            [
             0.3333333333333333,
             "#9c179e"
            ],
            [
             0.4444444444444444,
             "#bd3786"
            ],
            [
             0.5555555555555556,
             "#d8576b"
            ],
            [
             0.6666666666666666,
             "#ed7953"
            ],
            [
             0.7777777777777778,
             "#fb9f3a"
            ],
            [
             0.8888888888888888,
             "#fdca26"
            ],
            [
             1,
             "#f0f921"
            ]
           ],
           "sequentialminus": [
            [
             0,
             "#0d0887"
            ],
            [
             0.1111111111111111,
             "#46039f"
            ],
            [
             0.2222222222222222,
             "#7201a8"
            ],
            [
             0.3333333333333333,
             "#9c179e"
            ],
            [
             0.4444444444444444,
             "#bd3786"
            ],
            [
             0.5555555555555556,
             "#d8576b"
            ],
            [
             0.6666666666666666,
             "#ed7953"
            ],
            [
             0.7777777777777778,
             "#fb9f3a"
            ],
            [
             0.8888888888888888,
             "#fdca26"
            ],
            [
             1,
             "#f0f921"
            ]
           ]
          },
          "colorway": [
           "#636efa",
           "#EF553B",
           "#00cc96",
           "#ab63fa",
           "#FFA15A",
           "#19d3f3",
           "#FF6692",
           "#B6E880",
           "#FF97FF",
           "#FECB52"
          ],
          "font": {
           "color": "#2a3f5f"
          },
          "geo": {
           "bgcolor": "white",
           "lakecolor": "white",
           "landcolor": "#E5ECF6",
           "showlakes": true,
           "showland": true,
           "subunitcolor": "white"
          },
          "hoverlabel": {
           "align": "left"
          },
          "hovermode": "closest",
          "mapbox": {
           "style": "light"
          },
          "paper_bgcolor": "white",
          "plot_bgcolor": "#E5ECF6",
          "polar": {
           "angularaxis": {
            "gridcolor": "white",
            "linecolor": "white",
            "ticks": ""
           },
           "bgcolor": "#E5ECF6",
           "radialaxis": {
            "gridcolor": "white",
            "linecolor": "white",
            "ticks": ""
           }
          },
          "scene": {
           "xaxis": {
            "backgroundcolor": "#E5ECF6",
            "gridcolor": "white",
            "gridwidth": 2,
            "linecolor": "white",
            "showbackground": true,
            "ticks": "",
            "zerolinecolor": "white"
           },
           "yaxis": {
            "backgroundcolor": "#E5ECF6",
            "gridcolor": "white",
            "gridwidth": 2,
            "linecolor": "white",
            "showbackground": true,
            "ticks": "",
            "zerolinecolor": "white"
           },
           "zaxis": {
            "backgroundcolor": "#E5ECF6",
            "gridcolor": "white",
            "gridwidth": 2,
            "linecolor": "white",
            "showbackground": true,
            "ticks": "",
            "zerolinecolor": "white"
           }
          },
          "shapedefaults": {
           "line": {
            "color": "#2a3f5f"
           }
          },
          "ternary": {
           "aaxis": {
            "gridcolor": "white",
            "linecolor": "white",
            "ticks": ""
           },
           "baxis": {
            "gridcolor": "white",
            "linecolor": "white",
            "ticks": ""
           },
           "bgcolor": "#E5ECF6",
           "caxis": {
            "gridcolor": "white",
            "linecolor": "white",
            "ticks": ""
           }
          },
          "title": {
           "x": 0.05
          },
          "xaxis": {
           "automargin": true,
           "gridcolor": "white",
           "linecolor": "white",
           "ticks": "",
           "title": {
            "standoff": 15
           },
           "zerolinecolor": "white",
           "zerolinewidth": 2
          },
          "yaxis": {
           "automargin": true,
           "gridcolor": "white",
           "linecolor": "white",
           "ticks": "",
           "title": {
            "standoff": 15
           },
           "zerolinecolor": "white",
           "zerolinewidth": 2
          }
         }
        },
        "title": {
         "text": "Воронка от первого события до оплаты"
        },
        "xaxis": {
         "anchor": "y",
         "domain": [
          0,
          1
         ],
         "title": {
          "text": "znach"
         }
        },
        "yaxis": {
         "anchor": "x",
         "domain": [
          0,
          1
         ],
         "title": {
          "text": "label"
         }
        }
       }
      },
      "text/html": [
       "<div>                            <div id=\"56413a0d-a7eb-4513-a0e0-50e0ae4319d6\" class=\"plotly-graph-div\" style=\"height:525px; width:100%;\"></div>            <script type=\"text/javascript\">                require([\"plotly\"], function(Plotly) {                    window.PLOTLYENV=window.PLOTLYENV || {};                                    if (document.getElementById(\"56413a0d-a7eb-4513-a0e0-50e0ae4319d6\")) {                    Plotly.newPlot(                        \"56413a0d-a7eb-4513-a0e0-50e0ae4319d6\",                        [{\"hovertemplate\":\"znach=%{x}<br>label=%{y}<extra></extra>\",\"legendgroup\":\"\",\"marker\":{\"color\":\"#636efa\"},\"name\":\"\",\"orientation\":\"h\",\"showlegend\":false,\"x\":[7423,3540],\"xaxis\":\"x\",\"y\":[\"Mainscreen\",\"Payment\"],\"yaxis\":\"y\",\"type\":\"funnel\"}],                        {\"template\":{\"data\":{\"histogram2dcontour\":[{\"type\":\"histogram2dcontour\",\"colorbar\":{\"outlinewidth\":0,\"ticks\":\"\"},\"colorscale\":[[0.0,\"#0d0887\"],[0.1111111111111111,\"#46039f\"],[0.2222222222222222,\"#7201a8\"],[0.3333333333333333,\"#9c179e\"],[0.4444444444444444,\"#bd3786\"],[0.5555555555555556,\"#d8576b\"],[0.6666666666666666,\"#ed7953\"],[0.7777777777777778,\"#fb9f3a\"],[0.8888888888888888,\"#fdca26\"],[1.0,\"#f0f921\"]]}],\"choropleth\":[{\"type\":\"choropleth\",\"colorbar\":{\"outlinewidth\":0,\"ticks\":\"\"}}],\"histogram2d\":[{\"type\":\"histogram2d\",\"colorbar\":{\"outlinewidth\":0,\"ticks\":\"\"},\"colorscale\":[[0.0,\"#0d0887\"],[0.1111111111111111,\"#46039f\"],[0.2222222222222222,\"#7201a8\"],[0.3333333333333333,\"#9c179e\"],[0.4444444444444444,\"#bd3786\"],[0.5555555555555556,\"#d8576b\"],[0.6666666666666666,\"#ed7953\"],[0.7777777777777778,\"#fb9f3a\"],[0.8888888888888888,\"#fdca26\"],[1.0,\"#f0f921\"]]}],\"heatmap\":[{\"type\":\"heatmap\",\"colorbar\":{\"outlinewidth\":0,\"ticks\":\"\"},\"colorscale\":[[0.0,\"#0d0887\"],[0.1111111111111111,\"#46039f\"],[0.2222222222222222,\"#7201a8\"],[0.3333333333333333,\"#9c179e\"],[0.4444444444444444,\"#bd3786\"],[0.5555555555555556,\"#d8576b\"],[0.6666666666666666,\"#ed7953\"],[0.7777777777777778,\"#fb9f3a\"],[0.8888888888888888,\"#fdca26\"],[1.0,\"#f0f921\"]]}],\"heatmapgl\":[{\"type\":\"heatmapgl\",\"colorbar\":{\"outlinewidth\":0,\"ticks\":\"\"},\"colorscale\":[[0.0,\"#0d0887\"],[0.1111111111111111,\"#46039f\"],[0.2222222222222222,\"#7201a8\"],[0.3333333333333333,\"#9c179e\"],[0.4444444444444444,\"#bd3786\"],[0.5555555555555556,\"#d8576b\"],[0.6666666666666666,\"#ed7953\"],[0.7777777777777778,\"#fb9f3a\"],[0.8888888888888888,\"#fdca26\"],[1.0,\"#f0f921\"]]}],\"contourcarpet\":[{\"type\":\"contourcarpet\",\"colorbar\":{\"outlinewidth\":0,\"ticks\":\"\"}}],\"contour\":[{\"type\":\"contour\",\"colorbar\":{\"outlinewidth\":0,\"ticks\":\"\"},\"colorscale\":[[0.0,\"#0d0887\"],[0.1111111111111111,\"#46039f\"],[0.2222222222222222,\"#7201a8\"],[0.3333333333333333,\"#9c179e\"],[0.4444444444444444,\"#bd3786\"],[0.5555555555555556,\"#d8576b\"],[0.6666666666666666,\"#ed7953\"],[0.7777777777777778,\"#fb9f3a\"],[0.8888888888888888,\"#fdca26\"],[1.0,\"#f0f921\"]]}],\"surface\":[{\"type\":\"surface\",\"colorbar\":{\"outlinewidth\":0,\"ticks\":\"\"},\"colorscale\":[[0.0,\"#0d0887\"],[0.1111111111111111,\"#46039f\"],[0.2222222222222222,\"#7201a8\"],[0.3333333333333333,\"#9c179e\"],[0.4444444444444444,\"#bd3786\"],[0.5555555555555556,\"#d8576b\"],[0.6666666666666666,\"#ed7953\"],[0.7777777777777778,\"#fb9f3a\"],[0.8888888888888888,\"#fdca26\"],[1.0,\"#f0f921\"]]}],\"mesh3d\":[{\"type\":\"mesh3d\",\"colorbar\":{\"outlinewidth\":0,\"ticks\":\"\"}}],\"scatter\":[{\"fillpattern\":{\"fillmode\":\"overlay\",\"size\":10,\"solidity\":0.2},\"type\":\"scatter\"}],\"parcoords\":[{\"type\":\"parcoords\",\"line\":{\"colorbar\":{\"outlinewidth\":0,\"ticks\":\"\"}}}],\"scatterpolargl\":[{\"type\":\"scatterpolargl\",\"marker\":{\"colorbar\":{\"outlinewidth\":0,\"ticks\":\"\"}}}],\"bar\":[{\"error_x\":{\"color\":\"#2a3f5f\"},\"error_y\":{\"color\":\"#2a3f5f\"},\"marker\":{\"line\":{\"color\":\"#E5ECF6\",\"width\":0.5},\"pattern\":{\"fillmode\":\"overlay\",\"size\":10,\"solidity\":0.2}},\"type\":\"bar\"}],\"scattergeo\":[{\"type\":\"scattergeo\",\"marker\":{\"colorbar\":{\"outlinewidth\":0,\"ticks\":\"\"}}}],\"scatterpolar\":[{\"type\":\"scatterpolar\",\"marker\":{\"colorbar\":{\"outlinewidth\":0,\"ticks\":\"\"}}}],\"histogram\":[{\"marker\":{\"pattern\":{\"fillmode\":\"overlay\",\"size\":10,\"solidity\":0.2}},\"type\":\"histogram\"}],\"scattergl\":[{\"type\":\"scattergl\",\"marker\":{\"colorbar\":{\"outlinewidth\":0,\"ticks\":\"\"}}}],\"scatter3d\":[{\"type\":\"scatter3d\",\"line\":{\"colorbar\":{\"outlinewidth\":0,\"ticks\":\"\"}},\"marker\":{\"colorbar\":{\"outlinewidth\":0,\"ticks\":\"\"}}}],\"scattermapbox\":[{\"type\":\"scattermapbox\",\"marker\":{\"colorbar\":{\"outlinewidth\":0,\"ticks\":\"\"}}}],\"scatterternary\":[{\"type\":\"scatterternary\",\"marker\":{\"colorbar\":{\"outlinewidth\":0,\"ticks\":\"\"}}}],\"scattercarpet\":[{\"type\":\"scattercarpet\",\"marker\":{\"colorbar\":{\"outlinewidth\":0,\"ticks\":\"\"}}}],\"carpet\":[{\"aaxis\":{\"endlinecolor\":\"#2a3f5f\",\"gridcolor\":\"white\",\"linecolor\":\"white\",\"minorgridcolor\":\"white\",\"startlinecolor\":\"#2a3f5f\"},\"baxis\":{\"endlinecolor\":\"#2a3f5f\",\"gridcolor\":\"white\",\"linecolor\":\"white\",\"minorgridcolor\":\"white\",\"startlinecolor\":\"#2a3f5f\"},\"type\":\"carpet\"}],\"table\":[{\"cells\":{\"fill\":{\"color\":\"#EBF0F8\"},\"line\":{\"color\":\"white\"}},\"header\":{\"fill\":{\"color\":\"#C8D4E3\"},\"line\":{\"color\":\"white\"}},\"type\":\"table\"}],\"barpolar\":[{\"marker\":{\"line\":{\"color\":\"#E5ECF6\",\"width\":0.5},\"pattern\":{\"fillmode\":\"overlay\",\"size\":10,\"solidity\":0.2}},\"type\":\"barpolar\"}],\"pie\":[{\"automargin\":true,\"type\":\"pie\"}]},\"layout\":{\"autotypenumbers\":\"strict\",\"colorway\":[\"#636efa\",\"#EF553B\",\"#00cc96\",\"#ab63fa\",\"#FFA15A\",\"#19d3f3\",\"#FF6692\",\"#B6E880\",\"#FF97FF\",\"#FECB52\"],\"font\":{\"color\":\"#2a3f5f\"},\"hovermode\":\"closest\",\"hoverlabel\":{\"align\":\"left\"},\"paper_bgcolor\":\"white\",\"plot_bgcolor\":\"#E5ECF6\",\"polar\":{\"bgcolor\":\"#E5ECF6\",\"angularaxis\":{\"gridcolor\":\"white\",\"linecolor\":\"white\",\"ticks\":\"\"},\"radialaxis\":{\"gridcolor\":\"white\",\"linecolor\":\"white\",\"ticks\":\"\"}},\"ternary\":{\"bgcolor\":\"#E5ECF6\",\"aaxis\":{\"gridcolor\":\"white\",\"linecolor\":\"white\",\"ticks\":\"\"},\"baxis\":{\"gridcolor\":\"white\",\"linecolor\":\"white\",\"ticks\":\"\"},\"caxis\":{\"gridcolor\":\"white\",\"linecolor\":\"white\",\"ticks\":\"\"}},\"coloraxis\":{\"colorbar\":{\"outlinewidth\":0,\"ticks\":\"\"}},\"colorscale\":{\"sequential\":[[0.0,\"#0d0887\"],[0.1111111111111111,\"#46039f\"],[0.2222222222222222,\"#7201a8\"],[0.3333333333333333,\"#9c179e\"],[0.4444444444444444,\"#bd3786\"],[0.5555555555555556,\"#d8576b\"],[0.6666666666666666,\"#ed7953\"],[0.7777777777777778,\"#fb9f3a\"],[0.8888888888888888,\"#fdca26\"],[1.0,\"#f0f921\"]],\"sequentialminus\":[[0.0,\"#0d0887\"],[0.1111111111111111,\"#46039f\"],[0.2222222222222222,\"#7201a8\"],[0.3333333333333333,\"#9c179e\"],[0.4444444444444444,\"#bd3786\"],[0.5555555555555556,\"#d8576b\"],[0.6666666666666666,\"#ed7953\"],[0.7777777777777778,\"#fb9f3a\"],[0.8888888888888888,\"#fdca26\"],[1.0,\"#f0f921\"]],\"diverging\":[[0,\"#8e0152\"],[0.1,\"#c51b7d\"],[0.2,\"#de77ae\"],[0.3,\"#f1b6da\"],[0.4,\"#fde0ef\"],[0.5,\"#f7f7f7\"],[0.6,\"#e6f5d0\"],[0.7,\"#b8e186\"],[0.8,\"#7fbc41\"],[0.9,\"#4d9221\"],[1,\"#276419\"]]},\"xaxis\":{\"gridcolor\":\"white\",\"linecolor\":\"white\",\"ticks\":\"\",\"title\":{\"standoff\":15},\"zerolinecolor\":\"white\",\"automargin\":true,\"zerolinewidth\":2},\"yaxis\":{\"gridcolor\":\"white\",\"linecolor\":\"white\",\"ticks\":\"\",\"title\":{\"standoff\":15},\"zerolinecolor\":\"white\",\"automargin\":true,\"zerolinewidth\":2},\"scene\":{\"xaxis\":{\"backgroundcolor\":\"#E5ECF6\",\"gridcolor\":\"white\",\"linecolor\":\"white\",\"showbackground\":true,\"ticks\":\"\",\"zerolinecolor\":\"white\",\"gridwidth\":2},\"yaxis\":{\"backgroundcolor\":\"#E5ECF6\",\"gridcolor\":\"white\",\"linecolor\":\"white\",\"showbackground\":true,\"ticks\":\"\",\"zerolinecolor\":\"white\",\"gridwidth\":2},\"zaxis\":{\"backgroundcolor\":\"#E5ECF6\",\"gridcolor\":\"white\",\"linecolor\":\"white\",\"showbackground\":true,\"ticks\":\"\",\"zerolinecolor\":\"white\",\"gridwidth\":2}},\"shapedefaults\":{\"line\":{\"color\":\"#2a3f5f\"}},\"annotationdefaults\":{\"arrowcolor\":\"#2a3f5f\",\"arrowhead\":0,\"arrowwidth\":1},\"geo\":{\"bgcolor\":\"white\",\"landcolor\":\"#E5ECF6\",\"subunitcolor\":\"white\",\"showland\":true,\"showlakes\":true,\"lakecolor\":\"white\"},\"title\":{\"x\":0.05},\"mapbox\":{\"style\":\"light\"}}},\"xaxis\":{\"anchor\":\"y\",\"domain\":[0.0,1.0],\"title\":{\"text\":\"znach\"}},\"yaxis\":{\"anchor\":\"x\",\"domain\":[0.0,1.0],\"title\":{\"text\":\"label\"}},\"legend\":{\"tracegroupgap\":0},\"title\":{\"text\":\"\\u0412\\u043e\\u0440\\u043e\\u043d\\u043a\\u0430 \\u043e\\u0442 \\u043f\\u0435\\u0440\\u0432\\u043e\\u0433\\u043e \\u0441\\u043e\\u0431\\u044b\\u0442\\u0438\\u044f \\u0434\\u043e \\u043e\\u043f\\u043b\\u0430\\u0442\\u044b\"}},                        {\"responsive\": true}                    ).then(function(){\n",
       "                            \n",
       "var gd = document.getElementById('56413a0d-a7eb-4513-a0e0-50e0ae4319d6');\n",
       "var x = new MutationObserver(function (mutations, observer) {{\n",
       "        var display = window.getComputedStyle(gd).display;\n",
       "        if (!display || display === 'none') {{\n",
       "            console.log([gd, 'removed!']);\n",
       "            Plotly.purge(gd);\n",
       "            observer.disconnect();\n",
       "        }}\n",
       "}});\n",
       "\n",
       "// Listen for the removal of the full notebook cells\n",
       "var notebookContainer = gd.closest('#notebook-container');\n",
       "if (notebookContainer) {{\n",
       "    x.observe(notebookContainer, {childList: true});\n",
       "}}\n",
       "\n",
       "// Listen for the clearing of the current output cell\n",
       "var outputEl = gd.closest('.output');\n",
       "if (outputEl) {{\n",
       "    x.observe(outputEl, {childList: true});\n",
       "}}\n",
       "\n",
       "                        })                };                });            </script>        </div>"
      ]
     },
     "metadata": {},
     "output_type": "display_data"
    }
   ],
   "source": [
    "first_last = dict(\n",
    "    znach = [main_screen,payment],\n",
    "    label = ['Mainscreen','Payment']\n",
    ")\n",
    "fig = px.funnel(first_last, x = 'znach', y = 'label',title = 'Воронка от первого события до оплаты')\n",
    "fig.show()"
   ]
  },
  {
   "cell_type": "markdown",
   "metadata": {},
   "source": [
    "## Изучим результаты эксперимента"
   ]
  },
  {
   "cell_type": "markdown",
   "metadata": {},
   "source": [
    "### Посмотрим сколько пользователей в каждой экспериментальной группе."
   ]
  },
  {
   "cell_type": "code",
   "execution_count": 63,
   "metadata": {},
   "outputs": [
    {
     "data": {
      "image/png": "[encoded data removed]",
      "text/plain": [
       "<Figure size 1000x700 with 1 Axes>"
      ]
     },
     "metadata": {},
     "output_type": "display_data"
    }
   ],
   "source": [
    "plt.figure(figsize=(10, 7))\n",
    "plt.pie(data = user_group\n",
    "        ,x = 'Количество человек'\n",
    "        , labels = 'Номер группы'\n",
    "        ,autopct=autopct_format(user_group['Количество человек']))\n",
    "plt.title('Количество пользователей по группам')\n",
    "plt.show()"
   ]
  },
  {
   "cell_type": "markdown",
   "metadata": {},
   "source": [
    "Как мы видим количество пользоватей в группах распределены равномерно   \n",
    "2484 тысяч в эксперементальной группе А(246)\n",
    "2513 тысяч в эксперементальной группе А(247)\n",
    "2537 тысячи в эксперементальной группе B(248)"
   ]
  },
  {
   "cell_type": "markdown",
   "metadata": {},
   "source": [
    "Посмотрим есть ли в наших группах клиенты, которые одновременно состоят в нескольких группах"
   ]
  },
  {
   "cell_type": "code",
   "execution_count": 65,
   "metadata": {},
   "outputs": [],
   "source": [
    "double = data_new.groupby('user_id').agg({'group':'nunique'}).reset_index()"
   ]
  },
  {
   "cell_type": "code",
   "execution_count": 66,
   "metadata": {},
   "outputs": [
    {
     "data": {
      "text/html": [
       "<div>\n",
       "<style scoped>\n",
       "    .dataframe tbody tr th:only-of-type {\n",
       "        vertical-align: middle;\n",
       "    }\n",
       "\n",
       "    .dataframe tbody tr th {\n",
       "        vertical-align: top;\n",
       "    }\n",
       "\n",
       "    .dataframe thead th {\n",
       "        text-align: right;\n",
       "    }\n",
       "</style>\n",
       "<table border=\"1\" class=\"dataframe\">\n",
       "  <thead>\n",
       "    <tr style=\"text-align: right;\">\n",
       "      <th></th>\n",
       "      <th>user_id</th>\n",
       "      <th>group</th>\n",
       "    </tr>\n",
       "  </thead>\n",
       "  <tbody>\n",
       "    <tr>\n",
       "      <th>0</th>\n",
       "      <td>6888746892508752</td>\n",
       "      <td>1</td>\n",
       "    </tr>\n",
       "    <tr>\n",
       "      <th>1</th>\n",
       "      <td>6909561520679493</td>\n",
       "      <td>1</td>\n",
       "    </tr>\n",
       "    <tr>\n",
       "      <th>2</th>\n",
       "      <td>6922444491712477</td>\n",
       "      <td>1</td>\n",
       "    </tr>\n",
       "    <tr>\n",
       "      <th>3</th>\n",
       "      <td>7435777799948366</td>\n",
       "      <td>1</td>\n",
       "    </tr>\n",
       "    <tr>\n",
       "      <th>4</th>\n",
       "      <td>7702139951469979</td>\n",
       "      <td>1</td>\n",
       "    </tr>\n",
       "  </tbody>\n",
       "</table>\n",
       "</div>"
      ],
      "text/plain": [
       "            user_id  group\n",
       "0  6888746892508752      1\n",
       "1  6909561520679493      1\n",
       "2  6922444491712477      1\n",
       "3  7435777799948366      1\n",
       "4  7702139951469979      1"
      ]
     },
     "execution_count": 66,
     "metadata": {},
     "output_type": "execute_result"
    }
   ],
   "source": [
    "double.head(5)"
   ]
  },
  {
   "cell_type": "code",
   "execution_count": 67,
   "metadata": {},
   "outputs": [
    {
     "data": {
      "text/plain": [
       "array([1])"
      ]
     },
     "execution_count": 67,
     "metadata": {},
     "output_type": "execute_result"
    }
   ],
   "source": [
    "double['group'].unique()"
   ]
  },
  {
   "cell_type": "markdown",
   "metadata": {},
   "source": [
    "Данные по группам корректны,  задвоений пользователей нет, двигаемся дальше."
   ]
  },
  {
   "cell_type": "markdown",
   "metadata": {},
   "source": [
    "### Проверим, находят ли статистические критерии разницу между выборками 246 и 247"
   ]
  },
  {
   "cell_type": "markdown",
   "metadata": {},
   "source": [
    "В нашем эксперименте мы будем использовать Z тест, тк будем сравнивать доли пользователей. Необходимо определиться с выбором уровня статистической значимости. Поскольку мы будем использовать множество сравнений, воспользуемся поправкой Бонферрони, разделим уровень статистической значимости 0.05 / 16. Alpha = 0.003"
   ]
  },
  {
   "cell_type": "markdown",
   "metadata": {},
   "source": [
    "Создадим функцию которую в дальнейшем будем использовать"
   ]
  },
  {
   "cell_type": "code",
   "execution_count": 68,
   "metadata": {},
   "outputs": [],
   "source": [
    "def z_test(group_1S,group_2S,group_1t,group_2t):\n",
    "    alpha = 0.003 # критический уровень статистической значимости\n",
    "\n",
    "    successes = np.array([group_1S,group_2S])\n",
    "    trials = np.array([group_1t,group_2t])\n",
    "\n",
    "    # пропорция успехов в первой группе:\n",
    "    p1 = successes[0]/trials[0]\n",
    "\n",
    "    # пропорция успехов во второй группе:\n",
    "    p2 = successes[1]/trials[1]\n",
    "\n",
    "    # пропорция успехов в комбинированном датасете:\n",
    "    p_combined = (successes[0] + successes[1]) / (trials[0] + trials[1])\n",
    "\n",
    "    # разница пропорций в датасетах\n",
    "    difference = p1 - p2 \n",
    "\n",
    "    z_value = difference / mth.sqrt(p_combined * (1 - p_combined) * (1/trials[0] + 1/trials[1]))\n",
    "\n",
    "    distr = st.norm(0, 1)\n",
    "\n",
    "    p_value = (1 - distr.cdf(abs(z_value))) * 2\n",
    "\n",
    "    print('p-значение: ', p_value)\n",
    "\n",
    "    if p_value < alpha:\n",
    "        print('Отвергаем нулевую гипотезу: между группами есть значимая разница')\n",
    "    else:\n",
    "        print(\n",
    "            'Не получилось отвергнуть нулевую гипотезу, нет оснований считать что между группами есть разница'\n",
    "        )"
   ]
  },
  {
   "cell_type": "markdown",
   "metadata": {},
   "source": [
    "Сгруппируем 3 датасета по группам"
   ]
  },
  {
   "cell_type": "code",
   "execution_count": 69,
   "metadata": {},
   "outputs": [],
   "source": [
    "group_246 = data_new.query('group == 246')"
   ]
  },
  {
   "cell_type": "code",
   "execution_count": 70,
   "metadata": {},
   "outputs": [],
   "source": [
    "group_247 = data_new.query('group == 247')"
   ]
  },
  {
   "cell_type": "code",
   "execution_count": 71,
   "metadata": {},
   "outputs": [],
   "source": [
    "group_248 = data_new.query('group == 248')"
   ]
  },
  {
   "cell_type": "markdown",
   "metadata": {},
   "source": [
    "Создадим еще один датасет, общий для 2ух тестовых групп."
   ]
  },
  {
   "cell_type": "code",
   "execution_count": 72,
   "metadata": {},
   "outputs": [],
   "source": [
    "group_246_247 = data_new[data_new['group'] != 248]"
   ]
  },
  {
   "cell_type": "markdown",
   "metadata": {},
   "source": [
    "Создадим переменные,  которые пригодятся при дальнейшем вызове функции"
   ]
  },
  {
   "cell_type": "code",
   "execution_count": 73,
   "metadata": {},
   "outputs": [],
   "source": [
    "groupname246 = '246'"
   ]
  },
  {
   "cell_type": "code",
   "execution_count": 74,
   "metadata": {},
   "outputs": [],
   "source": [
    "groupname247 = '247'"
   ]
  },
  {
   "cell_type": "code",
   "execution_count": 75,
   "metadata": {},
   "outputs": [],
   "source": [
    "groupname248 = '248'"
   ]
  },
  {
   "cell_type": "code",
   "execution_count": 76,
   "metadata": {},
   "outputs": [],
   "source": [
    "groupnameUnion = '247 и 248'"
   ]
  },
  {
   "cell_type": "markdown",
   "metadata": {},
   "source": [
    "Создадим функцию которая покажет количество пользователей совершивших действие, а так же долю от общего числа пользователей в группе. Так же функция будет выводить результат Z тестирования долей в группах:"
   ]
  },
  {
   "cell_type": "code",
   "execution_count": 77,
   "metadata": {},
   "outputs": [],
   "source": [
    "def test_func(data,group1,group2,group1_name,group2_name):\n",
    "    for index in data['event_name'].unique():\n",
    "        if index != 'Tutorial':\n",
    "            print(index)\n",
    "            user_first_group = group1['user_id'].nunique() \n",
    "            user_second_group = group2['user_id'].nunique() \n",
    "            print(f'В группе{group1_name} совершили событие:{group1[group1[\"event_name\"] == index][\"user_id\"].nunique()} пользователей')\n",
    "            print(f'В группе{group2_name} совершили событие:{group2[group2[\"event_name\"] == index][\"user_id\"].nunique()} пользователей')\n",
    "            print(f'В группе {group1_name} процент пользоватеоей:{(group1[group1[\"event_name\"] == index][\"user_id\"].nunique())/user_first_group *100}')\n",
    "            print(f'В группе {group2_name} процент пользоватеоей:{(group2[group2[\"event_name\"] == index][\"user_id\"].nunique())/user_second_group *100}')\n",
    "            print('')\n",
    "            z_test(group1[group1['event_name'] == index]['user_id'].nunique()\n",
    "               ,group2[group2['event_name'] == index]['user_id'].nunique()\n",
    "               ,group1['user_id'].nunique()\n",
    "               ,group2['user_id'].nunique()\n",
    "                  )\n",
    "            print('')"
   ]
  },
  {
   "cell_type": "markdown",
   "metadata": {},
   "source": [
    "Сформулируем гипотезы:   \n",
    "H0: Между группами 246 и 247 есть статистически значимые различия.  \n",
    "H1: Между группами 246 и 247 нет статистически значимых различий"
   ]
  },
  {
   "cell_type": "markdown",
   "metadata": {},
   "source": [
    "Вызовем функцию"
   ]
  },
  {
   "cell_type": "code",
   "execution_count": 78,
   "metadata": {},
   "outputs": [
    {
     "name": "stdout",
     "output_type": "stream",
     "text": [
      "MainScreenAppear\n",
      "В группе246 совершили событие:2450 пользователей\n",
      "В группе247 совершили событие:2479 пользователей\n",
      "В группе 246 процент пользоватеоей:98.63123993558777\n",
      "В группе 247 процент пользоватеоей:98.49026618990862\n",
      "\n",
      "p-значение:  0.6756217702005545\n",
      "Не получилось отвергнуть нулевую гипотезу, нет оснований считать что между группами есть разница\n",
      "\n",
      "OffersScreenAppear\n",
      "В группе246 совершили событие:1542 пользователей\n",
      "В группе247 совершили событие:1524 пользователей\n",
      "В группе 246 процент пользоватеоей:62.07729468599034\n",
      "В группе 247 процент пользоватеоей:60.54827175208581\n",
      "\n",
      "p-значение:  0.26698769175859516\n",
      "Не получилось отвергнуть нулевую гипотезу, нет оснований считать что между группами есть разница\n",
      "\n",
      "PaymentScreenSuccessful\n",
      "В группе246 совершили событие:1200 пользователей\n",
      "В группе247 совершили событие:1158 пользователей\n",
      "В группе 246 процент пользоватеоей:48.309178743961354\n",
      "В группе 247 процент пользоватеоей:46.00715137067938\n",
      "\n",
      "p-значение:  0.10298394982948822\n",
      "Не получилось отвергнуть нулевую гипотезу, нет оснований считать что между группами есть разница\n",
      "\n",
      "CartScreenAppear\n",
      "В группе246 совершили событие:1266 пользователей\n",
      "В группе247 совершили событие:1239 пользователей\n",
      "В группе 246 процент пользоватеоей:50.96618357487923\n",
      "В группе 247 процент пользоватеоей:49.225268176400476\n",
      "\n",
      "p-значение:  0.2182812140633792\n",
      "Не получилось отвергнуть нулевую гипотезу, нет оснований считать что между группами есть разница\n",
      "\n"
     ]
    }
   ],
   "source": [
    "test_func(data_new,group_246,group_247,groupname246,groupname247)"
   ]
  },
  {
   "cell_type": "markdown",
   "metadata": {},
   "source": [
    "Как мы видим между двумя контрольными группами группа 246 незначительно опережает группу 247,но  по всем событиям p - value значительно выше критического уровня статистической значимости. Между выборками нет статистически значимого различия"
   ]
  },
  {
   "cell_type": "markdown",
   "metadata": {},
   "source": [
    "### Проверим, находят ли статистические критерии разницу между выборками 246 и 248"
   ]
  },
  {
   "cell_type": "markdown",
   "metadata": {},
   "source": [
    "Сформулируем гипотезы:   \n",
    "H0: Между группами 246 и 248 есть статистически значимые различия.  \n",
    "H1: Между группами 246 и 248 нет статистически значимых различий"
   ]
  },
  {
   "cell_type": "code",
   "execution_count": 79,
   "metadata": {},
   "outputs": [
    {
     "name": "stdout",
     "output_type": "stream",
     "text": [
      "MainScreenAppear\n",
      "В группе246 совершили событие:2450 пользователей\n",
      "В группе248 совершили событие:2494 пользователей\n",
      "В группе 246 процент пользоватеоей:98.63123993558777\n",
      "В группе 248 процент пользоватеоей:98.30508474576271\n",
      "\n",
      "p-значение:  0.34705881021236484\n",
      "Не получилось отвергнуть нулевую гипотезу, нет оснований считать что между группами есть разница\n",
      "\n",
      "OffersScreenAppear\n",
      "В группе246 совершили событие:1542 пользователей\n",
      "В группе248 совершили событие:1531 пользователей\n",
      "В группе 246 процент пользоватеоей:62.07729468599034\n",
      "В группе 248 процент пользоватеоей:60.34686637761135\n",
      "\n",
      "p-значение:  0.20836205402738917\n",
      "Не получилось отвергнуть нулевую гипотезу, нет оснований считать что между группами есть разница\n",
      "\n",
      "PaymentScreenSuccessful\n",
      "В группе246 совершили событие:1200 пользователей\n",
      "В группе248 совершили событие:1182 пользователей\n",
      "В группе 246 процент пользоватеоей:48.309178743961354\n",
      "В группе 248 процент пользоватеоей:46.59046117461569\n",
      "\n",
      "p-значение:  0.22269358994682742\n",
      "Не получилось отвергнуть нулевую гипотезу, нет оснований считать что между группами есть разница\n",
      "\n",
      "CartScreenAppear\n",
      "В группе246 совершили событие:1266 пользователей\n",
      "В группе248 совершили событие:1231 пользователей\n",
      "В группе 246 процент пользоватеоей:50.96618357487923\n",
      "В группе 248 процент пользоватеоей:48.52187623176981\n",
      "\n",
      "p-значение:  0.08328412977507749\n",
      "Не получилось отвергнуть нулевую гипотезу, нет оснований считать что между группами есть разница\n",
      "\n"
     ]
    }
   ],
   "source": [
    "test_func(data_new,group_246,group_248,groupname246,groupname248)"
   ]
  },
  {
   "cell_type": "markdown",
   "metadata": {},
   "source": [
    "Как мы видим между контрольная группа 246 незначительно опережает группу  248 по всем событиям.P - value  выше критического уровня статистической значимости.\n",
    "Между выборками нет статистически значимого различия, изменение шрифтов не отразилось на пользователях."
   ]
  },
  {
   "cell_type": "markdown",
   "metadata": {},
   "source": [
    "### Проверим, находят ли статистические критерии разницу между выборками 247 и 248"
   ]
  },
  {
   "cell_type": "markdown",
   "metadata": {},
   "source": [
    "Сформулируем гипотезы:   \n",
    "H0: Между группами 247 и 248 есть статистически значимые различия.  \n",
    "H1: Между группами 247 и 248 нет статистически значимых различий"
   ]
  },
  {
   "cell_type": "code",
   "execution_count": 80,
   "metadata": {},
   "outputs": [
    {
     "name": "stdout",
     "output_type": "stream",
     "text": [
      "MainScreenAppear\n",
      "В группе247 совершили событие:2479 пользователей\n",
      "В группе248 совершили событие:2494 пользователей\n",
      "В группе 247 процент пользоватеоей:98.49026618990862\n",
      "В группе 248 процент пользоватеоей:98.30508474576271\n",
      "\n",
      "p-значение:  0.6001661582453706\n",
      "Не получилось отвергнуть нулевую гипотезу, нет оснований считать что между группами есть разница\n",
      "\n",
      "OffersScreenAppear\n",
      "В группе247 совершили событие:1524 пользователей\n",
      "В группе248 совершили событие:1531 пользователей\n",
      "В группе 247 процент пользоватеоей:60.54827175208581\n",
      "В группе 248 процент пользоватеоей:60.34686637761135\n",
      "\n",
      "p-значение:  0.8835956656016957\n",
      "Не получилось отвергнуть нулевую гипотезу, нет оснований считать что между группами есть разница\n",
      "\n",
      "PaymentScreenSuccessful\n",
      "В группе247 совершили событие:1158 пользователей\n",
      "В группе248 совершили событие:1182 пользователей\n",
      "В группе 247 процент пользоватеоей:46.00715137067938\n",
      "В группе 248 процент пользоватеоей:46.59046117461569\n",
      "\n",
      "p-значение:  0.6775413642906454\n",
      "Не получилось отвергнуть нулевую гипотезу, нет оснований считать что между группами есть разница\n",
      "\n",
      "CartScreenAppear\n",
      "В группе247 совершили событие:1239 пользователей\n",
      "В группе248 совершили событие:1231 пользователей\n",
      "В группе 247 процент пользоватеоей:49.225268176400476\n",
      "В группе 248 процент пользоватеоей:48.52187623176981\n",
      "\n",
      "p-значение:  0.6169517476996997\n",
      "Не получилось отвергнуть нулевую гипотезу, нет оснований считать что между группами есть разница\n",
      "\n"
     ]
    }
   ],
   "source": [
    "test_func(data_new,group_247,group_248,groupname247,groupname248)"
   ]
  },
  {
   "cell_type": "markdown",
   "metadata": {},
   "source": [
    "Как мы видим между двумя контрольными группами по всем событиям p - value значительно выше критического уровня статистической значимости. Между выборками нет статистически значимого различия, изменение шрифтов не отразилось на пользователях."
   ]
  },
  {
   "cell_type": "markdown",
   "metadata": {},
   "source": [
    "### Проверим, находят ли статистические критерии разницу между выборками 246+247  и 248"
   ]
  },
  {
   "cell_type": "markdown",
   "metadata": {},
   "source": [
    "Объединим группы 246 и 247 и сравним с группой 248"
   ]
  },
  {
   "cell_type": "markdown",
   "metadata": {},
   "source": [
    "Сформулируем гипотезы:   \n",
    "H0: Между обьедененной группой(246+247) и группой 248 есть статистически значимые различия.  \n",
    "H1: Между обьедененной группой(246+247)и группой 248 нет статистически значимых различий"
   ]
  },
  {
   "cell_type": "code",
   "execution_count": 81,
   "metadata": {},
   "outputs": [
    {
     "name": "stdout",
     "output_type": "stream",
     "text": [
      "MainScreenAppear\n",
      "В группе247 и 248 совершили событие:4929 пользователей\n",
      "В группе248 совершили событие:2494 пользователей\n",
      "В группе 247 и 248 процент пользоватеоей:98.56028794241152\n",
      "В группе 248 процент пользоватеоей:98.30508474576271\n",
      "\n",
      "p-значение:  0.39298914928006035\n",
      "Не получилось отвергнуть нулевую гипотезу, нет оснований считать что между группами есть разница\n",
      "\n",
      "OffersScreenAppear\n",
      "В группе247 и 248 совершили событие:3066 пользователей\n",
      "В группе248 совершили событие:1531 пользователей\n",
      "В группе 247 и 248 процент пользоватеоей:61.307738452309536\n",
      "В группе 248 процент пользоватеоей:60.34686637761135\n",
      "\n",
      "p-значение:  0.418998284007599\n",
      "Не получилось отвергнуть нулевую гипотезу, нет оснований считать что между группами есть разница\n",
      "\n",
      "PaymentScreenSuccessful\n",
      "В группе247 и 248 совершили событие:2358 пользователей\n",
      "В группе248 совершили событие:1182 пользователей\n",
      "В группе 247 и 248 процент пользоватеоей:47.150569886022794\n",
      "В группе 248 процент пользоватеоей:46.59046117461569\n",
      "\n",
      "p-значение:  0.6452057673098244\n",
      "Не получилось отвергнуть нулевую гипотезу, нет оснований считать что между группами есть разница\n",
      "\n",
      "CartScreenAppear\n",
      "В группе247 и 248 совершили событие:2505 пользователей\n",
      "В группе248 совершили событие:1231 пользователей\n",
      "В группе 247 и 248 процент пользоватеоей:50.089982003599275\n",
      "В группе 248 процент пользоватеоей:48.52187623176981\n",
      "\n",
      "p-значение:  0.19819340844527744\n",
      "Не получилось отвергнуть нулевую гипотезу, нет оснований считать что между группами есть разница\n",
      "\n"
     ]
    }
   ],
   "source": [
    "test_func(data_new,group_246_247,group_248,groupnameUnion,groupname248)"
   ]
  },
  {
   "cell_type": "markdown",
   "metadata": {},
   "source": [
    "Как мы видим между двумя контрольными группами по всем событиям p - value значительно выше критического уровня статистической значимости. Между выборками нет статистически значимого различия, изменение шрифтов не отразилось на пользователях."
   ]
  },
  {
   "cell_type": "markdown",
   "metadata": {},
   "source": [
    "# Вывод:"
   ]
  },
  {
   "cell_type": "markdown",
   "metadata": {},
   "source": [
    "- На входе мы получили датасет с логами событий пользователей.\n",
    "- На первом  шаге мы предобработали датасет для удобной работы с ним.\n",
    "\n",
    "- Далее мы исключили ненужные данные,  а именно  чуть более 1% событий и 0.23% пользователей до 1 августа 2019 года.\n",
    "\n",
    "Изучив логи мы увидели что:  \n",
    "- На гланый экран приложения пришли почти 7419 (98,5 % от всех пользователей) пользователей из них 4593 (61% от всех пользователей) человек перешли в раздел с предложениями, 3734 (49,5 % от всех пользователей) человек дошли до просмотра корзины с покупками, и до раздела оплаты дошло 3539 (47 % от всех пользователей)человек.\n",
    "\n",
    "- От первого события до оплаты доходит: 48 % пользователей. Больше всего пользователей (39%) отваливается на этапе перехода из главного меню в меню с предложениями. \n",
    "\n",
    "\n",
    "- При помощи  Z теста, мы сделали множественные сравнения контрольных и эксперементальной группы и выяснили что изменение шрифтов не отразилось и никак не повлияло на пользовательскую активность.\n",
    "\n",
    "\n"
   ]
  }
 ],
 "metadata": {
  "ExecuteTimeLog": [
   {
    "duration": 53,
    "start_time": "2023-03-13T08:12:47.624Z"
   },
   {
    "duration": 860,
    "start_time": "2023-03-13T08:13:45.518Z"
   },
   {
    "duration": 393,
    "start_time": "2023-03-13T08:13:48.522Z"
   },
   {
    "duration": 11,
    "start_time": "2023-03-13T08:14:26.050Z"
   },
   {
    "duration": 172,
    "start_time": "2023-03-13T08:14:54.944Z"
   },
   {
    "duration": 8,
    "start_time": "2023-03-13T08:14:55.632Z"
   },
   {
    "duration": 93,
    "start_time": "2023-03-13T08:15:35.410Z"
   },
   {
    "duration": 162,
    "start_time": "2023-03-13T08:15:41.345Z"
   },
   {
    "duration": 7,
    "start_time": "2023-03-13T08:15:42.710Z"
   },
   {
    "duration": 22,
    "start_time": "2023-03-13T08:15:51.855Z"
   },
   {
    "duration": 113,
    "start_time": "2023-03-13T08:23:08.059Z"
   },
   {
    "duration": 253,
    "start_time": "2023-03-13T08:23:50.334Z"
   },
   {
    "duration": 13,
    "start_time": "2023-03-13T08:24:18.559Z"
   },
   {
    "duration": 9,
    "start_time": "2023-03-13T08:26:26.331Z"
   },
   {
    "duration": 11,
    "start_time": "2023-03-13T08:28:02.578Z"
   },
   {
    "duration": 25,
    "start_time": "2023-03-13T08:28:43.055Z"
   },
   {
    "duration": 20,
    "start_time": "2023-03-13T08:29:36.235Z"
   },
   {
    "duration": 6,
    "start_time": "2023-03-13T08:30:32.884Z"
   },
   {
    "duration": 32,
    "start_time": "2023-03-13T08:30:33.739Z"
   },
   {
    "duration": 21,
    "start_time": "2023-03-13T08:30:55.027Z"
   },
   {
    "duration": 3,
    "start_time": "2023-03-13T08:31:07.058Z"
   },
   {
    "duration": 175,
    "start_time": "2023-03-13T08:31:07.381Z"
   },
   {
    "duration": 7,
    "start_time": "2023-03-13T08:31:07.714Z"
   },
   {
    "duration": 6,
    "start_time": "2023-03-13T08:31:08.229Z"
   },
   {
    "duration": 20,
    "start_time": "2023-03-13T08:31:08.569Z"
   },
   {
    "duration": 40,
    "start_time": "2023-03-13T08:31:45.664Z"
   },
   {
    "duration": 61,
    "start_time": "2023-03-13T08:31:58.630Z"
   },
   {
    "duration": 5,
    "start_time": "2023-03-13T08:32:07.560Z"
   },
   {
    "duration": 50,
    "start_time": "2023-03-13T08:32:21.280Z"
   },
   {
    "duration": 4,
    "start_time": "2023-03-13T08:32:36.750Z"
   },
   {
    "duration": 163,
    "start_time": "2023-03-13T08:32:37.120Z"
   },
   {
    "duration": 13,
    "start_time": "2023-03-13T08:32:37.469Z"
   },
   {
    "duration": 12,
    "start_time": "2023-03-13T08:32:38.001Z"
   },
   {
    "duration": 32,
    "start_time": "2023-03-13T08:32:38.519Z"
   },
   {
    "duration": 62,
    "start_time": "2023-03-13T08:32:38.839Z"
   },
   {
    "duration": 11,
    "start_time": "2023-03-13T08:32:45.246Z"
   },
   {
    "duration": 74,
    "start_time": "2023-03-13T08:34:01.881Z"
   },
   {
    "duration": 13,
    "start_time": "2023-03-13T08:34:35.242Z"
   },
   {
    "duration": 9,
    "start_time": "2023-03-13T08:34:36.354Z"
   },
   {
    "duration": 10,
    "start_time": "2023-03-13T08:34:40.166Z"
   },
   {
    "duration": 8,
    "start_time": "2023-03-13T08:34:40.579Z"
   },
   {
    "duration": 2,
    "start_time": "2023-03-13T08:34:44.227Z"
   },
   {
    "duration": 151,
    "start_time": "2023-03-13T08:34:44.558Z"
   },
   {
    "duration": 8,
    "start_time": "2023-03-13T08:34:44.870Z"
   },
   {
    "duration": 7,
    "start_time": "2023-03-13T08:34:45.379Z"
   },
   {
    "duration": 21,
    "start_time": "2023-03-13T08:34:45.696Z"
   },
   {
    "duration": 783,
    "start_time": "2023-03-13T08:34:46.035Z"
   },
   {
    "duration": 0,
    "start_time": "2023-03-13T08:34:46.820Z"
   },
   {
    "duration": 1052,
    "start_time": "2023-03-13T08:36:13.819Z"
   },
   {
    "duration": 0,
    "start_time": "2023-03-13T08:36:14.873Z"
   },
   {
    "duration": 41,
    "start_time": "2023-03-13T08:36:31.754Z"
   },
   {
    "duration": 9,
    "start_time": "2023-03-13T08:36:32.448Z"
   },
   {
    "duration": 6,
    "start_time": "2023-03-13T08:42:59.453Z"
   },
   {
    "duration": 6,
    "start_time": "2023-03-13T08:43:17.900Z"
   },
   {
    "duration": 9,
    "start_time": "2023-03-13T08:45:04.126Z"
   },
   {
    "duration": 7,
    "start_time": "2023-03-13T08:48:11.367Z"
   },
   {
    "duration": 9,
    "start_time": "2023-03-13T08:48:20.902Z"
   },
   {
    "duration": 3,
    "start_time": "2023-03-13T08:48:29.280Z"
   },
   {
    "duration": 105,
    "start_time": "2023-03-13T08:49:48.215Z"
   },
   {
    "duration": 8,
    "start_time": "2023-03-13T08:49:52.144Z"
   },
   {
    "duration": 9,
    "start_time": "2023-03-13T08:54:35.498Z"
   },
   {
    "duration": 11,
    "start_time": "2023-03-13T08:54:38.590Z"
   },
   {
    "duration": 3,
    "start_time": "2023-03-13T08:54:43.598Z"
   },
   {
    "duration": 168,
    "start_time": "2023-03-13T08:54:43.903Z"
   },
   {
    "duration": 8,
    "start_time": "2023-03-13T08:54:44.268Z"
   },
   {
    "duration": 6,
    "start_time": "2023-03-13T08:54:44.744Z"
   },
   {
    "duration": 20,
    "start_time": "2023-03-13T08:54:45.091Z"
   },
   {
    "duration": 8,
    "start_time": "2023-03-13T08:54:45.434Z"
   },
   {
    "duration": 8,
    "start_time": "2023-03-13T08:54:45.607Z"
   },
   {
    "duration": 10,
    "start_time": "2023-03-13T08:54:53.820Z"
   },
   {
    "duration": 16,
    "start_time": "2023-03-13T08:55:02.069Z"
   },
   {
    "duration": 8,
    "start_time": "2023-03-13T08:55:34.846Z"
   },
   {
    "duration": 7,
    "start_time": "2023-03-13T08:55:35.637Z"
   },
   {
    "duration": 3,
    "start_time": "2023-03-13T08:56:50.210Z"
   },
   {
    "duration": 10,
    "start_time": "2023-03-13T08:57:20.095Z"
   },
   {
    "duration": 3,
    "start_time": "2023-03-13T08:58:09.695Z"
   },
   {
    "duration": 2,
    "start_time": "2023-03-13T08:58:10.214Z"
   },
   {
    "duration": 12,
    "start_time": "2023-03-13T08:58:10.663Z"
   },
   {
    "duration": 11,
    "start_time": "2023-03-13T08:58:59.910Z"
   },
   {
    "duration": 10,
    "start_time": "2023-03-13T09:00:21.169Z"
   },
   {
    "duration": 10,
    "start_time": "2023-03-13T09:00:49.525Z"
   },
   {
    "duration": 11,
    "start_time": "2023-03-13T09:00:59.188Z"
   },
   {
    "duration": 4,
    "start_time": "2023-03-13T09:01:49.716Z"
   },
   {
    "duration": 9,
    "start_time": "2023-03-13T09:01:50.395Z"
   },
   {
    "duration": 8,
    "start_time": "2023-03-13T09:02:12.128Z"
   },
   {
    "duration": 8,
    "start_time": "2023-03-13T09:02:15.669Z"
   },
   {
    "duration": 4,
    "start_time": "2023-03-13T09:02:18.925Z"
   },
   {
    "duration": 8,
    "start_time": "2023-03-13T09:02:19.435Z"
   },
   {
    "duration": 9,
    "start_time": "2023-03-13T09:04:32.340Z"
   },
   {
    "duration": 5,
    "start_time": "2023-03-13T09:04:45.934Z"
   },
   {
    "duration": 22,
    "start_time": "2023-03-13T09:04:55.003Z"
   },
   {
    "duration": 3,
    "start_time": "2023-03-13T09:05:05.032Z"
   },
   {
    "duration": 162,
    "start_time": "2023-03-13T09:05:05.341Z"
   },
   {
    "duration": 8,
    "start_time": "2023-03-13T09:05:05.691Z"
   },
   {
    "duration": 7,
    "start_time": "2023-03-13T09:05:06.194Z"
   },
   {
    "duration": 21,
    "start_time": "2023-03-13T09:05:06.503Z"
   },
   {
    "duration": 7,
    "start_time": "2023-03-13T09:05:06.827Z"
   },
   {
    "duration": 21,
    "start_time": "2023-03-13T09:05:06.994Z"
   },
   {
    "duration": 9,
    "start_time": "2023-03-13T09:08:04.093Z"
   },
   {
    "duration": 61,
    "start_time": "2023-03-13T09:08:27.373Z"
   },
   {
    "duration": 10,
    "start_time": "2023-03-13T09:08:46.093Z"
   },
   {
    "duration": 7,
    "start_time": "2023-03-13T09:10:38.195Z"
   },
   {
    "duration": 8,
    "start_time": "2023-03-13T09:10:43.614Z"
   },
   {
    "duration": 14,
    "start_time": "2023-03-13T09:10:46.852Z"
   },
   {
    "duration": 4,
    "start_time": "2023-03-13T09:11:09.071Z"
   },
   {
    "duration": 183,
    "start_time": "2023-03-13T09:11:09.395Z"
   },
   {
    "duration": 11,
    "start_time": "2023-03-13T09:11:09.748Z"
   },
   {
    "duration": 7,
    "start_time": "2023-03-13T09:11:10.250Z"
   },
   {
    "duration": 21,
    "start_time": "2023-03-13T09:11:10.565Z"
   },
   {
    "duration": 8,
    "start_time": "2023-03-13T09:11:10.895Z"
   },
   {
    "duration": 19,
    "start_time": "2023-03-13T09:11:11.049Z"
   },
   {
    "duration": 10,
    "start_time": "2023-03-13T09:11:11.226Z"
   },
   {
    "duration": 117,
    "start_time": "2023-03-13T09:11:26.995Z"
   },
   {
    "duration": 21,
    "start_time": "2023-03-13T09:11:38.920Z"
   },
   {
    "duration": 3,
    "start_time": "2023-03-13T09:11:50.142Z"
   },
   {
    "duration": 2,
    "start_time": "2023-03-13T09:11:52.868Z"
   },
   {
    "duration": 157,
    "start_time": "2023-03-13T09:11:53.191Z"
   },
   {
    "duration": 9,
    "start_time": "2023-03-13T09:11:53.518Z"
   },
   {
    "duration": 7,
    "start_time": "2023-03-13T09:11:54.009Z"
   },
   {
    "duration": 21,
    "start_time": "2023-03-13T09:11:54.355Z"
   },
   {
    "duration": 8,
    "start_time": "2023-03-13T09:11:54.694Z"
   },
   {
    "duration": 23,
    "start_time": "2023-03-13T09:11:54.887Z"
   },
   {
    "duration": 126,
    "start_time": "2023-03-13T09:11:55.054Z"
   },
   {
    "duration": 20,
    "start_time": "2023-03-13T09:11:55.213Z"
   },
   {
    "duration": 7,
    "start_time": "2023-03-13T09:12:03.255Z"
   },
   {
    "duration": 1059,
    "start_time": "2023-03-13T09:14:37.506Z"
   },
   {
    "duration": 0,
    "start_time": "2023-03-13T09:14:38.566Z"
   },
   {
    "duration": 3,
    "start_time": "2023-03-13T09:14:53.826Z"
   },
   {
    "duration": 165,
    "start_time": "2023-03-13T09:14:54.141Z"
   },
   {
    "duration": 11,
    "start_time": "2023-03-13T09:14:54.508Z"
   },
   {
    "duration": 8,
    "start_time": "2023-03-13T09:14:55.021Z"
   },
   {
    "duration": 29,
    "start_time": "2023-03-13T09:14:55.378Z"
   },
   {
    "duration": 125,
    "start_time": "2023-03-13T09:14:55.724Z"
   },
   {
    "duration": 9,
    "start_time": "2023-03-13T09:14:55.908Z"
   },
   {
    "duration": 9,
    "start_time": "2023-03-13T09:19:02.770Z"
   },
   {
    "duration": 18,
    "start_time": "2023-03-13T09:19:11.466Z"
   },
   {
    "duration": 10,
    "start_time": "2023-03-13T09:19:19.411Z"
   },
   {
    "duration": 11,
    "start_time": "2023-03-13T09:19:49.350Z"
   },
   {
    "duration": 9,
    "start_time": "2023-03-13T09:19:49.975Z"
   },
   {
    "duration": 2,
    "start_time": "2023-03-13T09:19:57.007Z"
   },
   {
    "duration": 164,
    "start_time": "2023-03-13T09:19:57.321Z"
   },
   {
    "duration": 7,
    "start_time": "2023-03-13T09:19:57.629Z"
   },
   {
    "duration": 6,
    "start_time": "2023-03-13T09:19:58.092Z"
   },
   {
    "duration": 20,
    "start_time": "2023-03-13T09:19:58.434Z"
   },
   {
    "duration": 126,
    "start_time": "2023-03-13T09:19:58.766Z"
   },
   {
    "duration": 9,
    "start_time": "2023-03-13T09:19:58.957Z"
   },
   {
    "duration": 12,
    "start_time": "2023-03-13T09:19:59.339Z"
   },
   {
    "duration": 9,
    "start_time": "2023-03-13T09:19:59.512Z"
   },
   {
    "duration": 48,
    "start_time": "2023-03-13T09:22:53.918Z"
   },
   {
    "duration": 3,
    "start_time": "2023-03-13T09:23:03.190Z"
   },
   {
    "duration": 217,
    "start_time": "2023-03-13T09:23:03.492Z"
   },
   {
    "duration": 8,
    "start_time": "2023-03-13T09:23:03.814Z"
   },
   {
    "duration": 6,
    "start_time": "2023-03-13T09:23:04.291Z"
   },
   {
    "duration": 20,
    "start_time": "2023-03-13T09:23:04.607Z"
   },
   {
    "duration": 175,
    "start_time": "2023-03-13T09:23:04.933Z"
   },
   {
    "duration": 9,
    "start_time": "2023-03-13T09:23:05.110Z"
   },
   {
    "duration": 39,
    "start_time": "2023-03-13T09:23:05.457Z"
   },
   {
    "duration": 16,
    "start_time": "2023-03-13T09:23:12.257Z"
   },
   {
    "duration": 6,
    "start_time": "2023-03-13T09:23:32.288Z"
   },
   {
    "duration": 5,
    "start_time": "2023-03-13T09:23:49.367Z"
   },
   {
    "duration": 23,
    "start_time": "2023-03-13T09:24:09.313Z"
   },
   {
    "duration": 8,
    "start_time": "2023-03-13T09:24:39.227Z"
   },
   {
    "duration": 9,
    "start_time": "2023-03-13T09:24:53.924Z"
   },
   {
    "duration": 15,
    "start_time": "2023-03-13T09:26:35.977Z"
   },
   {
    "duration": 35,
    "start_time": "2023-03-13T09:26:37.423Z"
   },
   {
    "duration": 20,
    "start_time": "2023-03-13T09:26:46.177Z"
   },
   {
    "duration": 9,
    "start_time": "2023-03-13T09:26:52.094Z"
   },
   {
    "duration": 11,
    "start_time": "2023-03-13T09:28:34.315Z"
   },
   {
    "duration": 8,
    "start_time": "2023-03-13T09:28:35.120Z"
   },
   {
    "duration": 12,
    "start_time": "2023-03-13T09:28:45.801Z"
   },
   {
    "duration": 9,
    "start_time": "2023-03-13T09:28:46.373Z"
   },
   {
    "duration": 27,
    "start_time": "2023-03-13T09:30:47.604Z"
   },
   {
    "duration": 9,
    "start_time": "2023-03-13T09:30:48.420Z"
   },
   {
    "duration": 13,
    "start_time": "2023-03-13T10:34:44.036Z"
   },
   {
    "duration": 6256,
    "start_time": "2023-03-13T10:34:56.448Z"
   },
   {
    "duration": 6035,
    "start_time": "2023-03-13T10:35:42.907Z"
   },
   {
    "duration": 5851,
    "start_time": "2023-03-13T10:36:06.056Z"
   },
   {
    "duration": 5623,
    "start_time": "2023-03-13T10:36:18.631Z"
   },
   {
    "duration": 9,
    "start_time": "2023-03-13T10:37:07.667Z"
   },
   {
    "duration": 5795,
    "start_time": "2023-03-13T10:37:21.932Z"
   },
   {
    "duration": 5675,
    "start_time": "2023-03-13T10:37:46.015Z"
   },
   {
    "duration": 1309,
    "start_time": "2023-03-13T10:37:54.051Z"
   },
   {
    "duration": 6,
    "start_time": "2023-03-13T10:38:09.383Z"
   },
   {
    "duration": 6,
    "start_time": "2023-03-13T10:38:15.103Z"
   },
   {
    "duration": 85,
    "start_time": "2023-03-13T10:38:46.198Z"
   },
   {
    "duration": 5976,
    "start_time": "2023-03-13T10:40:10.177Z"
   },
   {
    "duration": 14,
    "start_time": "2023-03-13T10:40:16.155Z"
   },
   {
    "duration": 10,
    "start_time": "2023-03-13T10:40:57.204Z"
   },
   {
    "duration": 17,
    "start_time": "2023-03-13T10:41:34.824Z"
   },
   {
    "duration": 5768,
    "start_time": "2023-03-13T10:44:23.200Z"
   },
   {
    "duration": 5761,
    "start_time": "2023-03-13T10:45:13.798Z"
   },
   {
    "duration": 9,
    "start_time": "2023-03-13T10:45:24.196Z"
   },
   {
    "duration": 14,
    "start_time": "2023-03-13T10:46:35.830Z"
   },
   {
    "duration": 13,
    "start_time": "2023-03-13T10:46:51.902Z"
   },
   {
    "duration": 5783,
    "start_time": "2023-03-13T10:47:35.647Z"
   },
   {
    "duration": 9,
    "start_time": "2023-03-13T10:47:41.432Z"
   },
   {
    "duration": 8,
    "start_time": "2023-03-13T10:47:42.835Z"
   },
   {
    "duration": 10,
    "start_time": "2023-03-13T10:47:48.899Z"
   },
   {
    "duration": 11,
    "start_time": "2023-03-13T10:47:58.975Z"
   },
   {
    "duration": 4,
    "start_time": "2023-03-13T10:48:51.901Z"
   },
   {
    "duration": 5907,
    "start_time": "2023-03-13T10:49:08.747Z"
   },
   {
    "duration": 5825,
    "start_time": "2023-03-13T10:49:54.990Z"
   },
   {
    "duration": 6105,
    "start_time": "2023-03-13T10:52:46.183Z"
   },
   {
    "duration": 5901,
    "start_time": "2023-03-13T10:54:03.564Z"
   },
   {
    "duration": 5793,
    "start_time": "2023-03-13T10:54:52.190Z"
   },
   {
    "duration": 5801,
    "start_time": "2023-03-13T10:55:47.719Z"
   },
   {
    "duration": 5607,
    "start_time": "2023-03-13T10:55:56.815Z"
   },
   {
    "duration": 21,
    "start_time": "2023-03-13T10:56:05.023Z"
   },
   {
    "duration": 5832,
    "start_time": "2023-03-13T10:56:36.172Z"
   },
   {
    "duration": 20,
    "start_time": "2023-03-13T10:57:16.157Z"
   },
   {
    "duration": 5766,
    "start_time": "2023-03-13T10:57:16.664Z"
   },
   {
    "duration": 17,
    "start_time": "2023-03-13T10:59:49.346Z"
   },
   {
    "duration": 19,
    "start_time": "2023-03-13T10:59:58.110Z"
   },
   {
    "duration": 21,
    "start_time": "2023-03-13T11:00:05.118Z"
   },
   {
    "duration": 14,
    "start_time": "2023-03-13T11:00:18.941Z"
   },
   {
    "duration": 76,
    "start_time": "2023-03-13T11:01:09.023Z"
   },
   {
    "duration": 77,
    "start_time": "2023-03-13T11:01:58.805Z"
   },
   {
    "duration": 97,
    "start_time": "2023-03-13T11:02:32.079Z"
   },
   {
    "duration": 13,
    "start_time": "2023-03-13T11:02:40.743Z"
   },
   {
    "duration": 3,
    "start_time": "2023-03-13T11:02:51.560Z"
   },
   {
    "duration": 13,
    "start_time": "2023-03-13T11:03:01.202Z"
   },
   {
    "duration": 14,
    "start_time": "2023-03-13T11:03:06.602Z"
   },
   {
    "duration": 13,
    "start_time": "2023-03-13T11:03:30.085Z"
   },
   {
    "duration": 67,
    "start_time": "2023-03-13T11:03:56.295Z"
   },
   {
    "duration": 7,
    "start_time": "2023-03-13T11:04:10.921Z"
   },
   {
    "duration": 90,
    "start_time": "2023-03-13T11:04:39.978Z"
   },
   {
    "duration": 118,
    "start_time": "2023-03-13T11:04:45.930Z"
   },
   {
    "duration": 16,
    "start_time": "2023-03-13T11:04:57.847Z"
   },
   {
    "duration": 12,
    "start_time": "2023-03-13T11:05:14.409Z"
   },
   {
    "duration": 10,
    "start_time": "2023-03-13T11:05:51.058Z"
   },
   {
    "duration": 5,
    "start_time": "2023-03-13T11:06:02.929Z"
   },
   {
    "duration": 10,
    "start_time": "2023-03-13T11:06:23.293Z"
   },
   {
    "duration": 5,
    "start_time": "2023-03-13T11:06:43.793Z"
   },
   {
    "duration": 4,
    "start_time": "2023-03-13T11:06:47.892Z"
   },
   {
    "duration": 3,
    "start_time": "2023-03-13T11:07:11.979Z"
   },
   {
    "duration": 4,
    "start_time": "2023-03-13T11:07:12.638Z"
   },
   {
    "duration": 7,
    "start_time": "2023-03-13T11:07:18.693Z"
   },
   {
    "duration": 3,
    "start_time": "2023-03-13T11:07:20.329Z"
   },
   {
    "duration": 5,
    "start_time": "2023-03-13T11:07:49.279Z"
   },
   {
    "duration": 4,
    "start_time": "2023-03-13T11:07:51.841Z"
   },
   {
    "duration": 8,
    "start_time": "2023-03-13T11:08:07.363Z"
   },
   {
    "duration": 4,
    "start_time": "2023-03-13T11:08:56.451Z"
   },
   {
    "duration": 9,
    "start_time": "2023-03-13T11:08:58.543Z"
   },
   {
    "duration": 5,
    "start_time": "2023-03-13T11:08:58.963Z"
   },
   {
    "duration": 4,
    "start_time": "2023-03-13T11:09:30.542Z"
   },
   {
    "duration": 3,
    "start_time": "2023-03-13T11:26:36.847Z"
   },
   {
    "duration": 4,
    "start_time": "2023-03-13T11:27:08.675Z"
   },
   {
    "duration": 4,
    "start_time": "2023-03-13T11:27:20.254Z"
   },
   {
    "duration": 99,
    "start_time": "2023-03-13T11:30:32.065Z"
   },
   {
    "duration": 78,
    "start_time": "2023-03-13T11:30:41.202Z"
   },
   {
    "duration": 4,
    "start_time": "2023-03-13T11:36:01.233Z"
   },
   {
    "duration": 5,
    "start_time": "2023-03-13T11:37:09.590Z"
   },
   {
    "duration": 458,
    "start_time": "2023-03-13T11:39:47.454Z"
   },
   {
    "duration": 65,
    "start_time": "2023-03-13T11:40:48.424Z"
   },
   {
    "duration": 1138,
    "start_time": "2023-03-13T11:40:53.327Z"
   },
   {
    "duration": 899,
    "start_time": "2023-03-13T11:41:18.533Z"
   },
   {
    "duration": 985,
    "start_time": "2023-03-13T11:41:54.222Z"
   },
   {
    "duration": 1068,
    "start_time": "2023-03-13T11:41:59.268Z"
   },
   {
    "duration": 1161,
    "start_time": "2023-03-13T11:43:06.342Z"
   },
   {
    "duration": 1093,
    "start_time": "2023-03-13T11:43:32.398Z"
   },
   {
    "duration": 4192,
    "start_time": "2023-03-13T11:44:53.267Z"
   },
   {
    "duration": 4086,
    "start_time": "2023-03-13T11:45:08.659Z"
   },
   {
    "duration": 1131,
    "start_time": "2023-03-13T11:45:38.054Z"
   },
   {
    "duration": 1171,
    "start_time": "2023-03-13T11:45:53.218Z"
   },
   {
    "duration": 1079,
    "start_time": "2023-03-13T11:46:01.660Z"
   },
   {
    "duration": 1181,
    "start_time": "2023-03-13T11:47:00.175Z"
   },
   {
    "duration": 1189,
    "start_time": "2023-03-13T11:47:11.974Z"
   },
   {
    "duration": 1165,
    "start_time": "2023-03-13T11:48:12.598Z"
   },
   {
    "duration": 1121,
    "start_time": "2023-03-13T11:48:20.516Z"
   },
   {
    "duration": 1157,
    "start_time": "2023-03-13T11:48:50.977Z"
   },
   {
    "duration": 1213,
    "start_time": "2023-03-13T11:49:25.167Z"
   },
   {
    "duration": 1210,
    "start_time": "2023-03-13T11:49:53.836Z"
   },
   {
    "duration": 1153,
    "start_time": "2023-03-13T11:50:02.647Z"
   },
   {
    "duration": 14,
    "start_time": "2023-03-13T11:50:22.099Z"
   },
   {
    "duration": 1264,
    "start_time": "2023-03-13T11:50:31.573Z"
   },
   {
    "duration": 1187,
    "start_time": "2023-03-13T11:50:42.438Z"
   },
   {
    "duration": 1137,
    "start_time": "2023-03-13T11:50:51.522Z"
   },
   {
    "duration": 32,
    "start_time": "2023-03-13T11:51:13.788Z"
   },
   {
    "duration": 1181,
    "start_time": "2023-03-13T11:52:01.898Z"
   },
   {
    "duration": 1341,
    "start_time": "2023-03-13T11:53:16.273Z"
   },
   {
    "duration": 11,
    "start_time": "2023-03-13T11:54:14.113Z"
   },
   {
    "duration": 124,
    "start_time": "2023-03-13T11:54:40.662Z"
   },
   {
    "duration": 179,
    "start_time": "2023-03-13T11:54:47.293Z"
   },
   {
    "duration": 273,
    "start_time": "2023-03-13T11:55:01.241Z"
   },
   {
    "duration": 321,
    "start_time": "2023-03-13T11:55:05.231Z"
   },
   {
    "duration": 1271,
    "start_time": "2023-03-13T11:55:29.662Z"
   },
   {
    "duration": 1090,
    "start_time": "2023-03-13T11:55:35.930Z"
   },
   {
    "duration": 1254,
    "start_time": "2023-03-13T11:55:41.719Z"
   },
   {
    "duration": 1363,
    "start_time": "2023-03-13T11:56:45.259Z"
   },
   {
    "duration": 1205,
    "start_time": "2023-03-13T11:57:07.358Z"
   },
   {
    "duration": 970,
    "start_time": "2023-03-13T11:58:00.649Z"
   },
   {
    "duration": 947,
    "start_time": "2023-03-13T11:58:12.699Z"
   },
   {
    "duration": 1175,
    "start_time": "2023-03-13T11:58:22.679Z"
   },
   {
    "duration": 1197,
    "start_time": "2023-03-13T11:58:37.577Z"
   },
   {
    "duration": 1136,
    "start_time": "2023-03-13T11:58:47.662Z"
   },
   {
    "duration": 6,
    "start_time": "2023-03-13T12:48:30.675Z"
   },
   {
    "duration": 18,
    "start_time": "2023-03-13T12:48:36.821Z"
   },
   {
    "duration": 7,
    "start_time": "2023-03-13T12:48:42.979Z"
   },
   {
    "duration": 6,
    "start_time": "2023-03-13T12:48:56.444Z"
   },
   {
    "duration": 9,
    "start_time": "2023-03-13T12:48:57.146Z"
   },
   {
    "duration": 9,
    "start_time": "2023-03-13T12:49:14.189Z"
   },
   {
    "duration": 7,
    "start_time": "2023-03-13T12:49:26.770Z"
   },
   {
    "duration": 7,
    "start_time": "2023-03-13T12:49:27.207Z"
   },
   {
    "duration": 6,
    "start_time": "2023-03-13T12:50:58.274Z"
   },
   {
    "duration": 7,
    "start_time": "2023-03-13T12:51:14.813Z"
   },
   {
    "duration": 9,
    "start_time": "2023-03-13T12:51:15.346Z"
   },
   {
    "duration": 8,
    "start_time": "2023-03-13T12:51:46.075Z"
   },
   {
    "duration": 9,
    "start_time": "2023-03-13T12:52:01.041Z"
   },
   {
    "duration": 8,
    "start_time": "2023-03-13T12:52:20.324Z"
   },
   {
    "duration": 16,
    "start_time": "2023-03-13T12:52:31.485Z"
   },
   {
    "duration": 9,
    "start_time": "2023-03-13T12:54:40.322Z"
   },
   {
    "duration": 11,
    "start_time": "2023-03-13T12:55:06.718Z"
   },
   {
    "duration": 7,
    "start_time": "2023-03-13T12:55:19.867Z"
   },
   {
    "duration": 5,
    "start_time": "2023-03-13T12:55:35.127Z"
   },
   {
    "duration": 3,
    "start_time": "2023-03-13T12:55:53.138Z"
   },
   {
    "duration": 3,
    "start_time": "2023-03-13T12:55:53.818Z"
   },
   {
    "duration": 114,
    "start_time": "2023-03-13T12:56:18.122Z"
   },
   {
    "duration": 6,
    "start_time": "2023-03-13T12:56:31.690Z"
   },
   {
    "duration": 126,
    "start_time": "2023-03-13T12:56:32.061Z"
   },
   {
    "duration": 13,
    "start_time": "2023-03-13T12:57:21.934Z"
   },
   {
    "duration": 4,
    "start_time": "2023-03-13T12:57:40.557Z"
   },
   {
    "duration": 6,
    "start_time": "2023-03-13T12:59:11.823Z"
   },
   {
    "duration": 73,
    "start_time": "2023-03-13T13:02:23.013Z"
   },
   {
    "duration": 117,
    "start_time": "2023-03-13T13:02:41.498Z"
   },
   {
    "duration": 42,
    "start_time": "2023-03-13T13:02:47.734Z"
   },
   {
    "duration": 87,
    "start_time": "2023-03-13T13:02:52.062Z"
   },
   {
    "duration": 67,
    "start_time": "2023-03-13T13:02:56.415Z"
   },
   {
    "duration": 43,
    "start_time": "2023-03-13T13:03:14.102Z"
   },
   {
    "duration": 42,
    "start_time": "2023-03-13T13:03:19.409Z"
   },
   {
    "duration": 16,
    "start_time": "2023-03-13T13:03:56.759Z"
   },
   {
    "duration": 4,
    "start_time": "2023-03-13T13:04:16.458Z"
   },
   {
    "duration": 12,
    "start_time": "2023-03-13T13:04:17.135Z"
   },
   {
    "duration": 1426,
    "start_time": "2023-03-13T13:04:39.119Z"
   },
   {
    "duration": 5,
    "start_time": "2023-03-13T13:04:51.610Z"
   },
   {
    "duration": 4,
    "start_time": "2023-03-13T13:05:04.412Z"
   },
   {
    "duration": 18,
    "start_time": "2023-03-13T13:05:22.673Z"
   },
   {
    "duration": 16,
    "start_time": "2023-03-13T13:05:29.898Z"
   },
   {
    "duration": 1269,
    "start_time": "2023-03-13T15:40:19.615Z"
   },
   {
    "duration": 265,
    "start_time": "2023-03-13T15:40:20.886Z"
   },
   {
    "duration": 11,
    "start_time": "2023-03-13T15:40:21.153Z"
   },
   {
    "duration": 9,
    "start_time": "2023-03-13T15:40:21.166Z"
   },
   {
    "duration": 21,
    "start_time": "2023-03-13T15:40:21.177Z"
   },
   {
    "duration": 146,
    "start_time": "2023-03-13T15:40:21.199Z"
   },
   {
    "duration": 8,
    "start_time": "2023-03-13T15:40:21.347Z"
   },
   {
    "duration": 29,
    "start_time": "2023-03-13T15:40:21.357Z"
   },
   {
    "duration": 10,
    "start_time": "2023-03-13T15:40:21.388Z"
   },
   {
    "duration": 6118,
    "start_time": "2023-03-13T15:40:21.399Z"
   },
   {
    "duration": 5829,
    "start_time": "2023-03-13T15:40:27.519Z"
   },
   {
    "duration": 15,
    "start_time": "2023-03-13T15:40:33.350Z"
   },
   {
    "duration": 14,
    "start_time": "2023-03-13T15:40:33.367Z"
   },
   {
    "duration": 6114,
    "start_time": "2023-03-13T15:40:33.384Z"
   },
   {
    "duration": 5973,
    "start_time": "2023-03-13T15:40:39.500Z"
   },
   {
    "duration": 21,
    "start_time": "2023-03-13T15:40:45.475Z"
   },
   {
    "duration": 6467,
    "start_time": "2023-03-13T15:40:45.498Z"
   },
   {
    "duration": 12,
    "start_time": "2023-03-13T15:40:51.966Z"
   },
   {
    "duration": 15,
    "start_time": "2023-03-13T15:40:51.980Z"
   },
   {
    "duration": 11,
    "start_time": "2023-03-13T15:40:51.997Z"
   },
   {
    "duration": 106,
    "start_time": "2023-03-13T15:40:52.010Z"
   },
   {
    "duration": 0,
    "start_time": "2023-03-13T15:40:52.119Z"
   },
   {
    "duration": 0,
    "start_time": "2023-03-13T15:40:52.120Z"
   },
   {
    "duration": 0,
    "start_time": "2023-03-13T15:40:52.121Z"
   },
   {
    "duration": 0,
    "start_time": "2023-03-13T15:40:52.123Z"
   },
   {
    "duration": 0,
    "start_time": "2023-03-13T15:40:52.124Z"
   },
   {
    "duration": 0,
    "start_time": "2023-03-13T15:40:52.126Z"
   },
   {
    "duration": 0,
    "start_time": "2023-03-13T15:40:52.127Z"
   },
   {
    "duration": 0,
    "start_time": "2023-03-13T15:40:52.129Z"
   },
   {
    "duration": 0,
    "start_time": "2023-03-13T15:40:52.130Z"
   },
   {
    "duration": 0,
    "start_time": "2023-03-13T15:40:52.131Z"
   },
   {
    "duration": 0,
    "start_time": "2023-03-13T15:40:52.158Z"
   },
   {
    "duration": 0,
    "start_time": "2023-03-13T15:40:52.160Z"
   },
   {
    "duration": 0,
    "start_time": "2023-03-13T15:40:52.161Z"
   },
   {
    "duration": 1104,
    "start_time": "2023-03-13T15:41:02.271Z"
   },
   {
    "duration": 162,
    "start_time": "2023-03-13T15:41:03.377Z"
   },
   {
    "duration": 11,
    "start_time": "2023-03-13T15:41:03.540Z"
   },
   {
    "duration": 11,
    "start_time": "2023-03-13T15:41:03.556Z"
   },
   {
    "duration": 21,
    "start_time": "2023-03-13T15:41:03.568Z"
   },
   {
    "duration": 134,
    "start_time": "2023-03-13T15:41:03.590Z"
   },
   {
    "duration": 9,
    "start_time": "2023-03-13T15:41:03.725Z"
   },
   {
    "duration": 38,
    "start_time": "2023-03-13T15:41:03.735Z"
   },
   {
    "duration": 14,
    "start_time": "2023-03-13T15:41:03.775Z"
   },
   {
    "duration": 6133,
    "start_time": "2023-03-13T15:41:03.791Z"
   },
   {
    "duration": 5977,
    "start_time": "2023-03-13T15:41:09.925Z"
   },
   {
    "duration": 13,
    "start_time": "2023-03-13T15:41:15.904Z"
   },
   {
    "duration": 27,
    "start_time": "2023-03-13T15:41:15.918Z"
   },
   {
    "duration": 6191,
    "start_time": "2023-03-13T15:41:15.947Z"
   },
   {
    "duration": 5931,
    "start_time": "2023-03-13T15:41:22.140Z"
   },
   {
    "duration": 21,
    "start_time": "2023-03-13T15:41:28.073Z"
   },
   {
    "duration": 5932,
    "start_time": "2023-03-13T15:41:28.095Z"
   },
   {
    "duration": 12,
    "start_time": "2023-03-13T15:41:34.029Z"
   },
   {
    "duration": 18,
    "start_time": "2023-03-13T15:41:34.043Z"
   },
   {
    "duration": 4,
    "start_time": "2023-03-13T15:41:34.062Z"
   },
   {
    "duration": 113,
    "start_time": "2023-03-13T15:41:34.067Z"
   },
   {
    "duration": 0,
    "start_time": "2023-03-13T15:41:34.182Z"
   },
   {
    "duration": 0,
    "start_time": "2023-03-13T15:41:34.183Z"
   },
   {
    "duration": 0,
    "start_time": "2023-03-13T15:41:34.184Z"
   },
   {
    "duration": 0,
    "start_time": "2023-03-13T15:41:34.186Z"
   },
   {
    "duration": 0,
    "start_time": "2023-03-13T15:41:34.187Z"
   },
   {
    "duration": 0,
    "start_time": "2023-03-13T15:41:34.188Z"
   },
   {
    "duration": 0,
    "start_time": "2023-03-13T15:41:34.190Z"
   },
   {
    "duration": 0,
    "start_time": "2023-03-13T15:41:34.191Z"
   },
   {
    "duration": 2,
    "start_time": "2023-03-13T15:41:45.091Z"
   },
   {
    "duration": 196,
    "start_time": "2023-03-13T15:41:45.464Z"
   },
   {
    "duration": 8,
    "start_time": "2023-03-13T15:41:46.674Z"
   },
   {
    "duration": 5,
    "start_time": "2023-03-13T15:41:50.889Z"
   },
   {
    "duration": 21,
    "start_time": "2023-03-13T15:41:51.717Z"
   },
   {
    "duration": 127,
    "start_time": "2023-03-13T15:41:54.173Z"
   },
   {
    "duration": 8,
    "start_time": "2023-03-13T15:41:54.317Z"
   },
   {
    "duration": 28,
    "start_time": "2023-03-13T15:41:54.665Z"
   },
   {
    "duration": 9,
    "start_time": "2023-03-13T15:41:54.826Z"
   },
   {
    "duration": 6020,
    "start_time": "2023-03-13T15:41:55.322Z"
   },
   {
    "duration": 6070,
    "start_time": "2023-03-13T15:42:01.344Z"
   },
   {
    "duration": 9,
    "start_time": "2023-03-13T15:42:07.415Z"
   },
   {
    "duration": 11,
    "start_time": "2023-03-13T15:42:13.366Z"
   },
   {
    "duration": 6083,
    "start_time": "2023-03-13T15:42:13.379Z"
   },
   {
    "duration": 6034,
    "start_time": "2023-03-13T15:42:19.464Z"
   },
   {
    "duration": 26,
    "start_time": "2023-03-13T15:42:25.500Z"
   },
   {
    "duration": 5901,
    "start_time": "2023-03-13T15:42:28.523Z"
   },
   {
    "duration": 14,
    "start_time": "2023-03-13T15:42:37.726Z"
   },
   {
    "duration": 7,
    "start_time": "2023-03-13T15:42:38.993Z"
   },
   {
    "duration": 7,
    "start_time": "2023-03-13T15:43:01.902Z"
   },
   {
    "duration": 7,
    "start_time": "2023-03-13T15:43:14.648Z"
   },
   {
    "duration": 3,
    "start_time": "2023-03-13T15:43:17.013Z"
   },
   {
    "duration": 4,
    "start_time": "2023-03-13T15:43:18.452Z"
   },
   {
    "duration": 5,
    "start_time": "2023-03-13T15:43:18.870Z"
   },
   {
    "duration": 1162,
    "start_time": "2023-03-13T15:43:20.488Z"
   },
   {
    "duration": 6,
    "start_time": "2023-03-13T15:43:39.785Z"
   },
   {
    "duration": 14,
    "start_time": "2023-03-13T15:43:52.390Z"
   },
   {
    "duration": 18,
    "start_time": "2023-03-13T15:43:54.447Z"
   },
   {
    "duration": 23,
    "start_time": "2023-03-13T15:44:26.766Z"
   },
   {
    "duration": 4,
    "start_time": "2023-03-13T15:48:58.359Z"
   },
   {
    "duration": 4,
    "start_time": "2023-03-13T15:49:11.937Z"
   },
   {
    "duration": 16,
    "start_time": "2023-03-13T15:49:22.492Z"
   },
   {
    "duration": 7,
    "start_time": "2023-03-13T15:49:31.457Z"
   },
   {
    "duration": 4,
    "start_time": "2023-03-13T15:50:25.604Z"
   },
   {
    "duration": 4,
    "start_time": "2023-03-13T15:50:40.809Z"
   },
   {
    "duration": 3,
    "start_time": "2023-03-13T15:51:02.023Z"
   },
   {
    "duration": 8,
    "start_time": "2023-03-13T15:53:45.965Z"
   },
   {
    "duration": 7,
    "start_time": "2023-03-13T15:54:07.444Z"
   },
   {
    "duration": 112,
    "start_time": "2023-03-13T15:55:11.280Z"
   },
   {
    "duration": 3,
    "start_time": "2023-03-13T15:55:20.382Z"
   },
   {
    "duration": 4,
    "start_time": "2023-03-13T15:56:50.552Z"
   },
   {
    "duration": 5,
    "start_time": "2023-03-13T15:57:27.401Z"
   },
   {
    "duration": 8,
    "start_time": "2023-03-13T15:57:38.942Z"
   },
   {
    "duration": 4,
    "start_time": "2023-03-13T15:57:49.365Z"
   },
   {
    "duration": 69,
    "start_time": "2023-03-13T15:59:15.066Z"
   },
   {
    "duration": 73,
    "start_time": "2023-03-13T15:59:19.394Z"
   },
   {
    "duration": 72,
    "start_time": "2023-03-13T15:59:45.067Z"
   },
   {
    "duration": 72,
    "start_time": "2023-03-13T15:59:53.376Z"
   },
   {
    "duration": 73,
    "start_time": "2023-03-13T15:59:57.348Z"
   },
   {
    "duration": 77,
    "start_time": "2023-03-13T16:00:07.381Z"
   },
   {
    "duration": 94,
    "start_time": "2023-03-13T16:00:28.417Z"
   },
   {
    "duration": 71,
    "start_time": "2023-03-13T16:00:43.407Z"
   },
   {
    "duration": 73,
    "start_time": "2023-03-13T16:00:51.992Z"
   },
   {
    "duration": 4,
    "start_time": "2023-03-13T16:01:07.514Z"
   },
   {
    "duration": 3,
    "start_time": "2023-03-13T16:01:30.829Z"
   },
   {
    "duration": 4,
    "start_time": "2023-03-13T16:01:45.024Z"
   },
   {
    "duration": 4,
    "start_time": "2023-03-13T16:01:51.299Z"
   },
   {
    "duration": 3,
    "start_time": "2023-03-13T16:01:58.405Z"
   },
   {
    "duration": 4,
    "start_time": "2023-03-13T16:02:11.279Z"
   },
   {
    "duration": 3,
    "start_time": "2023-03-13T16:02:21.235Z"
   },
   {
    "duration": 14,
    "start_time": "2023-03-13T16:05:27.889Z"
   },
   {
    "duration": 31,
    "start_time": "2023-03-13T16:06:46.291Z"
   },
   {
    "duration": 254,
    "start_time": "2023-03-13T16:07:10.493Z"
   },
   {
    "duration": 161,
    "start_time": "2023-03-13T16:07:26.383Z"
   },
   {
    "duration": 179,
    "start_time": "2023-03-13T16:07:38.046Z"
   },
   {
    "duration": 18,
    "start_time": "2023-03-13T16:07:57.090Z"
   },
   {
    "duration": 15,
    "start_time": "2023-03-13T16:08:32.997Z"
   },
   {
    "duration": 214,
    "start_time": "2023-03-13T16:09:05.568Z"
   },
   {
    "duration": 19,
    "start_time": "2023-03-13T16:09:46.138Z"
   },
   {
    "duration": 6,
    "start_time": "2023-03-13T16:09:47.372Z"
   },
   {
    "duration": 198,
    "start_time": "2023-03-13T16:09:53.887Z"
   },
   {
    "duration": 175,
    "start_time": "2023-03-13T16:10:06.786Z"
   },
   {
    "duration": 16,
    "start_time": "2023-03-13T16:10:33.699Z"
   },
   {
    "duration": 178,
    "start_time": "2023-03-13T16:10:37.987Z"
   },
   {
    "duration": 19,
    "start_time": "2023-03-13T16:10:58.908Z"
   },
   {
    "duration": 7,
    "start_time": "2023-03-13T16:10:59.287Z"
   },
   {
    "duration": 185,
    "start_time": "2023-03-13T16:11:00.192Z"
   },
   {
    "duration": 10,
    "start_time": "2023-03-13T16:11:32.914Z"
   },
   {
    "duration": 18,
    "start_time": "2023-03-13T16:11:39.316Z"
   },
   {
    "duration": 181,
    "start_time": "2023-03-13T16:11:44.831Z"
   },
   {
    "duration": 188,
    "start_time": "2023-03-13T16:12:06.131Z"
   },
   {
    "duration": 14,
    "start_time": "2023-03-13T16:12:21.727Z"
   },
   {
    "duration": 237,
    "start_time": "2023-03-13T16:12:44.398Z"
   },
   {
    "duration": 4,
    "start_time": "2023-03-13T16:13:45.833Z"
   },
   {
    "duration": 6,
    "start_time": "2023-03-13T16:13:58.592Z"
   },
   {
    "duration": 234,
    "start_time": "2023-03-13T16:14:35.089Z"
   },
   {
    "duration": 89,
    "start_time": "2023-03-13T16:15:13.534Z"
   },
   {
    "duration": 182,
    "start_time": "2023-03-13T16:15:26.108Z"
   },
   {
    "duration": 97,
    "start_time": "2023-03-13T16:15:36.890Z"
   },
   {
    "duration": 358,
    "start_time": "2023-03-13T16:15:45.467Z"
   },
   {
    "duration": 318,
    "start_time": "2023-03-13T16:15:58.916Z"
   },
   {
    "duration": 148,
    "start_time": "2023-03-13T16:16:24.003Z"
   },
   {
    "duration": 146,
    "start_time": "2023-03-13T16:16:29.282Z"
   },
   {
    "duration": 6,
    "start_time": "2023-03-13T16:17:18.921Z"
   },
   {
    "duration": 9,
    "start_time": "2023-03-13T16:18:43.039Z"
   },
   {
    "duration": 9,
    "start_time": "2023-03-13T16:18:51.821Z"
   },
   {
    "duration": 70,
    "start_time": "2023-03-13T16:19:08.855Z"
   },
   {
    "duration": 81,
    "start_time": "2023-03-13T16:19:30.492Z"
   },
   {
    "duration": 80,
    "start_time": "2023-03-13T16:19:37.192Z"
   },
   {
    "duration": 127,
    "start_time": "2023-03-13T16:20:24.126Z"
   },
   {
    "duration": 84,
    "start_time": "2023-03-13T16:20:39.143Z"
   },
   {
    "duration": 84,
    "start_time": "2023-03-13T16:20:43.891Z"
   },
   {
    "duration": 13,
    "start_time": "2023-03-13T16:51:34.048Z"
   },
   {
    "duration": 9,
    "start_time": "2023-03-13T16:54:47.779Z"
   },
   {
    "duration": 3,
    "start_time": "2023-03-13T16:55:01.080Z"
   },
   {
    "duration": 4,
    "start_time": "2023-03-13T16:55:05.882Z"
   },
   {
    "duration": 4,
    "start_time": "2023-03-13T16:55:13.077Z"
   },
   {
    "duration": 4,
    "start_time": "2023-03-13T16:55:21.098Z"
   },
   {
    "duration": 4,
    "start_time": "2023-03-13T16:55:27.495Z"
   },
   {
    "duration": 4,
    "start_time": "2023-03-13T16:55:31.860Z"
   },
   {
    "duration": 2,
    "start_time": "2023-03-13T16:55:55.263Z"
   },
   {
    "duration": 4,
    "start_time": "2023-03-13T16:55:56.863Z"
   },
   {
    "duration": 85,
    "start_time": "2023-03-13T16:56:00.244Z"
   },
   {
    "duration": 4,
    "start_time": "2023-03-13T16:56:05.452Z"
   },
   {
    "duration": 4,
    "start_time": "2023-03-13T16:56:05.849Z"
   },
   {
    "duration": 4,
    "start_time": "2023-03-13T16:56:09.996Z"
   },
   {
    "duration": 4,
    "start_time": "2023-03-13T16:56:17.465Z"
   },
   {
    "duration": 4,
    "start_time": "2023-03-13T16:56:21.982Z"
   },
   {
    "duration": 3,
    "start_time": "2023-03-13T17:10:20.362Z"
   },
   {
    "duration": 5,
    "start_time": "2023-03-13T17:10:38.522Z"
   },
   {
    "duration": 4,
    "start_time": "2023-03-13T17:10:55.676Z"
   },
   {
    "duration": 3,
    "start_time": "2023-03-13T17:15:29.333Z"
   },
   {
    "duration": 4,
    "start_time": "2023-03-13T17:15:44.077Z"
   },
   {
    "duration": 5,
    "start_time": "2023-03-13T17:16:04.277Z"
   },
   {
    "duration": 4,
    "start_time": "2023-03-13T17:16:07.977Z"
   },
   {
    "duration": 2,
    "start_time": "2023-03-13T17:16:17.660Z"
   },
   {
    "duration": 4,
    "start_time": "2023-03-13T17:16:22.203Z"
   },
   {
    "duration": 4,
    "start_time": "2023-03-13T17:16:27.182Z"
   },
   {
    "duration": 1491,
    "start_time": "2023-03-14T08:28:19.148Z"
   },
   {
    "duration": 328,
    "start_time": "2023-03-14T08:28:20.642Z"
   },
   {
    "duration": 14,
    "start_time": "2023-03-14T08:28:20.972Z"
   },
   {
    "duration": 16,
    "start_time": "2023-03-14T08:28:20.988Z"
   },
   {
    "duration": 30,
    "start_time": "2023-03-14T08:28:21.007Z"
   },
   {
    "duration": 146,
    "start_time": "2023-03-14T08:28:21.039Z"
   },
   {
    "duration": 12,
    "start_time": "2023-03-14T08:28:21.188Z"
   },
   {
    "duration": 35,
    "start_time": "2023-03-14T08:28:21.203Z"
   },
   {
    "duration": 16,
    "start_time": "2023-03-14T08:28:21.241Z"
   },
   {
    "duration": 6602,
    "start_time": "2023-03-14T08:28:21.260Z"
   },
   {
    "duration": 6521,
    "start_time": "2023-03-14T08:28:27.864Z"
   },
   {
    "duration": 10,
    "start_time": "2023-03-14T08:28:34.387Z"
   },
   {
    "duration": 24,
    "start_time": "2023-03-14T08:28:34.398Z"
   },
   {
    "duration": 6405,
    "start_time": "2023-03-14T08:28:34.424Z"
   },
   {
    "duration": 6502,
    "start_time": "2023-03-14T08:28:40.831Z"
   },
   {
    "duration": 21,
    "start_time": "2023-03-14T08:28:47.335Z"
   },
   {
    "duration": 6500,
    "start_time": "2023-03-14T08:28:47.358Z"
   },
   {
    "duration": 21,
    "start_time": "2023-03-14T08:28:53.860Z"
   },
   {
    "duration": 28,
    "start_time": "2023-03-14T08:28:53.883Z"
   },
   {
    "duration": 12,
    "start_time": "2023-03-14T08:28:53.913Z"
   },
   {
    "duration": 11,
    "start_time": "2023-03-14T08:28:53.927Z"
   },
   {
    "duration": 9,
    "start_time": "2023-03-14T08:28:53.940Z"
   },
   {
    "duration": 1372,
    "start_time": "2023-03-14T08:28:53.951Z"
   },
   {
    "duration": 8,
    "start_time": "2023-03-14T08:28:55.326Z"
   },
   {
    "duration": 25,
    "start_time": "2023-03-14T08:28:55.336Z"
   },
   {
    "duration": 35,
    "start_time": "2023-03-14T08:28:55.363Z"
   },
   {
    "duration": 6,
    "start_time": "2023-03-14T08:28:55.401Z"
   },
   {
    "duration": 19,
    "start_time": "2023-03-14T08:28:55.410Z"
   },
   {
    "duration": 9,
    "start_time": "2023-03-14T08:28:55.432Z"
   },
   {
    "duration": 37,
    "start_time": "2023-03-14T08:28:55.444Z"
   },
   {
    "duration": 51,
    "start_time": "2023-03-14T08:28:55.484Z"
   },
   {
    "duration": 4,
    "start_time": "2023-03-14T08:28:55.537Z"
   },
   {
    "duration": 16,
    "start_time": "2023-03-14T08:28:55.543Z"
   },
   {
    "duration": 122,
    "start_time": "2023-03-14T08:28:55.561Z"
   },
   {
    "duration": 11,
    "start_time": "2023-03-14T08:32:20.246Z"
   },
   {
    "duration": 33,
    "start_time": "2023-03-14T08:32:54.401Z"
   },
   {
    "duration": 107,
    "start_time": "2023-03-14T08:33:51.549Z"
   },
   {
    "duration": 40,
    "start_time": "2023-03-14T08:34:41.189Z"
   },
   {
    "duration": 45,
    "start_time": "2023-03-14T08:34:54.557Z"
   },
   {
    "duration": 38,
    "start_time": "2023-03-14T08:35:08.787Z"
   },
   {
    "duration": 126,
    "start_time": "2023-03-14T08:35:59.018Z"
   },
   {
    "duration": 178,
    "start_time": "2023-03-14T08:36:08.565Z"
   },
   {
    "duration": 69,
    "start_time": "2023-03-14T08:36:17.301Z"
   },
   {
    "duration": 42,
    "start_time": "2023-03-14T08:36:53.365Z"
   },
   {
    "duration": 52,
    "start_time": "2023-03-14T08:37:51.524Z"
   },
   {
    "duration": 46,
    "start_time": "2023-03-14T08:37:59.194Z"
   },
   {
    "duration": 8,
    "start_time": "2023-03-14T08:38:04.008Z"
   },
   {
    "duration": 15,
    "start_time": "2023-03-14T08:38:59.438Z"
   },
   {
    "duration": 219,
    "start_time": "2023-03-14T08:39:17.816Z"
   },
   {
    "duration": 169,
    "start_time": "2023-03-14T08:39:28.961Z"
   },
   {
    "duration": 180,
    "start_time": "2023-03-14T08:40:12.764Z"
   },
   {
    "duration": 20,
    "start_time": "2023-03-14T08:40:26.835Z"
   },
   {
    "duration": 42,
    "start_time": "2023-03-14T08:40:48.196Z"
   },
   {
    "duration": 3,
    "start_time": "2023-03-14T08:41:25.831Z"
   },
   {
    "duration": 7,
    "start_time": "2023-03-14T08:41:26.647Z"
   },
   {
    "duration": 150,
    "start_time": "2023-03-14T08:41:43.947Z"
   },
   {
    "duration": 136,
    "start_time": "2023-03-14T08:42:05.526Z"
   },
   {
    "duration": 264,
    "start_time": "2023-03-14T08:42:35.468Z"
   },
   {
    "duration": 4,
    "start_time": "2023-03-14T08:50:24.590Z"
   },
   {
    "duration": 198,
    "start_time": "2023-03-14T08:51:01.296Z"
   },
   {
    "duration": 135,
    "start_time": "2023-03-14T08:52:13.529Z"
   },
   {
    "duration": 146,
    "start_time": "2023-03-14T08:57:03.347Z"
   },
   {
    "duration": 168,
    "start_time": "2023-03-14T08:57:15.923Z"
   },
   {
    "duration": 139,
    "start_time": "2023-03-14T08:58:18.450Z"
   },
   {
    "duration": 3,
    "start_time": "2023-03-14T08:58:21.721Z"
   },
   {
    "duration": 143,
    "start_time": "2023-03-14T08:58:22.274Z"
   },
   {
    "duration": 99,
    "start_time": "2023-03-14T08:59:19.817Z"
   },
   {
    "duration": 134,
    "start_time": "2023-03-14T08:59:33.542Z"
   },
   {
    "duration": 134,
    "start_time": "2023-03-14T08:59:47.007Z"
   },
   {
    "duration": 107,
    "start_time": "2023-03-14T09:00:07.033Z"
   },
   {
    "duration": 141,
    "start_time": "2023-03-14T09:00:20.193Z"
   },
   {
    "duration": 140,
    "start_time": "2023-03-14T09:00:31.126Z"
   },
   {
    "duration": 131,
    "start_time": "2023-03-14T09:01:38.690Z"
   },
   {
    "duration": 14,
    "start_time": "2023-03-14T09:02:11.657Z"
   },
   {
    "duration": 137,
    "start_time": "2023-03-14T09:03:07.455Z"
   },
   {
    "duration": 140,
    "start_time": "2023-03-14T09:03:17.115Z"
   },
   {
    "duration": 242,
    "start_time": "2023-03-14T09:03:32.870Z"
   },
   {
    "duration": 174,
    "start_time": "2023-03-14T09:03:55.975Z"
   },
   {
    "duration": 136,
    "start_time": "2023-03-14T09:04:07.439Z"
   },
   {
    "duration": 167,
    "start_time": "2023-03-14T09:04:16.150Z"
   },
   {
    "duration": 127,
    "start_time": "2023-03-14T09:04:35.787Z"
   },
   {
    "duration": 134,
    "start_time": "2023-03-14T09:05:07.358Z"
   },
   {
    "duration": 157,
    "start_time": "2023-03-14T09:05:19.739Z"
   },
   {
    "duration": 4,
    "start_time": "2023-03-14T09:23:44.697Z"
   },
   {
    "duration": 139,
    "start_time": "2023-03-14T09:23:45.246Z"
   },
   {
    "duration": 85,
    "start_time": "2023-03-14T09:26:36.322Z"
   },
   {
    "duration": 9,
    "start_time": "2023-03-14T09:26:41.564Z"
   },
   {
    "duration": 10,
    "start_time": "2023-03-14T09:27:19.256Z"
   },
   {
    "duration": 4,
    "start_time": "2023-03-14T09:30:21.473Z"
   },
   {
    "duration": 132,
    "start_time": "2023-03-14T09:30:22.117Z"
   },
   {
    "duration": 4,
    "start_time": "2023-03-14T09:31:34.044Z"
   },
   {
    "duration": 7,
    "start_time": "2023-03-14T09:32:24.795Z"
   },
   {
    "duration": 1144,
    "start_time": "2023-03-14T09:33:50.252Z"
   },
   {
    "duration": 3,
    "start_time": "2023-03-14T09:34:17.747Z"
   },
   {
    "duration": 8,
    "start_time": "2023-03-14T09:34:18.239Z"
   },
   {
    "duration": 1321,
    "start_time": "2023-03-14T09:34:18.731Z"
   },
   {
    "duration": 134,
    "start_time": "2023-03-14T09:34:53.218Z"
   },
   {
    "duration": 80,
    "start_time": "2023-03-14T09:34:58.555Z"
   },
   {
    "duration": 3,
    "start_time": "2023-03-14T09:34:58.722Z"
   },
   {
    "duration": 7,
    "start_time": "2023-03-14T09:34:58.875Z"
   },
   {
    "duration": 1359,
    "start_time": "2023-03-14T09:34:59.035Z"
   },
   {
    "duration": 1232,
    "start_time": "2023-03-14T09:35:50.746Z"
   },
   {
    "duration": 90,
    "start_time": "2023-03-14T09:36:10.042Z"
   },
   {
    "duration": 3,
    "start_time": "2023-03-14T09:36:10.639Z"
   },
   {
    "duration": 8,
    "start_time": "2023-03-14T09:36:11.220Z"
   },
   {
    "duration": 1432,
    "start_time": "2023-03-14T09:36:12.506Z"
   },
   {
    "duration": 1169,
    "start_time": "2023-03-14T09:36:49.120Z"
   },
   {
    "duration": 138,
    "start_time": "2023-03-14T09:37:24.972Z"
   },
   {
    "duration": 78,
    "start_time": "2023-03-14T09:37:41.189Z"
   },
   {
    "duration": 3,
    "start_time": "2023-03-14T09:37:41.494Z"
   },
   {
    "duration": 7,
    "start_time": "2023-03-14T09:37:41.793Z"
   },
   {
    "duration": 15,
    "start_time": "2023-03-14T09:37:59.293Z"
   },
   {
    "duration": 93,
    "start_time": "2023-03-14T09:38:16.216Z"
   },
   {
    "duration": 143,
    "start_time": "2023-03-14T09:38:21.909Z"
   },
   {
    "duration": 4,
    "start_time": "2023-03-14T09:38:53.226Z"
   },
   {
    "duration": 8,
    "start_time": "2023-03-14T09:38:53.743Z"
   },
   {
    "duration": 227,
    "start_time": "2023-03-14T09:38:54.447Z"
   },
   {
    "duration": 141,
    "start_time": "2023-03-14T09:39:17.723Z"
   },
   {
    "duration": 1190,
    "start_time": "2023-03-14T09:39:30.502Z"
   },
   {
    "duration": 148,
    "start_time": "2023-03-14T09:39:48.424Z"
   },
   {
    "duration": 154,
    "start_time": "2023-03-14T09:42:18.230Z"
   },
   {
    "duration": 174,
    "start_time": "2023-03-14T09:42:51.940Z"
   },
   {
    "duration": 77,
    "start_time": "2023-03-14T09:43:33.568Z"
   },
   {
    "duration": 153,
    "start_time": "2023-03-14T09:43:40.607Z"
   },
   {
    "duration": 185,
    "start_time": "2023-03-14T09:44:01.712Z"
   },
   {
    "duration": 77,
    "start_time": "2023-03-14T09:44:10.022Z"
   },
   {
    "duration": 13,
    "start_time": "2023-03-14T09:44:38.080Z"
   },
   {
    "duration": 10,
    "start_time": "2023-03-14T09:46:11.775Z"
   },
   {
    "duration": 10,
    "start_time": "2023-03-14T09:46:36.498Z"
   },
   {
    "duration": 101,
    "start_time": "2023-03-14T09:46:53.130Z"
   },
   {
    "duration": 17,
    "start_time": "2023-03-14T09:48:56.995Z"
   },
   {
    "duration": 12,
    "start_time": "2023-03-14T09:49:23.954Z"
   },
   {
    "duration": 12,
    "start_time": "2023-03-14T09:49:32.370Z"
   },
   {
    "duration": 11,
    "start_time": "2023-03-14T09:49:38.724Z"
   },
   {
    "duration": 10,
    "start_time": "2023-03-14T09:49:48.479Z"
   },
   {
    "duration": 133,
    "start_time": "2023-03-14T09:50:13.306Z"
   },
   {
    "duration": 154,
    "start_time": "2023-03-14T09:50:43.648Z"
   },
   {
    "duration": 137,
    "start_time": "2023-03-14T09:51:35.006Z"
   },
   {
    "duration": 9,
    "start_time": "2023-03-14T09:51:38.678Z"
   },
   {
    "duration": 131,
    "start_time": "2023-03-14T09:51:41.456Z"
   },
   {
    "duration": 238,
    "start_time": "2023-03-14T09:51:47.679Z"
   },
   {
    "duration": 131,
    "start_time": "2023-03-14T09:51:52.927Z"
   },
   {
    "duration": 14,
    "start_time": "2023-03-14T09:52:31.786Z"
   },
   {
    "duration": 125,
    "start_time": "2023-03-14T09:52:39.551Z"
   },
   {
    "duration": 78,
    "start_time": "2023-03-14T09:52:44.927Z"
   },
   {
    "duration": 3,
    "start_time": "2023-03-14T09:52:45.171Z"
   },
   {
    "duration": 7,
    "start_time": "2023-03-14T09:52:45.364Z"
   },
   {
    "duration": 175,
    "start_time": "2023-03-14T09:52:45.528Z"
   },
   {
    "duration": 127,
    "start_time": "2023-03-14T09:52:45.723Z"
   },
   {
    "duration": 151,
    "start_time": "2023-03-14T09:55:36.650Z"
   },
   {
    "duration": 156,
    "start_time": "2023-03-14T09:55:54.110Z"
   },
   {
    "duration": 126,
    "start_time": "2023-03-14T09:56:10.310Z"
   },
   {
    "duration": 165,
    "start_time": "2023-03-14T09:56:31.620Z"
   },
   {
    "duration": 151,
    "start_time": "2023-03-14T10:03:27.177Z"
   },
   {
    "duration": 164,
    "start_time": "2023-03-14T10:03:50.813Z"
   },
   {
    "duration": 148,
    "start_time": "2023-03-14T10:05:09.351Z"
   },
   {
    "duration": 173,
    "start_time": "2023-03-14T10:06:00.291Z"
   },
   {
    "duration": 271,
    "start_time": "2023-03-14T10:06:23.465Z"
   },
   {
    "duration": 12,
    "start_time": "2023-03-14T10:06:29.827Z"
   },
   {
    "duration": 164,
    "start_time": "2023-03-14T10:06:47.862Z"
   },
   {
    "duration": 3,
    "start_time": "2023-03-14T11:12:02.359Z"
   },
   {
    "duration": 160,
    "start_time": "2023-03-14T11:12:02.675Z"
   },
   {
    "duration": 9,
    "start_time": "2023-03-14T11:12:03.000Z"
   },
   {
    "duration": 6,
    "start_time": "2023-03-14T11:12:03.507Z"
   },
   {
    "duration": 20,
    "start_time": "2023-03-14T11:12:03.843Z"
   },
   {
    "duration": 126,
    "start_time": "2023-03-14T11:12:04.176Z"
   },
   {
    "duration": 10,
    "start_time": "2023-03-14T11:12:04.345Z"
   },
   {
    "duration": 30,
    "start_time": "2023-03-14T11:12:04.704Z"
   },
   {
    "duration": 10,
    "start_time": "2023-03-14T11:12:04.883Z"
   },
   {
    "duration": 6279,
    "start_time": "2023-03-14T11:12:05.437Z"
   },
   {
    "duration": 6441,
    "start_time": "2023-03-14T11:12:11.718Z"
   },
   {
    "duration": 9,
    "start_time": "2023-03-14T11:12:18.161Z"
   },
   {
    "duration": 17,
    "start_time": "2023-03-14T11:12:18.172Z"
   },
   {
    "duration": 6430,
    "start_time": "2023-03-14T11:12:18.191Z"
   },
   {
    "duration": 4,
    "start_time": "2023-03-14T11:15:25.203Z"
   },
   {
    "duration": 169,
    "start_time": "2023-03-14T11:15:25.209Z"
   },
   {
    "duration": 10,
    "start_time": "2023-03-14T11:15:25.381Z"
   },
   {
    "duration": 12,
    "start_time": "2023-03-14T11:15:25.394Z"
   },
   {
    "duration": 30,
    "start_time": "2023-03-14T11:15:25.408Z"
   },
   {
    "duration": 161,
    "start_time": "2023-03-14T11:15:25.440Z"
   },
   {
    "duration": 10,
    "start_time": "2023-03-14T11:15:25.604Z"
   },
   {
    "duration": 54,
    "start_time": "2023-03-14T11:15:25.616Z"
   },
   {
    "duration": 19,
    "start_time": "2023-03-14T11:15:25.672Z"
   },
   {
    "duration": 6582,
    "start_time": "2023-03-14T11:15:25.694Z"
   },
   {
    "duration": 6371,
    "start_time": "2023-03-14T11:15:32.278Z"
   },
   {
    "duration": 11,
    "start_time": "2023-03-14T11:15:38.651Z"
   },
   {
    "duration": 25,
    "start_time": "2023-03-14T11:15:38.664Z"
   },
   {
    "duration": 6625,
    "start_time": "2023-03-14T11:15:38.691Z"
   },
   {
    "duration": 6612,
    "start_time": "2023-03-14T11:15:45.318Z"
   },
   {
    "duration": 22,
    "start_time": "2023-03-14T11:15:51.932Z"
   },
   {
    "duration": 6474,
    "start_time": "2023-03-14T11:15:51.955Z"
   },
   {
    "duration": 12,
    "start_time": "2023-03-14T11:15:58.431Z"
   },
   {
    "duration": 16,
    "start_time": "2023-03-14T11:15:58.445Z"
   },
   {
    "duration": 18,
    "start_time": "2023-03-14T11:15:58.463Z"
   },
   {
    "duration": 6,
    "start_time": "2023-03-14T11:15:58.484Z"
   },
   {
    "duration": 10,
    "start_time": "2023-03-14T11:15:58.492Z"
   },
   {
    "duration": 1278,
    "start_time": "2023-03-14T11:15:58.504Z"
   },
   {
    "duration": 6,
    "start_time": "2023-03-14T11:15:59.785Z"
   },
   {
    "duration": 27,
    "start_time": "2023-03-14T11:15:59.793Z"
   },
   {
    "duration": 26,
    "start_time": "2023-03-14T11:15:59.822Z"
   },
   {
    "duration": 4,
    "start_time": "2023-03-14T11:15:59.851Z"
   },
   {
    "duration": 31,
    "start_time": "2023-03-14T11:15:59.860Z"
   },
   {
    "duration": 12,
    "start_time": "2023-03-14T11:15:59.894Z"
   },
   {
    "duration": 8,
    "start_time": "2023-03-14T11:15:59.908Z"
   },
   {
    "duration": 51,
    "start_time": "2023-03-14T11:15:59.919Z"
   },
   {
    "duration": 8,
    "start_time": "2023-03-14T11:15:59.973Z"
   },
   {
    "duration": 20,
    "start_time": "2023-03-14T11:15:59.984Z"
   },
   {
    "duration": 152,
    "start_time": "2023-03-14T11:16:00.007Z"
   },
   {
    "duration": 47,
    "start_time": "2023-03-14T11:16:00.161Z"
   },
   {
    "duration": 19,
    "start_time": "2023-03-14T11:16:00.210Z"
   },
   {
    "duration": 35,
    "start_time": "2023-03-14T11:16:00.231Z"
   },
   {
    "duration": 26,
    "start_time": "2023-03-14T11:16:00.268Z"
   },
   {
    "duration": 165,
    "start_time": "2023-03-14T11:16:00.296Z"
   },
   {
    "duration": 82,
    "start_time": "2023-03-14T11:16:00.463Z"
   },
   {
    "duration": 3,
    "start_time": "2023-03-14T11:16:00.547Z"
   },
   {
    "duration": 74,
    "start_time": "2023-03-14T11:16:00.552Z"
   },
   {
    "duration": 204,
    "start_time": "2023-03-14T11:16:00.628Z"
   },
   {
    "duration": 9,
    "start_time": "2023-03-14T11:16:00.834Z"
   },
   {
    "duration": 5,
    "start_time": "2023-03-14T11:23:21.144Z"
   },
   {
    "duration": 8,
    "start_time": "2023-03-14T11:23:51.071Z"
   },
   {
    "duration": 10,
    "start_time": "2023-03-14T11:24:16.431Z"
   },
   {
    "duration": 3,
    "start_time": "2023-03-14T11:25:46.662Z"
   },
   {
    "duration": 5,
    "start_time": "2023-03-14T11:26:04.015Z"
   },
   {
    "duration": 7,
    "start_time": "2023-03-14T11:26:14.922Z"
   },
   {
    "duration": 4,
    "start_time": "2023-03-14T11:26:15.342Z"
   },
   {
    "duration": 909,
    "start_time": "2023-03-14T11:26:56.674Z"
   },
   {
    "duration": 0,
    "start_time": "2023-03-14T11:26:57.585Z"
   },
   {
    "duration": 24,
    "start_time": "2023-03-14T11:27:21.277Z"
   },
   {
    "duration": 5,
    "start_time": "2023-03-14T11:27:22.209Z"
   },
   {
    "duration": 5,
    "start_time": "2023-03-14T11:28:33.700Z"
   },
   {
    "duration": 5,
    "start_time": "2023-03-14T11:28:45.654Z"
   },
   {
    "duration": 3,
    "start_time": "2023-03-14T11:29:57.109Z"
   },
   {
    "duration": 12,
    "start_time": "2023-03-14T11:30:38.962Z"
   },
   {
    "duration": 11,
    "start_time": "2023-03-14T11:34:23.903Z"
   },
   {
    "duration": 10,
    "start_time": "2023-03-14T11:34:32.516Z"
   },
   {
    "duration": 27,
    "start_time": "2023-03-14T11:34:58.975Z"
   },
   {
    "duration": 11,
    "start_time": "2023-03-14T11:35:39.649Z"
   },
   {
    "duration": 15,
    "start_time": "2023-03-14T11:36:41.476Z"
   },
   {
    "duration": 26,
    "start_time": "2023-03-14T11:36:49.129Z"
   },
   {
    "duration": 9,
    "start_time": "2023-03-14T11:37:17.372Z"
   },
   {
    "duration": 25,
    "start_time": "2023-03-14T11:46:31.854Z"
   },
   {
    "duration": 5,
    "start_time": "2023-03-14T11:46:38.046Z"
   },
   {
    "duration": 24,
    "start_time": "2023-03-14T11:48:53.010Z"
   },
   {
    "duration": 5,
    "start_time": "2023-03-14T11:48:53.411Z"
   },
   {
    "duration": 5,
    "start_time": "2023-03-14T11:49:24.404Z"
   },
   {
    "duration": 5,
    "start_time": "2023-03-14T11:49:25.909Z"
   },
   {
    "duration": 13,
    "start_time": "2023-03-14T11:51:38.930Z"
   },
   {
    "duration": 11,
    "start_time": "2023-03-14T11:51:48.115Z"
   },
   {
    "duration": 14,
    "start_time": "2023-03-14T11:53:51.816Z"
   },
   {
    "duration": 25,
    "start_time": "2023-03-14T11:53:59.144Z"
   },
   {
    "duration": 27,
    "start_time": "2023-03-14T11:54:04.911Z"
   },
   {
    "duration": 36,
    "start_time": "2023-03-14T11:54:25.053Z"
   },
   {
    "duration": 25,
    "start_time": "2023-03-14T11:54:29.844Z"
   },
   {
    "duration": 89,
    "start_time": "2023-03-14T11:55:14.854Z"
   },
   {
    "duration": 25,
    "start_time": "2023-03-14T11:55:22.111Z"
   },
   {
    "duration": 11,
    "start_time": "2023-03-14T11:55:48.621Z"
   },
   {
    "duration": 16,
    "start_time": "2023-03-14T11:55:59.515Z"
   },
   {
    "duration": 29,
    "start_time": "2023-03-14T11:57:57.035Z"
   },
   {
    "duration": 170,
    "start_time": "2023-03-14T11:58:58.806Z"
   },
   {
    "duration": 1429,
    "start_time": "2023-03-14T11:59:41.251Z"
   },
   {
    "duration": 838,
    "start_time": "2023-03-14T12:00:33.827Z"
   },
   {
    "duration": 38,
    "start_time": "2023-03-14T12:00:54.807Z"
   },
   {
    "duration": 85,
    "start_time": "2023-03-14T12:01:20.651Z"
   },
   {
    "duration": 59,
    "start_time": "2023-03-14T12:01:25.862Z"
   },
   {
    "duration": 42,
    "start_time": "2023-03-14T12:01:45.227Z"
   },
   {
    "duration": 47,
    "start_time": "2023-03-14T12:02:11.309Z"
   },
   {
    "duration": 26,
    "start_time": "2023-03-14T12:02:29.829Z"
   },
   {
    "duration": 65,
    "start_time": "2023-03-14T12:02:40.112Z"
   },
   {
    "duration": 85,
    "start_time": "2023-03-14T12:03:46.704Z"
   },
   {
    "duration": 75,
    "start_time": "2023-03-14T12:03:59.622Z"
   },
   {
    "duration": 42,
    "start_time": "2023-03-14T12:06:13.930Z"
   },
   {
    "duration": 37,
    "start_time": "2023-03-14T12:06:35.987Z"
   },
   {
    "duration": 118,
    "start_time": "2023-03-14T12:06:58.872Z"
   },
   {
    "duration": 14,
    "start_time": "2023-03-14T12:08:16.105Z"
   },
   {
    "duration": 13,
    "start_time": "2023-03-14T12:09:51.560Z"
   },
   {
    "duration": 19,
    "start_time": "2023-03-14T12:09:55.944Z"
   },
   {
    "duration": 11,
    "start_time": "2023-03-14T12:11:34.231Z"
   },
   {
    "duration": 12,
    "start_time": "2023-03-14T12:11:55.039Z"
   },
   {
    "duration": 25,
    "start_time": "2023-03-14T12:24:36.501Z"
   },
   {
    "duration": 4,
    "start_time": "2023-03-14T12:24:36.800Z"
   },
   {
    "duration": 208,
    "start_time": "2023-03-14T12:25:35.376Z"
   },
   {
    "duration": 89,
    "start_time": "2023-03-14T12:28:45.265Z"
   },
   {
    "duration": 4,
    "start_time": "2023-03-14T12:33:06.229Z"
   },
   {
    "duration": 4,
    "start_time": "2023-03-14T12:33:19.798Z"
   },
   {
    "duration": 108,
    "start_time": "2023-03-14T12:34:32.112Z"
   },
   {
    "duration": 4,
    "start_time": "2023-03-14T12:34:49.424Z"
   },
   {
    "duration": 208,
    "start_time": "2023-03-14T12:34:49.430Z"
   },
   {
    "duration": 8,
    "start_time": "2023-03-14T12:34:49.641Z"
   },
   {
    "duration": 52,
    "start_time": "2023-03-14T12:34:49.652Z"
   },
   {
    "duration": 48,
    "start_time": "2023-03-14T12:34:49.707Z"
   },
   {
    "duration": 148,
    "start_time": "2023-03-14T12:34:49.757Z"
   },
   {
    "duration": 10,
    "start_time": "2023-03-14T12:34:49.907Z"
   },
   {
    "duration": 54,
    "start_time": "2023-03-14T12:34:49.920Z"
   },
   {
    "duration": 34,
    "start_time": "2023-03-14T12:34:49.977Z"
   },
   {
    "duration": 7662,
    "start_time": "2023-03-14T12:34:50.015Z"
   },
   {
    "duration": 7045,
    "start_time": "2023-03-14T12:34:57.680Z"
   },
   {
    "duration": 15,
    "start_time": "2023-03-14T12:35:04.727Z"
   },
   {
    "duration": 22,
    "start_time": "2023-03-14T12:35:04.745Z"
   },
   {
    "duration": 7169,
    "start_time": "2023-03-14T12:35:04.784Z"
   },
   {
    "duration": 7257,
    "start_time": "2023-03-14T12:35:11.955Z"
   },
   {
    "duration": 35,
    "start_time": "2023-03-14T12:35:19.215Z"
   },
   {
    "duration": 7507,
    "start_time": "2023-03-14T12:35:19.253Z"
   },
   {
    "duration": 27,
    "start_time": "2023-03-14T12:35:26.762Z"
   },
   {
    "duration": 22,
    "start_time": "2023-03-14T12:35:26.791Z"
   },
   {
    "duration": 4,
    "start_time": "2023-03-14T12:35:26.815Z"
   },
   {
    "duration": 10,
    "start_time": "2023-03-14T12:35:26.820Z"
   },
   {
    "duration": 8,
    "start_time": "2023-03-14T12:35:26.833Z"
   },
   {
    "duration": 1300,
    "start_time": "2023-03-14T12:35:26.843Z"
   },
   {
    "duration": 6,
    "start_time": "2023-03-14T12:35:28.145Z"
   },
   {
    "duration": 44,
    "start_time": "2023-03-14T12:35:28.152Z"
   },
   {
    "duration": 21,
    "start_time": "2023-03-14T12:35:28.198Z"
   },
   {
    "duration": 5,
    "start_time": "2023-03-14T12:35:28.222Z"
   },
   {
    "duration": 13,
    "start_time": "2023-03-14T12:35:28.231Z"
   },
   {
    "duration": 10,
    "start_time": "2023-03-14T12:35:28.246Z"
   },
   {
    "duration": 30,
    "start_time": "2023-03-14T12:35:28.259Z"
   },
   {
    "duration": 68,
    "start_time": "2023-03-14T12:35:28.294Z"
   },
   {
    "duration": 3,
    "start_time": "2023-03-14T12:35:28.365Z"
   },
   {
    "duration": 15,
    "start_time": "2023-03-14T12:35:28.371Z"
   },
   {
    "duration": 32,
    "start_time": "2023-03-14T12:35:28.388Z"
   },
   {
    "duration": 117,
    "start_time": "2023-03-14T12:35:28.422Z"
   },
   {
    "duration": 61,
    "start_time": "2023-03-14T12:35:28.541Z"
   },
   {
    "duration": 6,
    "start_time": "2023-03-14T12:35:28.612Z"
   },
   {
    "duration": 34,
    "start_time": "2023-03-14T12:35:28.620Z"
   },
   {
    "duration": 163,
    "start_time": "2023-03-14T12:35:28.656Z"
   },
   {
    "duration": 85,
    "start_time": "2023-03-14T12:35:28.822Z"
   },
   {
    "duration": 4,
    "start_time": "2023-03-14T12:35:28.909Z"
   },
   {
    "duration": 15,
    "start_time": "2023-03-14T12:35:28.914Z"
   },
   {
    "duration": 219,
    "start_time": "2023-03-14T12:35:28.932Z"
   },
   {
    "duration": 33,
    "start_time": "2023-03-14T12:35:29.154Z"
   },
   {
    "duration": 30,
    "start_time": "2023-03-14T12:35:29.190Z"
   },
   {
    "duration": 290,
    "start_time": "2023-03-14T12:35:29.223Z"
   },
   {
    "duration": 121,
    "start_time": "2023-03-14T12:35:29.516Z"
   },
   {
    "duration": 17,
    "start_time": "2023-03-14T12:35:29.639Z"
   },
   {
    "duration": 23,
    "start_time": "2023-03-14T12:38:21.075Z"
   },
   {
    "duration": 1087,
    "start_time": "2023-03-14T12:38:28.510Z"
   },
   {
    "duration": 37,
    "start_time": "2023-03-14T12:38:45.298Z"
   },
   {
    "duration": 5,
    "start_time": "2023-03-14T12:38:50.899Z"
   },
   {
    "duration": 20,
    "start_time": "2023-03-14T12:39:52.245Z"
   },
   {
    "duration": 24,
    "start_time": "2023-03-14T12:40:20.096Z"
   },
   {
    "duration": 23,
    "start_time": "2023-03-14T12:40:56.201Z"
   },
   {
    "duration": 27,
    "start_time": "2023-03-14T12:41:53.633Z"
   },
   {
    "duration": 21,
    "start_time": "2023-03-14T12:41:53.809Z"
   },
   {
    "duration": 31,
    "start_time": "2023-03-14T12:41:53.970Z"
   },
   {
    "duration": 23,
    "start_time": "2023-03-14T12:41:54.132Z"
   },
   {
    "duration": 7,
    "start_time": "2023-03-14T12:41:58.561Z"
   },
   {
    "duration": 31,
    "start_time": "2023-03-14T12:43:09.574Z"
   },
   {
    "duration": 29,
    "start_time": "2023-03-14T12:43:26.054Z"
   },
   {
    "duration": 6,
    "start_time": "2023-03-14T12:43:30.545Z"
   },
   {
    "duration": 5,
    "start_time": "2023-03-14T12:43:34.750Z"
   },
   {
    "duration": 5,
    "start_time": "2023-03-14T12:44:10.098Z"
   },
   {
    "duration": 4,
    "start_time": "2023-03-14T12:44:14.840Z"
   },
   {
    "duration": 28,
    "start_time": "2023-03-14T12:44:56.005Z"
   },
   {
    "duration": 26,
    "start_time": "2023-03-14T12:44:56.196Z"
   },
   {
    "duration": 29,
    "start_time": "2023-03-14T12:44:56.366Z"
   },
   {
    "duration": 25,
    "start_time": "2023-03-14T12:44:56.571Z"
   },
   {
    "duration": 5,
    "start_time": "2023-03-14T12:45:09.942Z"
   },
   {
    "duration": 6,
    "start_time": "2023-03-14T12:45:14.029Z"
   },
   {
    "duration": 6,
    "start_time": "2023-03-14T12:45:19.893Z"
   },
   {
    "duration": 4,
    "start_time": "2023-03-14T12:45:36.705Z"
   },
   {
    "duration": 11,
    "start_time": "2023-03-14T12:49:01.933Z"
   },
   {
    "duration": 4,
    "start_time": "2023-03-14T12:49:11.525Z"
   },
   {
    "duration": 4,
    "start_time": "2023-03-14T12:49:21.062Z"
   },
   {
    "duration": 115,
    "start_time": "2023-03-14T12:50:33.506Z"
   },
   {
    "duration": 4,
    "start_time": "2023-03-14T12:50:49.941Z"
   },
   {
    "duration": 4,
    "start_time": "2023-03-14T12:51:24.350Z"
   },
   {
    "duration": 5,
    "start_time": "2023-03-14T12:51:32.803Z"
   },
   {
    "duration": 6,
    "start_time": "2023-03-14T12:52:34.015Z"
   },
   {
    "duration": 7,
    "start_time": "2023-03-14T12:53:30.307Z"
   },
   {
    "duration": 5,
    "start_time": "2023-03-14T12:56:41.810Z"
   },
   {
    "duration": 5,
    "start_time": "2023-03-14T12:56:46.421Z"
   },
   {
    "duration": 5,
    "start_time": "2023-03-14T12:56:54.203Z"
   },
   {
    "duration": 38,
    "start_time": "2023-03-14T12:59:24.239Z"
   },
   {
    "duration": 22,
    "start_time": "2023-03-14T12:59:24.412Z"
   },
   {
    "duration": 24,
    "start_time": "2023-03-14T12:59:24.598Z"
   },
   {
    "duration": 32,
    "start_time": "2023-03-14T12:59:24.777Z"
   },
   {
    "duration": 6,
    "start_time": "2023-03-14T12:59:25.062Z"
   },
   {
    "duration": 24,
    "start_time": "2023-03-14T13:00:06.748Z"
   },
   {
    "duration": 21,
    "start_time": "2023-03-14T13:00:07.026Z"
   },
   {
    "duration": 21,
    "start_time": "2023-03-14T13:00:07.204Z"
   },
   {
    "duration": 22,
    "start_time": "2023-03-14T13:00:07.396Z"
   },
   {
    "duration": 5,
    "start_time": "2023-03-14T13:00:07.721Z"
   },
   {
    "duration": 5,
    "start_time": "2023-03-14T13:02:35.515Z"
   },
   {
    "duration": 5,
    "start_time": "2023-03-14T13:02:45.002Z"
   },
   {
    "duration": 5,
    "start_time": "2023-03-14T13:04:13.597Z"
   },
   {
    "duration": 4,
    "start_time": "2023-03-14T13:04:26.649Z"
   },
   {
    "duration": 5,
    "start_time": "2023-03-14T13:04:33.764Z"
   },
   {
    "duration": 5,
    "start_time": "2023-03-14T13:07:54.626Z"
   },
   {
    "duration": 1395,
    "start_time": "2023-03-14T17:09:56.300Z"
   },
   {
    "duration": 1150,
    "start_time": "2023-03-14T17:09:57.697Z"
   },
   {
    "duration": 15,
    "start_time": "2023-03-14T17:09:58.849Z"
   },
   {
    "duration": 65,
    "start_time": "2023-03-14T17:09:58.866Z"
   },
   {
    "duration": 25,
    "start_time": "2023-03-14T17:09:58.933Z"
   },
   {
    "duration": 171,
    "start_time": "2023-03-14T17:09:58.959Z"
   },
   {
    "duration": 11,
    "start_time": "2023-03-14T17:09:59.132Z"
   },
   {
    "duration": 41,
    "start_time": "2023-03-14T17:09:59.145Z"
   },
   {
    "duration": 38,
    "start_time": "2023-03-14T17:09:59.188Z"
   },
   {
    "duration": 7026,
    "start_time": "2023-03-14T17:09:59.228Z"
   },
   {
    "duration": 6935,
    "start_time": "2023-03-14T17:10:06.256Z"
   },
   {
    "duration": 13,
    "start_time": "2023-03-14T17:10:13.193Z"
   },
   {
    "duration": 31,
    "start_time": "2023-03-14T17:10:13.208Z"
   },
   {
    "duration": 7083,
    "start_time": "2023-03-14T17:10:13.242Z"
   },
   {
    "duration": 7000,
    "start_time": "2023-03-14T17:10:20.327Z"
   },
   {
    "duration": 31,
    "start_time": "2023-03-14T17:10:27.328Z"
   },
   {
    "duration": 7221,
    "start_time": "2023-03-14T17:10:27.361Z"
   },
   {
    "duration": 29,
    "start_time": "2023-03-14T17:10:34.584Z"
   },
   {
    "duration": 38,
    "start_time": "2023-03-14T17:10:34.615Z"
   },
   {
    "duration": 6,
    "start_time": "2023-03-14T17:10:34.655Z"
   },
   {
    "duration": 51,
    "start_time": "2023-03-14T17:10:34.663Z"
   },
   {
    "duration": 8,
    "start_time": "2023-03-14T17:10:34.718Z"
   },
   {
    "duration": 1411,
    "start_time": "2023-03-14T17:10:34.727Z"
   },
   {
    "duration": 6,
    "start_time": "2023-03-14T17:10:36.140Z"
   },
   {
    "duration": 46,
    "start_time": "2023-03-14T17:10:36.148Z"
   },
   {
    "duration": 29,
    "start_time": "2023-03-14T17:10:36.196Z"
   },
   {
    "duration": 3,
    "start_time": "2023-03-14T17:10:36.227Z"
   },
   {
    "duration": 17,
    "start_time": "2023-03-14T17:10:36.232Z"
   },
   {
    "duration": 30,
    "start_time": "2023-03-14T17:10:36.250Z"
   },
   {
    "duration": 34,
    "start_time": "2023-03-14T17:10:36.290Z"
   },
   {
    "duration": 53,
    "start_time": "2023-03-14T17:10:36.326Z"
   },
   {
    "duration": 11,
    "start_time": "2023-03-14T17:10:36.388Z"
   },
   {
    "duration": 25,
    "start_time": "2023-03-14T17:10:36.403Z"
   },
   {
    "duration": 8,
    "start_time": "2023-03-14T17:10:36.430Z"
   },
   {
    "duration": 113,
    "start_time": "2023-03-14T17:10:36.439Z"
   },
   {
    "duration": 58,
    "start_time": "2023-03-14T17:10:36.553Z"
   },
   {
    "duration": 11,
    "start_time": "2023-03-14T17:10:36.612Z"
   },
   {
    "duration": 17,
    "start_time": "2023-03-14T17:10:36.624Z"
   },
   {
    "duration": 142,
    "start_time": "2023-03-14T17:10:36.643Z"
   },
   {
    "duration": 0,
    "start_time": "2023-03-14T17:10:36.788Z"
   },
   {
    "duration": 0,
    "start_time": "2023-03-14T17:10:36.789Z"
   },
   {
    "duration": 0,
    "start_time": "2023-03-14T17:10:36.797Z"
   },
   {
    "duration": 0,
    "start_time": "2023-03-14T17:10:36.798Z"
   },
   {
    "duration": 0,
    "start_time": "2023-03-14T17:10:36.799Z"
   },
   {
    "duration": 0,
    "start_time": "2023-03-14T17:10:36.800Z"
   },
   {
    "duration": 0,
    "start_time": "2023-03-14T17:10:36.802Z"
   },
   {
    "duration": 0,
    "start_time": "2023-03-14T17:10:36.803Z"
   },
   {
    "duration": 0,
    "start_time": "2023-03-14T17:10:36.804Z"
   },
   {
    "duration": 0,
    "start_time": "2023-03-14T17:10:36.806Z"
   },
   {
    "duration": 0,
    "start_time": "2023-03-14T17:10:36.807Z"
   },
   {
    "duration": 0,
    "start_time": "2023-03-14T17:10:36.808Z"
   },
   {
    "duration": 0,
    "start_time": "2023-03-14T17:10:36.809Z"
   },
   {
    "duration": 0,
    "start_time": "2023-03-14T17:10:36.811Z"
   },
   {
    "duration": 0,
    "start_time": "2023-03-14T17:10:36.812Z"
   },
   {
    "duration": 1356,
    "start_time": "2023-03-14T19:44:34.113Z"
   },
   {
    "duration": 1151,
    "start_time": "2023-03-14T19:44:35.472Z"
   },
   {
    "duration": 14,
    "start_time": "2023-03-14T19:44:36.625Z"
   },
   {
    "duration": 10,
    "start_time": "2023-03-14T19:44:36.641Z"
   },
   {
    "duration": 22,
    "start_time": "2023-03-14T19:44:36.654Z"
   },
   {
    "duration": 153,
    "start_time": "2023-03-14T19:44:36.678Z"
   },
   {
    "duration": 9,
    "start_time": "2023-03-14T19:44:36.833Z"
   },
   {
    "duration": 30,
    "start_time": "2023-03-14T19:44:36.854Z"
   },
   {
    "duration": 18,
    "start_time": "2023-03-14T19:44:36.886Z"
   },
   {
    "duration": 6243,
    "start_time": "2023-03-14T19:44:36.906Z"
   },
   {
    "duration": 5991,
    "start_time": "2023-03-14T19:44:43.153Z"
   },
   {
    "duration": 14,
    "start_time": "2023-03-14T19:44:49.146Z"
   },
   {
    "duration": 15,
    "start_time": "2023-03-14T19:44:49.163Z"
   },
   {
    "duration": 6203,
    "start_time": "2023-03-14T19:44:49.181Z"
   },
   {
    "duration": 6072,
    "start_time": "2023-03-14T19:44:55.386Z"
   },
   {
    "duration": 23,
    "start_time": "2023-03-14T19:45:01.460Z"
   },
   {
    "duration": 6825,
    "start_time": "2023-03-14T19:45:01.485Z"
   },
   {
    "duration": 11,
    "start_time": "2023-03-14T19:45:08.311Z"
   },
   {
    "duration": 8,
    "start_time": "2023-03-14T19:45:08.324Z"
   },
   {
    "duration": 20,
    "start_time": "2023-03-14T19:45:08.334Z"
   },
   {
    "duration": 12,
    "start_time": "2023-03-14T19:45:08.356Z"
   },
   {
    "duration": 6,
    "start_time": "2023-03-14T19:45:08.370Z"
   },
   {
    "duration": 1171,
    "start_time": "2023-03-14T19:45:08.378Z"
   },
   {
    "duration": 8,
    "start_time": "2023-03-14T19:45:09.554Z"
   },
   {
    "duration": 20,
    "start_time": "2023-03-14T19:45:09.564Z"
   },
   {
    "duration": 21,
    "start_time": "2023-03-14T19:45:09.587Z"
   },
   {
    "duration": 3,
    "start_time": "2023-03-14T19:45:09.610Z"
   },
   {
    "duration": 41,
    "start_time": "2023-03-14T19:45:09.615Z"
   },
   {
    "duration": 7,
    "start_time": "2023-03-14T19:45:09.657Z"
   },
   {
    "duration": 9,
    "start_time": "2023-03-14T19:45:09.665Z"
   },
   {
    "duration": 35,
    "start_time": "2023-03-14T19:45:09.676Z"
   },
   {
    "duration": 3,
    "start_time": "2023-03-14T19:45:09.713Z"
   },
   {
    "duration": 52,
    "start_time": "2023-03-14T19:45:09.717Z"
   },
   {
    "duration": 41,
    "start_time": "2023-03-14T19:45:09.771Z"
   },
   {
    "duration": 99,
    "start_time": "2023-03-14T19:45:09.813Z"
   },
   {
    "duration": 45,
    "start_time": "2023-03-14T19:45:09.914Z"
   },
   {
    "duration": 3,
    "start_time": "2023-03-14T19:45:09.961Z"
   },
   {
    "duration": 13,
    "start_time": "2023-03-14T19:45:09.966Z"
   },
   {
    "duration": 115,
    "start_time": "2023-03-14T19:45:09.981Z"
   },
   {
    "duration": 0,
    "start_time": "2023-03-14T19:45:10.098Z"
   },
   {
    "duration": 0,
    "start_time": "2023-03-14T19:45:10.099Z"
   },
   {
    "duration": 0,
    "start_time": "2023-03-14T19:45:10.101Z"
   },
   {
    "duration": 0,
    "start_time": "2023-03-14T19:45:10.102Z"
   },
   {
    "duration": 0,
    "start_time": "2023-03-14T19:45:10.103Z"
   },
   {
    "duration": 0,
    "start_time": "2023-03-14T19:45:10.105Z"
   },
   {
    "duration": 0,
    "start_time": "2023-03-14T19:45:10.107Z"
   },
   {
    "duration": 0,
    "start_time": "2023-03-14T19:45:10.108Z"
   },
   {
    "duration": 0,
    "start_time": "2023-03-14T19:45:10.109Z"
   },
   {
    "duration": 0,
    "start_time": "2023-03-14T19:45:10.111Z"
   },
   {
    "duration": 0,
    "start_time": "2023-03-14T19:45:10.112Z"
   },
   {
    "duration": 0,
    "start_time": "2023-03-14T19:45:10.114Z"
   },
   {
    "duration": 0,
    "start_time": "2023-03-14T19:45:10.115Z"
   },
   {
    "duration": 0,
    "start_time": "2023-03-14T19:45:10.116Z"
   },
   {
    "duration": 0,
    "start_time": "2023-03-14T19:45:10.118Z"
   },
   {
    "duration": 1218,
    "start_time": "2023-03-15T11:02:48.107Z"
   },
   {
    "duration": 662,
    "start_time": "2023-03-15T11:02:49.327Z"
   },
   {
    "duration": 10,
    "start_time": "2023-03-15T11:02:49.990Z"
   },
   {
    "duration": 8,
    "start_time": "2023-03-15T11:02:50.002Z"
   },
   {
    "duration": 26,
    "start_time": "2023-03-15T11:02:50.011Z"
   },
   {
    "duration": 141,
    "start_time": "2023-03-15T11:02:50.038Z"
   },
   {
    "duration": 9,
    "start_time": "2023-03-15T11:02:50.181Z"
   },
   {
    "duration": 31,
    "start_time": "2023-03-15T11:02:50.191Z"
   },
   {
    "duration": 17,
    "start_time": "2023-03-15T11:02:50.224Z"
   },
   {
    "duration": 5287,
    "start_time": "2023-03-15T11:02:50.242Z"
   },
   {
    "duration": 5386,
    "start_time": "2023-03-15T11:02:55.530Z"
   },
   {
    "duration": 8,
    "start_time": "2023-03-15T11:03:00.917Z"
   },
   {
    "duration": 27,
    "start_time": "2023-03-15T11:03:00.939Z"
   },
   {
    "duration": 5678,
    "start_time": "2023-03-15T11:03:00.969Z"
   },
   {
    "duration": 5247,
    "start_time": "2023-03-15T11:03:06.649Z"
   },
   {
    "duration": 16,
    "start_time": "2023-03-15T11:03:11.898Z"
   },
   {
    "duration": 5452,
    "start_time": "2023-03-15T11:03:11.916Z"
   },
   {
    "duration": 10,
    "start_time": "2023-03-15T11:03:17.369Z"
   },
   {
    "duration": 12,
    "start_time": "2023-03-15T11:03:17.380Z"
   },
   {
    "duration": 3,
    "start_time": "2023-03-15T11:03:17.393Z"
   },
   {
    "duration": 8,
    "start_time": "2023-03-15T11:03:17.398Z"
   },
   {
    "duration": 5,
    "start_time": "2023-03-15T11:03:17.407Z"
   },
   {
    "duration": 1131,
    "start_time": "2023-03-15T11:03:17.414Z"
   },
   {
    "duration": 5,
    "start_time": "2023-03-15T11:03:18.546Z"
   },
   {
    "duration": 24,
    "start_time": "2023-03-15T11:03:18.553Z"
   },
   {
    "duration": 16,
    "start_time": "2023-03-15T11:03:18.579Z"
   },
   {
    "duration": 4,
    "start_time": "2023-03-15T11:03:18.596Z"
   },
   {
    "duration": 16,
    "start_time": "2023-03-15T11:03:18.601Z"
   },
   {
    "duration": 21,
    "start_time": "2023-03-15T11:03:18.619Z"
   },
   {
    "duration": 3,
    "start_time": "2023-03-15T11:03:18.642Z"
   },
   {
    "duration": 31,
    "start_time": "2023-03-15T11:03:18.646Z"
   },
   {
    "duration": 2,
    "start_time": "2023-03-15T11:03:18.679Z"
   },
   {
    "duration": 11,
    "start_time": "2023-03-15T11:03:18.683Z"
   },
   {
    "duration": 5,
    "start_time": "2023-03-15T11:03:18.696Z"
   },
   {
    "duration": 123,
    "start_time": "2023-03-15T11:03:18.702Z"
   },
   {
    "duration": 38,
    "start_time": "2023-03-15T11:03:18.828Z"
   },
   {
    "duration": 3,
    "start_time": "2023-03-15T11:03:18.867Z"
   },
   {
    "duration": 9,
    "start_time": "2023-03-15T11:03:18.872Z"
   },
   {
    "duration": 105,
    "start_time": "2023-03-15T11:03:18.882Z"
   },
   {
    "duration": 1,
    "start_time": "2023-03-15T11:03:18.989Z"
   },
   {
    "duration": 0,
    "start_time": "2023-03-15T11:03:18.991Z"
   },
   {
    "duration": 0,
    "start_time": "2023-03-15T11:03:18.992Z"
   },
   {
    "duration": 1,
    "start_time": "2023-03-15T11:03:18.993Z"
   },
   {
    "duration": 0,
    "start_time": "2023-03-15T11:03:18.995Z"
   },
   {
    "duration": 0,
    "start_time": "2023-03-15T11:03:18.996Z"
   },
   {
    "duration": 0,
    "start_time": "2023-03-15T11:03:18.997Z"
   },
   {
    "duration": 0,
    "start_time": "2023-03-15T11:03:18.998Z"
   },
   {
    "duration": 0,
    "start_time": "2023-03-15T11:03:19.000Z"
   },
   {
    "duration": 0,
    "start_time": "2023-03-15T11:03:19.000Z"
   },
   {
    "duration": 0,
    "start_time": "2023-03-15T11:03:19.002Z"
   },
   {
    "duration": 0,
    "start_time": "2023-03-15T11:03:19.004Z"
   },
   {
    "duration": 0,
    "start_time": "2023-03-15T11:03:19.005Z"
   },
   {
    "duration": 0,
    "start_time": "2023-03-15T11:03:19.007Z"
   },
   {
    "duration": 0,
    "start_time": "2023-03-15T11:03:19.008Z"
   },
   {
    "duration": 166,
    "start_time": "2023-03-15T11:05:03.108Z"
   },
   {
    "duration": 61,
    "start_time": "2023-03-15T11:05:25.026Z"
   },
   {
    "duration": 3,
    "start_time": "2023-03-15T11:05:25.574Z"
   },
   {
    "duration": 6,
    "start_time": "2023-03-15T11:05:26.004Z"
   },
   {
    "duration": 137,
    "start_time": "2023-03-15T11:05:26.359Z"
   },
   {
    "duration": 24,
    "start_time": "2023-03-15T11:05:30.471Z"
   },
   {
    "duration": 4,
    "start_time": "2023-03-15T11:05:30.617Z"
   },
   {
    "duration": 146,
    "start_time": "2023-03-15T11:05:30.973Z"
   },
   {
    "duration": 18,
    "start_time": "2023-03-15T11:05:31.466Z"
   },
   {
    "duration": 17,
    "start_time": "2023-03-15T11:05:31.622Z"
   },
   {
    "duration": 16,
    "start_time": "2023-03-15T11:05:31.803Z"
   },
   {
    "duration": 15,
    "start_time": "2023-03-15T11:05:31.953Z"
   },
   {
    "duration": 4,
    "start_time": "2023-03-15T11:05:32.112Z"
   },
   {
    "duration": 4,
    "start_time": "2023-03-15T11:05:32.608Z"
   },
   {
    "duration": 4,
    "start_time": "2023-03-15T11:05:58.803Z"
   },
   {
    "duration": 44,
    "start_time": "2023-03-15T11:06:43.769Z"
   },
   {
    "duration": 3,
    "start_time": "2023-03-15T11:06:44.304Z"
   },
   {
    "duration": 8,
    "start_time": "2023-03-15T11:06:44.812Z"
   },
   {
    "duration": 109,
    "start_time": "2023-03-15T11:06:47.358Z"
   },
   {
    "duration": 60,
    "start_time": "2023-03-15T11:07:19.918Z"
   },
   {
    "duration": 2,
    "start_time": "2023-03-15T11:07:20.424Z"
   },
   {
    "duration": 7,
    "start_time": "2023-03-15T11:07:20.803Z"
   },
   {
    "duration": 134,
    "start_time": "2023-03-15T11:07:25.245Z"
   },
   {
    "duration": 35,
    "start_time": "2023-03-15T11:09:06.177Z"
   },
   {
    "duration": 4,
    "start_time": "2023-03-15T11:09:09.004Z"
   },
   {
    "duration": 20,
    "start_time": "2023-03-15T11:09:59.938Z"
   },
   {
    "duration": 4,
    "start_time": "2023-03-15T11:10:00.456Z"
   },
   {
    "duration": 12,
    "start_time": "2023-03-15T11:12:04.533Z"
   },
   {
    "duration": 149,
    "start_time": "2023-03-15T11:13:57.215Z"
   },
   {
    "duration": 21,
    "start_time": "2023-03-15T11:14:10.966Z"
   },
   {
    "duration": 16,
    "start_time": "2023-03-15T11:14:11.135Z"
   },
   {
    "duration": 17,
    "start_time": "2023-03-15T11:14:11.318Z"
   },
   {
    "duration": 20,
    "start_time": "2023-03-15T11:14:11.701Z"
   },
   {
    "duration": 4,
    "start_time": "2023-03-15T11:14:11.919Z"
   },
   {
    "duration": 3,
    "start_time": "2023-03-15T11:15:24.158Z"
   },
   {
    "duration": 3,
    "start_time": "2023-03-15T11:15:32.249Z"
   },
   {
    "duration": 173,
    "start_time": "2023-03-15T11:16:46.641Z"
   },
   {
    "duration": 3,
    "start_time": "2023-03-15T11:17:02.005Z"
   },
   {
    "duration": 97,
    "start_time": "2023-03-15T11:17:02.676Z"
   },
   {
    "duration": 44,
    "start_time": "2023-03-15T11:17:14.674Z"
   },
   {
    "duration": 82,
    "start_time": "2023-03-15T11:17:40.305Z"
   },
   {
    "duration": 98,
    "start_time": "2023-03-15T11:17:55.032Z"
   },
   {
    "duration": 8,
    "start_time": "2023-03-15T11:22:31.325Z"
   },
   {
    "duration": 10,
    "start_time": "2023-03-15T11:24:48.820Z"
   },
   {
    "duration": 10,
    "start_time": "2023-03-15T11:24:52.705Z"
   },
   {
    "duration": 34,
    "start_time": "2023-03-15T11:25:53.136Z"
   },
   {
    "duration": 9,
    "start_time": "2023-03-15T11:25:53.878Z"
   },
   {
    "duration": 37,
    "start_time": "2023-03-15T11:26:12.005Z"
   },
   {
    "duration": 32,
    "start_time": "2023-03-15T11:26:21.126Z"
   },
   {
    "duration": 7,
    "start_time": "2023-03-15T11:26:22.674Z"
   },
   {
    "duration": 34,
    "start_time": "2023-03-15T11:26:33.709Z"
   },
   {
    "duration": 8,
    "start_time": "2023-03-15T11:26:34.472Z"
   },
   {
    "duration": 71,
    "start_time": "2023-03-15T11:26:45.718Z"
   },
   {
    "duration": 34,
    "start_time": "2023-03-15T11:26:49.018Z"
   },
   {
    "duration": 10,
    "start_time": "2023-03-15T11:26:50.021Z"
   },
   {
    "duration": 7,
    "start_time": "2023-03-15T11:27:43.575Z"
   },
   {
    "duration": 6,
    "start_time": "2023-03-15T11:27:47.129Z"
   },
   {
    "duration": 41,
    "start_time": "2023-03-15T11:27:58.510Z"
   },
   {
    "duration": 5,
    "start_time": "2023-03-15T11:28:12.763Z"
   },
   {
    "duration": 7,
    "start_time": "2023-03-15T11:29:19.547Z"
   },
   {
    "duration": 4,
    "start_time": "2023-03-15T11:29:20.065Z"
   },
   {
    "duration": 9,
    "start_time": "2023-03-15T11:45:30.956Z"
   },
   {
    "duration": 12,
    "start_time": "2023-03-15T11:45:37.327Z"
   },
   {
    "duration": 8,
    "start_time": "2023-03-15T11:45:48.961Z"
   },
   {
    "duration": 9,
    "start_time": "2023-03-15T11:46:04.407Z"
   },
   {
    "duration": 9,
    "start_time": "2023-03-15T11:46:04.824Z"
   },
   {
    "duration": 17,
    "start_time": "2023-03-15T11:46:20.019Z"
   },
   {
    "duration": 14,
    "start_time": "2023-03-15T11:46:26.310Z"
   },
   {
    "duration": 9,
    "start_time": "2023-03-15T11:46:56.115Z"
   },
   {
    "duration": 2,
    "start_time": "2023-03-15T11:47:23.819Z"
   },
   {
    "duration": 3,
    "start_time": "2023-03-15T11:47:26.211Z"
   },
   {
    "duration": 141,
    "start_time": "2023-03-15T11:47:26.523Z"
   },
   {
    "duration": 7,
    "start_time": "2023-03-15T11:47:26.815Z"
   },
   {
    "duration": 6,
    "start_time": "2023-03-15T11:47:27.316Z"
   },
   {
    "duration": 27,
    "start_time": "2023-03-15T11:47:27.635Z"
   },
   {
    "duration": 99,
    "start_time": "2023-03-15T11:47:28.011Z"
   },
   {
    "duration": 8,
    "start_time": "2023-03-15T11:47:28.215Z"
   },
   {
    "duration": 26,
    "start_time": "2023-03-15T11:47:28.539Z"
   },
   {
    "duration": 8,
    "start_time": "2023-03-15T11:47:28.726Z"
   },
   {
    "duration": 5478,
    "start_time": "2023-03-15T11:47:29.223Z"
   },
   {
    "duration": 5451,
    "start_time": "2023-03-15T11:47:34.703Z"
   },
   {
    "duration": 9,
    "start_time": "2023-03-15T11:47:40.155Z"
   },
   {
    "duration": 14,
    "start_time": "2023-03-15T11:47:40.166Z"
   },
   {
    "duration": 5515,
    "start_time": "2023-03-15T11:47:40.182Z"
   },
   {
    "duration": 5358,
    "start_time": "2023-03-15T11:47:45.698Z"
   },
   {
    "duration": 19,
    "start_time": "2023-03-15T11:47:51.058Z"
   },
   {
    "duration": 5634,
    "start_time": "2023-03-15T11:47:51.079Z"
   },
   {
    "duration": 10,
    "start_time": "2023-03-15T11:47:56.714Z"
   },
   {
    "duration": 8,
    "start_time": "2023-03-15T11:47:56.739Z"
   },
   {
    "duration": 9,
    "start_time": "2023-03-15T11:47:56.748Z"
   },
   {
    "duration": 10,
    "start_time": "2023-03-15T11:47:56.758Z"
   },
   {
    "duration": 10,
    "start_time": "2023-03-15T11:47:56.770Z"
   },
   {
    "duration": 1043,
    "start_time": "2023-03-15T11:47:56.782Z"
   },
   {
    "duration": 5,
    "start_time": "2023-03-15T11:47:57.826Z"
   },
   {
    "duration": 19,
    "start_time": "2023-03-15T11:47:57.832Z"
   },
   {
    "duration": 20,
    "start_time": "2023-03-15T11:47:57.852Z"
   },
   {
    "duration": 4,
    "start_time": "2023-03-15T11:47:57.873Z"
   },
   {
    "duration": 8,
    "start_time": "2023-03-15T11:47:57.878Z"
   },
   {
    "duration": 12,
    "start_time": "2023-03-15T11:47:57.887Z"
   },
   {
    "duration": 4,
    "start_time": "2023-03-15T11:47:57.900Z"
   },
   {
    "duration": 29,
    "start_time": "2023-03-15T11:47:57.940Z"
   },
   {
    "duration": 3,
    "start_time": "2023-03-15T11:47:57.971Z"
   },
   {
    "duration": 11,
    "start_time": "2023-03-15T11:47:57.975Z"
   },
   {
    "duration": 6,
    "start_time": "2023-03-15T11:47:57.988Z"
   },
   {
    "duration": 111,
    "start_time": "2023-03-15T11:47:57.995Z"
   },
   {
    "duration": 37,
    "start_time": "2023-03-15T11:47:58.108Z"
   },
   {
    "duration": 3,
    "start_time": "2023-03-15T11:47:58.149Z"
   },
   {
    "duration": 9,
    "start_time": "2023-03-15T11:47:58.154Z"
   },
   {
    "duration": 139,
    "start_time": "2023-03-15T11:47:58.164Z"
   },
   {
    "duration": 85,
    "start_time": "2023-03-15T11:47:58.305Z"
   },
   {
    "duration": 3,
    "start_time": "2023-03-15T11:47:58.391Z"
   },
   {
    "duration": 22,
    "start_time": "2023-03-15T11:47:58.396Z"
   },
   {
    "duration": 149,
    "start_time": "2023-03-15T11:47:58.420Z"
   },
   {
    "duration": 21,
    "start_time": "2023-03-15T11:47:58.571Z"
   },
   {
    "duration": 3,
    "start_time": "2023-03-15T11:47:58.594Z"
   },
   {
    "duration": 17,
    "start_time": "2023-03-15T11:47:58.598Z"
   },
   {
    "duration": 173,
    "start_time": "2023-03-15T11:47:58.617Z"
   },
   {
    "duration": 21,
    "start_time": "2023-03-15T11:47:58.791Z"
   },
   {
    "duration": 32,
    "start_time": "2023-03-15T11:47:58.814Z"
   },
   {
    "duration": 19,
    "start_time": "2023-03-15T11:47:58.848Z"
   },
   {
    "duration": 17,
    "start_time": "2023-03-15T11:47:58.869Z"
   },
   {
    "duration": 4,
    "start_time": "2023-03-15T11:47:58.889Z"
   },
   {
    "duration": 8,
    "start_time": "2023-03-15T11:47:58.895Z"
   },
   {
    "duration": 129,
    "start_time": "2023-03-15T11:47:58.905Z"
   },
   {
    "duration": 9,
    "start_time": "2023-03-15T11:47:59.040Z"
   },
   {
    "duration": 35,
    "start_time": "2023-03-15T11:47:59.051Z"
   },
   {
    "duration": 7,
    "start_time": "2023-03-15T11:47:59.088Z"
   },
   {
    "duration": 11,
    "start_time": "2023-03-15T11:47:59.097Z"
   },
   {
    "duration": 31,
    "start_time": "2023-03-15T11:47:59.109Z"
   },
   {
    "duration": 9,
    "start_time": "2023-03-15T11:47:59.142Z"
   },
   {
    "duration": 0,
    "start_time": "2023-03-15T11:48:08.469Z"
   },
   {
    "duration": 0,
    "start_time": "2023-03-15T11:48:08.470Z"
   },
   {
    "duration": 7,
    "start_time": "2023-03-15T11:48:20.618Z"
   },
   {
    "duration": 5,
    "start_time": "2023-03-15T11:48:21.610Z"
   },
   {
    "duration": 8807,
    "start_time": "2023-03-15T11:48:41.345Z"
   },
   {
    "duration": 0,
    "start_time": "2023-03-15T11:48:50.154Z"
   },
   {
    "duration": 14,
    "start_time": "2023-03-15T11:49:18.735Z"
   },
   {
    "duration": 9,
    "start_time": "2023-03-15T11:50:22.112Z"
   },
   {
    "duration": 16,
    "start_time": "2023-03-15T11:50:43.226Z"
   },
   {
    "duration": 6,
    "start_time": "2023-03-15T11:51:42.636Z"
   },
   {
    "duration": 10,
    "start_time": "2023-03-15T11:51:59.916Z"
   },
   {
    "duration": 18,
    "start_time": "2023-03-15T11:52:17.884Z"
   },
   {
    "duration": 8,
    "start_time": "2023-03-15T11:52:29.715Z"
   },
   {
    "duration": 7,
    "start_time": "2023-03-15T11:52:43.457Z"
   },
   {
    "duration": 19,
    "start_time": "2023-03-15T11:53:00.122Z"
   },
   {
    "duration": 8,
    "start_time": "2023-03-15T11:53:00.315Z"
   },
   {
    "duration": 5,
    "start_time": "2023-03-15T11:53:00.519Z"
   },
   {
    "duration": 11,
    "start_time": "2023-03-15T11:53:00.657Z"
   },
   {
    "duration": 8,
    "start_time": "2023-03-15T11:53:16.951Z"
   },
   {
    "duration": 9,
    "start_time": "2023-03-15T11:53:18.323Z"
   },
   {
    "duration": 12,
    "start_time": "2023-03-15T11:53:22.411Z"
   },
   {
    "duration": 8978,
    "start_time": "2023-03-15T11:53:27.655Z"
   },
   {
    "duration": 8,
    "start_time": "2023-03-15T11:54:24.235Z"
   },
   {
    "duration": 4,
    "start_time": "2023-03-15T11:54:56.726Z"
   },
   {
    "duration": 7,
    "start_time": "2023-03-15T11:55:08.706Z"
   },
   {
    "duration": 3,
    "start_time": "2023-03-15T11:55:20.215Z"
   },
   {
    "duration": 5,
    "start_time": "2023-03-15T11:55:21.915Z"
   },
   {
    "duration": 10223,
    "start_time": "2023-03-15T11:55:27.254Z"
   },
   {
    "duration": 549,
    "start_time": "2023-03-15T11:55:50.454Z"
   },
   {
    "duration": 544,
    "start_time": "2023-03-15T11:55:53.498Z"
   },
   {
    "duration": 502,
    "start_time": "2023-03-15T11:56:28.008Z"
   },
   {
    "duration": 514,
    "start_time": "2023-03-15T11:56:32.754Z"
   },
   {
    "duration": 529,
    "start_time": "2023-03-15T11:56:35.406Z"
   },
   {
    "duration": 11,
    "start_time": "2023-03-15T12:04:43.791Z"
   },
   {
    "duration": 11,
    "start_time": "2023-03-15T12:04:51.703Z"
   },
   {
    "duration": 15178,
    "start_time": "2023-03-15T12:05:15.059Z"
   },
   {
    "duration": 14,
    "start_time": "2023-03-15T12:06:01.708Z"
   },
   {
    "duration": 78,
    "start_time": "2023-03-15T12:06:11.854Z"
   },
   {
    "duration": 460,
    "start_time": "2023-03-15T12:06:29.187Z"
   },
   {
    "duration": 1659,
    "start_time": "2023-03-15T16:17:34.895Z"
   },
   {
    "duration": 409,
    "start_time": "2023-03-15T16:17:36.556Z"
   },
   {
    "duration": 11,
    "start_time": "2023-03-15T16:17:36.967Z"
   },
   {
    "duration": 20,
    "start_time": "2023-03-15T16:17:36.981Z"
   },
   {
    "duration": 39,
    "start_time": "2023-03-15T16:17:37.013Z"
   },
   {
    "duration": 165,
    "start_time": "2023-03-15T16:17:37.054Z"
   },
   {
    "duration": 17,
    "start_time": "2023-03-15T16:17:37.221Z"
   },
   {
    "duration": 37,
    "start_time": "2023-03-15T16:17:37.240Z"
   },
   {
    "duration": 23,
    "start_time": "2023-03-15T16:17:37.279Z"
   },
   {
    "duration": 7677,
    "start_time": "2023-03-15T16:17:37.306Z"
   },
   {
    "duration": 7662,
    "start_time": "2023-03-15T16:17:44.985Z"
   },
   {
    "duration": 9,
    "start_time": "2023-03-15T16:17:52.649Z"
   },
   {
    "duration": 12,
    "start_time": "2023-03-15T16:17:52.660Z"
   },
   {
    "duration": 8273,
    "start_time": "2023-03-15T16:17:52.674Z"
   },
   {
    "duration": 7983,
    "start_time": "2023-03-15T16:18:00.950Z"
   },
   {
    "duration": 21,
    "start_time": "2023-03-15T16:18:08.936Z"
   },
   {
    "duration": 7572,
    "start_time": "2023-03-15T16:18:08.959Z"
   },
   {
    "duration": 14,
    "start_time": "2023-03-15T16:18:16.533Z"
   },
   {
    "duration": 14,
    "start_time": "2023-03-15T16:18:16.549Z"
   },
   {
    "duration": 6,
    "start_time": "2023-03-15T16:18:16.565Z"
   },
   {
    "duration": 19,
    "start_time": "2023-03-15T16:18:16.573Z"
   },
   {
    "duration": 45,
    "start_time": "2023-03-15T16:18:16.594Z"
   },
   {
    "duration": 1444,
    "start_time": "2023-03-15T16:18:16.642Z"
   },
   {
    "duration": 13,
    "start_time": "2023-03-15T16:18:18.088Z"
   },
   {
    "duration": 44,
    "start_time": "2023-03-15T16:18:18.104Z"
   },
   {
    "duration": 21,
    "start_time": "2023-03-15T16:18:18.150Z"
   },
   {
    "duration": 5,
    "start_time": "2023-03-15T16:18:18.172Z"
   },
   {
    "duration": 63,
    "start_time": "2023-03-15T16:18:18.181Z"
   },
   {
    "duration": 5,
    "start_time": "2023-03-15T16:18:18.246Z"
   },
   {
    "duration": 6,
    "start_time": "2023-03-15T16:18:18.253Z"
   },
   {
    "duration": 44,
    "start_time": "2023-03-15T16:18:18.260Z"
   },
   {
    "duration": 4,
    "start_time": "2023-03-15T16:18:18.305Z"
   },
   {
    "duration": 36,
    "start_time": "2023-03-15T16:18:18.311Z"
   },
   {
    "duration": 7,
    "start_time": "2023-03-15T16:18:18.350Z"
   },
   {
    "duration": 129,
    "start_time": "2023-03-15T16:18:18.359Z"
   },
   {
    "duration": 55,
    "start_time": "2023-03-15T16:18:18.496Z"
   },
   {
    "duration": 2,
    "start_time": "2023-03-15T16:18:18.553Z"
   },
   {
    "duration": 10,
    "start_time": "2023-03-15T16:18:18.557Z"
   },
   {
    "duration": 179,
    "start_time": "2023-03-15T16:18:18.569Z"
   },
   {
    "duration": 93,
    "start_time": "2023-03-15T16:18:18.750Z"
   },
   {
    "duration": 3,
    "start_time": "2023-03-15T16:18:18.844Z"
   },
   {
    "duration": 18,
    "start_time": "2023-03-15T16:18:18.849Z"
   },
   {
    "duration": 191,
    "start_time": "2023-03-15T16:18:18.869Z"
   },
   {
    "duration": 23,
    "start_time": "2023-03-15T16:18:19.062Z"
   },
   {
    "duration": 34,
    "start_time": "2023-03-15T16:18:19.087Z"
   },
   {
    "duration": 21,
    "start_time": "2023-03-15T16:18:19.123Z"
   },
   {
    "duration": 188,
    "start_time": "2023-03-15T16:18:19.146Z"
   },
   {
    "duration": 24,
    "start_time": "2023-03-15T16:18:19.335Z"
   },
   {
    "duration": 211,
    "start_time": "2023-03-15T16:18:19.360Z"
   },
   {
    "duration": 249,
    "start_time": "2023-03-15T16:18:19.573Z"
   },
   {
    "duration": 49,
    "start_time": "2023-03-15T16:18:19.824Z"
   },
   {
    "duration": 60,
    "start_time": "2023-03-15T16:18:19.874Z"
   },
   {
    "duration": 6,
    "start_time": "2023-03-15T16:18:19.936Z"
   },
   {
    "duration": 117,
    "start_time": "2023-03-15T16:18:19.944Z"
   },
   {
    "duration": 9,
    "start_time": "2023-03-15T16:18:20.063Z"
   },
   {
    "duration": 94,
    "start_time": "2023-03-15T16:18:20.073Z"
   },
   {
    "duration": 6,
    "start_time": "2023-03-15T16:18:20.169Z"
   },
   {
    "duration": 8,
    "start_time": "2023-03-15T16:18:20.176Z"
   },
   {
    "duration": 57,
    "start_time": "2023-03-15T16:18:20.186Z"
   },
   {
    "duration": 9,
    "start_time": "2023-03-15T16:18:20.246Z"
   },
   {
    "duration": 13,
    "start_time": "2023-03-15T16:18:20.257Z"
   },
   {
    "duration": 764,
    "start_time": "2023-03-15T16:18:20.272Z"
   },
   {
    "duration": 0,
    "start_time": "2023-03-15T16:18:21.038Z"
   },
   {
    "duration": 0,
    "start_time": "2023-03-15T16:18:21.039Z"
   },
   {
    "duration": 76,
    "start_time": "2023-03-15T16:23:16.307Z"
   },
   {
    "duration": 4,
    "start_time": "2023-03-15T16:25:30.789Z"
   },
   {
    "duration": 5,
    "start_time": "2023-03-15T16:26:11.199Z"
   },
   {
    "duration": 17,
    "start_time": "2023-03-15T16:43:40.608Z"
   },
   {
    "duration": 19,
    "start_time": "2023-03-15T16:43:49.294Z"
   },
   {
    "duration": 23,
    "start_time": "2023-03-15T16:43:55.035Z"
   },
   {
    "duration": 7305,
    "start_time": "2023-03-15T17:06:37.252Z"
   },
   {
    "duration": 126,
    "start_time": "2023-03-15T17:07:03.776Z"
   },
   {
    "duration": 114,
    "start_time": "2023-03-15T17:07:18.744Z"
   },
   {
    "duration": 4,
    "start_time": "2023-03-15T17:07:35.582Z"
   },
   {
    "duration": 10,
    "start_time": "2023-03-15T17:08:42.823Z"
   },
   {
    "duration": 9,
    "start_time": "2023-03-15T17:08:57.818Z"
   },
   {
    "duration": 13331,
    "start_time": "2023-03-15T17:09:25.244Z"
   },
   {
    "duration": 23,
    "start_time": "2023-03-15T17:09:38.577Z"
   },
   {
    "duration": 11047,
    "start_time": "2023-03-15T17:10:05.966Z"
   },
   {
    "duration": 16,
    "start_time": "2023-03-15T17:10:17.015Z"
   },
   {
    "duration": 13,
    "start_time": "2023-03-15T17:10:17.033Z"
   },
   {
    "duration": 33,
    "start_time": "2023-03-15T17:10:35.781Z"
   },
   {
    "duration": 15,
    "start_time": "2023-03-15T17:10:38.396Z"
   },
   {
    "duration": 11220,
    "start_time": "2023-03-15T17:10:52.968Z"
   },
   {
    "duration": 22,
    "start_time": "2023-03-15T17:11:04.190Z"
   },
   {
    "duration": 102,
    "start_time": "2023-03-15T17:11:12.502Z"
   },
   {
    "duration": 16,
    "start_time": "2023-03-15T17:18:05.141Z"
   },
   {
    "duration": 11,
    "start_time": "2023-03-15T17:18:46.477Z"
   },
   {
    "duration": 21,
    "start_time": "2023-03-15T17:18:46.691Z"
   },
   {
    "duration": 13,
    "start_time": "2023-03-15T17:18:46.944Z"
   },
   {
    "duration": 1479,
    "start_time": "2023-03-16T07:36:16.762Z"
   },
   {
    "duration": 825,
    "start_time": "2023-03-16T07:36:18.244Z"
   },
   {
    "duration": 14,
    "start_time": "2023-03-16T07:36:19.070Z"
   },
   {
    "duration": 20,
    "start_time": "2023-03-16T07:36:19.086Z"
   },
   {
    "duration": 24,
    "start_time": "2023-03-16T07:36:19.109Z"
   },
   {
    "duration": 141,
    "start_time": "2023-03-16T07:36:19.136Z"
   },
   {
    "duration": 9,
    "start_time": "2023-03-16T07:36:19.279Z"
   },
   {
    "duration": 32,
    "start_time": "2023-03-16T07:36:19.289Z"
   },
   {
    "duration": 17,
    "start_time": "2023-03-16T07:36:19.323Z"
   },
   {
    "duration": 6111,
    "start_time": "2023-03-16T07:36:19.342Z"
   },
   {
    "duration": 6136,
    "start_time": "2023-03-16T07:36:25.455Z"
   },
   {
    "duration": 9,
    "start_time": "2023-03-16T07:36:31.593Z"
   },
   {
    "duration": 30,
    "start_time": "2023-03-16T07:36:31.604Z"
   },
   {
    "duration": 5987,
    "start_time": "2023-03-16T07:36:31.636Z"
   },
   {
    "duration": 5766,
    "start_time": "2023-03-16T07:36:37.625Z"
   },
   {
    "duration": 24,
    "start_time": "2023-03-16T07:36:43.394Z"
   },
   {
    "duration": 6107,
    "start_time": "2023-03-16T07:36:43.420Z"
   },
   {
    "duration": 12,
    "start_time": "2023-03-16T07:36:49.529Z"
   },
   {
    "duration": 12,
    "start_time": "2023-03-16T07:36:49.543Z"
   },
   {
    "duration": 13,
    "start_time": "2023-03-16T07:36:49.557Z"
   },
   {
    "duration": 7,
    "start_time": "2023-03-16T07:36:49.572Z"
   },
   {
    "duration": 7,
    "start_time": "2023-03-16T07:36:49.581Z"
   },
   {
    "duration": 1143,
    "start_time": "2023-03-16T07:36:49.590Z"
   },
   {
    "duration": 5,
    "start_time": "2023-03-16T07:36:50.735Z"
   },
   {
    "duration": 28,
    "start_time": "2023-03-16T07:36:50.742Z"
   },
   {
    "duration": 21,
    "start_time": "2023-03-16T07:36:50.771Z"
   },
   {
    "duration": 4,
    "start_time": "2023-03-16T07:36:50.794Z"
   },
   {
    "duration": 23,
    "start_time": "2023-03-16T07:36:50.800Z"
   },
   {
    "duration": 10,
    "start_time": "2023-03-16T07:36:50.825Z"
   },
   {
    "duration": 12,
    "start_time": "2023-03-16T07:36:50.836Z"
   },
   {
    "duration": 45,
    "start_time": "2023-03-16T07:36:50.850Z"
   },
   {
    "duration": 2,
    "start_time": "2023-03-16T07:36:50.897Z"
   },
   {
    "duration": 14,
    "start_time": "2023-03-16T07:36:50.901Z"
   },
   {
    "duration": 21,
    "start_time": "2023-03-16T07:36:50.916Z"
   },
   {
    "duration": 95,
    "start_time": "2023-03-16T07:36:50.939Z"
   },
   {
    "duration": 37,
    "start_time": "2023-03-16T07:36:51.035Z"
   },
   {
    "duration": 3,
    "start_time": "2023-03-16T07:36:51.073Z"
   },
   {
    "duration": 10,
    "start_time": "2023-03-16T07:36:51.077Z"
   },
   {
    "duration": 131,
    "start_time": "2023-03-16T07:36:51.088Z"
   },
   {
    "duration": 71,
    "start_time": "2023-03-16T07:36:51.220Z"
   },
   {
    "duration": 3,
    "start_time": "2023-03-16T07:36:51.295Z"
   },
   {
    "duration": 31,
    "start_time": "2023-03-16T07:36:51.299Z"
   },
   {
    "duration": 162,
    "start_time": "2023-03-16T07:36:51.332Z"
   },
   {
    "duration": 23,
    "start_time": "2023-03-16T07:36:51.496Z"
   },
   {
    "duration": 6,
    "start_time": "2023-03-16T07:36:51.520Z"
   },
   {
    "duration": 15,
    "start_time": "2023-03-16T07:36:51.527Z"
   },
   {
    "duration": 164,
    "start_time": "2023-03-16T07:36:51.543Z"
   },
   {
    "duration": 21,
    "start_time": "2023-03-16T07:36:51.709Z"
   },
   {
    "duration": 19,
    "start_time": "2023-03-16T07:36:51.732Z"
   },
   {
    "duration": 21,
    "start_time": "2023-03-16T07:36:51.769Z"
   },
   {
    "duration": 19,
    "start_time": "2023-03-16T07:36:51.792Z"
   },
   {
    "duration": 9,
    "start_time": "2023-03-16T07:36:51.813Z"
   },
   {
    "duration": 9,
    "start_time": "2023-03-16T07:36:51.824Z"
   },
   {
    "duration": 104,
    "start_time": "2023-03-16T07:36:51.835Z"
   },
   {
    "duration": 10,
    "start_time": "2023-03-16T07:36:51.941Z"
   },
   {
    "duration": 36,
    "start_time": "2023-03-16T07:36:51.969Z"
   },
   {
    "duration": 7,
    "start_time": "2023-03-16T07:36:52.006Z"
   },
   {
    "duration": 5,
    "start_time": "2023-03-16T07:36:52.015Z"
   },
   {
    "duration": 5,
    "start_time": "2023-03-16T07:36:52.021Z"
   },
   {
    "duration": 15,
    "start_time": "2023-03-16T07:36:52.027Z"
   },
   {
    "duration": 30,
    "start_time": "2023-03-16T07:36:52.043Z"
   },
   {
    "duration": 13,
    "start_time": "2023-03-16T07:36:52.075Z"
   },
   {
    "duration": 103,
    "start_time": "2023-03-16T07:36:52.090Z"
   },
   {
    "duration": 10,
    "start_time": "2023-03-16T07:36:52.194Z"
   },
   {
    "duration": 42,
    "start_time": "2023-03-16T07:41:51.405Z"
   },
   {
    "duration": 3,
    "start_time": "2023-03-16T07:41:53.605Z"
   },
   {
    "duration": 6,
    "start_time": "2023-03-16T07:41:54.278Z"
   },
   {
    "duration": 4,
    "start_time": "2023-03-16T07:41:59.089Z"
   },
   {
    "duration": 88,
    "start_time": "2023-03-16T07:42:00.131Z"
   },
   {
    "duration": 93,
    "start_time": "2023-03-16T07:42:25.689Z"
   },
   {
    "duration": 9,
    "start_time": "2023-03-16T07:43:13.562Z"
   },
   {
    "duration": 35,
    "start_time": "2023-03-16T07:43:21.465Z"
   },
   {
    "duration": 6,
    "start_time": "2023-03-16T07:43:21.797Z"
   },
   {
    "duration": 5,
    "start_time": "2023-03-16T07:43:24.724Z"
   },
   {
    "duration": 86,
    "start_time": "2023-03-16T07:46:57.629Z"
   },
   {
    "duration": 2,
    "start_time": "2023-03-16T07:49:11.037Z"
   },
   {
    "duration": 303,
    "start_time": "2023-03-16T07:50:12.077Z"
   },
   {
    "duration": 180,
    "start_time": "2023-03-16T07:50:53.340Z"
   },
   {
    "duration": 42,
    "start_time": "2023-03-16T07:51:54.597Z"
   },
   {
    "duration": 43,
    "start_time": "2023-03-16T07:55:09.014Z"
   },
   {
    "duration": 149,
    "start_time": "2023-03-16T07:55:30.729Z"
   },
   {
    "duration": 46,
    "start_time": "2023-03-16T07:58:31.957Z"
   },
   {
    "duration": 43,
    "start_time": "2023-03-16T07:58:50.021Z"
   },
   {
    "duration": 94,
    "start_time": "2023-03-16T07:58:50.486Z"
   },
   {
    "duration": 11,
    "start_time": "2023-03-16T07:58:51.068Z"
   },
   {
    "duration": 40,
    "start_time": "2023-03-16T07:58:51.249Z"
   },
   {
    "duration": 7,
    "start_time": "2023-03-16T07:58:51.429Z"
   },
   {
    "duration": 5,
    "start_time": "2023-03-16T07:58:51.613Z"
   },
   {
    "duration": 6,
    "start_time": "2023-03-16T07:58:52.482Z"
   },
   {
    "duration": 14,
    "start_time": "2023-03-16T07:58:52.658Z"
   },
   {
    "duration": 14,
    "start_time": "2023-03-16T07:58:52.877Z"
   },
   {
    "duration": 22,
    "start_time": "2023-03-16T07:58:53.018Z"
   },
   {
    "duration": 4,
    "start_time": "2023-03-16T08:08:01.913Z"
   },
   {
    "duration": 4,
    "start_time": "2023-03-16T08:08:08.139Z"
   },
   {
    "duration": 101,
    "start_time": "2023-03-16T08:09:33.005Z"
   },
   {
    "duration": 10,
    "start_time": "2023-03-16T08:09:34.673Z"
   },
   {
    "duration": 42,
    "start_time": "2023-03-16T08:09:35.124Z"
   },
   {
    "duration": 7,
    "start_time": "2023-03-16T08:09:37.597Z"
   },
   {
    "duration": 4,
    "start_time": "2023-03-16T08:09:37.937Z"
   },
   {
    "duration": 46,
    "start_time": "2023-03-16T08:48:15.634Z"
   },
   {
    "duration": 51,
    "start_time": "2023-03-16T08:48:26.717Z"
   },
   {
    "duration": 12,
    "start_time": "2023-03-16T08:48:43.590Z"
   },
   {
    "duration": 5,
    "start_time": "2023-03-16T08:49:17.181Z"
   },
   {
    "duration": 10,
    "start_time": "2023-03-16T08:50:55.421Z"
   },
   {
    "duration": 10,
    "start_time": "2023-03-16T08:50:56.285Z"
   },
   {
    "duration": 10,
    "start_time": "2023-03-16T08:53:25.394Z"
   },
   {
    "duration": 13,
    "start_time": "2023-03-16T08:54:34.124Z"
   },
   {
    "duration": 12,
    "start_time": "2023-03-16T08:54:48.078Z"
   },
   {
    "duration": 12,
    "start_time": "2023-03-16T08:54:59.306Z"
   },
   {
    "duration": 5,
    "start_time": "2023-03-16T08:55:29.736Z"
   },
   {
    "duration": 6,
    "start_time": "2023-03-16T08:55:42.229Z"
   },
   {
    "duration": 5,
    "start_time": "2023-03-16T09:02:06.918Z"
   },
   {
    "duration": 35,
    "start_time": "2023-03-16T09:03:24.557Z"
   },
   {
    "duration": 3,
    "start_time": "2023-03-16T09:03:45.681Z"
   },
   {
    "duration": 159,
    "start_time": "2023-03-16T09:03:46.289Z"
   },
   {
    "duration": 7,
    "start_time": "2023-03-16T09:03:46.576Z"
   },
   {
    "duration": 6,
    "start_time": "2023-03-16T09:03:47.008Z"
   },
   {
    "duration": 22,
    "start_time": "2023-03-16T09:03:47.297Z"
   },
   {
    "duration": 117,
    "start_time": "2023-03-16T09:03:47.609Z"
   },
   {
    "duration": 9,
    "start_time": "2023-03-16T09:03:47.754Z"
   },
   {
    "duration": 27,
    "start_time": "2023-03-16T09:03:48.089Z"
   },
   {
    "duration": 9,
    "start_time": "2023-03-16T09:03:48.228Z"
   },
   {
    "duration": 6201,
    "start_time": "2023-03-16T09:03:48.717Z"
   },
   {
    "duration": 5790,
    "start_time": "2023-03-16T09:03:54.920Z"
   },
   {
    "duration": 10,
    "start_time": "2023-03-16T09:04:00.712Z"
   },
   {
    "duration": 42,
    "start_time": "2023-03-16T09:04:00.725Z"
   },
   {
    "duration": 6169,
    "start_time": "2023-03-16T09:04:00.769Z"
   },
   {
    "duration": 6591,
    "start_time": "2023-03-16T09:04:06.939Z"
   },
   {
    "duration": 22,
    "start_time": "2023-03-16T09:04:13.532Z"
   },
   {
    "duration": 5884,
    "start_time": "2023-03-16T09:04:13.556Z"
   },
   {
    "duration": 12,
    "start_time": "2023-03-16T09:04:19.442Z"
   },
   {
    "duration": 8,
    "start_time": "2023-03-16T09:04:19.468Z"
   },
   {
    "duration": 3,
    "start_time": "2023-03-16T09:04:19.478Z"
   },
   {
    "duration": 11,
    "start_time": "2023-03-16T09:04:19.483Z"
   },
   {
    "duration": 4,
    "start_time": "2023-03-16T09:04:19.496Z"
   },
   {
    "duration": 1126,
    "start_time": "2023-03-16T09:04:19.502Z"
   },
   {
    "duration": 5,
    "start_time": "2023-03-16T09:04:20.629Z"
   },
   {
    "duration": 15,
    "start_time": "2023-03-16T09:04:20.635Z"
   },
   {
    "duration": 33,
    "start_time": "2023-03-16T09:04:20.652Z"
   },
   {
    "duration": 3,
    "start_time": "2023-03-16T09:04:20.686Z"
   },
   {
    "duration": 9,
    "start_time": "2023-03-16T09:04:20.690Z"
   },
   {
    "duration": 8,
    "start_time": "2023-03-16T09:04:20.701Z"
   },
   {
    "duration": 6,
    "start_time": "2023-03-16T09:04:20.711Z"
   },
   {
    "duration": 75,
    "start_time": "2023-03-16T09:04:20.719Z"
   },
   {
    "duration": 3,
    "start_time": "2023-03-16T09:04:20.796Z"
   },
   {
    "duration": 16,
    "start_time": "2023-03-16T09:04:20.801Z"
   },
   {
    "duration": 9,
    "start_time": "2023-03-16T09:04:20.819Z"
   },
   {
    "duration": 99,
    "start_time": "2023-03-16T09:04:20.830Z"
   },
   {
    "duration": 43,
    "start_time": "2023-03-16T09:04:20.930Z"
   },
   {
    "duration": 3,
    "start_time": "2023-03-16T09:04:20.978Z"
   },
   {
    "duration": 10,
    "start_time": "2023-03-16T09:04:20.982Z"
   },
   {
    "duration": 1341,
    "start_time": "2023-03-16T09:04:23.015Z"
   },
   {
    "duration": 177,
    "start_time": "2023-03-16T09:04:24.359Z"
   },
   {
    "duration": 12,
    "start_time": "2023-03-16T09:04:24.538Z"
   },
   {
    "duration": 19,
    "start_time": "2023-03-16T09:04:24.553Z"
   },
   {
    "duration": 23,
    "start_time": "2023-03-16T09:04:24.573Z"
   },
   {
    "duration": 144,
    "start_time": "2023-03-16T09:04:24.598Z"
   },
   {
    "duration": 8,
    "start_time": "2023-03-16T09:04:24.744Z"
   },
   {
    "duration": 37,
    "start_time": "2023-03-16T09:04:24.754Z"
   },
   {
    "duration": 10,
    "start_time": "2023-03-16T09:04:24.793Z"
   },
   {
    "duration": 5807,
    "start_time": "2023-03-16T09:04:24.805Z"
   },
   {
    "duration": 5972,
    "start_time": "2023-03-16T09:04:30.614Z"
   },
   {
    "duration": 10,
    "start_time": "2023-03-16T09:04:36.587Z"
   },
   {
    "duration": 31,
    "start_time": "2023-03-16T09:04:36.598Z"
   },
   {
    "duration": 5914,
    "start_time": "2023-03-16T09:04:36.630Z"
   },
   {
    "duration": 5805,
    "start_time": "2023-03-16T09:04:42.545Z"
   },
   {
    "duration": 24,
    "start_time": "2023-03-16T09:04:48.352Z"
   },
   {
    "duration": 6015,
    "start_time": "2023-03-16T09:04:48.378Z"
   },
   {
    "duration": 12,
    "start_time": "2023-03-16T09:04:54.395Z"
   },
   {
    "duration": 18,
    "start_time": "2023-03-16T09:04:54.408Z"
   },
   {
    "duration": 4,
    "start_time": "2023-03-16T09:04:54.428Z"
   },
   {
    "duration": 15,
    "start_time": "2023-03-16T09:04:54.434Z"
   },
   {
    "duration": 6,
    "start_time": "2023-03-16T09:04:54.451Z"
   },
   {
    "duration": 1140,
    "start_time": "2023-03-16T09:04:54.459Z"
   },
   {
    "duration": 6,
    "start_time": "2023-03-16T09:04:55.600Z"
   },
   {
    "duration": 29,
    "start_time": "2023-03-16T09:04:55.607Z"
   },
   {
    "duration": 20,
    "start_time": "2023-03-16T09:04:55.638Z"
   },
   {
    "duration": 11,
    "start_time": "2023-03-16T09:04:55.659Z"
   },
   {
    "duration": 23,
    "start_time": "2023-03-16T09:04:55.674Z"
   },
   {
    "duration": 7,
    "start_time": "2023-03-16T09:04:55.698Z"
   },
   {
    "duration": 24,
    "start_time": "2023-03-16T09:04:55.706Z"
   },
   {
    "duration": 82,
    "start_time": "2023-03-16T09:04:55.732Z"
   },
   {
    "duration": 2,
    "start_time": "2023-03-16T09:04:55.816Z"
   },
   {
    "duration": 14,
    "start_time": "2023-03-16T09:04:55.820Z"
   },
   {
    "duration": 9,
    "start_time": "2023-03-16T09:04:55.836Z"
   },
   {
    "duration": 97,
    "start_time": "2023-03-16T09:04:55.847Z"
   },
   {
    "duration": 37,
    "start_time": "2023-03-16T09:04:55.946Z"
   },
   {
    "duration": 2,
    "start_time": "2023-03-16T09:04:55.985Z"
   },
   {
    "duration": 25,
    "start_time": "2023-03-16T09:04:55.989Z"
   },
   {
    "duration": 134,
    "start_time": "2023-03-16T09:04:56.015Z"
   },
   {
    "duration": 66,
    "start_time": "2023-03-16T09:04:56.150Z"
   },
   {
    "duration": 3,
    "start_time": "2023-03-16T09:04:56.217Z"
   },
   {
    "duration": 9,
    "start_time": "2023-03-16T09:04:56.222Z"
   },
   {
    "duration": 161,
    "start_time": "2023-03-16T09:04:56.233Z"
   },
   {
    "duration": 22,
    "start_time": "2023-03-16T09:04:56.396Z"
   },
   {
    "duration": 3,
    "start_time": "2023-03-16T09:04:56.420Z"
   },
   {
    "duration": 12,
    "start_time": "2023-03-16T09:04:56.426Z"
   },
   {
    "duration": 175,
    "start_time": "2023-03-16T09:04:56.440Z"
   },
   {
    "duration": 23,
    "start_time": "2023-03-16T09:04:56.617Z"
   },
   {
    "duration": 34,
    "start_time": "2023-03-16T09:04:56.642Z"
   },
   {
    "duration": 21,
    "start_time": "2023-03-16T09:04:56.677Z"
   },
   {
    "duration": 19,
    "start_time": "2023-03-16T09:04:56.699Z"
   },
   {
    "duration": 4,
    "start_time": "2023-03-16T09:04:56.720Z"
   },
   {
    "duration": 447,
    "start_time": "2023-03-16T09:04:56.726Z"
   },
   {
    "duration": 3,
    "start_time": "2023-03-16T09:04:57.175Z"
   },
   {
    "duration": 99,
    "start_time": "2023-03-16T09:04:57.179Z"
   },
   {
    "duration": 141,
    "start_time": "2023-03-16T09:04:57.280Z"
   },
   {
    "duration": 11,
    "start_time": "2023-03-16T09:04:57.422Z"
   },
   {
    "duration": 51,
    "start_time": "2023-03-16T09:04:57.435Z"
   },
   {
    "duration": 6,
    "start_time": "2023-03-16T09:04:57.488Z"
   },
   {
    "duration": 13,
    "start_time": "2023-03-16T09:04:57.496Z"
   },
   {
    "duration": 5,
    "start_time": "2023-03-16T09:04:57.511Z"
   },
   {
    "duration": 15,
    "start_time": "2023-03-16T09:04:57.518Z"
   },
   {
    "duration": 9,
    "start_time": "2023-03-16T09:04:57.534Z"
   },
   {
    "duration": 26,
    "start_time": "2023-03-16T09:04:57.544Z"
   },
   {
    "duration": 12,
    "start_time": "2023-03-16T09:04:57.572Z"
   },
   {
    "duration": 28,
    "start_time": "2023-03-16T09:04:57.585Z"
   },
   {
    "duration": 38,
    "start_time": "2023-03-16T09:04:57.615Z"
   },
   {
    "duration": 10,
    "start_time": "2023-03-16T09:04:57.655Z"
   },
   {
    "duration": 31,
    "start_time": "2023-03-16T09:04:57.667Z"
   },
   {
    "duration": 91,
    "start_time": "2023-03-16T09:04:57.700Z"
   },
   {
    "duration": 11,
    "start_time": "2023-03-16T09:04:57.792Z"
   },
   {
    "duration": 10,
    "start_time": "2023-03-16T09:12:33.301Z"
   },
   {
    "duration": 19,
    "start_time": "2023-03-16T09:12:55.621Z"
   },
   {
    "duration": 20,
    "start_time": "2023-03-16T09:13:39.202Z"
   },
   {
    "duration": 24,
    "start_time": "2023-03-16T09:14:13.390Z"
   },
   {
    "duration": 9,
    "start_time": "2023-03-16T09:21:12.597Z"
   },
   {
    "duration": 9,
    "start_time": "2023-03-16T09:21:18.097Z"
   },
   {
    "duration": 10,
    "start_time": "2023-03-16T09:21:18.224Z"
   },
   {
    "duration": 12,
    "start_time": "2023-03-16T09:21:18.393Z"
   },
   {
    "duration": 3,
    "start_time": "2023-03-16T09:27:03.957Z"
   },
   {
    "duration": 188,
    "start_time": "2023-03-16T09:27:28.741Z"
   },
   {
    "duration": 14,
    "start_time": "2023-03-16T09:27:45.994Z"
   },
   {
    "duration": 5,
    "start_time": "2023-03-16T09:28:14.137Z"
   },
   {
    "duration": 12,
    "start_time": "2023-03-16T09:28:14.831Z"
   },
   {
    "duration": 12,
    "start_time": "2023-03-16T09:28:18.302Z"
   },
   {
    "duration": 7,
    "start_time": "2023-03-16T09:28:25.286Z"
   },
   {
    "duration": 12,
    "start_time": "2023-03-16T09:28:25.999Z"
   },
   {
    "duration": 6,
    "start_time": "2023-03-16T09:28:26.709Z"
   },
   {
    "duration": 10,
    "start_time": "2023-03-16T09:28:37.556Z"
   },
   {
    "duration": 58,
    "start_time": "2023-03-16T09:29:03.462Z"
   },
   {
    "duration": 0,
    "start_time": "2023-03-16T09:29:03.521Z"
   },
   {
    "duration": 3,
    "start_time": "2023-03-16T09:29:24.310Z"
   },
   {
    "duration": 17,
    "start_time": "2023-03-16T09:29:25.418Z"
   },
   {
    "duration": 17,
    "start_time": "2023-03-16T09:30:17.864Z"
   },
   {
    "duration": 17,
    "start_time": "2023-03-16T09:31:03.181Z"
   },
   {
    "duration": 3,
    "start_time": "2023-03-16T09:32:08.590Z"
   },
   {
    "duration": 18,
    "start_time": "2023-03-16T09:32:09.214Z"
   },
   {
    "duration": 48,
    "start_time": "2023-03-16T09:32:47.293Z"
   },
   {
    "duration": 19,
    "start_time": "2023-03-16T09:32:48.217Z"
   },
   {
    "duration": 55,
    "start_time": "2023-03-16T09:34:04.233Z"
   },
   {
    "duration": 26,
    "start_time": "2023-03-16T09:34:05.123Z"
   },
   {
    "duration": 3,
    "start_time": "2023-03-16T09:34:21.531Z"
   },
   {
    "duration": 18,
    "start_time": "2023-03-16T09:34:22.382Z"
   },
   {
    "duration": 44,
    "start_time": "2023-03-16T09:35:42.415Z"
   },
   {
    "duration": 43,
    "start_time": "2023-03-16T09:35:48.685Z"
   },
   {
    "duration": 21,
    "start_time": "2023-03-16T09:35:49.317Z"
   },
   {
    "duration": 52,
    "start_time": "2023-03-16T09:43:08.840Z"
   },
   {
    "duration": 100,
    "start_time": "2023-03-16T09:44:15.190Z"
   },
   {
    "duration": 4,
    "start_time": "2023-03-16T09:44:48.733Z"
   },
   {
    "duration": 52,
    "start_time": "2023-03-16T09:45:44.061Z"
   },
   {
    "duration": 4,
    "start_time": "2023-03-16T09:46:13.185Z"
   },
   {
    "duration": 4,
    "start_time": "2023-03-16T09:46:40.805Z"
   },
   {
    "duration": 4,
    "start_time": "2023-03-16T09:46:56.821Z"
   },
   {
    "duration": 4,
    "start_time": "2023-03-16T09:47:11.838Z"
   },
   {
    "duration": 4,
    "start_time": "2023-03-16T09:47:19.810Z"
   },
   {
    "duration": 34,
    "start_time": "2023-03-16T09:47:22.193Z"
   },
   {
    "duration": 4,
    "start_time": "2023-03-16T09:48:03.513Z"
   },
   {
    "duration": 46,
    "start_time": "2023-03-16T09:48:04.118Z"
   },
   {
    "duration": 4,
    "start_time": "2023-03-16T09:48:24.905Z"
   },
   {
    "duration": 37,
    "start_time": "2023-03-16T09:48:25.685Z"
   },
   {
    "duration": 5,
    "start_time": "2023-03-16T09:48:47.822Z"
   },
   {
    "duration": 34,
    "start_time": "2023-03-16T09:48:48.330Z"
   },
   {
    "duration": 57,
    "start_time": "2023-03-16T10:13:45.285Z"
   },
   {
    "duration": 24,
    "start_time": "2023-03-16T10:14:22.701Z"
   },
   {
    "duration": 28,
    "start_time": "2023-03-16T10:16:58.089Z"
   },
   {
    "duration": 20,
    "start_time": "2023-03-16T10:17:40.305Z"
   },
   {
    "duration": 31,
    "start_time": "2023-03-16T10:18:43.381Z"
   },
   {
    "duration": 20,
    "start_time": "2023-03-16T10:18:53.489Z"
   },
   {
    "duration": 30,
    "start_time": "2023-03-16T10:20:07.777Z"
   },
   {
    "duration": 19,
    "start_time": "2023-03-16T10:20:30.145Z"
   },
   {
    "duration": 5,
    "start_time": "2023-03-16T10:21:40.217Z"
   },
   {
    "duration": 10,
    "start_time": "2023-03-16T10:21:40.829Z"
   },
   {
    "duration": 9,
    "start_time": "2023-03-16T10:21:40.985Z"
   },
   {
    "duration": 10,
    "start_time": "2023-03-16T10:21:41.129Z"
   },
   {
    "duration": 3,
    "start_time": "2023-03-16T10:21:41.633Z"
   },
   {
    "duration": 38,
    "start_time": "2023-03-16T10:21:41.949Z"
   },
   {
    "duration": 22,
    "start_time": "2023-03-16T10:21:42.285Z"
   },
   {
    "duration": 30,
    "start_time": "2023-03-16T10:21:42.737Z"
   },
   {
    "duration": 20,
    "start_time": "2023-03-16T10:21:42.897Z"
   },
   {
    "duration": 31,
    "start_time": "2023-03-16T10:21:43.209Z"
   },
   {
    "duration": 21,
    "start_time": "2023-03-16T10:21:43.377Z"
   },
   {
    "duration": 29,
    "start_time": "2023-03-16T10:21:43.662Z"
   },
   {
    "duration": 18,
    "start_time": "2023-03-16T10:21:43.829Z"
   },
   {
    "duration": 21,
    "start_time": "2023-03-16T10:22:04.265Z"
   },
   {
    "duration": 5,
    "start_time": "2023-03-16T10:28:17.002Z"
   },
   {
    "duration": 5,
    "start_time": "2023-03-16T10:29:29.473Z"
   },
   {
    "duration": 33,
    "start_time": "2023-03-16T10:30:07.905Z"
   },
   {
    "duration": 20,
    "start_time": "2023-03-16T10:30:39.693Z"
   },
   {
    "duration": 30,
    "start_time": "2023-03-16T10:33:31.942Z"
   },
   {
    "duration": 20,
    "start_time": "2023-03-16T10:33:32.445Z"
   },
   {
    "duration": 23,
    "start_time": "2023-03-16T10:33:50.010Z"
   },
   {
    "duration": 43,
    "start_time": "2023-03-16T10:33:53.511Z"
   },
   {
    "duration": 26,
    "start_time": "2023-03-16T10:33:53.746Z"
   },
   {
    "duration": 20,
    "start_time": "2023-03-16T10:36:08.034Z"
   },
   {
    "duration": 30,
    "start_time": "2023-03-16T10:36:57.541Z"
   },
   {
    "duration": 20,
    "start_time": "2023-03-16T10:36:58.181Z"
   },
   {
    "duration": 35,
    "start_time": "2023-03-16T10:36:59.889Z"
   },
   {
    "duration": 21,
    "start_time": "2023-03-16T10:37:00.273Z"
   },
   {
    "duration": 29,
    "start_time": "2023-03-16T10:37:29.165Z"
   },
   {
    "duration": 20,
    "start_time": "2023-03-16T10:37:29.673Z"
   },
   {
    "duration": 4,
    "start_time": "2023-03-16T10:43:16.937Z"
   },
   {
    "duration": 4,
    "start_time": "2023-03-16T10:43:27.741Z"
   },
   {
    "duration": 13,
    "start_time": "2023-03-16T10:44:13.797Z"
   },
   {
    "duration": 11,
    "start_time": "2023-03-16T10:44:55.821Z"
   },
   {
    "duration": 4,
    "start_time": "2023-03-16T10:46:17.861Z"
   },
   {
    "duration": 1337,
    "start_time": "2023-03-16T10:49:36.732Z"
   },
   {
    "duration": 176,
    "start_time": "2023-03-16T10:49:38.074Z"
   },
   {
    "duration": 11,
    "start_time": "2023-03-16T10:49:38.252Z"
   },
   {
    "duration": 13,
    "start_time": "2023-03-16T10:49:38.276Z"
   },
   {
    "duration": 36,
    "start_time": "2023-03-16T10:49:38.291Z"
   },
   {
    "duration": 144,
    "start_time": "2023-03-16T10:49:38.329Z"
   },
   {
    "duration": 9,
    "start_time": "2023-03-16T10:49:38.477Z"
   },
   {
    "duration": 42,
    "start_time": "2023-03-16T10:49:38.488Z"
   },
   {
    "duration": 23,
    "start_time": "2023-03-16T10:49:38.531Z"
   },
   {
    "duration": 6330,
    "start_time": "2023-03-16T10:49:38.556Z"
   },
   {
    "duration": 6413,
    "start_time": "2023-03-16T10:49:44.888Z"
   },
   {
    "duration": 10,
    "start_time": "2023-03-16T10:49:51.305Z"
   },
   {
    "duration": 59,
    "start_time": "2023-03-16T10:49:51.317Z"
   },
   {
    "duration": 6288,
    "start_time": "2023-03-16T10:49:51.381Z"
   },
   {
    "duration": 6289,
    "start_time": "2023-03-16T10:49:57.672Z"
   },
   {
    "duration": 39,
    "start_time": "2023-03-16T10:50:03.963Z"
   },
   {
    "duration": 6729,
    "start_time": "2023-03-16T10:50:04.004Z"
   },
   {
    "duration": 14,
    "start_time": "2023-03-16T10:50:10.734Z"
   },
   {
    "duration": 41,
    "start_time": "2023-03-16T10:50:10.750Z"
   },
   {
    "duration": 13,
    "start_time": "2023-03-16T10:50:10.793Z"
   },
   {
    "duration": 25,
    "start_time": "2023-03-16T10:50:10.808Z"
   },
   {
    "duration": 28,
    "start_time": "2023-03-16T10:50:10.835Z"
   },
   {
    "duration": 1252,
    "start_time": "2023-03-16T10:50:10.865Z"
   },
   {
    "duration": 7,
    "start_time": "2023-03-16T10:50:12.118Z"
   },
   {
    "duration": 27,
    "start_time": "2023-03-16T10:50:12.126Z"
   },
   {
    "duration": 38,
    "start_time": "2023-03-16T10:50:12.155Z"
   },
   {
    "duration": 16,
    "start_time": "2023-03-16T10:50:12.195Z"
   },
   {
    "duration": 37,
    "start_time": "2023-03-16T10:50:12.212Z"
   },
   {
    "duration": 12,
    "start_time": "2023-03-16T10:50:12.251Z"
   },
   {
    "duration": 23,
    "start_time": "2023-03-16T10:50:12.265Z"
   },
   {
    "duration": 68,
    "start_time": "2023-03-16T10:50:12.289Z"
   },
   {
    "duration": 3,
    "start_time": "2023-03-16T10:50:12.359Z"
   },
   {
    "duration": 32,
    "start_time": "2023-03-16T10:50:12.363Z"
   },
   {
    "duration": 19,
    "start_time": "2023-03-16T10:50:12.397Z"
   },
   {
    "duration": 113,
    "start_time": "2023-03-16T10:50:12.418Z"
   },
   {
    "duration": 42,
    "start_time": "2023-03-16T10:50:12.532Z"
   },
   {
    "duration": 4,
    "start_time": "2023-03-16T10:50:12.576Z"
   },
   {
    "duration": 33,
    "start_time": "2023-03-16T10:50:12.581Z"
   },
   {
    "duration": 149,
    "start_time": "2023-03-16T10:50:12.616Z"
   },
   {
    "duration": 69,
    "start_time": "2023-03-16T10:50:12.766Z"
   },
   {
    "duration": 3,
    "start_time": "2023-03-16T10:50:12.839Z"
   },
   {
    "duration": 26,
    "start_time": "2023-03-16T10:50:12.844Z"
   },
   {
    "duration": 177,
    "start_time": "2023-03-16T10:50:12.873Z"
   },
   {
    "duration": 34,
    "start_time": "2023-03-16T10:50:13.052Z"
   },
   {
    "duration": 11,
    "start_time": "2023-03-16T10:50:13.088Z"
   },
   {
    "duration": 26,
    "start_time": "2023-03-16T10:50:13.101Z"
   },
   {
    "duration": 190,
    "start_time": "2023-03-16T10:50:13.129Z"
   },
   {
    "duration": 24,
    "start_time": "2023-03-16T10:50:13.321Z"
   },
   {
    "duration": 39,
    "start_time": "2023-03-16T10:50:13.348Z"
   },
   {
    "duration": 51,
    "start_time": "2023-03-16T10:50:13.389Z"
   },
   {
    "duration": 41,
    "start_time": "2023-03-16T10:50:13.442Z"
   },
   {
    "duration": 15,
    "start_time": "2023-03-16T10:50:13.485Z"
   },
   {
    "duration": 505,
    "start_time": "2023-03-16T10:50:13.502Z"
   },
   {
    "duration": 4,
    "start_time": "2023-03-16T10:50:14.009Z"
   },
   {
    "duration": 104,
    "start_time": "2023-03-16T10:50:14.015Z"
   },
   {
    "duration": 194,
    "start_time": "2023-03-16T10:50:14.122Z"
   },
   {
    "duration": 14,
    "start_time": "2023-03-16T10:50:14.318Z"
   },
   {
    "duration": 65,
    "start_time": "2023-03-16T10:50:14.334Z"
   },
   {
    "duration": 8,
    "start_time": "2023-03-16T10:50:14.401Z"
   },
   {
    "duration": 38,
    "start_time": "2023-03-16T10:50:14.411Z"
   },
   {
    "duration": 75,
    "start_time": "2023-03-16T10:50:14.451Z"
   },
   {
    "duration": 46,
    "start_time": "2023-03-16T10:50:14.528Z"
   },
   {
    "duration": 33,
    "start_time": "2023-03-16T10:50:14.577Z"
   },
   {
    "duration": 28,
    "start_time": "2023-03-16T10:50:14.613Z"
   },
   {
    "duration": 20,
    "start_time": "2023-03-16T10:50:14.643Z"
   },
   {
    "duration": 90,
    "start_time": "2023-03-16T10:50:14.665Z"
   },
   {
    "duration": 27,
    "start_time": "2023-03-16T10:50:14.757Z"
   },
   {
    "duration": 41,
    "start_time": "2023-03-16T10:50:14.786Z"
   },
   {
    "duration": 20,
    "start_time": "2023-03-16T10:50:14.829Z"
   },
   {
    "duration": 51,
    "start_time": "2023-03-16T10:50:14.851Z"
   },
   {
    "duration": 22,
    "start_time": "2023-03-16T10:50:14.903Z"
   },
   {
    "duration": 56,
    "start_time": "2023-03-16T10:50:14.927Z"
   },
   {
    "duration": 21,
    "start_time": "2023-03-16T10:50:14.986Z"
   },
   {
    "duration": 19,
    "start_time": "2023-03-16T10:50:15.009Z"
   },
   {
    "duration": 61,
    "start_time": "2023-03-16T10:50:15.030Z"
   },
   {
    "duration": 28,
    "start_time": "2023-03-16T10:50:15.093Z"
   },
   {
    "duration": 68,
    "start_time": "2023-03-16T10:50:15.123Z"
   },
   {
    "duration": 19,
    "start_time": "2023-03-16T10:50:15.193Z"
   },
   {
    "duration": 64,
    "start_time": "2023-03-16T10:50:15.214Z"
   },
   {
    "duration": 37,
    "start_time": "2023-03-16T10:50:15.284Z"
   },
   {
    "duration": 53,
    "start_time": "2023-03-16T10:50:15.323Z"
   },
   {
    "duration": 26,
    "start_time": "2023-03-16T10:50:15.378Z"
   },
   {
    "duration": 16,
    "start_time": "2023-03-16T10:50:15.406Z"
   },
   {
    "duration": 1365,
    "start_time": "2023-03-16T10:53:04.958Z"
   },
   {
    "duration": 204,
    "start_time": "2023-03-16T10:53:06.326Z"
   },
   {
    "duration": 14,
    "start_time": "2023-03-16T10:53:06.531Z"
   },
   {
    "duration": 10,
    "start_time": "2023-03-16T10:53:06.548Z"
   },
   {
    "duration": 39,
    "start_time": "2023-03-16T10:53:06.572Z"
   },
   {
    "duration": 128,
    "start_time": "2023-03-16T10:53:06.612Z"
   },
   {
    "duration": 9,
    "start_time": "2023-03-16T10:53:06.742Z"
   },
   {
    "duration": 57,
    "start_time": "2023-03-16T10:53:06.753Z"
   },
   {
    "duration": 14,
    "start_time": "2023-03-16T10:53:06.811Z"
   },
   {
    "duration": 6300,
    "start_time": "2023-03-16T10:53:06.828Z"
   },
   {
    "duration": 6296,
    "start_time": "2023-03-16T10:53:13.130Z"
   },
   {
    "duration": 8,
    "start_time": "2023-03-16T10:53:19.428Z"
   },
   {
    "duration": 12,
    "start_time": "2023-03-16T10:53:19.438Z"
   },
   {
    "duration": 6338,
    "start_time": "2023-03-16T10:53:19.451Z"
   },
   {
    "duration": 5975,
    "start_time": "2023-03-16T10:53:25.790Z"
   },
   {
    "duration": 32,
    "start_time": "2023-03-16T10:53:31.767Z"
   },
   {
    "duration": 6307,
    "start_time": "2023-03-16T10:53:31.801Z"
   },
   {
    "duration": 11,
    "start_time": "2023-03-16T10:53:38.110Z"
   },
   {
    "duration": 14,
    "start_time": "2023-03-16T10:53:38.123Z"
   },
   {
    "duration": 3,
    "start_time": "2023-03-16T10:53:38.138Z"
   },
   {
    "duration": 29,
    "start_time": "2023-03-16T10:53:38.143Z"
   },
   {
    "duration": 5,
    "start_time": "2023-03-16T10:53:38.174Z"
   },
   {
    "duration": 1231,
    "start_time": "2023-03-16T10:53:38.182Z"
   },
   {
    "duration": 7,
    "start_time": "2023-03-16T10:53:39.414Z"
   },
   {
    "duration": 22,
    "start_time": "2023-03-16T10:53:39.422Z"
   },
   {
    "duration": 39,
    "start_time": "2023-03-16T10:53:39.446Z"
   },
   {
    "duration": 3,
    "start_time": "2023-03-16T10:53:39.489Z"
   },
   {
    "duration": 20,
    "start_time": "2023-03-16T10:53:39.500Z"
   },
   {
    "duration": 8,
    "start_time": "2023-03-16T10:53:39.522Z"
   },
   {
    "duration": 4,
    "start_time": "2023-03-16T10:53:39.531Z"
   },
   {
    "duration": 81,
    "start_time": "2023-03-16T10:53:39.537Z"
   },
   {
    "duration": 3,
    "start_time": "2023-03-16T10:53:39.620Z"
   },
   {
    "duration": 11,
    "start_time": "2023-03-16T10:53:39.625Z"
   },
   {
    "duration": 13,
    "start_time": "2023-03-16T10:53:39.637Z"
   },
   {
    "duration": 105,
    "start_time": "2023-03-16T10:53:39.652Z"
   },
   {
    "duration": 46,
    "start_time": "2023-03-16T10:53:39.759Z"
   },
   {
    "duration": 4,
    "start_time": "2023-03-16T10:53:39.807Z"
   },
   {
    "duration": 14,
    "start_time": "2023-03-16T10:53:39.813Z"
   },
   {
    "duration": 160,
    "start_time": "2023-03-16T10:53:39.830Z"
   },
   {
    "duration": 65,
    "start_time": "2023-03-16T10:53:39.991Z"
   },
   {
    "duration": 17,
    "start_time": "2023-03-16T10:53:40.057Z"
   },
   {
    "duration": 8,
    "start_time": "2023-03-16T10:53:40.078Z"
   },
   {
    "duration": 167,
    "start_time": "2023-03-16T10:53:40.087Z"
   },
   {
    "duration": 39,
    "start_time": "2023-03-16T10:53:40.256Z"
   },
   {
    "duration": 7,
    "start_time": "2023-03-16T10:53:40.296Z"
   },
   {
    "duration": 22,
    "start_time": "2023-03-16T10:53:40.304Z"
   },
   {
    "duration": 173,
    "start_time": "2023-03-16T10:53:40.327Z"
   },
   {
    "duration": 24,
    "start_time": "2023-03-16T10:53:40.502Z"
   },
   {
    "duration": 32,
    "start_time": "2023-03-16T10:53:40.527Z"
   },
   {
    "duration": 42,
    "start_time": "2023-03-16T10:53:40.561Z"
   },
   {
    "duration": 26,
    "start_time": "2023-03-16T10:53:40.604Z"
   },
   {
    "duration": 20,
    "start_time": "2023-03-16T10:53:40.632Z"
   },
   {
    "duration": 470,
    "start_time": "2023-03-16T10:53:40.654Z"
   },
   {
    "duration": 3,
    "start_time": "2023-03-16T10:53:41.126Z"
   },
   {
    "duration": 151,
    "start_time": "2023-03-16T10:53:41.131Z"
   },
   {
    "duration": 126,
    "start_time": "2023-03-16T10:53:41.285Z"
   },
   {
    "duration": 9,
    "start_time": "2023-03-16T10:53:41.413Z"
   },
   {
    "duration": 46,
    "start_time": "2023-03-16T10:53:41.424Z"
   },
   {
    "duration": 14,
    "start_time": "2023-03-16T10:53:41.472Z"
   },
   {
    "duration": 30,
    "start_time": "2023-03-16T10:53:41.488Z"
   },
   {
    "duration": 31,
    "start_time": "2023-03-16T10:53:41.521Z"
   },
   {
    "duration": 27,
    "start_time": "2023-03-16T10:53:41.553Z"
   },
   {
    "duration": 19,
    "start_time": "2023-03-16T10:53:41.585Z"
   },
   {
    "duration": 28,
    "start_time": "2023-03-16T10:53:41.606Z"
   },
   {
    "duration": 5,
    "start_time": "2023-03-16T10:53:41.636Z"
   },
   {
    "duration": 53,
    "start_time": "2023-03-16T10:53:41.643Z"
   },
   {
    "duration": 22,
    "start_time": "2023-03-16T10:53:41.699Z"
   },
   {
    "duration": 45,
    "start_time": "2023-03-16T10:53:41.723Z"
   },
   {
    "duration": 26,
    "start_time": "2023-03-16T10:53:41.770Z"
   },
   {
    "duration": 37,
    "start_time": "2023-03-16T10:53:41.798Z"
   },
   {
    "duration": 45,
    "start_time": "2023-03-16T10:53:41.837Z"
   },
   {
    "duration": 30,
    "start_time": "2023-03-16T10:53:41.884Z"
   },
   {
    "duration": 18,
    "start_time": "2023-03-16T10:53:41.916Z"
   },
   {
    "duration": 4,
    "start_time": "2023-03-16T10:53:41.936Z"
   },
   {
    "duration": 67,
    "start_time": "2023-03-16T10:53:41.942Z"
   },
   {
    "duration": 24,
    "start_time": "2023-03-16T10:53:42.011Z"
   },
   {
    "duration": 54,
    "start_time": "2023-03-16T10:53:42.037Z"
   },
   {
    "duration": 21,
    "start_time": "2023-03-16T10:53:42.093Z"
   },
   {
    "duration": 63,
    "start_time": "2023-03-16T10:53:42.116Z"
   },
   {
    "duration": 23,
    "start_time": "2023-03-16T10:53:42.182Z"
   },
   {
    "duration": 32,
    "start_time": "2023-03-16T10:53:42.207Z"
   },
   {
    "duration": 43,
    "start_time": "2023-03-16T10:53:42.244Z"
   },
   {
    "duration": 4,
    "start_time": "2023-03-16T10:53:42.289Z"
   },
   {
    "duration": 191,
    "start_time": "2023-03-16T10:53:42.295Z"
   },
   {
    "duration": 6,
    "start_time": "2023-03-16T10:59:40.447Z"
   },
   {
    "duration": 264,
    "start_time": "2023-03-16T10:59:43.589Z"
   },
   {
    "duration": 6,
    "start_time": "2023-03-16T11:01:23.133Z"
   },
   {
    "duration": 394,
    "start_time": "2023-03-16T11:01:23.977Z"
   },
   {
    "duration": 5,
    "start_time": "2023-03-16T11:04:05.106Z"
   },
   {
    "duration": 244,
    "start_time": "2023-03-16T11:04:07.461Z"
   },
   {
    "duration": 79,
    "start_time": "2023-03-16T11:08:10.557Z"
   },
   {
    "duration": 5,
    "start_time": "2023-03-16T11:08:25.897Z"
   },
   {
    "duration": 5,
    "start_time": "2023-03-16T11:09:49.839Z"
   },
   {
    "duration": 6,
    "start_time": "2023-03-16T11:09:58.330Z"
   },
   {
    "duration": 242,
    "start_time": "2023-03-16T11:10:14.581Z"
   },
   {
    "duration": 5,
    "start_time": "2023-03-16T11:10:41.921Z"
   },
   {
    "duration": 215,
    "start_time": "2023-03-16T11:10:45.901Z"
   },
   {
    "duration": 5,
    "start_time": "2023-03-16T11:10:49.722Z"
   },
   {
    "duration": 1376,
    "start_time": "2023-03-16T11:11:21.450Z"
   },
   {
    "duration": 203,
    "start_time": "2023-03-16T11:11:22.828Z"
   },
   {
    "duration": 13,
    "start_time": "2023-03-16T11:11:23.033Z"
   },
   {
    "duration": 35,
    "start_time": "2023-03-16T11:11:23.048Z"
   },
   {
    "duration": 26,
    "start_time": "2023-03-16T11:11:23.086Z"
   },
   {
    "duration": 149,
    "start_time": "2023-03-16T11:11:23.114Z"
   },
   {
    "duration": 20,
    "start_time": "2023-03-16T11:11:23.265Z"
   },
   {
    "duration": 34,
    "start_time": "2023-03-16T11:11:23.287Z"
   },
   {
    "duration": 17,
    "start_time": "2023-03-16T11:11:23.323Z"
   },
   {
    "duration": 6507,
    "start_time": "2023-03-16T11:11:23.342Z"
   },
   {
    "duration": 6414,
    "start_time": "2023-03-16T11:11:29.851Z"
   },
   {
    "duration": 23,
    "start_time": "2023-03-16T11:11:36.266Z"
   },
   {
    "duration": 12,
    "start_time": "2023-03-16T11:11:36.291Z"
   },
   {
    "duration": 6321,
    "start_time": "2023-03-16T11:11:36.306Z"
   },
   {
    "duration": 6267,
    "start_time": "2023-03-16T11:11:42.629Z"
   },
   {
    "duration": 21,
    "start_time": "2023-03-16T11:11:48.898Z"
   },
   {
    "duration": 6264,
    "start_time": "2023-03-16T11:11:48.920Z"
   },
   {
    "duration": 14,
    "start_time": "2023-03-16T11:11:55.187Z"
   },
   {
    "duration": 12,
    "start_time": "2023-03-16T11:11:55.203Z"
   },
   {
    "duration": 2,
    "start_time": "2023-03-16T11:11:55.217Z"
   },
   {
    "duration": 13,
    "start_time": "2023-03-16T11:11:55.221Z"
   },
   {
    "duration": 5,
    "start_time": "2023-03-16T11:11:55.236Z"
   },
   {
    "duration": 1217,
    "start_time": "2023-03-16T11:11:55.242Z"
   },
   {
    "duration": 25,
    "start_time": "2023-03-16T11:11:56.460Z"
   },
   {
    "duration": 15,
    "start_time": "2023-03-16T11:11:56.487Z"
   },
   {
    "duration": 31,
    "start_time": "2023-03-16T11:11:56.503Z"
   },
   {
    "duration": 3,
    "start_time": "2023-03-16T11:11:56.536Z"
   },
   {
    "duration": 35,
    "start_time": "2023-03-16T11:11:56.540Z"
   },
   {
    "duration": 13,
    "start_time": "2023-03-16T11:11:56.581Z"
   },
   {
    "duration": 9,
    "start_time": "2023-03-16T11:11:56.596Z"
   },
   {
    "duration": 73,
    "start_time": "2023-03-16T11:11:56.607Z"
   },
   {
    "duration": 3,
    "start_time": "2023-03-16T11:11:56.682Z"
   },
   {
    "duration": 15,
    "start_time": "2023-03-16T11:11:56.686Z"
   },
   {
    "duration": 5,
    "start_time": "2023-03-16T11:11:56.703Z"
   },
   {
    "duration": 109,
    "start_time": "2023-03-16T11:11:56.710Z"
   },
   {
    "duration": 34,
    "start_time": "2023-03-16T11:11:56.822Z"
   },
   {
    "duration": 7,
    "start_time": "2023-03-16T11:11:56.876Z"
   },
   {
    "duration": 11,
    "start_time": "2023-03-16T11:11:56.884Z"
   },
   {
    "duration": 138,
    "start_time": "2023-03-16T11:11:56.897Z"
   },
   {
    "duration": 70,
    "start_time": "2023-03-16T11:11:57.037Z"
   },
   {
    "duration": 3,
    "start_time": "2023-03-16T11:11:57.112Z"
   },
   {
    "duration": 15,
    "start_time": "2023-03-16T11:11:57.116Z"
   },
   {
    "duration": 179,
    "start_time": "2023-03-16T11:11:57.133Z"
   },
   {
    "duration": 30,
    "start_time": "2023-03-16T11:11:57.314Z"
   },
   {
    "duration": 4,
    "start_time": "2023-03-16T11:11:57.347Z"
   },
   {
    "duration": 44,
    "start_time": "2023-03-16T11:11:57.353Z"
   },
   {
    "duration": 161,
    "start_time": "2023-03-16T11:11:57.399Z"
   },
   {
    "duration": 37,
    "start_time": "2023-03-16T11:11:57.561Z"
   },
   {
    "duration": 22,
    "start_time": "2023-03-16T11:11:57.600Z"
   },
   {
    "duration": 22,
    "start_time": "2023-03-16T11:11:57.624Z"
   },
   {
    "duration": 40,
    "start_time": "2023-03-16T11:11:57.649Z"
   },
   {
    "duration": 6,
    "start_time": "2023-03-16T11:11:57.691Z"
   },
   {
    "duration": 477,
    "start_time": "2023-03-16T11:11:57.698Z"
   },
   {
    "duration": 4,
    "start_time": "2023-03-16T11:11:58.177Z"
   },
   {
    "duration": 103,
    "start_time": "2023-03-16T11:11:58.185Z"
   },
   {
    "duration": 153,
    "start_time": "2023-03-16T11:11:58.290Z"
   },
   {
    "duration": 11,
    "start_time": "2023-03-16T11:11:58.444Z"
   },
   {
    "duration": 40,
    "start_time": "2023-03-16T11:11:58.475Z"
   },
   {
    "duration": 6,
    "start_time": "2023-03-16T11:11:58.517Z"
   },
   {
    "duration": 11,
    "start_time": "2023-03-16T11:11:58.525Z"
   },
   {
    "duration": 7,
    "start_time": "2023-03-16T11:11:58.538Z"
   },
   {
    "duration": 35,
    "start_time": "2023-03-16T11:11:58.547Z"
   },
   {
    "duration": 9,
    "start_time": "2023-03-16T11:11:58.584Z"
   },
   {
    "duration": 9,
    "start_time": "2023-03-16T11:11:58.594Z"
   },
   {
    "duration": 5,
    "start_time": "2023-03-16T11:11:58.605Z"
   },
   {
    "duration": 46,
    "start_time": "2023-03-16T11:11:58.611Z"
   },
   {
    "duration": 40,
    "start_time": "2023-03-16T11:11:58.659Z"
   },
   {
    "duration": 30,
    "start_time": "2023-03-16T11:11:58.701Z"
   },
   {
    "duration": 48,
    "start_time": "2023-03-16T11:11:58.733Z"
   },
   {
    "duration": 33,
    "start_time": "2023-03-16T11:11:58.783Z"
   },
   {
    "duration": 21,
    "start_time": "2023-03-16T11:11:58.817Z"
   },
   {
    "duration": 52,
    "start_time": "2023-03-16T11:11:58.839Z"
   },
   {
    "duration": 19,
    "start_time": "2023-03-16T11:11:58.893Z"
   },
   {
    "duration": 8,
    "start_time": "2023-03-16T11:11:58.914Z"
   },
   {
    "duration": 57,
    "start_time": "2023-03-16T11:11:58.923Z"
   },
   {
    "duration": 24,
    "start_time": "2023-03-16T11:11:58.982Z"
   },
   {
    "duration": 41,
    "start_time": "2023-03-16T11:11:59.008Z"
   },
   {
    "duration": 31,
    "start_time": "2023-03-16T11:11:59.050Z"
   },
   {
    "duration": 33,
    "start_time": "2023-03-16T11:11:59.083Z"
   },
   {
    "duration": 21,
    "start_time": "2023-03-16T11:11:59.118Z"
   },
   {
    "duration": 62,
    "start_time": "2023-03-16T11:11:59.141Z"
   },
   {
    "duration": 20,
    "start_time": "2023-03-16T11:11:59.205Z"
   },
   {
    "duration": 7,
    "start_time": "2023-03-16T11:11:59.227Z"
   },
   {
    "duration": 249,
    "start_time": "2023-03-16T11:11:59.235Z"
   },
   {
    "duration": 5,
    "start_time": "2023-03-16T11:11:59.486Z"
   },
   {
    "duration": 254,
    "start_time": "2023-03-16T11:11:59.492Z"
   },
   {
    "duration": 6,
    "start_time": "2023-03-16T11:12:35.785Z"
   },
   {
    "duration": 225,
    "start_time": "2023-03-16T11:12:36.493Z"
   },
   {
    "duration": 6,
    "start_time": "2023-03-16T11:16:16.802Z"
   },
   {
    "duration": 191,
    "start_time": "2023-03-16T11:16:31.909Z"
   },
   {
    "duration": 5,
    "start_time": "2023-03-16T11:18:14.839Z"
   },
   {
    "duration": 11,
    "start_time": "2023-03-16T11:18:15.693Z"
   },
   {
    "duration": 9,
    "start_time": "2023-03-16T11:18:15.833Z"
   },
   {
    "duration": 9,
    "start_time": "2023-03-16T11:18:16.021Z"
   },
   {
    "duration": 4,
    "start_time": "2023-03-16T11:18:16.485Z"
   },
   {
    "duration": 35,
    "start_time": "2023-03-16T11:18:16.801Z"
   },
   {
    "duration": 23,
    "start_time": "2023-03-16T11:18:17.120Z"
   },
   {
    "duration": 36,
    "start_time": "2023-03-16T11:18:17.605Z"
   },
   {
    "duration": 20,
    "start_time": "2023-03-16T11:18:17.793Z"
   },
   {
    "duration": 31,
    "start_time": "2023-03-16T11:18:18.060Z"
   },
   {
    "duration": 21,
    "start_time": "2023-03-16T11:18:18.221Z"
   },
   {
    "duration": 29,
    "start_time": "2023-03-16T11:18:18.543Z"
   },
   {
    "duration": 21,
    "start_time": "2023-03-16T11:18:18.724Z"
   },
   {
    "duration": 5,
    "start_time": "2023-03-16T11:18:19.223Z"
   },
   {
    "duration": 37,
    "start_time": "2023-03-16T11:18:19.409Z"
   },
   {
    "duration": 24,
    "start_time": "2023-03-16T11:18:19.554Z"
   },
   {
    "duration": 31,
    "start_time": "2023-03-16T11:18:19.905Z"
   },
   {
    "duration": 21,
    "start_time": "2023-03-16T11:18:20.090Z"
   },
   {
    "duration": 35,
    "start_time": "2023-03-16T11:18:20.437Z"
   },
   {
    "duration": 21,
    "start_time": "2023-03-16T11:18:20.585Z"
   },
   {
    "duration": 30,
    "start_time": "2023-03-16T11:18:20.897Z"
   },
   {
    "duration": 21,
    "start_time": "2023-03-16T11:18:21.053Z"
   },
   {
    "duration": 5,
    "start_time": "2023-03-16T11:18:23.597Z"
   },
   {
    "duration": 192,
    "start_time": "2023-03-16T11:18:23.752Z"
   },
   {
    "duration": 6,
    "start_time": "2023-03-16T11:18:24.127Z"
   },
   {
    "duration": 199,
    "start_time": "2023-03-16T11:18:24.286Z"
   },
   {
    "duration": 5,
    "start_time": "2023-03-16T11:18:24.630Z"
   },
   {
    "duration": 200,
    "start_time": "2023-03-16T11:18:24.794Z"
   },
   {
    "duration": 1305,
    "start_time": "2023-03-16T11:18:43.303Z"
   },
   {
    "duration": 167,
    "start_time": "2023-03-16T11:18:44.610Z"
   },
   {
    "duration": 12,
    "start_time": "2023-03-16T11:18:44.779Z"
   },
   {
    "duration": 21,
    "start_time": "2023-03-16T11:18:44.793Z"
   },
   {
    "duration": 22,
    "start_time": "2023-03-16T11:18:44.816Z"
   },
   {
    "duration": 137,
    "start_time": "2023-03-16T11:18:44.840Z"
   },
   {
    "duration": 9,
    "start_time": "2023-03-16T11:18:44.978Z"
   },
   {
    "duration": 32,
    "start_time": "2023-03-16T11:18:44.988Z"
   },
   {
    "duration": 43,
    "start_time": "2023-03-16T11:18:45.021Z"
   },
   {
    "duration": 6049,
    "start_time": "2023-03-16T11:18:45.066Z"
   },
   {
    "duration": 6144,
    "start_time": "2023-03-16T11:18:51.117Z"
   },
   {
    "duration": 11,
    "start_time": "2023-03-16T11:18:57.263Z"
   },
   {
    "duration": 21,
    "start_time": "2023-03-16T11:18:57.276Z"
   },
   {
    "duration": 6046,
    "start_time": "2023-03-16T11:18:57.300Z"
   },
   {
    "duration": 6336,
    "start_time": "2023-03-16T11:19:03.349Z"
   },
   {
    "duration": 20,
    "start_time": "2023-03-16T11:19:09.686Z"
   },
   {
    "duration": 6069,
    "start_time": "2023-03-16T11:19:09.708Z"
   },
   {
    "duration": 11,
    "start_time": "2023-03-16T11:19:15.779Z"
   },
   {
    "duration": 12,
    "start_time": "2023-03-16T11:19:15.792Z"
   },
   {
    "duration": 5,
    "start_time": "2023-03-16T11:19:15.805Z"
   },
   {
    "duration": 6,
    "start_time": "2023-03-16T11:19:15.812Z"
   },
   {
    "duration": 6,
    "start_time": "2023-03-16T11:19:15.820Z"
   },
   {
    "duration": 1166,
    "start_time": "2023-03-16T11:19:15.827Z"
   },
   {
    "duration": 6,
    "start_time": "2023-03-16T11:19:16.995Z"
   },
   {
    "duration": 27,
    "start_time": "2023-03-16T11:19:17.002Z"
   },
   {
    "duration": 22,
    "start_time": "2023-03-16T11:19:17.031Z"
   },
   {
    "duration": 14,
    "start_time": "2023-03-16T11:19:17.055Z"
   },
   {
    "duration": 10,
    "start_time": "2023-03-16T11:19:17.071Z"
   },
   {
    "duration": 6,
    "start_time": "2023-03-16T11:19:17.082Z"
   },
   {
    "duration": 6,
    "start_time": "2023-03-16T11:19:17.090Z"
   },
   {
    "duration": 79,
    "start_time": "2023-03-16T11:19:17.098Z"
   },
   {
    "duration": 3,
    "start_time": "2023-03-16T11:19:17.179Z"
   },
   {
    "duration": 10,
    "start_time": "2023-03-16T11:19:17.183Z"
   },
   {
    "duration": 5,
    "start_time": "2023-03-16T11:19:17.194Z"
   },
   {
    "duration": 118,
    "start_time": "2023-03-16T11:19:17.201Z"
   },
   {
    "duration": 37,
    "start_time": "2023-03-16T11:19:17.320Z"
   },
   {
    "duration": 3,
    "start_time": "2023-03-16T11:19:17.369Z"
   },
   {
    "duration": 9,
    "start_time": "2023-03-16T11:19:17.374Z"
   },
   {
    "duration": 140,
    "start_time": "2023-03-16T11:19:17.385Z"
   },
   {
    "duration": 80,
    "start_time": "2023-03-16T11:19:17.527Z"
   },
   {
    "duration": 2,
    "start_time": "2023-03-16T11:19:17.613Z"
   },
   {
    "duration": 10,
    "start_time": "2023-03-16T11:19:17.617Z"
   },
   {
    "duration": 169,
    "start_time": "2023-03-16T11:19:17.629Z"
   },
   {
    "duration": 23,
    "start_time": "2023-03-16T11:19:17.801Z"
   },
   {
    "duration": 3,
    "start_time": "2023-03-16T11:19:17.826Z"
   },
   {
    "duration": 16,
    "start_time": "2023-03-16T11:19:17.831Z"
   },
   {
    "duration": 175,
    "start_time": "2023-03-16T11:19:17.849Z"
   },
   {
    "duration": 23,
    "start_time": "2023-03-16T11:19:18.026Z"
   },
   {
    "duration": 34,
    "start_time": "2023-03-16T11:19:18.051Z"
   },
   {
    "duration": 21,
    "start_time": "2023-03-16T11:19:18.086Z"
   },
   {
    "duration": 25,
    "start_time": "2023-03-16T11:19:18.108Z"
   },
   {
    "duration": 6,
    "start_time": "2023-03-16T11:19:18.135Z"
   },
   {
    "duration": 480,
    "start_time": "2023-03-16T11:19:18.142Z"
   },
   {
    "duration": 3,
    "start_time": "2023-03-16T11:19:18.624Z"
   },
   {
    "duration": 66,
    "start_time": "2023-03-16T11:19:18.629Z"
   },
   {
    "duration": 142,
    "start_time": "2023-03-16T11:19:18.696Z"
   },
   {
    "duration": 9,
    "start_time": "2023-03-16T11:19:18.840Z"
   },
   {
    "duration": 54,
    "start_time": "2023-03-16T11:19:18.851Z"
   },
   {
    "duration": 6,
    "start_time": "2023-03-16T11:19:18.907Z"
   },
   {
    "duration": 9,
    "start_time": "2023-03-16T11:19:18.915Z"
   },
   {
    "duration": 6,
    "start_time": "2023-03-16T11:19:18.926Z"
   },
   {
    "duration": 13,
    "start_time": "2023-03-16T11:19:18.934Z"
   },
   {
    "duration": 11,
    "start_time": "2023-03-16T11:19:18.969Z"
   },
   {
    "duration": 14,
    "start_time": "2023-03-16T11:19:18.981Z"
   },
   {
    "duration": 4,
    "start_time": "2023-03-16T11:19:18.996Z"
   },
   {
    "duration": 42,
    "start_time": "2023-03-16T11:19:19.002Z"
   },
   {
    "duration": 35,
    "start_time": "2023-03-16T11:19:19.045Z"
   },
   {
    "duration": 28,
    "start_time": "2023-03-16T11:19:19.082Z"
   },
   {
    "duration": 20,
    "start_time": "2023-03-16T11:19:19.112Z"
   },
   {
    "duration": 57,
    "start_time": "2023-03-16T11:19:19.134Z"
   },
   {
    "duration": 22,
    "start_time": "2023-03-16T11:19:19.193Z"
   },
   {
    "duration": 57,
    "start_time": "2023-03-16T11:19:19.217Z"
   },
   {
    "duration": 22,
    "start_time": "2023-03-16T11:19:19.276Z"
   },
   {
    "duration": 4,
    "start_time": "2023-03-16T11:19:19.299Z"
   },
   {
    "duration": 65,
    "start_time": "2023-03-16T11:19:19.305Z"
   },
   {
    "duration": 25,
    "start_time": "2023-03-16T11:19:19.372Z"
   },
   {
    "duration": 32,
    "start_time": "2023-03-16T11:19:19.398Z"
   },
   {
    "duration": 43,
    "start_time": "2023-03-16T11:19:19.432Z"
   },
   {
    "duration": 34,
    "start_time": "2023-03-16T11:19:19.477Z"
   },
   {
    "duration": 23,
    "start_time": "2023-03-16T11:19:19.512Z"
   },
   {
    "duration": 57,
    "start_time": "2023-03-16T11:19:19.536Z"
   },
   {
    "duration": 19,
    "start_time": "2023-03-16T11:19:19.595Z"
   },
   {
    "duration": 5,
    "start_time": "2023-03-16T11:19:19.616Z"
   },
   {
    "duration": 220,
    "start_time": "2023-03-16T11:19:19.622Z"
   },
   {
    "duration": 6,
    "start_time": "2023-03-16T11:19:19.843Z"
   },
   {
    "duration": 231,
    "start_time": "2023-03-16T11:19:19.851Z"
   },
   {
    "duration": 6,
    "start_time": "2023-03-16T11:19:20.083Z"
   },
   {
    "duration": 209,
    "start_time": "2023-03-16T11:19:20.090Z"
   },
   {
    "duration": 6,
    "start_time": "2023-03-16T11:20:44.385Z"
   },
   {
    "duration": 5,
    "start_time": "2023-03-16T11:20:47.429Z"
   },
   {
    "duration": 1292,
    "start_time": "2023-03-16T11:20:53.121Z"
   },
   {
    "duration": 166,
    "start_time": "2023-03-16T11:20:54.415Z"
   },
   {
    "duration": 12,
    "start_time": "2023-03-16T11:20:54.583Z"
   },
   {
    "duration": 11,
    "start_time": "2023-03-16T11:20:54.597Z"
   },
   {
    "duration": 21,
    "start_time": "2023-03-16T11:20:54.610Z"
   },
   {
    "duration": 143,
    "start_time": "2023-03-16T11:20:54.632Z"
   },
   {
    "duration": 8,
    "start_time": "2023-03-16T11:20:54.778Z"
   },
   {
    "duration": 35,
    "start_time": "2023-03-16T11:20:54.788Z"
   },
   {
    "duration": 10,
    "start_time": "2023-03-16T11:20:54.825Z"
   },
   {
    "duration": 5647,
    "start_time": "2023-03-16T11:20:54.837Z"
   },
   {
    "duration": 5710,
    "start_time": "2023-03-16T11:21:00.485Z"
   },
   {
    "duration": 10,
    "start_time": "2023-03-16T11:21:06.197Z"
   },
   {
    "duration": 33,
    "start_time": "2023-03-16T11:21:06.208Z"
   },
   {
    "duration": 5787,
    "start_time": "2023-03-16T11:21:06.245Z"
   },
   {
    "duration": 5652,
    "start_time": "2023-03-16T11:21:12.034Z"
   },
   {
    "duration": 24,
    "start_time": "2023-03-16T11:21:17.688Z"
   },
   {
    "duration": 5792,
    "start_time": "2023-03-16T11:21:17.714Z"
   },
   {
    "duration": 12,
    "start_time": "2023-03-16T11:21:23.507Z"
   },
   {
    "duration": 12,
    "start_time": "2023-03-16T11:21:23.521Z"
   },
   {
    "duration": 4,
    "start_time": "2023-03-16T11:21:23.534Z"
   },
   {
    "duration": 9,
    "start_time": "2023-03-16T11:21:23.539Z"
   },
   {
    "duration": 23,
    "start_time": "2023-03-16T11:21:23.549Z"
   },
   {
    "duration": 1279,
    "start_time": "2023-03-16T11:21:23.573Z"
   },
   {
    "duration": 6,
    "start_time": "2023-03-16T11:21:24.853Z"
   },
   {
    "duration": 19,
    "start_time": "2023-03-16T11:21:24.869Z"
   },
   {
    "duration": 29,
    "start_time": "2023-03-16T11:21:24.890Z"
   },
   {
    "duration": 8,
    "start_time": "2023-03-16T11:21:24.921Z"
   },
   {
    "duration": 15,
    "start_time": "2023-03-16T11:21:24.931Z"
   },
   {
    "duration": 11,
    "start_time": "2023-03-16T11:21:24.948Z"
   },
   {
    "duration": 16,
    "start_time": "2023-03-16T11:21:24.961Z"
   },
   {
    "duration": 69,
    "start_time": "2023-03-16T11:21:24.979Z"
   },
   {
    "duration": 3,
    "start_time": "2023-03-16T11:21:25.050Z"
   },
   {
    "duration": 40,
    "start_time": "2023-03-16T11:21:25.055Z"
   },
   {
    "duration": 20,
    "start_time": "2023-03-16T11:21:25.097Z"
   },
   {
    "duration": 133,
    "start_time": "2023-03-16T11:21:25.119Z"
   },
   {
    "duration": 43,
    "start_time": "2023-03-16T11:21:25.254Z"
   },
   {
    "duration": 3,
    "start_time": "2023-03-16T11:21:25.299Z"
   },
   {
    "duration": 19,
    "start_time": "2023-03-16T11:21:25.304Z"
   },
   {
    "duration": 148,
    "start_time": "2023-03-16T11:21:25.325Z"
   },
   {
    "duration": 61,
    "start_time": "2023-03-16T11:21:25.475Z"
   },
   {
    "duration": 3,
    "start_time": "2023-03-16T11:21:25.540Z"
   },
   {
    "duration": 25,
    "start_time": "2023-03-16T11:21:25.545Z"
   },
   {
    "duration": 161,
    "start_time": "2023-03-16T11:21:25.571Z"
   },
   {
    "duration": 24,
    "start_time": "2023-03-16T11:21:25.734Z"
   },
   {
    "duration": 3,
    "start_time": "2023-03-16T11:21:25.770Z"
   },
   {
    "duration": 37,
    "start_time": "2023-03-16T11:21:25.775Z"
   },
   {
    "duration": 178,
    "start_time": "2023-03-16T11:21:25.814Z"
   },
   {
    "duration": 26,
    "start_time": "2023-03-16T11:21:25.994Z"
   },
   {
    "duration": 34,
    "start_time": "2023-03-16T11:21:26.021Z"
   },
   {
    "duration": 28,
    "start_time": "2023-03-16T11:21:26.057Z"
   },
   {
    "duration": 46,
    "start_time": "2023-03-16T11:21:26.086Z"
   },
   {
    "duration": 17,
    "start_time": "2023-03-16T11:21:26.134Z"
   },
   {
    "duration": 476,
    "start_time": "2023-03-16T11:21:26.152Z"
   },
   {
    "duration": 3,
    "start_time": "2023-03-16T11:21:26.630Z"
   },
   {
    "duration": 68,
    "start_time": "2023-03-16T11:21:26.635Z"
   },
   {
    "duration": 141,
    "start_time": "2023-03-16T11:21:26.705Z"
   },
   {
    "duration": 23,
    "start_time": "2023-03-16T11:21:26.847Z"
   },
   {
    "duration": 40,
    "start_time": "2023-03-16T11:21:26.872Z"
   },
   {
    "duration": 8,
    "start_time": "2023-03-16T11:21:26.914Z"
   },
   {
    "duration": 19,
    "start_time": "2023-03-16T11:21:26.923Z"
   },
   {
    "duration": 13,
    "start_time": "2023-03-16T11:21:26.943Z"
   },
   {
    "duration": 30,
    "start_time": "2023-03-16T11:21:26.957Z"
   },
   {
    "duration": 93,
    "start_time": "2023-03-16T11:21:26.989Z"
   },
   {
    "duration": 9,
    "start_time": "2023-03-16T11:21:27.084Z"
   },
   {
    "duration": 9,
    "start_time": "2023-03-16T11:21:27.096Z"
   },
   {
    "duration": 59,
    "start_time": "2023-03-16T11:21:27.107Z"
   },
   {
    "duration": 23,
    "start_time": "2023-03-16T11:21:27.168Z"
   },
   {
    "duration": 34,
    "start_time": "2023-03-16T11:21:27.193Z"
   },
   {
    "duration": 43,
    "start_time": "2023-03-16T11:21:27.228Z"
   },
   {
    "duration": 36,
    "start_time": "2023-03-16T11:21:27.272Z"
   },
   {
    "duration": 29,
    "start_time": "2023-03-16T11:21:27.310Z"
   },
   {
    "duration": 58,
    "start_time": "2023-03-16T11:21:27.341Z"
   },
   {
    "duration": 21,
    "start_time": "2023-03-16T11:21:27.401Z"
   },
   {
    "duration": 18,
    "start_time": "2023-03-16T11:21:27.424Z"
   },
   {
    "duration": 58,
    "start_time": "2023-03-16T11:21:27.444Z"
   },
   {
    "duration": 23,
    "start_time": "2023-03-16T11:21:27.504Z"
   },
   {
    "duration": 45,
    "start_time": "2023-03-16T11:21:27.528Z"
   },
   {
    "duration": 20,
    "start_time": "2023-03-16T11:21:27.575Z"
   },
   {
    "duration": 36,
    "start_time": "2023-03-16T11:21:27.596Z"
   },
   {
    "duration": 52,
    "start_time": "2023-03-16T11:21:27.633Z"
   },
   {
    "duration": 33,
    "start_time": "2023-03-16T11:21:27.687Z"
   },
   {
    "duration": 22,
    "start_time": "2023-03-16T11:21:27.722Z"
   },
   {
    "duration": 6,
    "start_time": "2023-03-16T11:21:27.770Z"
   },
   {
    "duration": 231,
    "start_time": "2023-03-16T11:21:27.778Z"
   },
   {
    "duration": 6,
    "start_time": "2023-03-16T11:21:28.011Z"
   },
   {
    "duration": 359,
    "start_time": "2023-03-16T11:21:28.018Z"
   },
   {
    "duration": 6,
    "start_time": "2023-03-16T11:21:28.379Z"
   },
   {
    "duration": 234,
    "start_time": "2023-03-16T11:21:28.387Z"
   },
   {
    "duration": 7,
    "start_time": "2023-03-16T11:22:27.309Z"
   },
   {
    "duration": 1304,
    "start_time": "2023-03-16T11:22:36.437Z"
   },
   {
    "duration": 165,
    "start_time": "2023-03-16T11:22:37.742Z"
   },
   {
    "duration": 11,
    "start_time": "2023-03-16T11:22:37.909Z"
   },
   {
    "duration": 11,
    "start_time": "2023-03-16T11:22:37.923Z"
   },
   {
    "duration": 39,
    "start_time": "2023-03-16T11:22:37.935Z"
   },
   {
    "duration": 134,
    "start_time": "2023-03-16T11:22:37.975Z"
   },
   {
    "duration": 9,
    "start_time": "2023-03-16T11:22:38.111Z"
   },
   {
    "duration": 30,
    "start_time": "2023-03-16T11:22:38.122Z"
   },
   {
    "duration": 23,
    "start_time": "2023-03-16T11:22:38.154Z"
   },
   {
    "duration": 5801,
    "start_time": "2023-03-16T11:22:38.179Z"
   },
   {
    "duration": 5936,
    "start_time": "2023-03-16T11:22:43.982Z"
   },
   {
    "duration": 10,
    "start_time": "2023-03-16T11:22:49.920Z"
   },
   {
    "duration": 18,
    "start_time": "2023-03-16T11:22:49.931Z"
   },
   {
    "duration": 6120,
    "start_time": "2023-03-16T11:22:49.950Z"
   },
   {
    "duration": 5879,
    "start_time": "2023-03-16T11:22:56.072Z"
   },
   {
    "duration": 20,
    "start_time": "2023-03-16T11:23:01.953Z"
   },
   {
    "duration": 5920,
    "start_time": "2023-03-16T11:23:01.975Z"
   },
   {
    "duration": 11,
    "start_time": "2023-03-16T11:23:07.897Z"
   },
   {
    "duration": 22,
    "start_time": "2023-03-16T11:23:07.909Z"
   },
   {
    "duration": 16,
    "start_time": "2023-03-16T11:23:07.933Z"
   },
   {
    "duration": 12,
    "start_time": "2023-03-16T11:23:07.951Z"
   },
   {
    "duration": 6,
    "start_time": "2023-03-16T11:23:07.964Z"
   },
   {
    "duration": 1294,
    "start_time": "2023-03-16T11:23:07.971Z"
   },
   {
    "duration": 6,
    "start_time": "2023-03-16T11:23:09.268Z"
   },
   {
    "duration": 16,
    "start_time": "2023-03-16T11:23:09.276Z"
   },
   {
    "duration": 21,
    "start_time": "2023-03-16T11:23:09.294Z"
   },
   {
    "duration": 3,
    "start_time": "2023-03-16T11:23:09.317Z"
   },
   {
    "duration": 41,
    "start_time": "2023-03-16T11:23:09.324Z"
   },
   {
    "duration": 16,
    "start_time": "2023-03-16T11:23:09.367Z"
   },
   {
    "duration": 5,
    "start_time": "2023-03-16T11:23:09.384Z"
   },
   {
    "duration": 67,
    "start_time": "2023-03-16T11:23:09.390Z"
   },
   {
    "duration": 3,
    "start_time": "2023-03-16T11:23:09.459Z"
   },
   {
    "duration": 15,
    "start_time": "2023-03-16T11:23:09.464Z"
   },
   {
    "duration": 6,
    "start_time": "2023-03-16T11:23:09.481Z"
   },
   {
    "duration": 101,
    "start_time": "2023-03-16T11:23:09.489Z"
   },
   {
    "duration": 35,
    "start_time": "2023-03-16T11:23:09.592Z"
   },
   {
    "duration": 3,
    "start_time": "2023-03-16T11:23:09.628Z"
   },
   {
    "duration": 12,
    "start_time": "2023-03-16T11:23:09.632Z"
   },
   {
    "duration": 140,
    "start_time": "2023-03-16T11:23:09.645Z"
   },
   {
    "duration": 59,
    "start_time": "2023-03-16T11:23:09.787Z"
   },
   {
    "duration": 3,
    "start_time": "2023-03-16T11:23:09.848Z"
   },
   {
    "duration": 7,
    "start_time": "2023-03-16T11:23:09.870Z"
   },
   {
    "duration": 174,
    "start_time": "2023-03-16T11:23:09.879Z"
   },
   {
    "duration": 26,
    "start_time": "2023-03-16T11:23:10.055Z"
   },
   {
    "duration": 4,
    "start_time": "2023-03-16T11:23:10.083Z"
   },
   {
    "duration": 14,
    "start_time": "2023-03-16T11:23:10.089Z"
   },
   {
    "duration": 178,
    "start_time": "2023-03-16T11:23:10.105Z"
   },
   {
    "duration": 24,
    "start_time": "2023-03-16T11:23:10.284Z"
   },
   {
    "duration": 19,
    "start_time": "2023-03-16T11:23:10.309Z"
   },
   {
    "duration": 40,
    "start_time": "2023-03-16T11:23:10.329Z"
   },
   {
    "duration": 19,
    "start_time": "2023-03-16T11:23:10.371Z"
   },
   {
    "duration": 6,
    "start_time": "2023-03-16T11:23:10.391Z"
   },
   {
    "duration": 446,
    "start_time": "2023-03-16T11:23:10.399Z"
   },
   {
    "duration": 5,
    "start_time": "2023-03-16T11:23:10.846Z"
   },
   {
    "duration": 65,
    "start_time": "2023-03-16T11:23:10.852Z"
   },
   {
    "duration": 155,
    "start_time": "2023-03-16T11:23:10.919Z"
   },
   {
    "duration": 9,
    "start_time": "2023-03-16T11:23:11.076Z"
   },
   {
    "duration": 36,
    "start_time": "2023-03-16T11:23:11.087Z"
   },
   {
    "duration": 7,
    "start_time": "2023-03-16T11:23:11.125Z"
   },
   {
    "duration": 6,
    "start_time": "2023-03-16T11:23:11.134Z"
   },
   {
    "duration": 31,
    "start_time": "2023-03-16T11:23:11.142Z"
   },
   {
    "duration": 66,
    "start_time": "2023-03-16T11:23:11.175Z"
   },
   {
    "duration": 18,
    "start_time": "2023-03-16T11:23:11.243Z"
   },
   {
    "duration": 17,
    "start_time": "2023-03-16T11:23:11.262Z"
   },
   {
    "duration": 10,
    "start_time": "2023-03-16T11:23:11.281Z"
   },
   {
    "duration": 51,
    "start_time": "2023-03-16T11:23:11.292Z"
   },
   {
    "duration": 28,
    "start_time": "2023-03-16T11:23:11.345Z"
   },
   {
    "duration": 29,
    "start_time": "2023-03-16T11:23:11.375Z"
   },
   {
    "duration": 21,
    "start_time": "2023-03-16T11:23:11.405Z"
   },
   {
    "duration": 54,
    "start_time": "2023-03-16T11:23:11.427Z"
   },
   {
    "duration": 21,
    "start_time": "2023-03-16T11:23:11.482Z"
   },
   {
    "duration": 29,
    "start_time": "2023-03-16T11:23:11.505Z"
   },
   {
    "duration": 41,
    "start_time": "2023-03-16T11:23:11.536Z"
   },
   {
    "duration": 4,
    "start_time": "2023-03-16T11:23:11.578Z"
   },
   {
    "duration": 47,
    "start_time": "2023-03-16T11:23:11.584Z"
   },
   {
    "duration": 36,
    "start_time": "2023-03-16T11:23:11.633Z"
   },
   {
    "duration": 31,
    "start_time": "2023-03-16T11:23:11.671Z"
   },
   {
    "duration": 21,
    "start_time": "2023-03-16T11:23:11.704Z"
   },
   {
    "duration": 56,
    "start_time": "2023-03-16T11:23:11.726Z"
   },
   {
    "duration": 21,
    "start_time": "2023-03-16T11:23:11.784Z"
   },
   {
    "duration": 29,
    "start_time": "2023-03-16T11:23:11.807Z"
   },
   {
    "duration": 45,
    "start_time": "2023-03-16T11:23:11.841Z"
   },
   {
    "duration": 5,
    "start_time": "2023-03-16T11:23:11.887Z"
   },
   {
    "duration": 227,
    "start_time": "2023-03-16T11:23:11.894Z"
   },
   {
    "duration": 5,
    "start_time": "2023-03-16T11:23:12.123Z"
   },
   {
    "duration": 230,
    "start_time": "2023-03-16T11:23:12.129Z"
   },
   {
    "duration": 5,
    "start_time": "2023-03-16T11:23:12.370Z"
   },
   {
    "duration": 226,
    "start_time": "2023-03-16T11:23:12.377Z"
   },
   {
    "duration": 5,
    "start_time": "2023-03-16T11:25:17.789Z"
   },
   {
    "duration": 6,
    "start_time": "2023-03-16T11:25:21.193Z"
   },
   {
    "duration": 1610,
    "start_time": "2023-03-16T11:25:27.443Z"
   },
   {
    "duration": 165,
    "start_time": "2023-03-16T11:25:29.055Z"
   },
   {
    "duration": 11,
    "start_time": "2023-03-16T11:25:29.222Z"
   },
   {
    "duration": 12,
    "start_time": "2023-03-16T11:25:29.235Z"
   },
   {
    "duration": 29,
    "start_time": "2023-03-16T11:25:29.249Z"
   },
   {
    "duration": 133,
    "start_time": "2023-03-16T11:25:29.280Z"
   },
   {
    "duration": 8,
    "start_time": "2023-03-16T11:25:29.414Z"
   },
   {
    "duration": 46,
    "start_time": "2023-03-16T11:25:29.423Z"
   },
   {
    "duration": 10,
    "start_time": "2023-03-16T11:25:29.471Z"
   },
   {
    "duration": 5941,
    "start_time": "2023-03-16T11:25:29.483Z"
   },
   {
    "duration": 5773,
    "start_time": "2023-03-16T11:25:35.426Z"
   },
   {
    "duration": 10,
    "start_time": "2023-03-16T11:25:41.201Z"
   },
   {
    "duration": 22,
    "start_time": "2023-03-16T11:25:41.213Z"
   },
   {
    "duration": 5893,
    "start_time": "2023-03-16T11:25:41.237Z"
   },
   {
    "duration": 5922,
    "start_time": "2023-03-16T11:25:47.132Z"
   },
   {
    "duration": 25,
    "start_time": "2023-03-16T11:25:53.056Z"
   },
   {
    "duration": 6131,
    "start_time": "2023-03-16T11:25:53.083Z"
   },
   {
    "duration": 13,
    "start_time": "2023-03-16T11:25:59.216Z"
   },
   {
    "duration": 13,
    "start_time": "2023-03-16T11:25:59.230Z"
   },
   {
    "duration": 25,
    "start_time": "2023-03-16T11:25:59.244Z"
   },
   {
    "duration": 5,
    "start_time": "2023-03-16T11:25:59.271Z"
   },
   {
    "duration": 17,
    "start_time": "2023-03-16T11:25:59.277Z"
   },
   {
    "duration": 1199,
    "start_time": "2023-03-16T11:25:59.296Z"
   },
   {
    "duration": 6,
    "start_time": "2023-03-16T11:26:00.497Z"
   },
   {
    "duration": 47,
    "start_time": "2023-03-16T11:26:00.505Z"
   },
   {
    "duration": 27,
    "start_time": "2023-03-16T11:26:00.553Z"
   },
   {
    "duration": 22,
    "start_time": "2023-03-16T11:26:00.582Z"
   },
   {
    "duration": 38,
    "start_time": "2023-03-16T11:26:00.609Z"
   },
   {
    "duration": 25,
    "start_time": "2023-03-16T11:26:00.648Z"
   },
   {
    "duration": 43,
    "start_time": "2023-03-16T11:26:00.674Z"
   },
   {
    "duration": 80,
    "start_time": "2023-03-16T11:26:00.719Z"
   },
   {
    "duration": 3,
    "start_time": "2023-03-16T11:26:00.801Z"
   },
   {
    "duration": 59,
    "start_time": "2023-03-16T11:26:00.806Z"
   },
   {
    "duration": 18,
    "start_time": "2023-03-16T11:26:00.866Z"
   },
   {
    "duration": 119,
    "start_time": "2023-03-16T11:26:00.886Z"
   },
   {
    "duration": 36,
    "start_time": "2023-03-16T11:26:01.007Z"
   },
   {
    "duration": 40,
    "start_time": "2023-03-16T11:26:01.044Z"
   },
   {
    "duration": 43,
    "start_time": "2023-03-16T11:26:01.086Z"
   },
   {
    "duration": 161,
    "start_time": "2023-03-16T11:26:01.131Z"
   },
   {
    "duration": 77,
    "start_time": "2023-03-16T11:26:01.294Z"
   },
   {
    "duration": 3,
    "start_time": "2023-03-16T11:26:01.373Z"
   },
   {
    "duration": 39,
    "start_time": "2023-03-16T11:26:01.378Z"
   },
   {
    "duration": 203,
    "start_time": "2023-03-16T11:26:01.418Z"
   },
   {
    "duration": 24,
    "start_time": "2023-03-16T11:26:01.623Z"
   },
   {
    "duration": 15,
    "start_time": "2023-03-16T11:26:01.649Z"
   },
   {
    "duration": 33,
    "start_time": "2023-03-16T11:26:01.669Z"
   },
   {
    "duration": 158,
    "start_time": "2023-03-16T11:26:01.703Z"
   },
   {
    "duration": 25,
    "start_time": "2023-03-16T11:26:01.863Z"
   },
   {
    "duration": 46,
    "start_time": "2023-03-16T11:26:01.890Z"
   },
   {
    "duration": 53,
    "start_time": "2023-03-16T11:26:01.938Z"
   },
   {
    "duration": 29,
    "start_time": "2023-03-16T11:26:01.993Z"
   },
   {
    "duration": 23,
    "start_time": "2023-03-16T11:26:02.023Z"
   },
   {
    "duration": 431,
    "start_time": "2023-03-16T11:26:02.048Z"
   },
   {
    "duration": 3,
    "start_time": "2023-03-16T11:26:02.481Z"
   },
   {
    "duration": 101,
    "start_time": "2023-03-16T11:26:02.485Z"
   },
   {
    "duration": 133,
    "start_time": "2023-03-16T11:26:02.588Z"
   },
   {
    "duration": 12,
    "start_time": "2023-03-16T11:26:02.723Z"
   },
   {
    "duration": 71,
    "start_time": "2023-03-16T11:26:02.737Z"
   },
   {
    "duration": 7,
    "start_time": "2023-03-16T11:26:02.810Z"
   },
   {
    "duration": 11,
    "start_time": "2023-03-16T11:26:02.818Z"
   },
   {
    "duration": 32,
    "start_time": "2023-03-16T11:26:02.831Z"
   },
   {
    "duration": 28,
    "start_time": "2023-03-16T11:26:02.865Z"
   },
   {
    "duration": 18,
    "start_time": "2023-03-16T11:26:02.895Z"
   },
   {
    "duration": 51,
    "start_time": "2023-03-16T11:26:02.915Z"
   },
   {
    "duration": 29,
    "start_time": "2023-03-16T11:26:02.968Z"
   },
   {
    "duration": 91,
    "start_time": "2023-03-16T11:26:02.998Z"
   },
   {
    "duration": 23,
    "start_time": "2023-03-16T11:26:03.090Z"
   },
   {
    "duration": 45,
    "start_time": "2023-03-16T11:26:03.115Z"
   },
   {
    "duration": 25,
    "start_time": "2023-03-16T11:26:03.162Z"
   },
   {
    "duration": 33,
    "start_time": "2023-03-16T11:26:03.188Z"
   },
   {
    "duration": 22,
    "start_time": "2023-03-16T11:26:03.223Z"
   },
   {
    "duration": 54,
    "start_time": "2023-03-16T11:26:03.247Z"
   },
   {
    "duration": 26,
    "start_time": "2023-03-16T11:26:03.304Z"
   },
   {
    "duration": 5,
    "start_time": "2023-03-16T11:26:03.332Z"
   },
   {
    "duration": 74,
    "start_time": "2023-03-16T11:26:03.339Z"
   },
   {
    "duration": 24,
    "start_time": "2023-03-16T11:26:03.415Z"
   },
   {
    "duration": 58,
    "start_time": "2023-03-16T11:26:03.441Z"
   },
   {
    "duration": 22,
    "start_time": "2023-03-16T11:26:03.502Z"
   },
   {
    "duration": 56,
    "start_time": "2023-03-16T11:26:03.526Z"
   },
   {
    "duration": 24,
    "start_time": "2023-03-16T11:26:03.584Z"
   },
   {
    "duration": 29,
    "start_time": "2023-03-16T11:26:03.609Z"
   },
   {
    "duration": 40,
    "start_time": "2023-03-16T11:26:03.643Z"
   },
   {
    "duration": 6,
    "start_time": "2023-03-16T11:26:03.684Z"
   },
   {
    "duration": 235,
    "start_time": "2023-03-16T11:26:03.692Z"
   },
   {
    "duration": 6,
    "start_time": "2023-03-16T11:26:03.928Z"
   },
   {
    "duration": 288,
    "start_time": "2023-03-16T11:26:03.935Z"
   },
   {
    "duration": 6,
    "start_time": "2023-03-16T11:26:04.225Z"
   },
   {
    "duration": 241,
    "start_time": "2023-03-16T11:26:04.233Z"
   },
   {
    "duration": 6,
    "start_time": "2023-03-16T11:29:48.101Z"
   },
   {
    "duration": 5,
    "start_time": "2023-03-16T11:29:52.526Z"
   },
   {
    "duration": 1273,
    "start_time": "2023-03-16T11:30:00.625Z"
   },
   {
    "duration": 167,
    "start_time": "2023-03-16T11:30:01.901Z"
   },
   {
    "duration": 11,
    "start_time": "2023-03-16T11:30:02.069Z"
   },
   {
    "duration": 45,
    "start_time": "2023-03-16T11:30:02.081Z"
   },
   {
    "duration": 37,
    "start_time": "2023-03-16T11:30:02.128Z"
   },
   {
    "duration": 127,
    "start_time": "2023-03-16T11:30:02.167Z"
   },
   {
    "duration": 9,
    "start_time": "2023-03-16T11:30:02.295Z"
   },
   {
    "duration": 57,
    "start_time": "2023-03-16T11:30:02.305Z"
   },
   {
    "duration": 28,
    "start_time": "2023-03-16T11:30:02.364Z"
   },
   {
    "duration": 5798,
    "start_time": "2023-03-16T11:30:02.393Z"
   },
   {
    "duration": 5582,
    "start_time": "2023-03-16T11:30:08.192Z"
   },
   {
    "duration": 9,
    "start_time": "2023-03-16T11:30:13.776Z"
   },
   {
    "duration": 15,
    "start_time": "2023-03-16T11:30:13.786Z"
   },
   {
    "duration": 5560,
    "start_time": "2023-03-16T11:30:13.804Z"
   },
   {
    "duration": 5689,
    "start_time": "2023-03-16T11:30:19.369Z"
   },
   {
    "duration": 26,
    "start_time": "2023-03-16T11:30:25.060Z"
   },
   {
    "duration": 5796,
    "start_time": "2023-03-16T11:30:25.088Z"
   },
   {
    "duration": 13,
    "start_time": "2023-03-16T11:30:30.885Z"
   },
   {
    "duration": 63,
    "start_time": "2023-03-16T11:30:30.900Z"
   },
   {
    "duration": 39,
    "start_time": "2023-03-16T11:30:30.965Z"
   },
   {
    "duration": 45,
    "start_time": "2023-03-16T11:30:31.006Z"
   },
   {
    "duration": 29,
    "start_time": "2023-03-16T11:30:31.053Z"
   },
   {
    "duration": 1227,
    "start_time": "2023-03-16T11:30:31.084Z"
   },
   {
    "duration": 6,
    "start_time": "2023-03-16T11:30:32.313Z"
   },
   {
    "duration": 37,
    "start_time": "2023-03-16T11:30:32.321Z"
   },
   {
    "duration": 95,
    "start_time": "2023-03-16T11:30:32.360Z"
   },
   {
    "duration": 4,
    "start_time": "2023-03-16T11:30:32.457Z"
   },
   {
    "duration": 12,
    "start_time": "2023-03-16T11:30:32.463Z"
   },
   {
    "duration": 8,
    "start_time": "2023-03-16T11:30:32.477Z"
   },
   {
    "duration": 4,
    "start_time": "2023-03-16T11:30:32.487Z"
   },
   {
    "duration": 76,
    "start_time": "2023-03-16T11:30:32.493Z"
   },
   {
    "duration": 3,
    "start_time": "2023-03-16T11:30:32.571Z"
   },
   {
    "duration": 13,
    "start_time": "2023-03-16T11:30:32.575Z"
   },
   {
    "duration": 6,
    "start_time": "2023-03-16T11:30:32.590Z"
   },
   {
    "duration": 111,
    "start_time": "2023-03-16T11:30:32.597Z"
   },
   {
    "duration": 33,
    "start_time": "2023-03-16T11:30:32.710Z"
   },
   {
    "duration": 3,
    "start_time": "2023-03-16T11:30:32.745Z"
   },
   {
    "duration": 24,
    "start_time": "2023-03-16T11:30:32.749Z"
   },
   {
    "duration": 138,
    "start_time": "2023-03-16T11:30:32.774Z"
   },
   {
    "duration": 68,
    "start_time": "2023-03-16T11:30:32.914Z"
   },
   {
    "duration": 3,
    "start_time": "2023-03-16T11:30:32.987Z"
   },
   {
    "duration": 10,
    "start_time": "2023-03-16T11:30:32.992Z"
   },
   {
    "duration": 173,
    "start_time": "2023-03-16T11:30:33.004Z"
   },
   {
    "duration": 24,
    "start_time": "2023-03-16T11:30:33.178Z"
   },
   {
    "duration": 3,
    "start_time": "2023-03-16T11:30:33.205Z"
   },
   {
    "duration": 17,
    "start_time": "2023-03-16T11:30:33.210Z"
   },
   {
    "duration": 181,
    "start_time": "2023-03-16T11:30:33.228Z"
   },
   {
    "duration": 23,
    "start_time": "2023-03-16T11:30:33.411Z"
   },
   {
    "duration": 37,
    "start_time": "2023-03-16T11:30:33.436Z"
   },
   {
    "duration": 22,
    "start_time": "2023-03-16T11:30:33.475Z"
   },
   {
    "duration": 31,
    "start_time": "2023-03-16T11:30:33.498Z"
   },
   {
    "duration": 6,
    "start_time": "2023-03-16T11:30:33.531Z"
   },
   {
    "duration": 471,
    "start_time": "2023-03-16T11:30:33.539Z"
   },
   {
    "duration": 4,
    "start_time": "2023-03-16T11:30:34.012Z"
   },
   {
    "duration": 70,
    "start_time": "2023-03-16T11:30:34.017Z"
   },
   {
    "duration": 156,
    "start_time": "2023-03-16T11:30:34.089Z"
   },
   {
    "duration": 25,
    "start_time": "2023-03-16T11:30:34.247Z"
   },
   {
    "duration": 45,
    "start_time": "2023-03-16T11:30:34.274Z"
   },
   {
    "duration": 7,
    "start_time": "2023-03-16T11:30:34.321Z"
   },
   {
    "duration": 7,
    "start_time": "2023-03-16T11:30:34.329Z"
   },
   {
    "duration": 10,
    "start_time": "2023-03-16T11:30:34.337Z"
   },
   {
    "duration": 27,
    "start_time": "2023-03-16T11:30:34.348Z"
   },
   {
    "duration": 10,
    "start_time": "2023-03-16T11:30:34.377Z"
   },
   {
    "duration": 10,
    "start_time": "2023-03-16T11:30:34.389Z"
   },
   {
    "duration": 4,
    "start_time": "2023-03-16T11:30:34.400Z"
   },
   {
    "duration": 64,
    "start_time": "2023-03-16T11:30:34.405Z"
   },
   {
    "duration": 22,
    "start_time": "2023-03-16T11:30:34.471Z"
   },
   {
    "duration": 30,
    "start_time": "2023-03-16T11:30:34.495Z"
   },
   {
    "duration": 43,
    "start_time": "2023-03-16T11:30:34.527Z"
   },
   {
    "duration": 30,
    "start_time": "2023-03-16T11:30:34.572Z"
   },
   {
    "duration": 24,
    "start_time": "2023-03-16T11:30:34.604Z"
   },
   {
    "duration": 62,
    "start_time": "2023-03-16T11:30:34.630Z"
   },
   {
    "duration": 26,
    "start_time": "2023-03-16T11:30:34.694Z"
   },
   {
    "duration": 44,
    "start_time": "2023-03-16T11:30:34.722Z"
   },
   {
    "duration": 59,
    "start_time": "2023-03-16T11:30:34.769Z"
   },
   {
    "duration": 26,
    "start_time": "2023-03-16T11:30:34.830Z"
   },
   {
    "duration": 38,
    "start_time": "2023-03-16T11:30:34.870Z"
   },
   {
    "duration": 24,
    "start_time": "2023-03-16T11:30:34.911Z"
   },
   {
    "duration": 55,
    "start_time": "2023-03-16T11:30:34.937Z"
   },
   {
    "duration": 22,
    "start_time": "2023-03-16T11:30:34.994Z"
   },
   {
    "duration": 31,
    "start_time": "2023-03-16T11:30:35.018Z"
   },
   {
    "duration": 44,
    "start_time": "2023-03-16T11:30:35.050Z"
   },
   {
    "duration": 7,
    "start_time": "2023-03-16T11:30:35.096Z"
   },
   {
    "duration": 240,
    "start_time": "2023-03-16T11:30:35.104Z"
   },
   {
    "duration": 6,
    "start_time": "2023-03-16T11:30:35.346Z"
   },
   {
    "duration": 235,
    "start_time": "2023-03-16T11:30:35.353Z"
   },
   {
    "duration": 6,
    "start_time": "2023-03-16T11:30:35.589Z"
   },
   {
    "duration": 223,
    "start_time": "2023-03-16T11:30:35.596Z"
   },
   {
    "duration": 6,
    "start_time": "2023-03-16T11:35:19.638Z"
   },
   {
    "duration": 5,
    "start_time": "2023-03-16T11:35:31.139Z"
   },
   {
    "duration": 4,
    "start_time": "2023-03-16T11:36:22.265Z"
   },
   {
    "duration": 180,
    "start_time": "2023-03-16T11:36:22.270Z"
   },
   {
    "duration": 17,
    "start_time": "2023-03-16T11:36:22.452Z"
   },
   {
    "duration": 6,
    "start_time": "2023-03-16T11:36:22.470Z"
   },
   {
    "duration": 30,
    "start_time": "2023-03-16T11:36:22.478Z"
   },
   {
    "duration": 140,
    "start_time": "2023-03-16T11:36:22.510Z"
   },
   {
    "duration": 19,
    "start_time": "2023-03-16T11:36:22.652Z"
   },
   {
    "duration": 31,
    "start_time": "2023-03-16T11:36:22.673Z"
   },
   {
    "duration": 14,
    "start_time": "2023-03-16T11:36:22.706Z"
   },
   {
    "duration": 6016,
    "start_time": "2023-03-16T11:36:22.722Z"
   },
   {
    "duration": 5924,
    "start_time": "2023-03-16T11:36:28.739Z"
   },
   {
    "duration": 12,
    "start_time": "2023-03-16T11:36:34.664Z"
   },
   {
    "duration": 11,
    "start_time": "2023-03-16T11:36:34.679Z"
   },
   {
    "duration": 5763,
    "start_time": "2023-03-16T11:36:34.692Z"
   },
   {
    "duration": 5842,
    "start_time": "2023-03-16T11:36:40.457Z"
   },
   {
    "duration": 20,
    "start_time": "2023-03-16T11:36:46.301Z"
   },
   {
    "duration": 5823,
    "start_time": "2023-03-16T11:36:46.322Z"
   },
   {
    "duration": 12,
    "start_time": "2023-03-16T11:36:52.147Z"
   },
   {
    "duration": 16,
    "start_time": "2023-03-16T11:36:52.160Z"
   },
   {
    "duration": 8,
    "start_time": "2023-03-16T11:36:52.178Z"
   },
   {
    "duration": 13,
    "start_time": "2023-03-16T11:36:52.187Z"
   },
   {
    "duration": 6,
    "start_time": "2023-03-16T11:36:52.202Z"
   },
   {
    "duration": 1142,
    "start_time": "2023-03-16T11:36:52.210Z"
   },
   {
    "duration": 15,
    "start_time": "2023-03-16T11:36:53.355Z"
   },
   {
    "duration": 15,
    "start_time": "2023-03-16T11:36:53.371Z"
   },
   {
    "duration": 21,
    "start_time": "2023-03-16T11:36:53.388Z"
   },
   {
    "duration": 4,
    "start_time": "2023-03-16T11:36:53.411Z"
   },
   {
    "duration": 11,
    "start_time": "2023-03-16T11:36:53.416Z"
   },
   {
    "duration": 7,
    "start_time": "2023-03-16T11:36:53.429Z"
   },
   {
    "duration": 32,
    "start_time": "2023-03-16T11:36:53.437Z"
   },
   {
    "duration": 61,
    "start_time": "2023-03-16T11:36:53.471Z"
   },
   {
    "duration": 4,
    "start_time": "2023-03-16T11:36:53.534Z"
   },
   {
    "duration": 18,
    "start_time": "2023-03-16T11:36:53.539Z"
   },
   {
    "duration": 5,
    "start_time": "2023-03-16T11:36:53.568Z"
   },
   {
    "duration": 118,
    "start_time": "2023-03-16T11:36:53.574Z"
   },
   {
    "duration": 35,
    "start_time": "2023-03-16T11:36:53.694Z"
   },
   {
    "duration": 3,
    "start_time": "2023-03-16T11:36:53.734Z"
   },
   {
    "duration": 30,
    "start_time": "2023-03-16T11:36:53.739Z"
   },
   {
    "duration": 138,
    "start_time": "2023-03-16T11:36:53.771Z"
   },
   {
    "duration": 91,
    "start_time": "2023-03-16T11:36:53.911Z"
   },
   {
    "duration": 4,
    "start_time": "2023-03-16T11:36:54.005Z"
   },
   {
    "duration": 18,
    "start_time": "2023-03-16T11:36:54.011Z"
   },
   {
    "duration": 211,
    "start_time": "2023-03-16T11:36:54.031Z"
   },
   {
    "duration": 29,
    "start_time": "2023-03-16T11:36:54.244Z"
   },
   {
    "duration": 4,
    "start_time": "2023-03-16T11:36:54.275Z"
   },
   {
    "duration": 35,
    "start_time": "2023-03-16T11:36:54.280Z"
   },
   {
    "duration": 158,
    "start_time": "2023-03-16T11:36:54.317Z"
   },
   {
    "duration": 25,
    "start_time": "2023-03-16T11:36:54.477Z"
   },
   {
    "duration": 22,
    "start_time": "2023-03-16T11:36:54.503Z"
   },
   {
    "duration": 46,
    "start_time": "2023-03-16T11:36:54.526Z"
   },
   {
    "duration": 19,
    "start_time": "2023-03-16T11:36:54.574Z"
   },
   {
    "duration": 5,
    "start_time": "2023-03-16T11:36:54.595Z"
   },
   {
    "duration": 67,
    "start_time": "2023-03-16T11:36:54.602Z"
   },
   {
    "duration": 6,
    "start_time": "2023-03-16T11:36:54.671Z"
   },
   {
    "duration": 54,
    "start_time": "2023-03-16T11:36:54.679Z"
   },
   {
    "duration": 112,
    "start_time": "2023-03-16T11:36:54.734Z"
   },
   {
    "duration": 29,
    "start_time": "2023-03-16T11:36:54.848Z"
   },
   {
    "duration": 55,
    "start_time": "2023-03-16T11:36:54.879Z"
   },
   {
    "duration": 7,
    "start_time": "2023-03-16T11:36:54.937Z"
   },
   {
    "duration": 8,
    "start_time": "2023-03-16T11:36:54.946Z"
   },
   {
    "duration": 14,
    "start_time": "2023-03-16T11:36:54.955Z"
   },
   {
    "duration": 15,
    "start_time": "2023-03-16T11:36:54.971Z"
   },
   {
    "duration": 9,
    "start_time": "2023-03-16T11:36:54.988Z"
   },
   {
    "duration": 12,
    "start_time": "2023-03-16T11:36:54.999Z"
   },
   {
    "duration": 4,
    "start_time": "2023-03-16T11:36:55.013Z"
   },
   {
    "duration": 72,
    "start_time": "2023-03-16T11:36:55.019Z"
   },
   {
    "duration": 23,
    "start_time": "2023-03-16T11:36:55.093Z"
   },
   {
    "duration": 63,
    "start_time": "2023-03-16T11:36:55.118Z"
   },
   {
    "duration": 29,
    "start_time": "2023-03-16T11:36:55.184Z"
   },
   {
    "duration": 54,
    "start_time": "2023-03-16T11:36:55.215Z"
   },
   {
    "duration": 24,
    "start_time": "2023-03-16T11:36:55.271Z"
   },
   {
    "duration": 36,
    "start_time": "2023-03-16T11:36:55.297Z"
   },
   {
    "duration": 42,
    "start_time": "2023-03-16T11:36:55.335Z"
   },
   {
    "duration": 4,
    "start_time": "2023-03-16T11:36:55.379Z"
   },
   {
    "duration": 53,
    "start_time": "2023-03-16T11:36:55.385Z"
   },
   {
    "duration": 38,
    "start_time": "2023-03-16T11:36:55.440Z"
   },
   {
    "duration": 34,
    "start_time": "2023-03-16T11:36:55.480Z"
   },
   {
    "duration": 21,
    "start_time": "2023-03-16T11:36:55.516Z"
   },
   {
    "duration": 61,
    "start_time": "2023-03-16T11:36:55.538Z"
   },
   {
    "duration": 22,
    "start_time": "2023-03-16T11:36:55.600Z"
   },
   {
    "duration": 60,
    "start_time": "2023-03-16T11:36:55.623Z"
   },
   {
    "duration": 24,
    "start_time": "2023-03-16T11:36:55.685Z"
   },
   {
    "duration": 6,
    "start_time": "2023-03-16T11:36:55.711Z"
   },
   {
    "duration": 229,
    "start_time": "2023-03-16T11:36:55.719Z"
   },
   {
    "duration": 22,
    "start_time": "2023-03-16T11:36:55.950Z"
   },
   {
    "duration": 240,
    "start_time": "2023-03-16T11:36:55.974Z"
   },
   {
    "duration": 6,
    "start_time": "2023-03-16T11:36:56.215Z"
   },
   {
    "duration": 221,
    "start_time": "2023-03-16T11:36:56.222Z"
   },
   {
    "duration": 6,
    "start_time": "2023-03-16T11:38:43.023Z"
   },
   {
    "duration": 5,
    "start_time": "2023-03-16T11:38:55.422Z"
   },
   {
    "duration": 150,
    "start_time": "2023-03-16T11:39:36.120Z"
   },
   {
    "duration": 5,
    "start_time": "2023-03-16T11:39:43.543Z"
   },
   {
    "duration": 30,
    "start_time": "2023-03-16T11:39:44.105Z"
   },
   {
    "duration": 5,
    "start_time": "2023-03-16T11:39:50.948Z"
   },
   {
    "duration": 25,
    "start_time": "2023-03-16T11:39:52.831Z"
   },
   {
    "duration": 12,
    "start_time": "2023-03-16T11:40:59.412Z"
   },
   {
    "duration": 13,
    "start_time": "2023-03-16T11:41:19.853Z"
   },
   {
    "duration": 6,
    "start_time": "2023-03-16T11:41:39.601Z"
   },
   {
    "duration": 7,
    "start_time": "2023-03-16T11:42:01.289Z"
   },
   {
    "duration": 6,
    "start_time": "2023-03-16T11:42:07.252Z"
   },
   {
    "duration": 23,
    "start_time": "2023-03-16T11:42:09.050Z"
   },
   {
    "duration": 6,
    "start_time": "2023-03-16T11:42:14.917Z"
   },
   {
    "duration": 24,
    "start_time": "2023-03-16T11:42:15.646Z"
   },
   {
    "duration": 5,
    "start_time": "2023-03-16T11:42:22.490Z"
   },
   {
    "duration": 23,
    "start_time": "2023-03-16T11:42:23.138Z"
   },
   {
    "duration": 29,
    "start_time": "2023-03-16T11:42:26.089Z"
   },
   {
    "duration": 5,
    "start_time": "2023-03-16T11:42:35.322Z"
   },
   {
    "duration": 23,
    "start_time": "2023-03-16T11:42:35.918Z"
   },
   {
    "duration": 6,
    "start_time": "2023-03-16T11:42:55.623Z"
   },
   {
    "duration": 26,
    "start_time": "2023-03-16T11:42:56.237Z"
   },
   {
    "duration": 22,
    "start_time": "2023-03-16T11:42:59.105Z"
   },
   {
    "duration": 5,
    "start_time": "2023-03-16T11:43:04.654Z"
   },
   {
    "duration": 37,
    "start_time": "2023-03-16T11:43:06.131Z"
   },
   {
    "duration": 5,
    "start_time": "2023-03-16T11:43:13.254Z"
   },
   {
    "duration": 44,
    "start_time": "2023-03-16T11:43:13.955Z"
   },
   {
    "duration": 6,
    "start_time": "2023-03-16T11:43:25.297Z"
   },
   {
    "duration": 22,
    "start_time": "2023-03-16T11:43:25.946Z"
   },
   {
    "duration": 1345,
    "start_time": "2023-03-16T11:45:41.340Z"
   },
   {
    "duration": 178,
    "start_time": "2023-03-16T11:45:42.687Z"
   },
   {
    "duration": 10,
    "start_time": "2023-03-16T11:45:42.867Z"
   },
   {
    "duration": 10,
    "start_time": "2023-03-16T11:45:42.879Z"
   },
   {
    "duration": 23,
    "start_time": "2023-03-16T11:45:42.890Z"
   },
   {
    "duration": 134,
    "start_time": "2023-03-16T11:45:42.915Z"
   },
   {
    "duration": 8,
    "start_time": "2023-03-16T11:45:43.051Z"
   },
   {
    "duration": 27,
    "start_time": "2023-03-16T11:45:43.070Z"
   },
   {
    "duration": 12,
    "start_time": "2023-03-16T11:45:43.098Z"
   },
   {
    "duration": 5718,
    "start_time": "2023-03-16T11:45:43.112Z"
   },
   {
    "duration": 5923,
    "start_time": "2023-03-16T11:45:48.832Z"
   },
   {
    "duration": 13,
    "start_time": "2023-03-16T11:45:54.757Z"
   },
   {
    "duration": 27,
    "start_time": "2023-03-16T11:45:54.772Z"
   },
   {
    "duration": 5959,
    "start_time": "2023-03-16T11:45:54.801Z"
   },
   {
    "duration": 5845,
    "start_time": "2023-03-16T11:46:00.761Z"
   },
   {
    "duration": 21,
    "start_time": "2023-03-16T11:46:06.608Z"
   },
   {
    "duration": 5823,
    "start_time": "2023-03-16T11:46:06.631Z"
   },
   {
    "duration": 16,
    "start_time": "2023-03-16T11:46:12.455Z"
   },
   {
    "duration": 10,
    "start_time": "2023-03-16T11:46:12.472Z"
   },
   {
    "duration": 3,
    "start_time": "2023-03-16T11:46:12.484Z"
   },
   {
    "duration": 7,
    "start_time": "2023-03-16T11:46:12.488Z"
   },
   {
    "duration": 5,
    "start_time": "2023-03-16T11:46:12.497Z"
   },
   {
    "duration": 1236,
    "start_time": "2023-03-16T11:46:12.504Z"
   },
   {
    "duration": 7,
    "start_time": "2023-03-16T11:46:13.741Z"
   },
   {
    "duration": 30,
    "start_time": "2023-03-16T11:46:13.750Z"
   },
   {
    "duration": 22,
    "start_time": "2023-03-16T11:46:13.782Z"
   },
   {
    "duration": 4,
    "start_time": "2023-03-16T11:46:13.806Z"
   },
   {
    "duration": 10,
    "start_time": "2023-03-16T11:46:13.815Z"
   },
   {
    "duration": 7,
    "start_time": "2023-03-16T11:46:13.827Z"
   },
   {
    "duration": 15,
    "start_time": "2023-03-16T11:46:13.836Z"
   },
   {
    "duration": 69,
    "start_time": "2023-03-16T11:46:13.869Z"
   },
   {
    "duration": 4,
    "start_time": "2023-03-16T11:46:13.940Z"
   },
   {
    "duration": 23,
    "start_time": "2023-03-16T11:46:13.946Z"
   },
   {
    "duration": 16,
    "start_time": "2023-03-16T11:46:13.972Z"
   },
   {
    "duration": 133,
    "start_time": "2023-03-16T11:46:13.991Z"
   },
   {
    "duration": 47,
    "start_time": "2023-03-16T11:46:14.126Z"
   },
   {
    "duration": 4,
    "start_time": "2023-03-16T11:46:14.175Z"
   },
   {
    "duration": 16,
    "start_time": "2023-03-16T11:46:14.180Z"
   },
   {
    "duration": 135,
    "start_time": "2023-03-16T11:46:14.197Z"
   },
   {
    "duration": 65,
    "start_time": "2023-03-16T11:46:14.334Z"
   },
   {
    "duration": 3,
    "start_time": "2023-03-16T11:46:14.401Z"
   },
   {
    "duration": 15,
    "start_time": "2023-03-16T11:46:14.405Z"
   },
   {
    "duration": 165,
    "start_time": "2023-03-16T11:46:14.422Z"
   },
   {
    "duration": 25,
    "start_time": "2023-03-16T11:46:14.589Z"
   },
   {
    "duration": 3,
    "start_time": "2023-03-16T11:46:14.616Z"
   },
   {
    "duration": 12,
    "start_time": "2023-03-16T11:46:14.621Z"
   },
   {
    "duration": 175,
    "start_time": "2023-03-16T11:46:14.635Z"
   },
   {
    "duration": 22,
    "start_time": "2023-03-16T11:46:14.812Z"
   },
   {
    "duration": 33,
    "start_time": "2023-03-16T11:46:14.836Z"
   },
   {
    "duration": 20,
    "start_time": "2023-03-16T11:46:14.871Z"
   },
   {
    "duration": 17,
    "start_time": "2023-03-16T11:46:14.893Z"
   },
   {
    "duration": 4,
    "start_time": "2023-03-16T11:46:14.912Z"
   },
   {
    "duration": 423,
    "start_time": "2023-03-16T11:46:14.918Z"
   },
   {
    "duration": 4,
    "start_time": "2023-03-16T11:46:15.343Z"
   },
   {
    "duration": 59,
    "start_time": "2023-03-16T11:46:15.349Z"
   },
   {
    "duration": 159,
    "start_time": "2023-03-16T11:46:15.410Z"
   },
   {
    "duration": 10,
    "start_time": "2023-03-16T11:46:15.571Z"
   },
   {
    "duration": 47,
    "start_time": "2023-03-16T11:46:15.582Z"
   },
   {
    "duration": 7,
    "start_time": "2023-03-16T11:46:15.631Z"
   },
   {
    "duration": 8,
    "start_time": "2023-03-16T11:46:15.640Z"
   },
   {
    "duration": 23,
    "start_time": "2023-03-16T11:46:15.650Z"
   },
   {
    "duration": 28,
    "start_time": "2023-03-16T11:46:15.675Z"
   },
   {
    "duration": 12,
    "start_time": "2023-03-16T11:46:15.705Z"
   },
   {
    "duration": 19,
    "start_time": "2023-03-16T11:46:15.719Z"
   },
   {
    "duration": 3,
    "start_time": "2023-03-16T11:46:15.740Z"
   },
   {
    "duration": 47,
    "start_time": "2023-03-16T11:46:15.745Z"
   },
   {
    "duration": 22,
    "start_time": "2023-03-16T11:46:15.794Z"
   },
   {
    "duration": 29,
    "start_time": "2023-03-16T11:46:15.818Z"
   },
   {
    "duration": 33,
    "start_time": "2023-03-16T11:46:15.849Z"
   },
   {
    "duration": 31,
    "start_time": "2023-03-16T11:46:15.883Z"
   },
   {
    "duration": 20,
    "start_time": "2023-03-16T11:46:15.916Z"
   },
   {
    "duration": 55,
    "start_time": "2023-03-16T11:46:15.937Z"
   },
   {
    "duration": 18,
    "start_time": "2023-03-16T11:46:15.994Z"
   },
   {
    "duration": 4,
    "start_time": "2023-03-16T11:46:16.014Z"
   },
   {
    "duration": 60,
    "start_time": "2023-03-16T11:46:16.019Z"
   },
   {
    "duration": 22,
    "start_time": "2023-03-16T11:46:16.081Z"
   },
   {
    "duration": 30,
    "start_time": "2023-03-16T11:46:16.104Z"
   },
   {
    "duration": 45,
    "start_time": "2023-03-16T11:46:16.135Z"
   },
   {
    "duration": 32,
    "start_time": "2023-03-16T11:46:16.182Z"
   },
   {
    "duration": 22,
    "start_time": "2023-03-16T11:46:16.216Z"
   },
   {
    "duration": 51,
    "start_time": "2023-03-16T11:46:16.240Z"
   },
   {
    "duration": 19,
    "start_time": "2023-03-16T11:46:16.296Z"
   },
   {
    "duration": 5,
    "start_time": "2023-03-16T11:46:16.316Z"
   },
   {
    "duration": 232,
    "start_time": "2023-03-16T11:46:16.323Z"
   },
   {
    "duration": 6,
    "start_time": "2023-03-16T11:46:16.569Z"
   },
   {
    "duration": 226,
    "start_time": "2023-03-16T11:46:16.577Z"
   },
   {
    "duration": 5,
    "start_time": "2023-03-16T11:46:16.805Z"
   },
   {
    "duration": 207,
    "start_time": "2023-03-16T11:46:16.812Z"
   },
   {
    "duration": 5,
    "start_time": "2023-03-16T11:46:17.021Z"
   },
   {
    "duration": 34,
    "start_time": "2023-03-16T11:46:17.027Z"
   },
   {
    "duration": 12,
    "start_time": "2023-03-16T11:46:17.068Z"
   },
   {
    "duration": 15,
    "start_time": "2023-03-16T11:46:17.082Z"
   },
   {
    "duration": 7,
    "start_time": "2023-03-16T11:46:17.098Z"
   },
   {
    "duration": 9,
    "start_time": "2023-03-16T11:46:17.106Z"
   },
   {
    "duration": 6,
    "start_time": "2023-03-16T11:48:50.443Z"
   },
   {
    "duration": 24,
    "start_time": "2023-03-16T11:48:51.001Z"
   },
   {
    "duration": 6,
    "start_time": "2023-03-16T11:49:32.745Z"
   },
   {
    "duration": 4,
    "start_time": "2023-03-16T11:49:40.640Z"
   },
   {
    "duration": 6,
    "start_time": "2023-03-16T11:49:49.361Z"
   },
   {
    "duration": 5,
    "start_time": "2023-03-16T11:49:56.313Z"
   },
   {
    "duration": 5,
    "start_time": "2023-03-16T11:49:56.892Z"
   },
   {
    "duration": 6,
    "start_time": "2023-03-16T11:52:19.475Z"
   },
   {
    "duration": 5,
    "start_time": "2023-03-16T11:52:28.804Z"
   },
   {
    "duration": 4,
    "start_time": "2023-03-16T11:52:29.802Z"
   },
   {
    "duration": 6,
    "start_time": "2023-03-16T11:52:59.917Z"
   },
   {
    "duration": 5,
    "start_time": "2023-03-16T11:53:00.747Z"
   },
   {
    "duration": 5,
    "start_time": "2023-03-16T11:53:06.892Z"
   },
   {
    "duration": 4,
    "start_time": "2023-03-16T11:53:07.685Z"
   },
   {
    "duration": 5,
    "start_time": "2023-03-16T11:53:22.007Z"
   },
   {
    "duration": 5,
    "start_time": "2023-03-16T11:53:22.835Z"
   },
   {
    "duration": 6,
    "start_time": "2023-03-16T11:53:27.553Z"
   },
   {
    "duration": 5,
    "start_time": "2023-03-16T11:53:28.201Z"
   },
   {
    "duration": 16,
    "start_time": "2023-03-16T12:02:17.609Z"
   },
   {
    "duration": 9,
    "start_time": "2023-03-16T12:02:32.294Z"
   },
   {
    "duration": 1251,
    "start_time": "2023-03-16T12:02:39.220Z"
   },
   {
    "duration": 175,
    "start_time": "2023-03-16T12:02:40.473Z"
   },
   {
    "duration": 12,
    "start_time": "2023-03-16T12:02:40.649Z"
   },
   {
    "duration": 22,
    "start_time": "2023-03-16T12:02:40.669Z"
   },
   {
    "duration": 28,
    "start_time": "2023-03-16T12:02:40.692Z"
   },
   {
    "duration": 148,
    "start_time": "2023-03-16T12:02:40.721Z"
   },
   {
    "duration": 9,
    "start_time": "2023-03-16T12:02:40.871Z"
   },
   {
    "duration": 36,
    "start_time": "2023-03-16T12:02:40.882Z"
   },
   {
    "duration": 33,
    "start_time": "2023-03-16T12:02:40.920Z"
   },
   {
    "duration": 5851,
    "start_time": "2023-03-16T12:02:40.956Z"
   },
   {
    "duration": 5701,
    "start_time": "2023-03-16T12:02:46.809Z"
   },
   {
    "duration": 9,
    "start_time": "2023-03-16T12:02:52.512Z"
   },
   {
    "duration": 16,
    "start_time": "2023-03-16T12:02:52.523Z"
   },
   {
    "duration": 5899,
    "start_time": "2023-03-16T12:02:52.541Z"
   },
   {
    "duration": 5959,
    "start_time": "2023-03-16T12:02:58.442Z"
   },
   {
    "duration": 22,
    "start_time": "2023-03-16T12:03:04.403Z"
   },
   {
    "duration": 5906,
    "start_time": "2023-03-16T12:03:04.428Z"
   },
   {
    "duration": 13,
    "start_time": "2023-03-16T12:03:10.336Z"
   },
   {
    "duration": 21,
    "start_time": "2023-03-16T12:03:10.351Z"
   },
   {
    "duration": 4,
    "start_time": "2023-03-16T12:03:10.373Z"
   },
   {
    "duration": 8,
    "start_time": "2023-03-16T12:03:10.378Z"
   },
   {
    "duration": 5,
    "start_time": "2023-03-16T12:03:10.387Z"
   },
   {
    "duration": 1204,
    "start_time": "2023-03-16T12:03:10.393Z"
   },
   {
    "duration": 6,
    "start_time": "2023-03-16T12:03:11.599Z"
   },
   {
    "duration": 18,
    "start_time": "2023-03-16T12:03:11.607Z"
   },
   {
    "duration": 21,
    "start_time": "2023-03-16T12:03:11.626Z"
   },
   {
    "duration": 21,
    "start_time": "2023-03-16T12:03:11.649Z"
   },
   {
    "duration": 9,
    "start_time": "2023-03-16T12:03:11.675Z"
   },
   {
    "duration": 6,
    "start_time": "2023-03-16T12:03:11.686Z"
   },
   {
    "duration": 4,
    "start_time": "2023-03-16T12:03:11.694Z"
   },
   {
    "duration": 88,
    "start_time": "2023-03-16T12:03:11.699Z"
   },
   {
    "duration": 3,
    "start_time": "2023-03-16T12:03:11.789Z"
   },
   {
    "duration": 12,
    "start_time": "2023-03-16T12:03:11.794Z"
   },
   {
    "duration": 6,
    "start_time": "2023-03-16T12:03:11.807Z"
   },
   {
    "duration": 108,
    "start_time": "2023-03-16T12:03:11.814Z"
   },
   {
    "duration": 34,
    "start_time": "2023-03-16T12:03:11.923Z"
   },
   {
    "duration": 4,
    "start_time": "2023-03-16T12:03:11.969Z"
   },
   {
    "duration": 10,
    "start_time": "2023-03-16T12:03:11.975Z"
   },
   {
    "duration": 143,
    "start_time": "2023-03-16T12:03:11.987Z"
   },
   {
    "duration": 72,
    "start_time": "2023-03-16T12:03:12.131Z"
   },
   {
    "duration": 3,
    "start_time": "2023-03-16T12:03:12.206Z"
   },
   {
    "duration": 11,
    "start_time": "2023-03-16T12:03:12.211Z"
   },
   {
    "duration": 167,
    "start_time": "2023-03-16T12:03:12.223Z"
   },
   {
    "duration": 25,
    "start_time": "2023-03-16T12:03:12.391Z"
   },
   {
    "duration": 4,
    "start_time": "2023-03-16T12:03:12.418Z"
   },
   {
    "duration": 17,
    "start_time": "2023-03-16T12:03:12.424Z"
   },
   {
    "duration": 171,
    "start_time": "2023-03-16T12:03:12.468Z"
   },
   {
    "duration": 37,
    "start_time": "2023-03-16T12:03:12.641Z"
   },
   {
    "duration": 29,
    "start_time": "2023-03-16T12:03:12.681Z"
   },
   {
    "duration": 24,
    "start_time": "2023-03-16T12:03:12.712Z"
   },
   {
    "duration": 36,
    "start_time": "2023-03-16T12:03:12.738Z"
   },
   {
    "duration": 4,
    "start_time": "2023-03-16T12:03:12.776Z"
   },
   {
    "duration": 464,
    "start_time": "2023-03-16T12:03:12.782Z"
   },
   {
    "duration": 4,
    "start_time": "2023-03-16T12:03:13.248Z"
   },
   {
    "duration": 60,
    "start_time": "2023-03-16T12:03:13.253Z"
   },
   {
    "duration": 173,
    "start_time": "2023-03-16T12:03:13.315Z"
   },
   {
    "duration": 11,
    "start_time": "2023-03-16T12:03:13.490Z"
   },
   {
    "duration": 42,
    "start_time": "2023-03-16T12:03:13.504Z"
   },
   {
    "duration": 24,
    "start_time": "2023-03-16T12:03:13.547Z"
   },
   {
    "duration": 9,
    "start_time": "2023-03-16T12:03:13.573Z"
   },
   {
    "duration": 10,
    "start_time": "2023-03-16T12:03:13.584Z"
   },
   {
    "duration": 25,
    "start_time": "2023-03-16T12:03:13.596Z"
   },
   {
    "duration": 11,
    "start_time": "2023-03-16T12:03:13.623Z"
   },
   {
    "duration": 13,
    "start_time": "2023-03-16T12:03:13.636Z"
   },
   {
    "duration": 23,
    "start_time": "2023-03-16T12:03:13.650Z"
   },
   {
    "duration": 59,
    "start_time": "2023-03-16T12:03:13.675Z"
   },
   {
    "duration": 23,
    "start_time": "2023-03-16T12:03:13.736Z"
   },
   {
    "duration": 37,
    "start_time": "2023-03-16T12:03:13.761Z"
   },
   {
    "duration": 22,
    "start_time": "2023-03-16T12:03:13.800Z"
   },
   {
    "duration": 55,
    "start_time": "2023-03-16T12:03:13.824Z"
   },
   {
    "duration": 21,
    "start_time": "2023-03-16T12:03:13.881Z"
   },
   {
    "duration": 32,
    "start_time": "2023-03-16T12:03:13.904Z"
   },
   {
    "duration": 49,
    "start_time": "2023-03-16T12:03:13.939Z"
   },
   {
    "duration": 9,
    "start_time": "2023-03-16T12:03:13.990Z"
   },
   {
    "duration": 70,
    "start_time": "2023-03-16T12:03:14.002Z"
   },
   {
    "duration": 30,
    "start_time": "2023-03-16T12:03:14.074Z"
   },
   {
    "duration": 67,
    "start_time": "2023-03-16T12:03:14.106Z"
   },
   {
    "duration": 27,
    "start_time": "2023-03-16T12:03:14.175Z"
   },
   {
    "duration": 64,
    "start_time": "2023-03-16T12:03:14.205Z"
   },
   {
    "duration": 21,
    "start_time": "2023-03-16T12:03:14.271Z"
   },
   {
    "duration": 32,
    "start_time": "2023-03-16T12:03:14.294Z"
   },
   {
    "duration": 42,
    "start_time": "2023-03-16T12:03:14.331Z"
   },
   {
    "duration": 5,
    "start_time": "2023-03-16T12:03:14.375Z"
   },
   {
    "duration": 236,
    "start_time": "2023-03-16T12:03:14.382Z"
   },
   {
    "duration": 6,
    "start_time": "2023-03-16T12:03:14.620Z"
   },
   {
    "duration": 248,
    "start_time": "2023-03-16T12:03:14.627Z"
   },
   {
    "duration": 6,
    "start_time": "2023-03-16T12:03:14.876Z"
   },
   {
    "duration": 234,
    "start_time": "2023-03-16T12:03:14.884Z"
   },
   {
    "duration": 11,
    "start_time": "2023-03-16T12:03:15.121Z"
   },
   {
    "duration": 6,
    "start_time": "2023-03-16T12:03:50.921Z"
   },
   {
    "duration": 1438,
    "start_time": "2023-03-16T13:29:01.392Z"
   },
   {
    "duration": 795,
    "start_time": "2023-03-16T13:29:02.832Z"
   },
   {
    "duration": 11,
    "start_time": "2023-03-16T13:29:03.629Z"
   },
   {
    "duration": 25,
    "start_time": "2023-03-16T13:29:03.642Z"
   },
   {
    "duration": 19,
    "start_time": "2023-03-16T13:29:03.669Z"
   },
   {
    "duration": 126,
    "start_time": "2023-03-16T13:29:03.690Z"
   },
   {
    "duration": 10,
    "start_time": "2023-03-16T13:29:03.818Z"
   },
   {
    "duration": 30,
    "start_time": "2023-03-16T13:29:03.830Z"
   },
   {
    "duration": 16,
    "start_time": "2023-03-16T13:29:03.862Z"
   },
   {
    "duration": 5899,
    "start_time": "2023-03-16T13:29:03.881Z"
   },
   {
    "duration": 5743,
    "start_time": "2023-03-16T13:29:09.781Z"
   },
   {
    "duration": 9,
    "start_time": "2023-03-16T13:29:15.525Z"
   },
   {
    "duration": 15,
    "start_time": "2023-03-16T13:29:15.535Z"
   },
   {
    "duration": 5814,
    "start_time": "2023-03-16T13:29:15.552Z"
   },
   {
    "duration": 5723,
    "start_time": "2023-03-16T13:29:21.368Z"
   },
   {
    "duration": 18,
    "start_time": "2023-03-16T13:29:27.093Z"
   },
   {
    "duration": 5760,
    "start_time": "2023-03-16T13:29:27.121Z"
   },
   {
    "duration": 10,
    "start_time": "2023-03-16T13:29:32.882Z"
   },
   {
    "duration": 34,
    "start_time": "2023-03-16T13:29:32.893Z"
   },
   {
    "duration": 22,
    "start_time": "2023-03-16T13:29:32.929Z"
   },
   {
    "duration": 39,
    "start_time": "2023-03-16T13:29:32.953Z"
   },
   {
    "duration": 37,
    "start_time": "2023-03-16T13:29:32.994Z"
   },
   {
    "duration": 1145,
    "start_time": "2023-03-16T13:29:33.033Z"
   },
   {
    "duration": 6,
    "start_time": "2023-03-16T13:29:34.180Z"
   },
   {
    "duration": 40,
    "start_time": "2023-03-16T13:29:34.187Z"
   },
   {
    "duration": 25,
    "start_time": "2023-03-16T13:29:34.229Z"
   },
   {
    "duration": 23,
    "start_time": "2023-03-16T13:29:34.255Z"
   },
   {
    "duration": 39,
    "start_time": "2023-03-16T13:29:34.283Z"
   },
   {
    "duration": 18,
    "start_time": "2023-03-16T13:29:34.324Z"
   },
   {
    "duration": 31,
    "start_time": "2023-03-16T13:29:34.344Z"
   },
   {
    "duration": 72,
    "start_time": "2023-03-16T13:29:34.377Z"
   },
   {
    "duration": 4,
    "start_time": "2023-03-16T13:29:34.450Z"
   },
   {
    "duration": 35,
    "start_time": "2023-03-16T13:29:34.456Z"
   },
   {
    "duration": 39,
    "start_time": "2023-03-16T13:29:34.493Z"
   },
   {
    "duration": 121,
    "start_time": "2023-03-16T13:29:34.533Z"
   },
   {
    "duration": 30,
    "start_time": "2023-03-16T13:29:34.656Z"
   },
   {
    "duration": 14,
    "start_time": "2023-03-16T13:29:34.688Z"
   },
   {
    "duration": 26,
    "start_time": "2023-03-16T13:29:34.703Z"
   },
   {
    "duration": 158,
    "start_time": "2023-03-16T13:29:34.731Z"
   },
   {
    "duration": 64,
    "start_time": "2023-03-16T13:29:34.891Z"
   },
   {
    "duration": 12,
    "start_time": "2023-03-16T13:29:34.956Z"
   },
   {
    "duration": 37,
    "start_time": "2023-03-16T13:29:34.969Z"
   },
   {
    "duration": 176,
    "start_time": "2023-03-16T13:29:35.007Z"
   },
   {
    "duration": 20,
    "start_time": "2023-03-16T13:29:35.185Z"
   },
   {
    "duration": 20,
    "start_time": "2023-03-16T13:29:35.206Z"
   },
   {
    "duration": 41,
    "start_time": "2023-03-16T13:29:35.227Z"
   },
   {
    "duration": 148,
    "start_time": "2023-03-16T13:29:35.269Z"
   },
   {
    "duration": 22,
    "start_time": "2023-03-16T13:29:35.421Z"
   },
   {
    "duration": 37,
    "start_time": "2023-03-16T13:29:35.444Z"
   },
   {
    "duration": 52,
    "start_time": "2023-03-16T13:29:35.483Z"
   },
   {
    "duration": 44,
    "start_time": "2023-03-16T13:29:35.536Z"
   },
   {
    "duration": 40,
    "start_time": "2023-03-16T13:29:35.581Z"
   },
   {
    "duration": 447,
    "start_time": "2023-03-16T13:29:35.623Z"
   },
   {
    "duration": 3,
    "start_time": "2023-03-16T13:29:36.072Z"
   },
   {
    "duration": 96,
    "start_time": "2023-03-16T13:29:36.077Z"
   },
   {
    "duration": 122,
    "start_time": "2023-03-16T13:29:36.175Z"
   },
   {
    "duration": 10,
    "start_time": "2023-03-16T13:29:36.299Z"
   },
   {
    "duration": 35,
    "start_time": "2023-03-16T13:29:36.322Z"
   },
   {
    "duration": 8,
    "start_time": "2023-03-16T13:29:36.359Z"
   },
   {
    "duration": 35,
    "start_time": "2023-03-16T13:29:36.368Z"
   },
   {
    "duration": 35,
    "start_time": "2023-03-16T13:29:36.404Z"
   },
   {
    "duration": 52,
    "start_time": "2023-03-16T13:29:36.441Z"
   },
   {
    "duration": 33,
    "start_time": "2023-03-16T13:29:36.495Z"
   },
   {
    "duration": 36,
    "start_time": "2023-03-16T13:29:36.530Z"
   },
   {
    "duration": 35,
    "start_time": "2023-03-16T13:29:36.567Z"
   },
   {
    "duration": 68,
    "start_time": "2023-03-16T13:29:36.604Z"
   },
   {
    "duration": 26,
    "start_time": "2023-03-16T13:29:36.674Z"
   },
   {
    "duration": 27,
    "start_time": "2023-03-16T13:29:36.702Z"
   },
   {
    "duration": 17,
    "start_time": "2023-03-16T13:29:36.730Z"
   },
   {
    "duration": 37,
    "start_time": "2023-03-16T13:29:36.748Z"
   },
   {
    "duration": 18,
    "start_time": "2023-03-16T13:29:36.786Z"
   },
   {
    "duration": 35,
    "start_time": "2023-03-16T13:29:36.806Z"
   },
   {
    "duration": 18,
    "start_time": "2023-03-16T13:29:36.843Z"
   },
   {
    "duration": 21,
    "start_time": "2023-03-16T13:29:36.863Z"
   },
   {
    "duration": 54,
    "start_time": "2023-03-16T13:29:36.886Z"
   },
   {
    "duration": 23,
    "start_time": "2023-03-16T13:29:36.941Z"
   },
   {
    "duration": 28,
    "start_time": "2023-03-16T13:29:36.965Z"
   },
   {
    "duration": 36,
    "start_time": "2023-03-16T13:29:36.995Z"
   },
   {
    "duration": 28,
    "start_time": "2023-03-16T13:29:37.033Z"
   },
   {
    "duration": 20,
    "start_time": "2023-03-16T13:29:37.063Z"
   },
   {
    "duration": 50,
    "start_time": "2023-03-16T13:29:37.085Z"
   },
   {
    "duration": 19,
    "start_time": "2023-03-16T13:29:37.140Z"
   },
   {
    "duration": 6,
    "start_time": "2023-03-16T13:29:37.161Z"
   },
   {
    "duration": 206,
    "start_time": "2023-03-16T13:29:37.168Z"
   },
   {
    "duration": 5,
    "start_time": "2023-03-16T13:29:37.375Z"
   },
   {
    "duration": 211,
    "start_time": "2023-03-16T13:29:37.381Z"
   },
   {
    "duration": 5,
    "start_time": "2023-03-16T13:29:37.594Z"
   },
   {
    "duration": 188,
    "start_time": "2023-03-16T13:29:37.621Z"
   },
   {
    "duration": 9,
    "start_time": "2023-03-16T13:29:37.822Z"
   },
   {
    "duration": 6,
    "start_time": "2023-03-16T13:29:37.833Z"
   },
   {
    "duration": 5,
    "start_time": "2023-03-16T13:31:06.234Z"
   },
   {
    "duration": 167,
    "start_time": "2023-03-16T13:31:23.238Z"
   },
   {
    "duration": 11,
    "start_time": "2023-03-16T13:34:12.277Z"
   },
   {
    "duration": 5,
    "start_time": "2023-03-16T13:35:55.446Z"
   },
   {
    "duration": 169,
    "start_time": "2023-03-16T13:35:56.317Z"
   },
   {
    "duration": 5,
    "start_time": "2023-03-16T13:38:09.397Z"
   },
   {
    "duration": 167,
    "start_time": "2023-03-16T13:38:09.802Z"
   },
   {
    "duration": 1201,
    "start_time": "2023-03-16T13:38:18.098Z"
   },
   {
    "duration": 145,
    "start_time": "2023-03-16T13:38:19.301Z"
   },
   {
    "duration": 11,
    "start_time": "2023-03-16T13:38:19.448Z"
   },
   {
    "duration": 10,
    "start_time": "2023-03-16T13:38:19.461Z"
   },
   {
    "duration": 20,
    "start_time": "2023-03-16T13:38:19.473Z"
   },
   {
    "duration": 165,
    "start_time": "2023-03-16T13:38:19.494Z"
   },
   {
    "duration": 7,
    "start_time": "2023-03-16T13:38:19.661Z"
   },
   {
    "duration": 33,
    "start_time": "2023-03-16T13:38:19.670Z"
   },
   {
    "duration": 19,
    "start_time": "2023-03-16T13:38:19.704Z"
   },
   {
    "duration": 6030,
    "start_time": "2023-03-16T13:38:19.725Z"
   },
   {
    "duration": 6220,
    "start_time": "2023-03-16T13:38:25.757Z"
   },
   {
    "duration": 9,
    "start_time": "2023-03-16T13:38:31.979Z"
   },
   {
    "duration": 28,
    "start_time": "2023-03-16T13:38:31.989Z"
   },
   {
    "duration": 6150,
    "start_time": "2023-03-16T13:38:32.022Z"
   },
   {
    "duration": 6298,
    "start_time": "2023-03-16T13:38:38.173Z"
   },
   {
    "duration": 18,
    "start_time": "2023-03-16T13:38:44.472Z"
   },
   {
    "duration": 6315,
    "start_time": "2023-03-16T13:38:44.492Z"
   },
   {
    "duration": 16,
    "start_time": "2023-03-16T13:38:50.809Z"
   },
   {
    "duration": 24,
    "start_time": "2023-03-16T13:38:50.827Z"
   },
   {
    "duration": 16,
    "start_time": "2023-03-16T13:38:50.853Z"
   },
   {
    "duration": 8,
    "start_time": "2023-03-16T13:38:50.871Z"
   },
   {
    "duration": 5,
    "start_time": "2023-03-16T13:38:50.881Z"
   },
   {
    "duration": 1072,
    "start_time": "2023-03-16T13:38:50.887Z"
   },
   {
    "duration": 6,
    "start_time": "2023-03-16T13:38:51.961Z"
   },
   {
    "duration": 14,
    "start_time": "2023-03-16T13:38:51.969Z"
   },
   {
    "duration": 28,
    "start_time": "2023-03-16T13:38:51.985Z"
   },
   {
    "duration": 3,
    "start_time": "2023-03-16T13:38:52.021Z"
   },
   {
    "duration": 13,
    "start_time": "2023-03-16T13:38:52.025Z"
   },
   {
    "duration": 6,
    "start_time": "2023-03-16T13:38:52.039Z"
   },
   {
    "duration": 4,
    "start_time": "2023-03-16T13:38:52.046Z"
   },
   {
    "duration": 70,
    "start_time": "2023-03-16T13:38:52.052Z"
   },
   {
    "duration": 2,
    "start_time": "2023-03-16T13:38:52.124Z"
   },
   {
    "duration": 14,
    "start_time": "2023-03-16T13:38:52.128Z"
   },
   {
    "duration": 4,
    "start_time": "2023-03-16T13:38:52.144Z"
   },
   {
    "duration": 106,
    "start_time": "2023-03-16T13:38:52.150Z"
   },
   {
    "duration": 36,
    "start_time": "2023-03-16T13:38:52.257Z"
   },
   {
    "duration": 3,
    "start_time": "2023-03-16T13:38:52.295Z"
   },
   {
    "duration": 23,
    "start_time": "2023-03-16T13:38:52.300Z"
   },
   {
    "duration": 144,
    "start_time": "2023-03-16T13:38:52.325Z"
   },
   {
    "duration": 65,
    "start_time": "2023-03-16T13:38:52.470Z"
   },
   {
    "duration": 3,
    "start_time": "2023-03-16T13:38:52.539Z"
   },
   {
    "duration": 8,
    "start_time": "2023-03-16T13:38:52.544Z"
   },
   {
    "duration": 174,
    "start_time": "2023-03-16T13:38:52.553Z"
   },
   {
    "duration": 22,
    "start_time": "2023-03-16T13:38:52.729Z"
   },
   {
    "duration": 4,
    "start_time": "2023-03-16T13:38:52.752Z"
   },
   {
    "duration": 13,
    "start_time": "2023-03-16T13:38:52.757Z"
   },
   {
    "duration": 174,
    "start_time": "2023-03-16T13:38:52.772Z"
   },
   {
    "duration": 22,
    "start_time": "2023-03-16T13:38:52.947Z"
   },
   {
    "duration": 17,
    "start_time": "2023-03-16T13:38:52.971Z"
   },
   {
    "duration": 36,
    "start_time": "2023-03-16T13:38:52.990Z"
   },
   {
    "duration": 17,
    "start_time": "2023-03-16T13:38:53.028Z"
   },
   {
    "duration": 4,
    "start_time": "2023-03-16T13:38:53.046Z"
   },
   {
    "duration": 428,
    "start_time": "2023-03-16T13:38:53.052Z"
   },
   {
    "duration": 3,
    "start_time": "2023-03-16T13:38:53.482Z"
   },
   {
    "duration": 54,
    "start_time": "2023-03-16T13:38:53.487Z"
   },
   {
    "duration": 138,
    "start_time": "2023-03-16T13:38:53.542Z"
   },
   {
    "duration": 10,
    "start_time": "2023-03-16T13:38:53.681Z"
   },
   {
    "duration": 45,
    "start_time": "2023-03-16T13:38:53.693Z"
   },
   {
    "duration": 7,
    "start_time": "2023-03-16T13:38:53.739Z"
   },
   {
    "duration": 6,
    "start_time": "2023-03-16T13:38:53.747Z"
   },
   {
    "duration": 19,
    "start_time": "2023-03-16T13:38:53.754Z"
   },
   {
    "duration": 15,
    "start_time": "2023-03-16T13:38:53.774Z"
   },
   {
    "duration": 8,
    "start_time": "2023-03-16T13:38:53.790Z"
   },
   {
    "duration": 21,
    "start_time": "2023-03-16T13:38:53.800Z"
   },
   {
    "duration": 3,
    "start_time": "2023-03-16T13:38:53.823Z"
   },
   {
    "duration": 36,
    "start_time": "2023-03-16T13:38:53.829Z"
   },
   {
    "duration": 21,
    "start_time": "2023-03-16T13:38:53.867Z"
   },
   {
    "duration": 54,
    "start_time": "2023-03-16T13:38:53.890Z"
   },
   {
    "duration": 19,
    "start_time": "2023-03-16T13:38:53.946Z"
   },
   {
    "duration": 29,
    "start_time": "2023-03-16T13:38:53.967Z"
   },
   {
    "duration": 20,
    "start_time": "2023-03-16T13:38:54.021Z"
   },
   {
    "duration": 27,
    "start_time": "2023-03-16T13:38:54.043Z"
   },
   {
    "duration": 18,
    "start_time": "2023-03-16T13:38:54.072Z"
   },
   {
    "duration": 30,
    "start_time": "2023-03-16T13:38:54.092Z"
   },
   {
    "duration": 35,
    "start_time": "2023-03-16T13:38:54.123Z"
   },
   {
    "duration": 20,
    "start_time": "2023-03-16T13:38:54.159Z"
   },
   {
    "duration": 49,
    "start_time": "2023-03-16T13:38:54.181Z"
   },
   {
    "duration": 19,
    "start_time": "2023-03-16T13:38:54.231Z"
   },
   {
    "duration": 29,
    "start_time": "2023-03-16T13:38:54.251Z"
   },
   {
    "duration": 39,
    "start_time": "2023-03-16T13:38:54.282Z"
   },
   {
    "duration": 32,
    "start_time": "2023-03-16T13:38:54.323Z"
   },
   {
    "duration": 20,
    "start_time": "2023-03-16T13:38:54.357Z"
   },
   {
    "duration": 5,
    "start_time": "2023-03-16T13:38:54.379Z"
   },
   {
    "duration": 216,
    "start_time": "2023-03-16T13:38:54.385Z"
   },
   {
    "duration": 18,
    "start_time": "2023-03-16T13:38:54.603Z"
   },
   {
    "duration": 210,
    "start_time": "2023-03-16T13:38:54.622Z"
   },
   {
    "duration": 4,
    "start_time": "2023-03-16T13:38:54.834Z"
   },
   {
    "duration": 210,
    "start_time": "2023-03-16T13:38:54.840Z"
   },
   {
    "duration": 10,
    "start_time": "2023-03-16T13:38:55.052Z"
   },
   {
    "duration": 24,
    "start_time": "2023-03-16T13:38:55.064Z"
   },
   {
    "duration": 149,
    "start_time": "2023-03-16T13:38:55.090Z"
   },
   {
    "duration": 176,
    "start_time": "2023-03-16T13:39:28.893Z"
   },
   {
    "duration": 5,
    "start_time": "2023-03-16T13:41:59.686Z"
   },
   {
    "duration": 189,
    "start_time": "2023-03-16T13:42:00.189Z"
   },
   {
    "duration": 14,
    "start_time": "2023-03-16T13:42:23.336Z"
   },
   {
    "duration": 5,
    "start_time": "2023-03-16T13:42:23.989Z"
   },
   {
    "duration": 191,
    "start_time": "2023-03-16T13:42:30.620Z"
   },
   {
    "duration": 177,
    "start_time": "2023-03-16T13:42:47.001Z"
   },
   {
    "duration": 15,
    "start_time": "2023-03-16T13:43:30.938Z"
   },
   {
    "duration": 11,
    "start_time": "2023-03-16T13:43:38.033Z"
   },
   {
    "duration": 9,
    "start_time": "2023-03-16T13:43:38.386Z"
   },
   {
    "duration": 10,
    "start_time": "2023-03-16T13:44:10.988Z"
   },
   {
    "duration": 5,
    "start_time": "2023-03-16T13:45:47.386Z"
   },
   {
    "duration": 235,
    "start_time": "2023-03-16T13:45:47.942Z"
   },
   {
    "duration": 6,
    "start_time": "2023-03-16T13:52:34.982Z"
   },
   {
    "duration": 182,
    "start_time": "2023-03-16T13:52:35.694Z"
   },
   {
    "duration": 5,
    "start_time": "2023-03-16T13:52:46.552Z"
   },
   {
    "duration": 178,
    "start_time": "2023-03-16T13:52:47.139Z"
   },
   {
    "duration": 7,
    "start_time": "2023-03-16T13:53:00.403Z"
   },
   {
    "duration": 182,
    "start_time": "2023-03-16T13:53:01.167Z"
   },
   {
    "duration": 6,
    "start_time": "2023-03-16T13:53:09.242Z"
   },
   {
    "duration": 251,
    "start_time": "2023-03-16T13:53:09.936Z"
   },
   {
    "duration": 6,
    "start_time": "2023-03-16T13:53:48.547Z"
   },
   {
    "duration": 183,
    "start_time": "2023-03-16T13:53:50.636Z"
   },
   {
    "duration": 5,
    "start_time": "2023-03-16T13:53:59.120Z"
   },
   {
    "duration": 5,
    "start_time": "2023-03-16T13:54:05.466Z"
   },
   {
    "duration": 5,
    "start_time": "2023-03-16T13:54:10.871Z"
   },
   {
    "duration": 5,
    "start_time": "2023-03-16T13:59:03.965Z"
   },
   {
    "duration": 10,
    "start_time": "2023-03-16T13:59:11.738Z"
   },
   {
    "duration": 174,
    "start_time": "2023-03-16T14:00:12.380Z"
   },
   {
    "duration": 5,
    "start_time": "2023-03-16T14:07:19.196Z"
   },
   {
    "duration": 5,
    "start_time": "2023-03-16T14:07:26.348Z"
   },
   {
    "duration": 5,
    "start_time": "2023-03-16T14:08:10.204Z"
   },
   {
    "duration": 170,
    "start_time": "2023-03-16T14:09:06.980Z"
   },
   {
    "duration": 166,
    "start_time": "2023-03-16T14:11:07.499Z"
   },
   {
    "duration": 10,
    "start_time": "2023-03-16T14:11:24.312Z"
   },
   {
    "duration": 11,
    "start_time": "2023-03-16T14:11:38.302Z"
   },
   {
    "duration": 5,
    "start_time": "2023-03-16T14:11:53.092Z"
   },
   {
    "duration": 3,
    "start_time": "2023-03-16T14:12:15.562Z"
   },
   {
    "duration": 177,
    "start_time": "2023-03-16T14:12:22.128Z"
   },
   {
    "duration": 6,
    "start_time": "2023-03-16T14:13:38.714Z"
   },
   {
    "duration": 3,
    "start_time": "2023-03-16T14:14:08.177Z"
   },
   {
    "duration": 3,
    "start_time": "2023-03-16T14:14:50.648Z"
   },
   {
    "duration": 3,
    "start_time": "2023-03-16T14:14:50.839Z"
   },
   {
    "duration": 2,
    "start_time": "2023-03-16T14:14:51.023Z"
   },
   {
    "duration": 3,
    "start_time": "2023-03-16T14:14:51.279Z"
   },
   {
    "duration": 179,
    "start_time": "2023-03-16T14:15:07.050Z"
   },
   {
    "duration": 8,
    "start_time": "2023-03-16T14:15:41.273Z"
   },
   {
    "duration": 179,
    "start_time": "2023-03-16T14:15:42.723Z"
   },
   {
    "duration": 3,
    "start_time": "2023-03-16T14:23:52.658Z"
   },
   {
    "duration": 3,
    "start_time": "2023-03-16T14:23:52.867Z"
   },
   {
    "duration": 2,
    "start_time": "2023-03-16T14:23:53.085Z"
   },
   {
    "duration": 2,
    "start_time": "2023-03-16T14:23:53.294Z"
   },
   {
    "duration": 182,
    "start_time": "2023-03-16T14:25:32.654Z"
   },
   {
    "duration": 178,
    "start_time": "2023-03-16T14:32:05.532Z"
   },
   {
    "duration": 244,
    "start_time": "2023-03-16T14:34:25.944Z"
   },
   {
    "duration": 177,
    "start_time": "2023-03-16T14:37:24.068Z"
   },
   {
    "duration": 7,
    "start_time": "2023-03-16T14:54:21.018Z"
   },
   {
    "duration": 185,
    "start_time": "2023-03-16T14:54:21.027Z"
   },
   {
    "duration": 14,
    "start_time": "2023-03-16T14:54:21.214Z"
   },
   {
    "duration": 7,
    "start_time": "2023-03-16T14:54:21.230Z"
   },
   {
    "duration": 41,
    "start_time": "2023-03-16T14:54:21.238Z"
   },
   {
    "duration": 117,
    "start_time": "2023-03-16T14:54:21.281Z"
   },
   {
    "duration": 9,
    "start_time": "2023-03-16T14:54:21.399Z"
   },
   {
    "duration": 34,
    "start_time": "2023-03-16T14:54:21.410Z"
   },
   {
    "duration": 10,
    "start_time": "2023-03-16T14:54:21.447Z"
   },
   {
    "duration": 6321,
    "start_time": "2023-03-16T14:54:21.459Z"
   },
   {
    "duration": 6158,
    "start_time": "2023-03-16T14:54:27.782Z"
   },
   {
    "duration": 10,
    "start_time": "2023-03-16T14:54:33.942Z"
   },
   {
    "duration": 26,
    "start_time": "2023-03-16T14:54:33.954Z"
   },
   {
    "duration": 6209,
    "start_time": "2023-03-16T14:54:33.982Z"
   },
   {
    "duration": 6221,
    "start_time": "2023-03-16T14:54:40.193Z"
   },
   {
    "duration": 23,
    "start_time": "2023-03-16T14:54:46.416Z"
   },
   {
    "duration": 6244,
    "start_time": "2023-03-16T14:54:46.441Z"
   },
   {
    "duration": 10,
    "start_time": "2023-03-16T14:54:52.687Z"
   },
   {
    "duration": 22,
    "start_time": "2023-03-16T14:54:52.699Z"
   },
   {
    "duration": 3,
    "start_time": "2023-03-16T14:54:52.723Z"
   },
   {
    "duration": 11,
    "start_time": "2023-03-16T14:54:52.728Z"
   },
   {
    "duration": 31,
    "start_time": "2023-03-16T14:54:52.741Z"
   },
   {
    "duration": 1012,
    "start_time": "2023-03-16T14:54:52.773Z"
   },
   {
    "duration": 5,
    "start_time": "2023-03-16T14:54:53.791Z"
   },
   {
    "duration": 33,
    "start_time": "2023-03-16T14:54:53.798Z"
   },
   {
    "duration": 27,
    "start_time": "2023-03-16T14:54:53.833Z"
   },
   {
    "duration": 15,
    "start_time": "2023-03-16T14:54:53.862Z"
   },
   {
    "duration": 10,
    "start_time": "2023-03-16T14:54:53.879Z"
   },
   {
    "duration": 7,
    "start_time": "2023-03-16T14:54:53.891Z"
   },
   {
    "duration": 22,
    "start_time": "2023-03-16T14:54:53.899Z"
   },
   {
    "duration": 64,
    "start_time": "2023-03-16T14:54:53.923Z"
   },
   {
    "duration": 3,
    "start_time": "2023-03-16T14:54:53.989Z"
   },
   {
    "duration": 11,
    "start_time": "2023-03-16T14:54:53.993Z"
   },
   {
    "duration": 18,
    "start_time": "2023-03-16T14:54:54.005Z"
   },
   {
    "duration": 108,
    "start_time": "2023-03-16T14:54:54.024Z"
   },
   {
    "duration": 32,
    "start_time": "2023-03-16T14:54:54.134Z"
   },
   {
    "duration": 2,
    "start_time": "2023-03-16T14:54:54.168Z"
   },
   {
    "duration": 12,
    "start_time": "2023-03-16T14:54:54.172Z"
   },
   {
    "duration": 141,
    "start_time": "2023-03-16T14:54:54.186Z"
   },
   {
    "duration": 58,
    "start_time": "2023-03-16T14:54:54.329Z"
   },
   {
    "duration": 3,
    "start_time": "2023-03-16T14:54:54.389Z"
   },
   {
    "duration": 33,
    "start_time": "2023-03-16T14:54:54.393Z"
   },
   {
    "duration": 172,
    "start_time": "2023-03-16T14:54:54.427Z"
   },
   {
    "duration": 29,
    "start_time": "2023-03-16T14:54:54.601Z"
   },
   {
    "duration": 16,
    "start_time": "2023-03-16T14:54:54.632Z"
   },
   {
    "duration": 20,
    "start_time": "2023-03-16T14:54:54.649Z"
   },
   {
    "duration": 152,
    "start_time": "2023-03-16T14:54:54.671Z"
   },
   {
    "duration": 21,
    "start_time": "2023-03-16T14:54:54.825Z"
   },
   {
    "duration": 25,
    "start_time": "2023-03-16T14:54:54.848Z"
   },
   {
    "duration": 19,
    "start_time": "2023-03-16T14:54:54.874Z"
   },
   {
    "duration": 29,
    "start_time": "2023-03-16T14:54:54.895Z"
   },
   {
    "duration": 4,
    "start_time": "2023-03-16T14:54:54.926Z"
   },
   {
    "duration": 57,
    "start_time": "2023-03-16T14:54:54.932Z"
   },
   {
    "duration": 3,
    "start_time": "2023-03-16T14:54:54.991Z"
   },
   {
    "duration": 57,
    "start_time": "2023-03-16T14:54:54.996Z"
   },
   {
    "duration": 115,
    "start_time": "2023-03-16T14:54:55.055Z"
   },
   {
    "duration": 10,
    "start_time": "2023-03-16T14:54:55.172Z"
   },
   {
    "duration": 63,
    "start_time": "2023-03-16T14:54:55.184Z"
   },
   {
    "duration": 7,
    "start_time": "2023-03-16T14:54:55.249Z"
   },
   {
    "duration": 15,
    "start_time": "2023-03-16T14:54:55.258Z"
   },
   {
    "duration": 5,
    "start_time": "2023-03-16T14:54:55.275Z"
   },
   {
    "duration": 19,
    "start_time": "2023-03-16T14:54:55.281Z"
   },
   {
    "duration": 10,
    "start_time": "2023-03-16T14:54:55.302Z"
   },
   {
    "duration": 15,
    "start_time": "2023-03-16T14:54:55.313Z"
   },
   {
    "duration": 10,
    "start_time": "2023-03-16T14:54:55.330Z"
   },
   {
    "duration": 3,
    "start_time": "2023-03-16T14:54:55.341Z"
   },
   {
    "duration": 13,
    "start_time": "2023-03-16T14:54:55.345Z"
   },
   {
    "duration": 4,
    "start_time": "2023-03-16T14:54:55.360Z"
   },
   {
    "duration": 3,
    "start_time": "2023-03-16T14:54:55.368Z"
   },
   {
    "duration": 12,
    "start_time": "2023-03-16T14:54:55.372Z"
   },
   {
    "duration": 187,
    "start_time": "2023-03-16T14:54:55.386Z"
   },
   {
    "duration": 201,
    "start_time": "2023-03-16T14:54:55.575Z"
   },
   {
    "duration": 190,
    "start_time": "2023-03-16T14:54:55.778Z"
   },
   {
    "duration": 272,
    "start_time": "2023-03-16T14:54:55.969Z"
   },
   {
    "duration": 6,
    "start_time": "2023-03-16T14:58:00.838Z"
   },
   {
    "duration": 41,
    "start_time": "2023-03-16T14:58:50.102Z"
   },
   {
    "duration": 4,
    "start_time": "2023-03-16T14:58:55.574Z"
   },
   {
    "duration": 46,
    "start_time": "2023-03-16T14:58:55.742Z"
   },
   {
    "duration": 91,
    "start_time": "2023-03-16T14:58:58.454Z"
   },
   {
    "duration": 1130,
    "start_time": "2023-03-16T14:59:11.277Z"
   },
   {
    "duration": 147,
    "start_time": "2023-03-16T14:59:12.409Z"
   },
   {
    "duration": 11,
    "start_time": "2023-03-16T14:59:12.557Z"
   },
   {
    "duration": 8,
    "start_time": "2023-03-16T14:59:12.571Z"
   },
   {
    "duration": 19,
    "start_time": "2023-03-16T14:59:12.580Z"
   },
   {
    "duration": 131,
    "start_time": "2023-03-16T14:59:12.600Z"
   },
   {
    "duration": 9,
    "start_time": "2023-03-16T14:59:12.733Z"
   },
   {
    "duration": 28,
    "start_time": "2023-03-16T14:59:12.744Z"
   },
   {
    "duration": 16,
    "start_time": "2023-03-16T14:59:12.774Z"
   },
   {
    "duration": 6016,
    "start_time": "2023-03-16T14:59:12.792Z"
   },
   {
    "duration": 6024,
    "start_time": "2023-03-16T14:59:18.809Z"
   },
   {
    "duration": 8,
    "start_time": "2023-03-16T14:59:24.835Z"
   },
   {
    "duration": 15,
    "start_time": "2023-03-16T14:59:24.845Z"
   },
   {
    "duration": 6143,
    "start_time": "2023-03-16T14:59:24.861Z"
   },
   {
    "duration": 5986,
    "start_time": "2023-03-16T14:59:31.005Z"
   },
   {
    "duration": 30,
    "start_time": "2023-03-16T14:59:36.993Z"
   },
   {
    "duration": 6160,
    "start_time": "2023-03-16T14:59:37.025Z"
   },
   {
    "duration": 11,
    "start_time": "2023-03-16T14:59:43.187Z"
   },
   {
    "duration": 24,
    "start_time": "2023-03-16T14:59:43.201Z"
   },
   {
    "duration": 6,
    "start_time": "2023-03-16T14:59:43.226Z"
   },
   {
    "duration": 5,
    "start_time": "2023-03-16T14:59:43.234Z"
   },
   {
    "duration": 4,
    "start_time": "2023-03-16T14:59:43.241Z"
   },
   {
    "duration": 1090,
    "start_time": "2023-03-16T14:59:43.247Z"
   },
   {
    "duration": 5,
    "start_time": "2023-03-16T14:59:44.339Z"
   },
   {
    "duration": 23,
    "start_time": "2023-03-16T14:59:44.346Z"
   },
   {
    "duration": 17,
    "start_time": "2023-03-16T14:59:44.371Z"
   },
   {
    "duration": 7,
    "start_time": "2023-03-16T14:59:44.390Z"
   },
   {
    "duration": 24,
    "start_time": "2023-03-16T14:59:44.401Z"
   },
   {
    "duration": 6,
    "start_time": "2023-03-16T14:59:44.426Z"
   },
   {
    "duration": 18,
    "start_time": "2023-03-16T14:59:44.434Z"
   },
   {
    "duration": 61,
    "start_time": "2023-03-16T14:59:44.454Z"
   },
   {
    "duration": 3,
    "start_time": "2023-03-16T14:59:44.517Z"
   },
   {
    "duration": 8,
    "start_time": "2023-03-16T14:59:44.521Z"
   },
   {
    "duration": 6,
    "start_time": "2023-03-16T14:59:44.531Z"
   },
   {
    "duration": 102,
    "start_time": "2023-03-16T14:59:44.538Z"
   },
   {
    "duration": 33,
    "start_time": "2023-03-16T14:59:44.642Z"
   },
   {
    "duration": 3,
    "start_time": "2023-03-16T14:59:44.677Z"
   },
   {
    "duration": 9,
    "start_time": "2023-03-16T14:59:44.682Z"
   },
   {
    "duration": 151,
    "start_time": "2023-03-16T14:59:44.693Z"
   },
   {
    "duration": 59,
    "start_time": "2023-03-16T14:59:44.846Z"
   },
   {
    "duration": 17,
    "start_time": "2023-03-16T14:59:44.907Z"
   },
   {
    "duration": 7,
    "start_time": "2023-03-16T14:59:44.926Z"
   },
   {
    "duration": 160,
    "start_time": "2023-03-16T14:59:44.935Z"
   },
   {
    "duration": 31,
    "start_time": "2023-03-16T14:59:45.097Z"
   },
   {
    "duration": 3,
    "start_time": "2023-03-16T14:59:45.130Z"
   },
   {
    "duration": 11,
    "start_time": "2023-03-16T14:59:45.135Z"
   },
   {
    "duration": 168,
    "start_time": "2023-03-16T14:59:45.148Z"
   },
   {
    "duration": 22,
    "start_time": "2023-03-16T14:59:45.322Z"
   },
   {
    "duration": 18,
    "start_time": "2023-03-16T14:59:45.345Z"
   },
   {
    "duration": 20,
    "start_time": "2023-03-16T14:59:45.364Z"
   },
   {
    "duration": 31,
    "start_time": "2023-03-16T14:59:45.386Z"
   },
   {
    "duration": 4,
    "start_time": "2023-03-16T14:59:45.423Z"
   },
   {
    "duration": 431,
    "start_time": "2023-03-16T14:59:45.428Z"
   },
   {
    "duration": 4,
    "start_time": "2023-03-16T14:59:45.860Z"
   },
   {
    "duration": 80,
    "start_time": "2023-03-16T14:59:45.865Z"
   },
   {
    "duration": 131,
    "start_time": "2023-03-16T14:59:45.946Z"
   },
   {
    "duration": 9,
    "start_time": "2023-03-16T14:59:46.079Z"
   },
   {
    "duration": 48,
    "start_time": "2023-03-16T14:59:46.090Z"
   },
   {
    "duration": 7,
    "start_time": "2023-03-16T14:59:46.140Z"
   },
   {
    "duration": 5,
    "start_time": "2023-03-16T14:59:46.148Z"
   },
   {
    "duration": 7,
    "start_time": "2023-03-16T14:59:46.155Z"
   },
   {
    "duration": 19,
    "start_time": "2023-03-16T14:59:46.164Z"
   },
   {
    "duration": 10,
    "start_time": "2023-03-16T14:59:46.184Z"
   },
   {
    "duration": 34,
    "start_time": "2023-03-16T14:59:46.196Z"
   },
   {
    "duration": 11,
    "start_time": "2023-03-16T14:59:46.232Z"
   },
   {
    "duration": 3,
    "start_time": "2023-03-16T14:59:46.245Z"
   },
   {
    "duration": 4,
    "start_time": "2023-03-16T14:59:46.250Z"
   },
   {
    "duration": 4,
    "start_time": "2023-03-16T14:59:46.256Z"
   },
   {
    "duration": 4,
    "start_time": "2023-03-16T14:59:46.262Z"
   },
   {
    "duration": 7,
    "start_time": "2023-03-16T14:59:46.267Z"
   },
   {
    "duration": 221,
    "start_time": "2023-03-16T14:59:46.276Z"
   },
   {
    "duration": 187,
    "start_time": "2023-03-16T14:59:46.499Z"
   },
   {
    "duration": 199,
    "start_time": "2023-03-16T14:59:46.687Z"
   },
   {
    "duration": 267,
    "start_time": "2023-03-16T14:59:46.887Z"
   },
   {
    "duration": 1369,
    "start_time": "2023-03-16T15:27:15.312Z"
   },
   {
    "duration": 157,
    "start_time": "2023-03-16T15:27:16.683Z"
   },
   {
    "duration": 16,
    "start_time": "2023-03-16T15:27:16.842Z"
   },
   {
    "duration": 24,
    "start_time": "2023-03-16T15:27:16.860Z"
   },
   {
    "duration": 21,
    "start_time": "2023-03-16T15:27:16.886Z"
   },
   {
    "duration": 148,
    "start_time": "2023-03-16T15:27:16.909Z"
   },
   {
    "duration": 9,
    "start_time": "2023-03-16T15:27:17.059Z"
   },
   {
    "duration": 40,
    "start_time": "2023-03-16T15:27:17.071Z"
   },
   {
    "duration": 28,
    "start_time": "2023-03-16T15:27:17.113Z"
   },
   {
    "duration": 6045,
    "start_time": "2023-03-16T15:27:17.142Z"
   },
   {
    "duration": 5757,
    "start_time": "2023-03-16T15:27:23.188Z"
   },
   {
    "duration": 7,
    "start_time": "2023-03-16T15:27:28.947Z"
   },
   {
    "duration": 18,
    "start_time": "2023-03-16T15:27:28.956Z"
   },
   {
    "duration": 6002,
    "start_time": "2023-03-16T15:27:28.980Z"
   },
   {
    "duration": 6696,
    "start_time": "2023-03-16T15:27:34.984Z"
   },
   {
    "duration": 28,
    "start_time": "2023-03-16T15:27:41.684Z"
   },
   {
    "duration": 6135,
    "start_time": "2023-03-16T15:27:41.715Z"
   },
   {
    "duration": 11,
    "start_time": "2023-03-16T15:27:47.851Z"
   },
   {
    "duration": 21,
    "start_time": "2023-03-16T15:27:47.863Z"
   },
   {
    "duration": 3,
    "start_time": "2023-03-16T15:27:47.887Z"
   },
   {
    "duration": 9,
    "start_time": "2023-03-16T15:27:47.892Z"
   },
   {
    "duration": 6,
    "start_time": "2023-03-16T15:27:47.902Z"
   },
   {
    "duration": 1027,
    "start_time": "2023-03-16T15:27:47.913Z"
   },
   {
    "duration": 6,
    "start_time": "2023-03-16T15:27:48.942Z"
   },
   {
    "duration": 19,
    "start_time": "2023-03-16T15:27:48.949Z"
   },
   {
    "duration": 17,
    "start_time": "2023-03-16T15:27:48.979Z"
   },
   {
    "duration": 3,
    "start_time": "2023-03-16T15:27:48.998Z"
   },
   {
    "duration": 12,
    "start_time": "2023-03-16T15:27:49.003Z"
   },
   {
    "duration": 7,
    "start_time": "2023-03-16T15:27:49.017Z"
   },
   {
    "duration": 6,
    "start_time": "2023-03-16T15:27:49.026Z"
   },
   {
    "duration": 88,
    "start_time": "2023-03-16T15:27:49.034Z"
   },
   {
    "duration": 3,
    "start_time": "2023-03-16T15:27:49.124Z"
   },
   {
    "duration": 16,
    "start_time": "2023-03-16T15:27:49.129Z"
   },
   {
    "duration": 7,
    "start_time": "2023-03-16T15:27:49.147Z"
   },
   {
    "duration": 153,
    "start_time": "2023-03-16T15:27:49.156Z"
   },
   {
    "duration": 31,
    "start_time": "2023-03-16T15:27:49.311Z"
   },
   {
    "duration": 3,
    "start_time": "2023-03-16T15:27:49.343Z"
   },
   {
    "duration": 15,
    "start_time": "2023-03-16T15:27:49.348Z"
   },
   {
    "duration": 171,
    "start_time": "2023-03-16T15:27:49.379Z"
   },
   {
    "duration": 96,
    "start_time": "2023-03-16T15:27:49.552Z"
   },
   {
    "duration": 3,
    "start_time": "2023-03-16T15:27:49.650Z"
   },
   {
    "duration": 12,
    "start_time": "2023-03-16T15:27:49.654Z"
   },
   {
    "duration": 226,
    "start_time": "2023-03-16T15:27:49.680Z"
   },
   {
    "duration": 30,
    "start_time": "2023-03-16T15:27:49.908Z"
   },
   {
    "duration": 9,
    "start_time": "2023-03-16T15:27:49.940Z"
   },
   {
    "duration": 20,
    "start_time": "2023-03-16T15:27:49.950Z"
   },
   {
    "duration": 204,
    "start_time": "2023-03-16T15:27:49.979Z"
   },
   {
    "duration": 31,
    "start_time": "2023-03-16T15:27:50.185Z"
   },
   {
    "duration": 24,
    "start_time": "2023-03-16T15:27:50.218Z"
   },
   {
    "duration": 39,
    "start_time": "2023-03-16T15:27:50.244Z"
   },
   {
    "duration": 16,
    "start_time": "2023-03-16T15:27:50.285Z"
   },
   {
    "duration": 10,
    "start_time": "2023-03-16T15:27:50.303Z"
   },
   {
    "duration": 557,
    "start_time": "2023-03-16T15:27:50.315Z"
   },
   {
    "duration": 5,
    "start_time": "2023-03-16T15:27:50.874Z"
   },
   {
    "duration": 114,
    "start_time": "2023-03-16T15:27:50.880Z"
   },
   {
    "duration": 121,
    "start_time": "2023-03-16T15:27:50.996Z"
   },
   {
    "duration": 11,
    "start_time": "2023-03-16T15:27:51.119Z"
   },
   {
    "duration": 58,
    "start_time": "2023-03-16T15:27:51.132Z"
   },
   {
    "duration": 8,
    "start_time": "2023-03-16T15:27:51.192Z"
   },
   {
    "duration": 14,
    "start_time": "2023-03-16T15:27:51.201Z"
   },
   {
    "duration": 7,
    "start_time": "2023-03-16T15:27:51.217Z"
   },
   {
    "duration": 21,
    "start_time": "2023-03-16T15:27:51.226Z"
   },
   {
    "duration": 18,
    "start_time": "2023-03-16T15:27:51.249Z"
   },
   {
    "duration": 16,
    "start_time": "2023-03-16T15:27:51.270Z"
   },
   {
    "duration": 15,
    "start_time": "2023-03-16T15:27:51.288Z"
   },
   {
    "duration": 2,
    "start_time": "2023-03-16T15:27:51.305Z"
   },
   {
    "duration": 5,
    "start_time": "2023-03-16T15:27:51.309Z"
   },
   {
    "duration": 6,
    "start_time": "2023-03-16T15:27:51.318Z"
   },
   {
    "duration": 15,
    "start_time": "2023-03-16T15:27:51.326Z"
   },
   {
    "duration": 7,
    "start_time": "2023-03-16T15:27:51.343Z"
   },
   {
    "duration": 211,
    "start_time": "2023-03-16T15:27:51.351Z"
   },
   {
    "duration": 185,
    "start_time": "2023-03-16T15:27:51.564Z"
   },
   {
    "duration": 289,
    "start_time": "2023-03-16T15:27:51.751Z"
   },
   {
    "duration": 362,
    "start_time": "2023-03-16T15:27:52.042Z"
   },
   {
    "duration": 18,
    "start_time": "2023-03-16T15:33:26.238Z"
   },
   {
    "duration": 553,
    "start_time": "2023-03-16T15:35:35.097Z"
   },
   {
    "duration": 1529,
    "start_time": "2023-03-17T09:39:13.277Z"
   },
   {
    "duration": 374,
    "start_time": "2023-03-17T09:39:14.808Z"
   },
   {
    "duration": 16,
    "start_time": "2023-03-17T09:39:15.183Z"
   },
   {
    "duration": 17,
    "start_time": "2023-03-17T09:39:15.200Z"
   },
   {
    "duration": 32,
    "start_time": "2023-03-17T09:39:15.219Z"
   },
   {
    "duration": 159,
    "start_time": "2023-03-17T09:39:15.253Z"
   },
   {
    "duration": 8,
    "start_time": "2023-03-17T09:39:15.414Z"
   },
   {
    "duration": 44,
    "start_time": "2023-03-17T09:39:15.424Z"
   },
   {
    "duration": 40,
    "start_time": "2023-03-17T09:39:15.469Z"
   },
   {
    "duration": 6765,
    "start_time": "2023-03-17T09:39:15.511Z"
   },
   {
    "duration": 6818,
    "start_time": "2023-03-17T09:39:22.281Z"
   },
   {
    "duration": 8,
    "start_time": "2023-03-17T09:39:29.101Z"
   },
   {
    "duration": 12,
    "start_time": "2023-03-17T09:39:29.111Z"
   },
   {
    "duration": 7470,
    "start_time": "2023-03-17T09:39:29.126Z"
   },
   {
    "duration": 6438,
    "start_time": "2023-03-17T09:39:36.603Z"
   },
   {
    "duration": 29,
    "start_time": "2023-03-17T09:39:43.043Z"
   },
   {
    "duration": 6474,
    "start_time": "2023-03-17T09:39:43.080Z"
   },
   {
    "duration": 28,
    "start_time": "2023-03-17T09:39:49.557Z"
   },
   {
    "duration": 10,
    "start_time": "2023-03-17T09:39:49.589Z"
   },
   {
    "duration": 3,
    "start_time": "2023-03-17T09:39:49.600Z"
   },
   {
    "duration": 9,
    "start_time": "2023-03-17T09:39:49.605Z"
   },
   {
    "duration": 11,
    "start_time": "2023-03-17T09:39:49.616Z"
   },
   {
    "duration": 1271,
    "start_time": "2023-03-17T09:39:49.629Z"
   },
   {
    "duration": 627,
    "start_time": "2023-03-17T09:39:50.903Z"
   },
   {
    "duration": 5,
    "start_time": "2023-03-17T09:39:51.532Z"
   },
   {
    "duration": 28,
    "start_time": "2023-03-17T09:39:51.539Z"
   },
   {
    "duration": 53,
    "start_time": "2023-03-17T09:39:51.568Z"
   },
   {
    "duration": 14,
    "start_time": "2023-03-17T09:39:51.623Z"
   },
   {
    "duration": 57,
    "start_time": "2023-03-17T09:39:51.639Z"
   },
   {
    "duration": 10,
    "start_time": "2023-03-17T09:39:51.698Z"
   },
   {
    "duration": 5,
    "start_time": "2023-03-17T09:39:51.709Z"
   },
   {
    "duration": 67,
    "start_time": "2023-03-17T09:39:51.716Z"
   },
   {
    "duration": 4,
    "start_time": "2023-03-17T09:39:51.785Z"
   },
   {
    "duration": 26,
    "start_time": "2023-03-17T09:39:51.791Z"
   },
   {
    "duration": 15,
    "start_time": "2023-03-17T09:39:51.818Z"
   },
   {
    "duration": 116,
    "start_time": "2023-03-17T09:39:51.834Z"
   },
   {
    "duration": 46,
    "start_time": "2023-03-17T09:39:51.952Z"
   },
   {
    "duration": 18,
    "start_time": "2023-03-17T09:39:52.002Z"
   },
   {
    "duration": 13,
    "start_time": "2023-03-17T09:39:52.021Z"
   },
   {
    "duration": 149,
    "start_time": "2023-03-17T09:39:52.035Z"
   },
   {
    "duration": 64,
    "start_time": "2023-03-17T09:39:52.194Z"
   },
   {
    "duration": 4,
    "start_time": "2023-03-17T09:39:52.259Z"
   },
   {
    "duration": 46,
    "start_time": "2023-03-17T09:39:52.265Z"
   },
   {
    "duration": 292,
    "start_time": "2023-03-17T09:39:52.313Z"
   },
   {
    "duration": 21,
    "start_time": "2023-03-17T09:39:52.606Z"
   },
   {
    "duration": 7,
    "start_time": "2023-03-17T09:39:52.628Z"
   },
   {
    "duration": 37,
    "start_time": "2023-03-17T09:39:52.636Z"
   },
   {
    "duration": 171,
    "start_time": "2023-03-17T09:39:52.681Z"
   },
   {
    "duration": 40,
    "start_time": "2023-03-17T09:39:52.853Z"
   },
   {
    "duration": 28,
    "start_time": "2023-03-17T09:39:52.900Z"
   },
   {
    "duration": 21,
    "start_time": "2023-03-17T09:39:52.929Z"
   },
   {
    "duration": 33,
    "start_time": "2023-03-17T09:39:52.952Z"
   },
   {
    "duration": 18,
    "start_time": "2023-03-17T09:39:52.987Z"
   },
   {
    "duration": 478,
    "start_time": "2023-03-17T09:39:53.007Z"
   },
   {
    "duration": 3,
    "start_time": "2023-03-17T09:39:53.486Z"
   },
   {
    "duration": 87,
    "start_time": "2023-03-17T09:39:53.491Z"
   },
   {
    "duration": 133,
    "start_time": "2023-03-17T09:39:53.583Z"
   },
   {
    "duration": 8,
    "start_time": "2023-03-17T09:39:53.718Z"
   },
   {
    "duration": 58,
    "start_time": "2023-03-17T09:39:53.728Z"
   },
   {
    "duration": 6,
    "start_time": "2023-03-17T09:39:53.790Z"
   },
   {
    "duration": 26,
    "start_time": "2023-03-17T09:39:53.798Z"
   },
   {
    "duration": 17,
    "start_time": "2023-03-17T09:39:53.825Z"
   },
   {
    "duration": 48,
    "start_time": "2023-03-17T09:39:53.844Z"
   },
   {
    "duration": 21,
    "start_time": "2023-03-17T09:39:53.894Z"
   },
   {
    "duration": 8,
    "start_time": "2023-03-17T09:39:53.916Z"
   },
   {
    "duration": 9,
    "start_time": "2023-03-17T09:39:53.926Z"
   },
   {
    "duration": 4,
    "start_time": "2023-03-17T09:39:53.937Z"
   },
   {
    "duration": 6,
    "start_time": "2023-03-17T09:39:53.942Z"
   },
   {
    "duration": 49,
    "start_time": "2023-03-17T09:39:53.950Z"
   },
   {
    "duration": 16,
    "start_time": "2023-03-17T09:39:54.000Z"
   },
   {
    "duration": 10,
    "start_time": "2023-03-17T09:39:54.017Z"
   },
   {
    "duration": 242,
    "start_time": "2023-03-17T09:39:54.028Z"
   },
   {
    "duration": 247,
    "start_time": "2023-03-17T09:39:54.272Z"
   },
   {
    "duration": 218,
    "start_time": "2023-03-17T09:39:54.521Z"
   },
   {
    "duration": 325,
    "start_time": "2023-03-17T09:39:54.741Z"
   },
   {
    "duration": 7781,
    "start_time": "2023-03-17T09:45:28.654Z"
   },
   {
    "duration": 10,
    "start_time": "2023-03-17T09:45:39.192Z"
   },
   {
    "duration": 7539,
    "start_time": "2023-03-17T09:45:56.287Z"
   },
   {
    "duration": 0,
    "start_time": "2023-03-17T09:46:03.830Z"
   },
   {
    "duration": 7400,
    "start_time": "2023-03-17T09:46:12.752Z"
   },
   {
    "duration": 22,
    "start_time": "2023-03-17T09:46:20.156Z"
   },
   {
    "duration": 7556,
    "start_time": "2023-03-17T09:46:29.472Z"
   },
   {
    "duration": 0,
    "start_time": "2023-03-17T09:46:37.030Z"
   },
   {
    "duration": 1320,
    "start_time": "2023-03-17T09:46:56.130Z"
   },
   {
    "duration": 227,
    "start_time": "2023-03-17T09:46:57.452Z"
   },
   {
    "duration": 27,
    "start_time": "2023-03-17T09:46:57.683Z"
   },
   {
    "duration": 20,
    "start_time": "2023-03-17T09:46:57.715Z"
   },
   {
    "duration": 21,
    "start_time": "2023-03-17T09:46:57.737Z"
   },
   {
    "duration": 168,
    "start_time": "2023-03-17T09:46:57.765Z"
   },
   {
    "duration": 8,
    "start_time": "2023-03-17T09:46:57.936Z"
   },
   {
    "duration": 39,
    "start_time": "2023-03-17T09:46:57.945Z"
   },
   {
    "duration": 40,
    "start_time": "2023-03-17T09:46:57.986Z"
   },
   {
    "duration": 7253,
    "start_time": "2023-03-17T09:46:58.029Z"
   },
   {
    "duration": 7376,
    "start_time": "2023-03-17T09:47:05.284Z"
   },
   {
    "duration": 33,
    "start_time": "2023-03-17T09:47:12.665Z"
   },
   {
    "duration": 12,
    "start_time": "2023-03-17T09:47:12.712Z"
   },
   {
    "duration": 7389,
    "start_time": "2023-03-17T09:47:12.725Z"
   },
   {
    "duration": 7342,
    "start_time": "2023-03-17T09:47:20.119Z"
   },
   {
    "duration": 15,
    "start_time": "2023-03-17T09:47:27.462Z"
   },
   {
    "duration": 50,
    "start_time": "2023-03-17T09:47:27.482Z"
   },
   {
    "duration": 7639,
    "start_time": "2023-03-17T09:47:27.533Z"
   },
   {
    "duration": 33,
    "start_time": "2023-03-17T09:47:35.174Z"
   },
   {
    "duration": 106,
    "start_time": "2023-03-17T09:47:35.209Z"
   },
   {
    "duration": 28,
    "start_time": "2023-03-17T09:47:35.317Z"
   },
   {
    "duration": 37,
    "start_time": "2023-03-17T09:47:35.347Z"
   },
   {
    "duration": 42,
    "start_time": "2023-03-17T09:47:35.386Z"
   },
   {
    "duration": 1460,
    "start_time": "2023-03-17T09:47:35.430Z"
   },
   {
    "duration": 627,
    "start_time": "2023-03-17T09:47:36.891Z"
   },
   {
    "duration": 5,
    "start_time": "2023-03-17T09:47:37.519Z"
   },
   {
    "duration": 17,
    "start_time": "2023-03-17T09:47:37.526Z"
   },
   {
    "duration": 28,
    "start_time": "2023-03-17T09:47:37.547Z"
   },
   {
    "duration": 41,
    "start_time": "2023-03-17T09:47:37.576Z"
   },
   {
    "duration": 12,
    "start_time": "2023-03-17T09:47:37.619Z"
   },
   {
    "duration": 16,
    "start_time": "2023-03-17T09:47:37.632Z"
   },
   {
    "duration": 4,
    "start_time": "2023-03-17T09:47:37.650Z"
   },
   {
    "duration": 120,
    "start_time": "2023-03-17T09:47:37.655Z"
   },
   {
    "duration": 11,
    "start_time": "2023-03-17T09:47:37.783Z"
   },
   {
    "duration": 15,
    "start_time": "2023-03-17T09:47:37.796Z"
   },
   {
    "duration": 7,
    "start_time": "2023-03-17T09:47:37.813Z"
   },
   {
    "duration": 129,
    "start_time": "2023-03-17T09:47:37.821Z"
   },
   {
    "duration": 47,
    "start_time": "2023-03-17T09:47:37.951Z"
   },
   {
    "duration": 17,
    "start_time": "2023-03-17T09:47:38.003Z"
   },
   {
    "duration": 9,
    "start_time": "2023-03-17T09:47:38.021Z"
   },
   {
    "duration": 149,
    "start_time": "2023-03-17T09:47:38.032Z"
   },
   {
    "duration": 67,
    "start_time": "2023-03-17T09:47:38.183Z"
   },
   {
    "duration": 9,
    "start_time": "2023-03-17T09:47:38.251Z"
   },
   {
    "duration": 54,
    "start_time": "2023-03-17T09:47:38.261Z"
   },
   {
    "duration": 265,
    "start_time": "2023-03-17T09:47:38.317Z"
   },
   {
    "duration": 38,
    "start_time": "2023-03-17T09:47:38.585Z"
   },
   {
    "duration": 3,
    "start_time": "2023-03-17T09:47:38.625Z"
   },
   {
    "duration": 11,
    "start_time": "2023-03-17T09:47:38.630Z"
   },
   {
    "duration": 183,
    "start_time": "2023-03-17T09:47:38.643Z"
   },
   {
    "duration": 36,
    "start_time": "2023-03-17T09:47:38.828Z"
   },
   {
    "duration": 42,
    "start_time": "2023-03-17T09:47:38.865Z"
   },
   {
    "duration": 40,
    "start_time": "2023-03-17T09:47:38.909Z"
   },
   {
    "duration": 82,
    "start_time": "2023-03-17T09:47:38.951Z"
   },
   {
    "duration": 4,
    "start_time": "2023-03-17T09:47:39.035Z"
   },
   {
    "duration": 442,
    "start_time": "2023-03-17T09:47:39.040Z"
   },
   {
    "duration": 6,
    "start_time": "2023-03-17T09:47:39.484Z"
   },
   {
    "duration": 100,
    "start_time": "2023-03-17T09:47:39.492Z"
   },
   {
    "duration": 148,
    "start_time": "2023-03-17T09:47:39.594Z"
   },
   {
    "duration": 9,
    "start_time": "2023-03-17T09:47:39.744Z"
   },
   {
    "duration": 84,
    "start_time": "2023-03-17T09:47:39.755Z"
   },
   {
    "duration": 6,
    "start_time": "2023-03-17T09:47:39.841Z"
   },
   {
    "duration": 8,
    "start_time": "2023-03-17T09:47:39.848Z"
   },
   {
    "duration": 44,
    "start_time": "2023-03-17T09:47:39.865Z"
   },
   {
    "duration": 15,
    "start_time": "2023-03-17T09:47:39.910Z"
   },
   {
    "duration": 8,
    "start_time": "2023-03-17T09:47:39.927Z"
   },
   {
    "duration": 7,
    "start_time": "2023-03-17T09:47:39.936Z"
   },
   {
    "duration": 10,
    "start_time": "2023-03-17T09:47:39.945Z"
   },
   {
    "duration": 43,
    "start_time": "2023-03-17T09:47:39.956Z"
   },
   {
    "duration": 19,
    "start_time": "2023-03-17T09:47:40.001Z"
   },
   {
    "duration": 14,
    "start_time": "2023-03-17T09:47:40.021Z"
   },
   {
    "duration": 14,
    "start_time": "2023-03-17T09:47:40.037Z"
   },
   {
    "duration": 36,
    "start_time": "2023-03-17T09:47:40.053Z"
   },
   {
    "duration": 246,
    "start_time": "2023-03-17T09:47:40.091Z"
   },
   {
    "duration": 252,
    "start_time": "2023-03-17T09:47:40.338Z"
   },
   {
    "duration": 247,
    "start_time": "2023-03-17T09:47:40.592Z"
   },
   {
    "duration": 342,
    "start_time": "2023-03-17T09:47:40.841Z"
   },
   {
    "duration": 4,
    "start_time": "2023-03-17T10:01:55.336Z"
   },
   {
    "duration": 56,
    "start_time": "2023-03-17T10:03:15.182Z"
   },
   {
    "duration": 179,
    "start_time": "2023-03-17T10:03:26.230Z"
   },
   {
    "duration": 231,
    "start_time": "2023-03-17T10:03:57.716Z"
   },
   {
    "duration": 318,
    "start_time": "2023-03-17T10:05:00.616Z"
   },
   {
    "duration": 232,
    "start_time": "2023-03-17T10:05:10.813Z"
   },
   {
    "duration": 236,
    "start_time": "2023-03-17T10:05:30.209Z"
   },
   {
    "duration": 256,
    "start_time": "2023-03-17T10:05:48.145Z"
   },
   {
    "duration": 297,
    "start_time": "2023-03-17T10:08:29.919Z"
   },
   {
    "duration": 361,
    "start_time": "2023-03-17T10:08:36.398Z"
   },
   {
    "duration": 347,
    "start_time": "2023-03-17T10:08:41.251Z"
   },
   {
    "duration": 501,
    "start_time": "2023-03-17T10:08:45.489Z"
   },
   {
    "duration": 341,
    "start_time": "2023-03-17T10:08:49.708Z"
   },
   {
    "duration": 310,
    "start_time": "2023-03-17T10:10:34.710Z"
   },
   {
    "duration": 329,
    "start_time": "2023-03-17T10:10:54.184Z"
   },
   {
    "duration": 329,
    "start_time": "2023-03-17T10:11:04.384Z"
   },
   {
    "duration": 443,
    "start_time": "2023-03-17T10:11:08.336Z"
   },
   {
    "duration": 402,
    "start_time": "2023-03-17T10:11:54.411Z"
   },
   {
    "duration": 478,
    "start_time": "2023-03-17T10:12:10.250Z"
   },
   {
    "duration": 138,
    "start_time": "2023-03-17T10:12:38.683Z"
   },
   {
    "duration": 124,
    "start_time": "2023-03-17T10:12:48.682Z"
   },
   {
    "duration": 425,
    "start_time": "2023-03-17T10:13:28.500Z"
   },
   {
    "duration": 207,
    "start_time": "2023-03-17T10:13:46.121Z"
   },
   {
    "duration": 210,
    "start_time": "2023-03-17T10:14:12.340Z"
   },
   {
    "duration": 357,
    "start_time": "2023-03-17T10:14:22.795Z"
   },
   {
    "duration": 489,
    "start_time": "2023-03-17T10:14:30.748Z"
   },
   {
    "duration": 334,
    "start_time": "2023-03-17T10:15:42.995Z"
   },
   {
    "duration": 344,
    "start_time": "2023-03-17T10:15:49.775Z"
   },
   {
    "duration": 333,
    "start_time": "2023-03-17T10:16:07.408Z"
   },
   {
    "duration": 334,
    "start_time": "2023-03-17T10:17:16.326Z"
   },
   {
    "duration": 199,
    "start_time": "2023-03-17T10:17:32.087Z"
   },
   {
    "duration": 496,
    "start_time": "2023-03-17T10:18:54.701Z"
   },
   {
    "duration": 406,
    "start_time": "2023-03-17T10:19:25.469Z"
   },
   {
    "duration": 362,
    "start_time": "2023-03-17T10:19:33.553Z"
   },
   {
    "duration": 326,
    "start_time": "2023-03-17T10:19:46.319Z"
   },
   {
    "duration": 325,
    "start_time": "2023-03-17T10:19:50.003Z"
   },
   {
    "duration": 13,
    "start_time": "2023-03-17T10:20:02.711Z"
   },
   {
    "duration": 13,
    "start_time": "2023-03-17T10:20:14.424Z"
   },
   {
    "duration": 463,
    "start_time": "2023-03-17T10:20:18.190Z"
   },
   {
    "duration": 27,
    "start_time": "2023-03-17T10:36:12.824Z"
   },
   {
    "duration": 167,
    "start_time": "2023-03-17T10:36:41.706Z"
   },
   {
    "duration": 367,
    "start_time": "2023-03-17T10:36:54.756Z"
   },
   {
    "duration": 20,
    "start_time": "2023-03-17T10:37:02.614Z"
   },
   {
    "duration": 60,
    "start_time": "2023-03-17T10:39:50.684Z"
   },
   {
    "duration": 61,
    "start_time": "2023-03-17T10:40:22.040Z"
   },
   {
    "duration": 7,
    "start_time": "2023-03-17T10:40:27.434Z"
   },
   {
    "duration": 36,
    "start_time": "2023-03-17T10:40:49.497Z"
   },
   {
    "duration": 40,
    "start_time": "2023-03-17T10:40:55.112Z"
   },
   {
    "duration": 146,
    "start_time": "2023-03-17T10:41:49.349Z"
   },
   {
    "duration": 67,
    "start_time": "2023-03-17T10:42:00.648Z"
   },
   {
    "duration": 53,
    "start_time": "2023-03-17T10:42:04.143Z"
   },
   {
    "duration": 30,
    "start_time": "2023-03-17T10:44:52.208Z"
   },
   {
    "duration": 39,
    "start_time": "2023-03-17T10:46:37.772Z"
   },
   {
    "duration": 36,
    "start_time": "2023-03-17T10:47:56.857Z"
   },
   {
    "duration": 56,
    "start_time": "2023-03-17T10:48:20.348Z"
   },
   {
    "duration": 38,
    "start_time": "2023-03-17T10:49:24.347Z"
   },
   {
    "duration": 5,
    "start_time": "2023-03-17T10:49:30.174Z"
   },
   {
    "duration": 4,
    "start_time": "2023-03-17T10:49:30.387Z"
   },
   {
    "duration": 1269,
    "start_time": "2023-03-17T10:49:33.324Z"
   },
   {
    "duration": 11,
    "start_time": "2023-03-17T10:55:48.894Z"
   },
   {
    "duration": 7,
    "start_time": "2023-03-17T10:55:54.734Z"
   },
   {
    "duration": 10,
    "start_time": "2023-03-17T10:56:52.088Z"
   },
   {
    "duration": 11,
    "start_time": "2023-03-17T10:57:07.979Z"
   },
   {
    "duration": 16,
    "start_time": "2023-03-17T10:58:50.751Z"
   },
   {
    "duration": 10,
    "start_time": "2023-03-17T10:58:54.668Z"
   },
   {
    "duration": 1840,
    "start_time": "2023-03-17T11:00:29.699Z"
   },
   {
    "duration": 4,
    "start_time": "2023-03-17T11:00:44.329Z"
   },
   {
    "duration": 8,
    "start_time": "2023-03-17T11:00:51.914Z"
   },
   {
    "duration": 3,
    "start_time": "2023-03-17T11:01:16.505Z"
   },
   {
    "duration": 7,
    "start_time": "2023-03-17T11:01:17.712Z"
   },
   {
    "duration": 83,
    "start_time": "2023-03-17T11:03:10.658Z"
   },
   {
    "duration": 4,
    "start_time": "2023-03-17T11:03:19.617Z"
   },
   {
    "duration": 17,
    "start_time": "2023-03-17T11:03:52.049Z"
   },
   {
    "duration": 4,
    "start_time": "2023-03-17T11:04:03.556Z"
   },
   {
    "duration": 4,
    "start_time": "2023-03-17T11:04:44.232Z"
   },
   {
    "duration": 9,
    "start_time": "2023-03-17T11:04:45.600Z"
   },
   {
    "duration": 4,
    "start_time": "2023-03-17T11:04:56.110Z"
   },
   {
    "duration": 8,
    "start_time": "2023-03-17T11:04:57.720Z"
   },
   {
    "duration": 4,
    "start_time": "2023-03-17T11:05:07.059Z"
   },
   {
    "duration": 8,
    "start_time": "2023-03-17T11:05:07.947Z"
   },
   {
    "duration": 1327,
    "start_time": "2023-03-17T11:05:24.963Z"
   },
   {
    "duration": 246,
    "start_time": "2023-03-17T11:05:26.291Z"
   },
   {
    "duration": 26,
    "start_time": "2023-03-17T11:05:26.539Z"
   },
   {
    "duration": 10,
    "start_time": "2023-03-17T11:05:26.567Z"
   },
   {
    "duration": 21,
    "start_time": "2023-03-17T11:05:26.579Z"
   },
   {
    "duration": 140,
    "start_time": "2023-03-17T11:05:26.602Z"
   },
   {
    "duration": 14,
    "start_time": "2023-03-17T11:05:26.744Z"
   },
   {
    "duration": 29,
    "start_time": "2023-03-17T11:05:26.760Z"
   },
   {
    "duration": 14,
    "start_time": "2023-03-17T11:05:26.791Z"
   },
   {
    "duration": 5350,
    "start_time": "2023-03-17T11:05:26.807Z"
   },
   {
    "duration": 5495,
    "start_time": "2023-03-17T11:05:32.158Z"
   },
   {
    "duration": 10,
    "start_time": "2023-03-17T11:05:37.656Z"
   },
   {
    "duration": 12,
    "start_time": "2023-03-17T11:05:37.668Z"
   },
   {
    "duration": 5377,
    "start_time": "2023-03-17T11:05:37.682Z"
   },
   {
    "duration": 5404,
    "start_time": "2023-03-17T11:05:43.061Z"
   },
   {
    "duration": 10,
    "start_time": "2023-03-17T11:05:48.466Z"
   },
   {
    "duration": 25,
    "start_time": "2023-03-17T11:05:48.477Z"
   },
   {
    "duration": 5265,
    "start_time": "2023-03-17T11:05:48.504Z"
   },
   {
    "duration": 12,
    "start_time": "2023-03-17T11:05:53.771Z"
   },
   {
    "duration": 9,
    "start_time": "2023-03-17T11:05:53.784Z"
   },
   {
    "duration": 2,
    "start_time": "2023-03-17T11:05:53.795Z"
   },
   {
    "duration": 302,
    "start_time": "2023-03-17T11:05:53.799Z"
   },
   {
    "duration": 32,
    "start_time": "2023-03-17T11:05:54.103Z"
   },
   {
    "duration": 5,
    "start_time": "2023-03-17T11:05:54.136Z"
   },
   {
    "duration": 4,
    "start_time": "2023-03-17T11:05:54.157Z"
   },
   {
    "duration": 1102,
    "start_time": "2023-03-17T11:05:54.163Z"
   },
   {
    "duration": 623,
    "start_time": "2023-03-17T11:05:55.267Z"
   },
   {
    "duration": 6,
    "start_time": "2023-03-17T11:05:55.894Z"
   },
   {
    "duration": 19,
    "start_time": "2023-03-17T11:05:55.901Z"
   },
   {
    "duration": 20,
    "start_time": "2023-03-17T11:05:55.921Z"
   },
   {
    "duration": 15,
    "start_time": "2023-03-17T11:05:55.943Z"
   },
   {
    "duration": 11,
    "start_time": "2023-03-17T11:05:55.960Z"
   },
   {
    "duration": 6,
    "start_time": "2023-03-17T11:05:55.972Z"
   },
   {
    "duration": 4,
    "start_time": "2023-03-17T11:05:55.979Z"
   },
   {
    "duration": 73,
    "start_time": "2023-03-17T11:05:55.984Z"
   },
   {
    "duration": 3,
    "start_time": "2023-03-17T11:05:56.059Z"
   },
   {
    "duration": 11,
    "start_time": "2023-03-17T11:05:56.063Z"
   },
   {
    "duration": 11,
    "start_time": "2023-03-17T11:05:56.075Z"
   },
   {
    "duration": 91,
    "start_time": "2023-03-17T11:05:56.087Z"
   },
   {
    "duration": 34,
    "start_time": "2023-03-17T11:05:56.179Z"
   },
   {
    "duration": 3,
    "start_time": "2023-03-17T11:05:56.214Z"
   },
   {
    "duration": 9,
    "start_time": "2023-03-17T11:05:56.218Z"
   },
   {
    "duration": 133,
    "start_time": "2023-03-17T11:05:56.228Z"
   },
   {
    "duration": 55,
    "start_time": "2023-03-17T11:05:56.362Z"
   },
   {
    "duration": 2,
    "start_time": "2023-03-17T11:05:56.419Z"
   },
   {
    "duration": 9,
    "start_time": "2023-03-17T11:05:56.423Z"
   },
   {
    "duration": 166,
    "start_time": "2023-03-17T11:05:56.433Z"
   },
   {
    "duration": 23,
    "start_time": "2023-03-17T11:05:56.601Z"
   },
   {
    "duration": 3,
    "start_time": "2023-03-17T11:05:56.625Z"
   },
   {
    "duration": 29,
    "start_time": "2023-03-17T11:05:56.629Z"
   },
   {
    "duration": 7,
    "start_time": "2023-03-17T11:05:56.659Z"
   },
   {
    "duration": 4,
    "start_time": "2023-03-17T11:05:56.667Z"
   },
   {
    "duration": 10,
    "start_time": "2023-03-17T11:05:56.673Z"
   },
   {
    "duration": 152,
    "start_time": "2023-03-17T11:05:56.684Z"
   },
   {
    "duration": 28,
    "start_time": "2023-03-17T11:05:56.838Z"
   },
   {
    "duration": 20,
    "start_time": "2023-03-17T11:05:56.867Z"
   },
   {
    "duration": 21,
    "start_time": "2023-03-17T11:05:56.888Z"
   },
   {
    "duration": 18,
    "start_time": "2023-03-17T11:05:56.911Z"
   },
   {
    "duration": 29,
    "start_time": "2023-03-17T11:05:56.931Z"
   },
   {
    "duration": 463,
    "start_time": "2023-03-17T11:05:56.962Z"
   },
   {
    "duration": 3,
    "start_time": "2023-03-17T11:05:57.426Z"
   },
   {
    "duration": 46,
    "start_time": "2023-03-17T11:05:57.431Z"
   },
   {
    "duration": 159,
    "start_time": "2023-03-17T11:05:57.479Z"
   },
   {
    "duration": 19,
    "start_time": "2023-03-17T11:05:57.640Z"
   },
   {
    "duration": 49,
    "start_time": "2023-03-17T11:05:57.661Z"
   },
   {
    "duration": 7,
    "start_time": "2023-03-17T11:05:57.712Z"
   },
   {
    "duration": 16,
    "start_time": "2023-03-17T11:05:57.720Z"
   },
   {
    "duration": 5,
    "start_time": "2023-03-17T11:05:57.738Z"
   },
   {
    "duration": 30,
    "start_time": "2023-03-17T11:05:57.744Z"
   },
   {
    "duration": 8,
    "start_time": "2023-03-17T11:05:57.776Z"
   },
   {
    "duration": 9,
    "start_time": "2023-03-17T11:05:57.786Z"
   },
   {
    "duration": 9,
    "start_time": "2023-03-17T11:05:57.797Z"
   },
   {
    "duration": 2,
    "start_time": "2023-03-17T11:05:57.808Z"
   },
   {
    "duration": 5,
    "start_time": "2023-03-17T11:05:57.811Z"
   },
   {
    "duration": 10,
    "start_time": "2023-03-17T11:05:57.817Z"
   },
   {
    "duration": 16,
    "start_time": "2023-03-17T11:05:57.829Z"
   },
   {
    "duration": 9,
    "start_time": "2023-03-17T11:05:57.847Z"
   },
   {
    "duration": 189,
    "start_time": "2023-03-17T11:05:57.858Z"
   },
   {
    "duration": 202,
    "start_time": "2023-03-17T11:05:58.049Z"
   },
   {
    "duration": 185,
    "start_time": "2023-03-17T11:05:58.257Z"
   },
   {
    "duration": 271,
    "start_time": "2023-03-17T11:05:58.444Z"
   },
   {
    "duration": 1541,
    "start_time": "2023-03-17T11:09:00.602Z"
   },
   {
    "duration": 0,
    "start_time": "2023-03-17T11:09:02.145Z"
   },
   {
    "duration": 9,
    "start_time": "2023-03-17T11:09:24.194Z"
   },
   {
    "duration": 3,
    "start_time": "2023-03-17T11:09:24.898Z"
   },
   {
    "duration": 8,
    "start_time": "2023-03-17T11:09:27.594Z"
   },
   {
    "duration": 1177,
    "start_time": "2023-03-17T11:09:35.831Z"
   },
   {
    "duration": 155,
    "start_time": "2023-03-17T11:09:37.010Z"
   },
   {
    "duration": 14,
    "start_time": "2023-03-17T11:09:37.166Z"
   },
   {
    "duration": 10,
    "start_time": "2023-03-17T11:09:37.182Z"
   },
   {
    "duration": 19,
    "start_time": "2023-03-17T11:09:37.194Z"
   },
   {
    "duration": 137,
    "start_time": "2023-03-17T11:09:37.215Z"
   },
   {
    "duration": 11,
    "start_time": "2023-03-17T11:09:37.353Z"
   },
   {
    "duration": 40,
    "start_time": "2023-03-17T11:09:37.365Z"
   },
   {
    "duration": 9,
    "start_time": "2023-03-17T11:09:37.407Z"
   },
   {
    "duration": 5450,
    "start_time": "2023-03-17T11:09:37.418Z"
   },
   {
    "duration": 5624,
    "start_time": "2023-03-17T11:09:42.869Z"
   },
   {
    "duration": 10,
    "start_time": "2023-03-17T11:09:48.494Z"
   },
   {
    "duration": 16,
    "start_time": "2023-03-17T11:09:48.505Z"
   },
   {
    "duration": 5391,
    "start_time": "2023-03-17T11:09:48.523Z"
   },
   {
    "duration": 5699,
    "start_time": "2023-03-17T11:09:53.916Z"
   },
   {
    "duration": 9,
    "start_time": "2023-03-17T11:09:59.616Z"
   },
   {
    "duration": 31,
    "start_time": "2023-03-17T11:09:59.626Z"
   },
   {
    "duration": 5782,
    "start_time": "2023-03-17T11:09:59.658Z"
   },
   {
    "duration": 22,
    "start_time": "2023-03-17T11:10:05.442Z"
   },
   {
    "duration": 16,
    "start_time": "2023-03-17T11:10:05.466Z"
   },
   {
    "duration": 6,
    "start_time": "2023-03-17T11:10:05.484Z"
   },
   {
    "duration": 357,
    "start_time": "2023-03-17T11:10:05.491Z"
   },
   {
    "duration": 34,
    "start_time": "2023-03-17T11:10:05.850Z"
   },
   {
    "duration": 4,
    "start_time": "2023-03-17T11:10:05.886Z"
   },
   {
    "duration": 5,
    "start_time": "2023-03-17T11:10:05.892Z"
   },
   {
    "duration": 1106,
    "start_time": "2023-03-17T11:10:05.899Z"
   },
   {
    "duration": 542,
    "start_time": "2023-03-17T11:10:07.006Z"
   },
   {
    "duration": 7,
    "start_time": "2023-03-17T11:10:07.552Z"
   },
   {
    "duration": 14,
    "start_time": "2023-03-17T11:10:07.560Z"
   },
   {
    "duration": 24,
    "start_time": "2023-03-17T11:10:07.576Z"
   },
   {
    "duration": 3,
    "start_time": "2023-03-17T11:10:07.601Z"
   },
   {
    "duration": 13,
    "start_time": "2023-03-17T11:10:07.605Z"
   },
   {
    "duration": 11,
    "start_time": "2023-03-17T11:10:07.620Z"
   },
   {
    "duration": 7,
    "start_time": "2023-03-17T11:10:07.632Z"
   },
   {
    "duration": 58,
    "start_time": "2023-03-17T11:10:07.640Z"
   },
   {
    "duration": 3,
    "start_time": "2023-03-17T11:10:07.700Z"
   },
   {
    "duration": 11,
    "start_time": "2023-03-17T11:10:07.704Z"
   },
   {
    "duration": 12,
    "start_time": "2023-03-17T11:10:07.717Z"
   },
   {
    "duration": 97,
    "start_time": "2023-03-17T11:10:07.731Z"
   },
   {
    "duration": 38,
    "start_time": "2023-03-17T11:10:07.830Z"
   },
   {
    "duration": 3,
    "start_time": "2023-03-17T11:10:07.869Z"
   },
   {
    "duration": 9,
    "start_time": "2023-03-17T11:10:07.873Z"
   },
   {
    "duration": 126,
    "start_time": "2023-03-17T11:10:07.883Z"
   },
   {
    "duration": 59,
    "start_time": "2023-03-17T11:10:08.011Z"
   },
   {
    "duration": 3,
    "start_time": "2023-03-17T11:10:08.072Z"
   },
   {
    "duration": 16,
    "start_time": "2023-03-17T11:10:08.076Z"
   },
   {
    "duration": 172,
    "start_time": "2023-03-17T11:10:08.094Z"
   },
   {
    "duration": 20,
    "start_time": "2023-03-17T11:10:08.268Z"
   },
   {
    "duration": 3,
    "start_time": "2023-03-17T11:10:08.290Z"
   },
   {
    "duration": 13,
    "start_time": "2023-03-17T11:10:08.294Z"
   },
   {
    "duration": 10,
    "start_time": "2023-03-17T11:10:08.309Z"
   },
   {
    "duration": 9,
    "start_time": "2023-03-17T11:10:08.321Z"
   },
   {
    "duration": 27,
    "start_time": "2023-03-17T11:10:08.331Z"
   },
   {
    "duration": 148,
    "start_time": "2023-03-17T11:10:08.359Z"
   },
   {
    "duration": 22,
    "start_time": "2023-03-17T11:10:08.508Z"
   },
   {
    "duration": 31,
    "start_time": "2023-03-17T11:10:08.531Z"
   },
   {
    "duration": 18,
    "start_time": "2023-03-17T11:10:08.563Z"
   },
   {
    "duration": 16,
    "start_time": "2023-03-17T11:10:08.583Z"
   },
   {
    "duration": 5,
    "start_time": "2023-03-17T11:10:08.601Z"
   },
   {
    "duration": 443,
    "start_time": "2023-03-17T11:10:08.608Z"
   },
   {
    "duration": 3,
    "start_time": "2023-03-17T11:10:09.053Z"
   },
   {
    "duration": 104,
    "start_time": "2023-03-17T11:10:09.057Z"
   },
   {
    "duration": 116,
    "start_time": "2023-03-17T11:10:09.163Z"
   },
   {
    "duration": 9,
    "start_time": "2023-03-17T11:10:09.280Z"
   },
   {
    "duration": 42,
    "start_time": "2023-03-17T11:10:09.291Z"
   },
   {
    "duration": 24,
    "start_time": "2023-03-17T11:10:09.335Z"
   },
   {
    "duration": 9,
    "start_time": "2023-03-17T11:10:09.360Z"
   },
   {
    "duration": 8,
    "start_time": "2023-03-17T11:10:09.371Z"
   },
   {
    "duration": 16,
    "start_time": "2023-03-17T11:10:09.381Z"
   },
   {
    "duration": 10,
    "start_time": "2023-03-17T11:10:09.399Z"
   },
   {
    "duration": 9,
    "start_time": "2023-03-17T11:10:09.410Z"
   },
   {
    "duration": 9,
    "start_time": "2023-03-17T11:10:09.420Z"
   },
   {
    "duration": 3,
    "start_time": "2023-03-17T11:10:09.430Z"
   },
   {
    "duration": 2,
    "start_time": "2023-03-17T11:10:09.457Z"
   },
   {
    "duration": 10,
    "start_time": "2023-03-17T11:10:09.461Z"
   },
   {
    "duration": 6,
    "start_time": "2023-03-17T11:10:09.472Z"
   },
   {
    "duration": 9,
    "start_time": "2023-03-17T11:10:09.479Z"
   },
   {
    "duration": 183,
    "start_time": "2023-03-17T11:10:09.489Z"
   },
   {
    "duration": 194,
    "start_time": "2023-03-17T11:10:09.674Z"
   },
   {
    "duration": 192,
    "start_time": "2023-03-17T11:10:09.870Z"
   },
   {
    "duration": 268,
    "start_time": "2023-03-17T11:10:10.064Z"
   },
   {
    "duration": 128,
    "start_time": "2023-03-17T11:11:51.204Z"
   },
   {
    "duration": 257,
    "start_time": "2023-03-17T11:14:53.646Z"
   },
   {
    "duration": 5,
    "start_time": "2023-03-17T11:15:31.806Z"
   },
   {
    "duration": 137,
    "start_time": "2023-03-17T11:15:32.593Z"
   },
   {
    "duration": 178,
    "start_time": "2023-03-17T11:15:55.524Z"
   },
   {
    "duration": 130,
    "start_time": "2023-03-17T11:21:48.285Z"
   },
   {
    "duration": 350,
    "start_time": "2023-03-17T11:24:50.527Z"
   },
   {
    "duration": 148,
    "start_time": "2023-03-17T11:25:48.954Z"
   },
   {
    "duration": 140,
    "start_time": "2023-03-17T11:28:52.551Z"
   },
   {
    "duration": 25,
    "start_time": "2023-03-17T11:28:56.633Z"
   },
   {
    "duration": 17,
    "start_time": "2023-03-17T11:28:56.818Z"
   },
   {
    "duration": 20,
    "start_time": "2023-03-17T11:28:56.987Z"
   },
   {
    "duration": 17,
    "start_time": "2023-03-17T11:28:57.187Z"
   },
   {
    "duration": 4,
    "start_time": "2023-03-17T11:28:57.462Z"
   },
   {
    "duration": 10,
    "start_time": "2023-03-17T11:32:02.731Z"
   },
   {
    "duration": 8,
    "start_time": "2023-03-17T11:32:16.227Z"
   },
   {
    "duration": 4,
    "start_time": "2023-03-17T11:33:19.785Z"
   },
   {
    "duration": 4,
    "start_time": "2023-03-17T11:34:18.506Z"
   },
   {
    "duration": 7,
    "start_time": "2023-03-17T11:34:23.243Z"
   },
   {
    "duration": 4,
    "start_time": "2023-03-17T11:39:16.012Z"
   },
   {
    "duration": 7,
    "start_time": "2023-03-17T11:39:27.004Z"
   },
   {
    "duration": 4,
    "start_time": "2023-03-17T11:40:22.234Z"
   },
   {
    "duration": 7,
    "start_time": "2023-03-17T11:40:23.409Z"
   },
   {
    "duration": 5,
    "start_time": "2023-03-17T11:40:43.905Z"
   },
   {
    "duration": 7,
    "start_time": "2023-03-17T11:40:44.941Z"
   },
   {
    "duration": 1568,
    "start_time": "2023-03-17T11:40:57.138Z"
   },
   {
    "duration": 0,
    "start_time": "2023-03-17T11:40:58.708Z"
   },
   {
    "duration": 4,
    "start_time": "2023-03-17T11:41:12.725Z"
   },
   {
    "duration": 9,
    "start_time": "2023-03-17T11:41:13.807Z"
   },
   {
    "duration": 94,
    "start_time": "2023-03-17T12:02:41.389Z"
   },
   {
    "duration": 76,
    "start_time": "2023-03-17T12:02:50.328Z"
   },
   {
    "duration": 86,
    "start_time": "2023-03-17T12:03:11.120Z"
   },
   {
    "duration": 4,
    "start_time": "2023-03-17T12:04:42.985Z"
   },
   {
    "duration": 15,
    "start_time": "2023-03-17T12:04:57.139Z"
   },
   {
    "duration": 4,
    "start_time": "2023-03-17T12:05:10.093Z"
   },
   {
    "duration": 17,
    "start_time": "2023-03-17T12:05:11.029Z"
   },
   {
    "duration": 3,
    "start_time": "2023-03-17T12:06:14.741Z"
   },
   {
    "duration": 11,
    "start_time": "2023-03-17T12:06:16.939Z"
   },
   {
    "duration": 3,
    "start_time": "2023-03-17T12:07:04.519Z"
   },
   {
    "duration": 10,
    "start_time": "2023-03-17T12:07:05.185Z"
   },
   {
    "duration": 4,
    "start_time": "2023-03-17T12:07:14.609Z"
   },
   {
    "duration": 10,
    "start_time": "2023-03-17T12:07:15.222Z"
   },
   {
    "duration": 4,
    "start_time": "2023-03-17T12:07:45.660Z"
   },
   {
    "duration": 9,
    "start_time": "2023-03-17T12:07:46.396Z"
   },
   {
    "duration": 4,
    "start_time": "2023-03-17T12:08:02.142Z"
   },
   {
    "duration": 11,
    "start_time": "2023-03-17T12:08:02.739Z"
   },
   {
    "duration": 3,
    "start_time": "2023-03-17T12:08:13.703Z"
   },
   {
    "duration": 10,
    "start_time": "2023-03-17T12:08:14.254Z"
   },
   {
    "duration": 3,
    "start_time": "2023-03-17T12:11:24.960Z"
   },
   {
    "duration": 4,
    "start_time": "2023-03-17T12:11:42.088Z"
   },
   {
    "duration": 12,
    "start_time": "2023-03-17T12:11:42.757Z"
   },
   {
    "duration": 4,
    "start_time": "2023-03-17T12:17:56.101Z"
   },
   {
    "duration": 3,
    "start_time": "2023-03-17T12:18:12.611Z"
   },
   {
    "duration": 1251,
    "start_time": "2023-03-17T12:18:22.282Z"
   },
   {
    "duration": 3,
    "start_time": "2023-03-17T12:18:23.536Z"
   },
   {
    "duration": 161,
    "start_time": "2023-03-17T12:18:23.540Z"
   },
   {
    "duration": 10,
    "start_time": "2023-03-17T12:18:23.704Z"
   },
   {
    "duration": 9,
    "start_time": "2023-03-17T12:18:23.715Z"
   },
   {
    "duration": 34,
    "start_time": "2023-03-17T12:18:23.725Z"
   },
   {
    "duration": 116,
    "start_time": "2023-03-17T12:18:23.761Z"
   },
   {
    "duration": 7,
    "start_time": "2023-03-17T12:18:23.879Z"
   },
   {
    "duration": 33,
    "start_time": "2023-03-17T12:18:23.888Z"
   },
   {
    "duration": 14,
    "start_time": "2023-03-17T12:18:23.924Z"
   },
   {
    "duration": 5437,
    "start_time": "2023-03-17T12:18:23.940Z"
   },
   {
    "duration": 5165,
    "start_time": "2023-03-17T12:18:29.379Z"
   },
   {
    "duration": 12,
    "start_time": "2023-03-17T12:18:34.546Z"
   },
   {
    "duration": 19,
    "start_time": "2023-03-17T12:18:34.560Z"
   },
   {
    "duration": 5350,
    "start_time": "2023-03-17T12:18:34.581Z"
   },
   {
    "duration": 5180,
    "start_time": "2023-03-17T12:18:39.932Z"
   },
   {
    "duration": 8,
    "start_time": "2023-03-17T12:18:45.113Z"
   },
   {
    "duration": 21,
    "start_time": "2023-03-17T12:18:45.122Z"
   },
   {
    "duration": 5317,
    "start_time": "2023-03-17T12:18:45.145Z"
   },
   {
    "duration": 12,
    "start_time": "2023-03-17T12:18:50.463Z"
   },
   {
    "duration": 12,
    "start_time": "2023-03-17T12:18:50.476Z"
   },
   {
    "duration": 5,
    "start_time": "2023-03-17T12:18:50.489Z"
   },
   {
    "duration": 294,
    "start_time": "2023-03-17T12:18:50.495Z"
   },
   {
    "duration": 30,
    "start_time": "2023-03-17T12:18:50.791Z"
   },
   {
    "duration": 4,
    "start_time": "2023-03-17T12:18:50.823Z"
   },
   {
    "duration": 8,
    "start_time": "2023-03-17T12:18:50.828Z"
   },
   {
    "duration": 1075,
    "start_time": "2023-03-17T12:18:50.837Z"
   },
   {
    "duration": 518,
    "start_time": "2023-03-17T12:18:51.916Z"
   },
   {
    "duration": 5,
    "start_time": "2023-03-17T12:18:52.436Z"
   },
   {
    "duration": 23,
    "start_time": "2023-03-17T12:18:52.442Z"
   },
   {
    "duration": 19,
    "start_time": "2023-03-17T12:18:52.466Z"
   },
   {
    "duration": 3,
    "start_time": "2023-03-17T12:18:52.486Z"
   },
   {
    "duration": 15,
    "start_time": "2023-03-17T12:18:52.491Z"
   },
   {
    "duration": 6,
    "start_time": "2023-03-17T12:18:52.507Z"
   },
   {
    "duration": 4,
    "start_time": "2023-03-17T12:18:52.514Z"
   },
   {
    "duration": 82,
    "start_time": "2023-03-17T12:18:52.519Z"
   },
   {
    "duration": 3,
    "start_time": "2023-03-17T12:18:52.603Z"
   },
   {
    "duration": 12,
    "start_time": "2023-03-17T12:18:52.607Z"
   },
   {
    "duration": 4,
    "start_time": "2023-03-17T12:18:52.620Z"
   },
   {
    "duration": 100,
    "start_time": "2023-03-17T12:18:52.625Z"
   },
   {
    "duration": 38,
    "start_time": "2023-03-17T12:18:52.727Z"
   },
   {
    "duration": 3,
    "start_time": "2023-03-17T12:18:52.767Z"
   },
   {
    "duration": 17,
    "start_time": "2023-03-17T12:18:52.771Z"
   },
   {
    "duration": 119,
    "start_time": "2023-03-17T12:18:52.790Z"
   },
   {
    "duration": 61,
    "start_time": "2023-03-17T12:18:52.911Z"
   },
   {
    "duration": 3,
    "start_time": "2023-03-17T12:18:52.973Z"
   },
   {
    "duration": 12,
    "start_time": "2023-03-17T12:18:52.977Z"
   },
   {
    "duration": 148,
    "start_time": "2023-03-17T12:18:52.991Z"
   },
   {
    "duration": 23,
    "start_time": "2023-03-17T12:18:53.141Z"
   },
   {
    "duration": 3,
    "start_time": "2023-03-17T12:18:53.166Z"
   },
   {
    "duration": 12,
    "start_time": "2023-03-17T12:18:53.170Z"
   },
   {
    "duration": 6,
    "start_time": "2023-03-17T12:18:53.183Z"
   },
   {
    "duration": 4,
    "start_time": "2023-03-17T12:18:53.190Z"
   },
   {
    "duration": 10,
    "start_time": "2023-03-17T12:18:53.196Z"
   },
   {
    "duration": 182,
    "start_time": "2023-03-17T12:18:53.207Z"
   },
   {
    "duration": 148,
    "start_time": "2023-03-17T12:18:53.390Z"
   },
   {
    "duration": 4,
    "start_time": "2023-03-17T12:18:53.540Z"
   },
   {
    "duration": 12,
    "start_time": "2023-03-17T12:18:53.545Z"
   },
   {
    "duration": 9,
    "start_time": "2023-03-17T12:18:53.558Z"
   },
   {
    "duration": 5,
    "start_time": "2023-03-17T12:18:53.568Z"
   },
   {
    "duration": 12,
    "start_time": "2023-03-17T12:18:53.574Z"
   },
   {
    "duration": 104,
    "start_time": "2023-03-17T12:18:53.587Z"
   },
   {
    "duration": 0,
    "start_time": "2023-03-17T12:18:53.693Z"
   },
   {
    "duration": 0,
    "start_time": "2023-03-17T12:18:53.694Z"
   },
   {
    "duration": 0,
    "start_time": "2023-03-17T12:18:53.695Z"
   },
   {
    "duration": 0,
    "start_time": "2023-03-17T12:18:53.696Z"
   },
   {
    "duration": 0,
    "start_time": "2023-03-17T12:18:53.697Z"
   },
   {
    "duration": 0,
    "start_time": "2023-03-17T12:18:53.698Z"
   },
   {
    "duration": 0,
    "start_time": "2023-03-17T12:18:53.700Z"
   },
   {
    "duration": 0,
    "start_time": "2023-03-17T12:18:53.701Z"
   },
   {
    "duration": 0,
    "start_time": "2023-03-17T12:18:53.702Z"
   },
   {
    "duration": 0,
    "start_time": "2023-03-17T12:18:53.703Z"
   },
   {
    "duration": 0,
    "start_time": "2023-03-17T12:18:53.704Z"
   },
   {
    "duration": 0,
    "start_time": "2023-03-17T12:18:53.705Z"
   },
   {
    "duration": 0,
    "start_time": "2023-03-17T12:18:53.706Z"
   },
   {
    "duration": 0,
    "start_time": "2023-03-17T12:18:53.707Z"
   },
   {
    "duration": 0,
    "start_time": "2023-03-17T12:18:53.708Z"
   },
   {
    "duration": 0,
    "start_time": "2023-03-17T12:18:53.708Z"
   },
   {
    "duration": 0,
    "start_time": "2023-03-17T12:18:53.709Z"
   },
   {
    "duration": 0,
    "start_time": "2023-03-17T12:18:53.710Z"
   },
   {
    "duration": 0,
    "start_time": "2023-03-17T12:18:53.711Z"
   },
   {
    "duration": 0,
    "start_time": "2023-03-17T12:18:53.712Z"
   },
   {
    "duration": 0,
    "start_time": "2023-03-17T12:18:53.713Z"
   },
   {
    "duration": 12,
    "start_time": "2023-03-17T12:21:25.482Z"
   },
   {
    "duration": 3,
    "start_time": "2023-03-17T12:22:23.836Z"
   },
   {
    "duration": 13,
    "start_time": "2023-03-17T12:22:24.360Z"
   },
   {
    "duration": 3,
    "start_time": "2023-03-17T12:23:03.928Z"
   },
   {
    "duration": 11,
    "start_time": "2023-03-17T12:23:04.635Z"
   },
   {
    "duration": 450,
    "start_time": "2023-03-17T12:24:00.819Z"
   },
   {
    "duration": 63,
    "start_time": "2023-03-17T12:26:19.659Z"
   },
   {
    "duration": 40,
    "start_time": "2023-03-17T12:26:50.265Z"
   },
   {
    "duration": 91,
    "start_time": "2023-03-17T12:28:40.077Z"
   },
   {
    "duration": 10,
    "start_time": "2023-03-17T12:28:44.501Z"
   },
   {
    "duration": 32,
    "start_time": "2023-03-17T12:28:44.660Z"
   },
   {
    "duration": 6,
    "start_time": "2023-03-17T12:28:44.831Z"
   },
   {
    "duration": 5,
    "start_time": "2023-03-17T12:28:45.286Z"
   },
   {
    "duration": 7,
    "start_time": "2023-03-17T12:28:49.312Z"
   },
   {
    "duration": 9,
    "start_time": "2023-03-17T12:28:49.837Z"
   },
   {
    "duration": 9,
    "start_time": "2023-03-17T12:28:50.016Z"
   },
   {
    "duration": 9,
    "start_time": "2023-03-17T12:28:50.196Z"
   },
   {
    "duration": 10,
    "start_time": "2023-03-17T12:28:50.556Z"
   },
   {
    "duration": 3,
    "start_time": "2023-03-17T12:28:50.894Z"
   },
   {
    "duration": 2,
    "start_time": "2023-03-17T12:28:51.073Z"
   },
   {
    "duration": 2,
    "start_time": "2023-03-17T12:28:51.258Z"
   },
   {
    "duration": 3,
    "start_time": "2023-03-17T12:28:51.427Z"
   },
   {
    "duration": 4,
    "start_time": "2023-03-17T12:28:51.794Z"
   },
   {
    "duration": 168,
    "start_time": "2023-03-17T12:28:52.518Z"
   },
   {
    "duration": 170,
    "start_time": "2023-03-17T12:28:53.066Z"
   },
   {
    "duration": 172,
    "start_time": "2023-03-17T12:28:53.616Z"
   },
   {
    "duration": 242,
    "start_time": "2023-03-17T12:28:54.343Z"
   },
   {
    "duration": 1573,
    "start_time": "2023-03-17T16:35:35.748Z"
   },
   {
    "duration": 3,
    "start_time": "2023-03-17T16:35:37.324Z"
   },
   {
    "duration": 315,
    "start_time": "2023-03-17T16:35:37.329Z"
   },
   {
    "duration": 13,
    "start_time": "2023-03-17T16:35:37.646Z"
   },
   {
    "duration": 10,
    "start_time": "2023-03-17T16:35:37.660Z"
   },
   {
    "duration": 25,
    "start_time": "2023-03-17T16:35:37.672Z"
   },
   {
    "duration": 145,
    "start_time": "2023-03-17T16:35:37.698Z"
   },
   {
    "duration": 9,
    "start_time": "2023-03-17T16:35:37.845Z"
   },
   {
    "duration": 47,
    "start_time": "2023-03-17T16:35:37.855Z"
   },
   {
    "duration": 9,
    "start_time": "2023-03-17T16:35:37.905Z"
   },
   {
    "duration": 6700,
    "start_time": "2023-03-17T16:35:37.916Z"
   },
   {
    "duration": 6923,
    "start_time": "2023-03-17T16:35:44.617Z"
   },
   {
    "duration": 10,
    "start_time": "2023-03-17T16:35:51.542Z"
   },
   {
    "duration": 28,
    "start_time": "2023-03-17T16:35:51.555Z"
   },
   {
    "duration": 6535,
    "start_time": "2023-03-17T16:35:51.586Z"
   },
   {
    "duration": 6739,
    "start_time": "2023-03-17T16:35:58.123Z"
   },
   {
    "duration": 11,
    "start_time": "2023-03-17T16:36:04.864Z"
   },
   {
    "duration": 24,
    "start_time": "2023-03-17T16:36:04.877Z"
   },
   {
    "duration": 7114,
    "start_time": "2023-03-17T16:36:04.903Z"
   },
   {
    "duration": 23,
    "start_time": "2023-03-17T16:36:12.019Z"
   },
   {
    "duration": 14,
    "start_time": "2023-03-17T16:36:12.044Z"
   },
   {
    "duration": 4,
    "start_time": "2023-03-17T16:36:12.073Z"
   },
   {
    "duration": 346,
    "start_time": "2023-03-17T16:36:12.079Z"
   },
   {
    "duration": 54,
    "start_time": "2023-03-17T16:36:12.428Z"
   },
   {
    "duration": 5,
    "start_time": "2023-03-17T16:36:12.484Z"
   },
   {
    "duration": 9,
    "start_time": "2023-03-17T16:36:12.491Z"
   },
   {
    "duration": 1389,
    "start_time": "2023-03-17T16:36:12.502Z"
   },
   {
    "duration": 668,
    "start_time": "2023-03-17T16:36:13.896Z"
   },
   {
    "duration": 9,
    "start_time": "2023-03-17T16:36:14.566Z"
   },
   {
    "duration": 25,
    "start_time": "2023-03-17T16:36:14.577Z"
   },
   {
    "duration": 33,
    "start_time": "2023-03-17T16:36:14.604Z"
   },
   {
    "duration": 3,
    "start_time": "2023-03-17T16:36:14.639Z"
   },
   {
    "duration": 36,
    "start_time": "2023-03-17T16:36:14.644Z"
   },
   {
    "duration": 11,
    "start_time": "2023-03-17T16:36:14.682Z"
   },
   {
    "duration": 7,
    "start_time": "2023-03-17T16:36:14.695Z"
   },
   {
    "duration": 72,
    "start_time": "2023-03-17T16:36:14.704Z"
   },
   {
    "duration": 4,
    "start_time": "2023-03-17T16:36:14.778Z"
   },
   {
    "duration": 44,
    "start_time": "2023-03-17T16:36:14.783Z"
   },
   {
    "duration": 17,
    "start_time": "2023-03-17T16:36:14.829Z"
   },
   {
    "duration": 116,
    "start_time": "2023-03-17T16:36:14.848Z"
   },
   {
    "duration": 41,
    "start_time": "2023-03-17T16:36:14.967Z"
   },
   {
    "duration": 3,
    "start_time": "2023-03-17T16:36:15.009Z"
   },
   {
    "duration": 35,
    "start_time": "2023-03-17T16:36:15.014Z"
   },
   {
    "duration": 145,
    "start_time": "2023-03-17T16:36:15.051Z"
   },
   {
    "duration": 78,
    "start_time": "2023-03-17T16:36:15.198Z"
   },
   {
    "duration": 3,
    "start_time": "2023-03-17T16:36:15.278Z"
   },
   {
    "duration": 11,
    "start_time": "2023-03-17T16:36:15.283Z"
   },
   {
    "duration": 193,
    "start_time": "2023-03-17T16:36:15.296Z"
   },
   {
    "duration": 32,
    "start_time": "2023-03-17T16:36:15.491Z"
   },
   {
    "duration": 4,
    "start_time": "2023-03-17T16:36:15.526Z"
   },
   {
    "duration": 15,
    "start_time": "2023-03-17T16:36:15.531Z"
   },
   {
    "duration": 33,
    "start_time": "2023-03-17T16:36:15.547Z"
   },
   {
    "duration": 6,
    "start_time": "2023-03-17T16:36:15.582Z"
   },
   {
    "duration": 15,
    "start_time": "2023-03-17T16:36:15.590Z"
   },
   {
    "duration": 197,
    "start_time": "2023-03-17T16:36:15.607Z"
   },
   {
    "duration": 207,
    "start_time": "2023-03-17T16:36:15.805Z"
   },
   {
    "duration": 4,
    "start_time": "2023-03-17T16:36:16.014Z"
   },
   {
    "duration": 8,
    "start_time": "2023-03-17T16:36:16.020Z"
   },
   {
    "duration": 10,
    "start_time": "2023-03-17T16:36:16.030Z"
   },
   {
    "duration": 8,
    "start_time": "2023-03-17T16:36:16.042Z"
   },
   {
    "duration": 16,
    "start_time": "2023-03-17T16:36:16.073Z"
   },
   {
    "duration": 567,
    "start_time": "2023-03-17T16:36:16.090Z"
   },
   {
    "duration": 279,
    "start_time": "2023-03-17T16:36:16.659Z"
   },
   {
    "duration": 0,
    "start_time": "2023-03-17T16:36:16.940Z"
   },
   {
    "duration": 0,
    "start_time": "2023-03-17T16:36:16.940Z"
   },
   {
    "duration": 0,
    "start_time": "2023-03-17T16:36:16.941Z"
   },
   {
    "duration": 0,
    "start_time": "2023-03-17T16:36:16.942Z"
   },
   {
    "duration": 0,
    "start_time": "2023-03-17T16:36:16.943Z"
   },
   {
    "duration": 0,
    "start_time": "2023-03-17T16:36:16.943Z"
   },
   {
    "duration": 0,
    "start_time": "2023-03-17T16:36:16.952Z"
   },
   {
    "duration": 0,
    "start_time": "2023-03-17T16:36:16.953Z"
   },
   {
    "duration": 0,
    "start_time": "2023-03-17T16:36:16.955Z"
   },
   {
    "duration": 0,
    "start_time": "2023-03-17T16:36:16.955Z"
   },
   {
    "duration": 0,
    "start_time": "2023-03-17T16:36:16.956Z"
   },
   {
    "duration": 0,
    "start_time": "2023-03-17T16:36:16.957Z"
   },
   {
    "duration": 0,
    "start_time": "2023-03-17T16:36:16.958Z"
   },
   {
    "duration": 0,
    "start_time": "2023-03-17T16:36:16.973Z"
   },
   {
    "duration": 0,
    "start_time": "2023-03-17T16:36:16.974Z"
   },
   {
    "duration": 0,
    "start_time": "2023-03-17T16:36:16.976Z"
   },
   {
    "duration": 1,
    "start_time": "2023-03-17T16:36:16.977Z"
   },
   {
    "duration": 0,
    "start_time": "2023-03-17T16:36:16.981Z"
   },
   {
    "duration": 0,
    "start_time": "2023-03-17T16:36:16.982Z"
   },
   {
    "duration": 0,
    "start_time": "2023-03-17T16:36:16.983Z"
   },
   {
    "duration": 9,
    "start_time": "2023-03-17T16:39:04.056Z"
   },
   {
    "duration": 1372,
    "start_time": "2023-03-17T16:40:35.202Z"
   },
   {
    "duration": 1128,
    "start_time": "2023-03-17T16:40:48.541Z"
   },
   {
    "duration": 1201,
    "start_time": "2023-03-17T16:41:26.616Z"
   },
   {
    "duration": 1181,
    "start_time": "2023-03-17T16:41:32.192Z"
   },
   {
    "duration": 1149,
    "start_time": "2023-03-17T16:42:05.422Z"
   },
   {
    "duration": 1165,
    "start_time": "2023-03-17T16:42:14.100Z"
   },
   {
    "duration": 7,
    "start_time": "2023-03-17T16:42:27.135Z"
   },
   {
    "duration": 6,
    "start_time": "2023-03-17T16:42:36.425Z"
   },
   {
    "duration": 4,
    "start_time": "2023-03-17T16:43:11.211Z"
   },
   {
    "duration": 5,
    "start_time": "2023-03-17T16:43:43.863Z"
   },
   {
    "duration": 4,
    "start_time": "2023-03-17T16:43:44.371Z"
   },
   {
    "duration": 4,
    "start_time": "2023-03-17T16:43:59.305Z"
   },
   {
    "duration": 50,
    "start_time": "2023-03-17T16:44:00.692Z"
   },
   {
    "duration": 47,
    "start_time": "2023-03-17T16:44:17.487Z"
   },
   {
    "duration": 99,
    "start_time": "2023-03-17T16:44:27.211Z"
   },
   {
    "duration": 1295,
    "start_time": "2023-03-17T16:44:39.001Z"
   },
   {
    "duration": 3,
    "start_time": "2023-03-17T16:44:40.298Z"
   },
   {
    "duration": 226,
    "start_time": "2023-03-17T16:44:40.302Z"
   },
   {
    "duration": 14,
    "start_time": "2023-03-17T16:44:40.530Z"
   },
   {
    "duration": 28,
    "start_time": "2023-03-17T16:44:40.547Z"
   },
   {
    "duration": 31,
    "start_time": "2023-03-17T16:44:40.577Z"
   },
   {
    "duration": 165,
    "start_time": "2023-03-17T16:44:40.610Z"
   },
   {
    "duration": 11,
    "start_time": "2023-03-17T16:44:40.777Z"
   },
   {
    "duration": 32,
    "start_time": "2023-03-17T16:44:40.790Z"
   },
   {
    "duration": 11,
    "start_time": "2023-03-17T16:44:40.824Z"
   },
   {
    "duration": 6540,
    "start_time": "2023-03-17T16:44:40.837Z"
   },
   {
    "duration": 6845,
    "start_time": "2023-03-17T16:44:47.379Z"
   },
   {
    "duration": 12,
    "start_time": "2023-03-17T16:44:54.226Z"
   },
   {
    "duration": 32,
    "start_time": "2023-03-17T16:44:54.243Z"
   },
   {
    "duration": 6923,
    "start_time": "2023-03-17T16:44:54.277Z"
   },
   {
    "duration": 6601,
    "start_time": "2023-03-17T16:45:01.202Z"
   },
   {
    "duration": 11,
    "start_time": "2023-03-17T16:45:07.805Z"
   },
   {
    "duration": 28,
    "start_time": "2023-03-17T16:45:07.818Z"
   },
   {
    "duration": 7007,
    "start_time": "2023-03-17T16:45:07.849Z"
   },
   {
    "duration": 19,
    "start_time": "2023-03-17T16:45:14.858Z"
   },
   {
    "duration": 11,
    "start_time": "2023-03-17T16:45:14.879Z"
   },
   {
    "duration": 4,
    "start_time": "2023-03-17T16:45:14.892Z"
   },
   {
    "duration": 384,
    "start_time": "2023-03-17T16:45:14.898Z"
   },
   {
    "duration": 45,
    "start_time": "2023-03-17T16:45:15.283Z"
   },
   {
    "duration": 5,
    "start_time": "2023-03-17T16:45:15.331Z"
   },
   {
    "duration": 35,
    "start_time": "2023-03-17T16:45:15.338Z"
   },
   {
    "duration": 1385,
    "start_time": "2023-03-17T16:45:15.376Z"
   },
   {
    "duration": 651,
    "start_time": "2023-03-17T16:45:16.763Z"
   },
   {
    "duration": 7,
    "start_time": "2023-03-17T16:45:17.416Z"
   },
   {
    "duration": 19,
    "start_time": "2023-03-17T16:45:17.425Z"
   },
   {
    "duration": 43,
    "start_time": "2023-03-17T16:45:17.446Z"
   },
   {
    "duration": 4,
    "start_time": "2023-03-17T16:45:17.491Z"
   },
   {
    "duration": 14,
    "start_time": "2023-03-17T16:45:17.496Z"
   },
   {
    "duration": 7,
    "start_time": "2023-03-17T16:45:17.512Z"
   },
   {
    "duration": 4,
    "start_time": "2023-03-17T16:45:17.522Z"
   },
   {
    "duration": 110,
    "start_time": "2023-03-17T16:45:17.528Z"
   },
   {
    "duration": 4,
    "start_time": "2023-03-17T16:45:17.640Z"
   },
   {
    "duration": 26,
    "start_time": "2023-03-17T16:45:17.647Z"
   },
   {
    "duration": 4,
    "start_time": "2023-03-17T16:45:17.676Z"
   },
   {
    "duration": 119,
    "start_time": "2023-03-17T16:45:17.683Z"
   },
   {
    "duration": 35,
    "start_time": "2023-03-17T16:45:17.807Z"
   },
   {
    "duration": 3,
    "start_time": "2023-03-17T16:45:17.844Z"
   },
   {
    "duration": 11,
    "start_time": "2023-03-17T16:45:17.872Z"
   },
   {
    "duration": 148,
    "start_time": "2023-03-17T16:45:17.884Z"
   },
   {
    "duration": 79,
    "start_time": "2023-03-17T16:45:18.034Z"
   },
   {
    "duration": 3,
    "start_time": "2023-03-17T16:45:18.115Z"
   },
   {
    "duration": 9,
    "start_time": "2023-03-17T16:45:18.120Z"
   },
   {
    "duration": 182,
    "start_time": "2023-03-17T16:45:18.131Z"
   },
   {
    "duration": 28,
    "start_time": "2023-03-17T16:45:18.315Z"
   },
   {
    "duration": 4,
    "start_time": "2023-03-17T16:45:18.344Z"
   },
   {
    "duration": 29,
    "start_time": "2023-03-17T16:45:18.350Z"
   },
   {
    "duration": 12,
    "start_time": "2023-03-17T16:45:18.382Z"
   },
   {
    "duration": 6,
    "start_time": "2023-03-17T16:45:18.396Z"
   },
   {
    "duration": 16,
    "start_time": "2023-03-17T16:45:18.404Z"
   },
   {
    "duration": 207,
    "start_time": "2023-03-17T16:45:18.422Z"
   },
   {
    "duration": 212,
    "start_time": "2023-03-17T16:45:18.631Z"
   },
   {
    "duration": 5,
    "start_time": "2023-03-17T16:45:18.845Z"
   },
   {
    "duration": 11,
    "start_time": "2023-03-17T16:45:18.851Z"
   },
   {
    "duration": 16,
    "start_time": "2023-03-17T16:45:18.873Z"
   },
   {
    "duration": 7,
    "start_time": "2023-03-17T16:45:18.891Z"
   },
   {
    "duration": 26,
    "start_time": "2023-03-17T16:45:18.900Z"
   },
   {
    "duration": 515,
    "start_time": "2023-03-17T16:45:18.928Z"
   },
   {
    "duration": 10,
    "start_time": "2023-03-17T16:45:19.445Z"
   },
   {
    "duration": 15,
    "start_time": "2023-03-17T16:45:19.458Z"
   },
   {
    "duration": 5,
    "start_time": "2023-03-17T16:45:19.475Z"
   },
   {
    "duration": 10,
    "start_time": "2023-03-17T16:45:19.482Z"
   },
   {
    "duration": 104,
    "start_time": "2023-03-17T16:45:19.494Z"
   },
   {
    "duration": 151,
    "start_time": "2023-03-17T16:45:19.600Z"
   },
   {
    "duration": 20,
    "start_time": "2023-03-17T16:45:19.753Z"
   },
   {
    "duration": 41,
    "start_time": "2023-03-17T16:45:19.775Z"
   },
   {
    "duration": 8,
    "start_time": "2023-03-17T16:45:19.818Z"
   },
   {
    "duration": 6,
    "start_time": "2023-03-17T16:45:19.828Z"
   },
   {
    "duration": 7,
    "start_time": "2023-03-17T16:45:19.836Z"
   },
   {
    "duration": 48,
    "start_time": "2023-03-17T16:45:19.845Z"
   },
   {
    "duration": 10,
    "start_time": "2023-03-17T16:45:19.896Z"
   },
   {
    "duration": 14,
    "start_time": "2023-03-17T16:45:19.908Z"
   },
   {
    "duration": 10,
    "start_time": "2023-03-17T16:45:19.924Z"
   },
   {
    "duration": 4,
    "start_time": "2023-03-17T16:45:19.936Z"
   },
   {
    "duration": 10,
    "start_time": "2023-03-17T16:45:19.942Z"
   },
   {
    "duration": 7,
    "start_time": "2023-03-17T16:45:19.954Z"
   },
   {
    "duration": 7,
    "start_time": "2023-03-17T16:45:19.974Z"
   },
   {
    "duration": 8,
    "start_time": "2023-03-17T16:45:19.983Z"
   },
   {
    "duration": 263,
    "start_time": "2023-03-17T16:45:19.994Z"
   },
   {
    "duration": 315,
    "start_time": "2023-03-17T16:45:20.259Z"
   },
   {
    "duration": 301,
    "start_time": "2023-03-17T16:45:20.577Z"
   },
   {
    "duration": 333,
    "start_time": "2023-03-17T16:45:20.880Z"
   },
   {
    "duration": 4,
    "start_time": "2023-03-17T16:49:51.971Z"
   },
   {
    "duration": 5,
    "start_time": "2023-03-17T16:50:02.237Z"
   },
   {
    "duration": 4,
    "start_time": "2023-03-17T16:50:07.564Z"
   },
   {
    "duration": 3,
    "start_time": "2023-03-17T16:50:13.248Z"
   },
   {
    "duration": 4,
    "start_time": "2023-03-17T16:50:51.337Z"
   },
   {
    "duration": 4,
    "start_time": "2023-03-17T16:50:59.380Z"
   },
   {
    "duration": 6,
    "start_time": "2023-03-17T16:51:58.161Z"
   },
   {
    "duration": 6,
    "start_time": "2023-03-17T16:52:07.333Z"
   },
   {
    "duration": 11,
    "start_time": "2023-03-17T16:52:10.961Z"
   },
   {
    "duration": 11,
    "start_time": "2023-03-17T16:52:11.137Z"
   },
   {
    "duration": 10,
    "start_time": "2023-03-17T16:52:11.304Z"
   },
   {
    "duration": 12,
    "start_time": "2023-03-17T16:52:11.651Z"
   },
   {
    "duration": 3,
    "start_time": "2023-03-17T16:52:12.016Z"
   },
   {
    "duration": 3,
    "start_time": "2023-03-17T16:52:12.353Z"
   },
   {
    "duration": 3,
    "start_time": "2023-03-17T16:52:12.675Z"
   },
   {
    "duration": 2,
    "start_time": "2023-03-17T16:52:12.848Z"
   },
   {
    "duration": 5,
    "start_time": "2023-03-17T16:52:13.285Z"
   },
   {
    "duration": 205,
    "start_time": "2023-03-17T17:00:25.829Z"
   },
   {
    "duration": 209,
    "start_time": "2023-03-17T17:01:04.717Z"
   },
   {
    "duration": 306,
    "start_time": "2023-03-17T17:02:08.967Z"
   },
   {
    "duration": 1266,
    "start_time": "2023-03-17T17:24:51.725Z"
   },
   {
    "duration": 3,
    "start_time": "2023-03-17T17:24:52.993Z"
   },
   {
    "duration": 187,
    "start_time": "2023-03-17T17:24:52.998Z"
   },
   {
    "duration": 11,
    "start_time": "2023-03-17T17:24:53.188Z"
   },
   {
    "duration": 13,
    "start_time": "2023-03-17T17:24:53.201Z"
   },
   {
    "duration": 24,
    "start_time": "2023-03-17T17:24:53.216Z"
   },
   {
    "duration": 159,
    "start_time": "2023-03-17T17:24:53.241Z"
   },
   {
    "duration": 9,
    "start_time": "2023-03-17T17:24:53.401Z"
   },
   {
    "duration": 35,
    "start_time": "2023-03-17T17:24:53.412Z"
   },
   {
    "duration": 24,
    "start_time": "2023-03-17T17:24:53.450Z"
   },
   {
    "duration": 5951,
    "start_time": "2023-03-17T17:24:53.476Z"
   },
   {
    "duration": 6373,
    "start_time": "2023-03-17T17:24:59.429Z"
   },
   {
    "duration": 12,
    "start_time": "2023-03-17T17:25:05.804Z"
   },
   {
    "duration": 17,
    "start_time": "2023-03-17T17:25:05.818Z"
   },
   {
    "duration": 6397,
    "start_time": "2023-03-17T17:25:05.838Z"
   },
   {
    "duration": 6081,
    "start_time": "2023-03-17T17:25:12.237Z"
   },
   {
    "duration": 9,
    "start_time": "2023-03-17T17:25:18.321Z"
   },
   {
    "duration": 28,
    "start_time": "2023-03-17T17:25:18.332Z"
   },
   {
    "duration": 1701,
    "start_time": "2023-03-18T10:00:07.492Z"
   },
   {
    "duration": 3,
    "start_time": "2023-03-18T10:00:09.195Z"
   },
   {
    "duration": 309,
    "start_time": "2023-03-18T10:00:09.200Z"
   },
   {
    "duration": 14,
    "start_time": "2023-03-18T10:00:09.511Z"
   },
   {
    "duration": 10,
    "start_time": "2023-03-18T10:00:09.528Z"
   },
   {
    "duration": 41,
    "start_time": "2023-03-18T10:00:09.541Z"
   },
   {
    "duration": 145,
    "start_time": "2023-03-18T10:00:09.584Z"
   },
   {
    "duration": 9,
    "start_time": "2023-03-18T10:00:09.731Z"
   },
   {
    "duration": 47,
    "start_time": "2023-03-18T10:00:09.742Z"
   },
   {
    "duration": 11,
    "start_time": "2023-03-18T10:00:09.790Z"
   },
   {
    "duration": 6290,
    "start_time": "2023-03-18T10:00:09.803Z"
   },
   {
    "duration": 6063,
    "start_time": "2023-03-18T10:00:16.095Z"
   },
   {
    "duration": 11,
    "start_time": "2023-03-18T10:00:22.160Z"
   },
   {
    "duration": 14,
    "start_time": "2023-03-18T10:00:22.174Z"
   },
   {
    "duration": 6457,
    "start_time": "2023-03-18T10:00:22.189Z"
   },
   {
    "duration": 6030,
    "start_time": "2023-03-18T10:00:28.647Z"
   },
   {
    "duration": 11,
    "start_time": "2023-03-18T10:00:34.678Z"
   },
   {
    "duration": 26,
    "start_time": "2023-03-18T10:00:34.690Z"
   },
   {
    "duration": 6272,
    "start_time": "2023-03-18T10:00:34.719Z"
   },
   {
    "duration": 14,
    "start_time": "2023-03-18T10:00:40.994Z"
   },
   {
    "duration": 22,
    "start_time": "2023-03-18T10:00:41.010Z"
   },
   {
    "duration": 30,
    "start_time": "2023-03-18T10:00:41.034Z"
   },
   {
    "duration": 350,
    "start_time": "2023-03-18T10:00:41.066Z"
   },
   {
    "duration": 47,
    "start_time": "2023-03-18T10:00:41.418Z"
   },
   {
    "duration": 5,
    "start_time": "2023-03-18T10:00:41.467Z"
   },
   {
    "duration": 9,
    "start_time": "2023-03-18T10:00:41.474Z"
   },
   {
    "duration": 1289,
    "start_time": "2023-03-18T10:00:41.485Z"
   },
   {
    "duration": 622,
    "start_time": "2023-03-18T10:00:42.776Z"
   },
   {
    "duration": 6,
    "start_time": "2023-03-18T10:00:43.400Z"
   },
   {
    "duration": 26,
    "start_time": "2023-03-18T10:00:43.408Z"
   },
   {
    "duration": 32,
    "start_time": "2023-03-18T10:00:43.436Z"
   },
   {
    "duration": 4,
    "start_time": "2023-03-18T10:00:43.470Z"
   },
   {
    "duration": 14,
    "start_time": "2023-03-18T10:00:43.476Z"
   },
   {
    "duration": 15,
    "start_time": "2023-03-18T10:00:43.492Z"
   },
   {
    "duration": 26,
    "start_time": "2023-03-18T10:00:43.509Z"
   },
   {
    "duration": 69,
    "start_time": "2023-03-18T10:00:43.537Z"
   },
   {
    "duration": 4,
    "start_time": "2023-03-18T10:00:43.608Z"
   },
   {
    "duration": 11,
    "start_time": "2023-03-18T10:00:43.613Z"
   },
   {
    "duration": 9,
    "start_time": "2023-03-18T10:00:43.625Z"
   },
   {
    "duration": 117,
    "start_time": "2023-03-18T10:00:43.635Z"
   },
   {
    "duration": 38,
    "start_time": "2023-03-18T10:00:43.763Z"
   },
   {
    "duration": 3,
    "start_time": "2023-03-18T10:00:43.803Z"
   },
   {
    "duration": 11,
    "start_time": "2023-03-18T10:00:43.808Z"
   },
   {
    "duration": 170,
    "start_time": "2023-03-18T10:00:43.821Z"
   },
   {
    "duration": 80,
    "start_time": "2023-03-18T10:00:43.993Z"
   },
   {
    "duration": 3,
    "start_time": "2023-03-18T10:00:44.075Z"
   },
   {
    "duration": 25,
    "start_time": "2023-03-18T10:00:44.080Z"
   },
   {
    "duration": 187,
    "start_time": "2023-03-18T10:00:44.107Z"
   },
   {
    "duration": 25,
    "start_time": "2023-03-18T10:00:44.296Z"
   },
   {
    "duration": 4,
    "start_time": "2023-03-18T10:00:44.323Z"
   },
   {
    "duration": 34,
    "start_time": "2023-03-18T10:00:44.329Z"
   },
   {
    "duration": 9,
    "start_time": "2023-03-18T10:00:44.365Z"
   },
   {
    "duration": 9,
    "start_time": "2023-03-18T10:00:44.376Z"
   },
   {
    "duration": 11,
    "start_time": "2023-03-18T10:00:44.387Z"
   },
   {
    "duration": 218,
    "start_time": "2023-03-18T10:00:44.399Z"
   },
   {
    "duration": 215,
    "start_time": "2023-03-18T10:00:44.619Z"
   },
   {
    "duration": 6,
    "start_time": "2023-03-18T10:00:44.836Z"
   },
   {
    "duration": 20,
    "start_time": "2023-03-18T10:00:44.844Z"
   },
   {
    "duration": 23,
    "start_time": "2023-03-18T10:00:44.867Z"
   },
   {
    "duration": 22,
    "start_time": "2023-03-18T10:00:44.892Z"
   },
   {
    "duration": 24,
    "start_time": "2023-03-18T10:00:44.916Z"
   },
   {
    "duration": 763,
    "start_time": "2023-03-18T10:00:44.942Z"
   },
   {
    "duration": 10,
    "start_time": "2023-03-18T10:00:45.708Z"
   },
   {
    "duration": 6,
    "start_time": "2023-03-18T10:00:45.720Z"
   },
   {
    "duration": 10,
    "start_time": "2023-03-18T10:00:45.728Z"
   },
   {
    "duration": 25,
    "start_time": "2023-03-18T10:00:45.740Z"
   },
   {
    "duration": 121,
    "start_time": "2023-03-18T10:00:45.767Z"
   },
   {
    "duration": 126,
    "start_time": "2023-03-18T10:00:45.890Z"
   },
   {
    "duration": 11,
    "start_time": "2023-03-18T10:00:46.018Z"
   },
   {
    "duration": 59,
    "start_time": "2023-03-18T10:00:46.030Z"
   },
   {
    "duration": 7,
    "start_time": "2023-03-18T10:00:46.091Z"
   },
   {
    "duration": 10,
    "start_time": "2023-03-18T10:00:46.100Z"
   },
   {
    "duration": 9,
    "start_time": "2023-03-18T10:00:46.111Z"
   },
   {
    "duration": 14,
    "start_time": "2023-03-18T10:00:46.121Z"
   },
   {
    "duration": 27,
    "start_time": "2023-03-18T10:00:46.137Z"
   },
   {
    "duration": 10,
    "start_time": "2023-03-18T10:00:46.166Z"
   },
   {
    "duration": 13,
    "start_time": "2023-03-18T10:00:46.178Z"
   },
   {
    "duration": 3,
    "start_time": "2023-03-18T10:00:46.193Z"
   },
   {
    "duration": 7,
    "start_time": "2023-03-18T10:00:46.198Z"
   },
   {
    "duration": 10,
    "start_time": "2023-03-18T10:00:46.206Z"
   },
   {
    "duration": 6,
    "start_time": "2023-03-18T10:00:46.218Z"
   },
   {
    "duration": 8,
    "start_time": "2023-03-18T10:00:46.226Z"
   },
   {
    "duration": 269,
    "start_time": "2023-03-18T10:00:46.236Z"
   },
   {
    "duration": 294,
    "start_time": "2023-03-18T10:00:46.507Z"
   },
   {
    "duration": 272,
    "start_time": "2023-03-18T10:00:46.804Z"
   },
   {
    "duration": 362,
    "start_time": "2023-03-18T10:00:47.078Z"
   },
   {
    "duration": 1495,
    "start_time": "2023-03-18T11:36:25.588Z"
   },
   {
    "duration": 3,
    "start_time": "2023-03-18T11:36:27.086Z"
   },
   {
    "duration": 882,
    "start_time": "2023-03-18T11:36:27.091Z"
   },
   {
    "duration": 11,
    "start_time": "2023-03-18T11:36:27.975Z"
   },
   {
    "duration": 9,
    "start_time": "2023-03-18T11:36:27.988Z"
   },
   {
    "duration": 19,
    "start_time": "2023-03-18T11:36:27.999Z"
   },
   {
    "duration": 135,
    "start_time": "2023-03-18T11:36:28.019Z"
   },
   {
    "duration": 12,
    "start_time": "2023-03-18T11:36:28.161Z"
   },
   {
    "duration": 27,
    "start_time": "2023-03-18T11:36:28.175Z"
   },
   {
    "duration": 10,
    "start_time": "2023-03-18T11:36:28.205Z"
   },
   {
    "duration": 6439,
    "start_time": "2023-03-18T11:36:28.216Z"
   },
   {
    "duration": 6123,
    "start_time": "2023-03-18T11:36:34.657Z"
   },
   {
    "duration": 10,
    "start_time": "2023-03-18T11:36:40.782Z"
   },
   {
    "duration": 15,
    "start_time": "2023-03-18T11:36:40.794Z"
   },
   {
    "duration": 6896,
    "start_time": "2023-03-18T11:36:40.811Z"
   },
   {
    "duration": 6164,
    "start_time": "2023-03-18T11:36:47.709Z"
   },
   {
    "duration": 8,
    "start_time": "2023-03-18T11:36:53.876Z"
   },
   {
    "duration": 23,
    "start_time": "2023-03-18T11:36:53.890Z"
   },
   {
    "duration": 6224,
    "start_time": "2023-03-18T11:36:53.915Z"
   },
   {
    "duration": 12,
    "start_time": "2023-03-18T11:37:00.141Z"
   },
   {
    "duration": 25,
    "start_time": "2023-03-18T11:37:00.161Z"
   },
   {
    "duration": 31,
    "start_time": "2023-03-18T11:37:00.188Z"
   },
   {
    "duration": 370,
    "start_time": "2023-03-18T11:37:00.221Z"
   },
   {
    "duration": 42,
    "start_time": "2023-03-18T11:37:00.593Z"
   },
   {
    "duration": 39,
    "start_time": "2023-03-18T11:37:00.637Z"
   },
   {
    "duration": 48,
    "start_time": "2023-03-18T11:37:00.678Z"
   },
   {
    "duration": 1250,
    "start_time": "2023-03-18T11:37:00.727Z"
   },
   {
    "duration": 615,
    "start_time": "2023-03-18T11:37:01.982Z"
   },
   {
    "duration": 6,
    "start_time": "2023-03-18T11:37:02.598Z"
   },
   {
    "duration": 14,
    "start_time": "2023-03-18T11:37:02.606Z"
   },
   {
    "duration": 19,
    "start_time": "2023-03-18T11:37:02.622Z"
   },
   {
    "duration": 5,
    "start_time": "2023-03-18T11:37:02.662Z"
   },
   {
    "duration": 14,
    "start_time": "2023-03-18T11:37:02.669Z"
   },
   {
    "duration": 10,
    "start_time": "2023-03-18T11:37:02.684Z"
   },
   {
    "duration": 7,
    "start_time": "2023-03-18T11:37:02.696Z"
   },
   {
    "duration": 75,
    "start_time": "2023-03-18T11:37:02.705Z"
   },
   {
    "duration": 3,
    "start_time": "2023-03-18T11:37:02.782Z"
   },
   {
    "duration": 11,
    "start_time": "2023-03-18T11:37:02.786Z"
   },
   {
    "duration": 4,
    "start_time": "2023-03-18T11:37:02.798Z"
   },
   {
    "duration": 115,
    "start_time": "2023-03-18T11:37:02.803Z"
   },
   {
    "duration": 48,
    "start_time": "2023-03-18T11:37:02.920Z"
   },
   {
    "duration": 5,
    "start_time": "2023-03-18T11:37:02.970Z"
   },
   {
    "duration": 21,
    "start_time": "2023-03-18T11:37:02.976Z"
   },
   {
    "duration": 139,
    "start_time": "2023-03-18T11:37:02.999Z"
   },
   {
    "duration": 72,
    "start_time": "2023-03-18T11:37:03.140Z"
   },
   {
    "duration": 3,
    "start_time": "2023-03-18T11:37:03.214Z"
   },
   {
    "duration": 16,
    "start_time": "2023-03-18T11:37:03.218Z"
   },
   {
    "duration": 186,
    "start_time": "2023-03-18T11:37:03.236Z"
   },
   {
    "duration": 23,
    "start_time": "2023-03-18T11:37:03.424Z"
   },
   {
    "duration": 14,
    "start_time": "2023-03-18T11:37:03.449Z"
   },
   {
    "duration": 17,
    "start_time": "2023-03-18T11:37:03.465Z"
   },
   {
    "duration": 9,
    "start_time": "2023-03-18T11:37:03.485Z"
   },
   {
    "duration": 5,
    "start_time": "2023-03-18T11:37:03.497Z"
   },
   {
    "duration": 28,
    "start_time": "2023-03-18T11:37:03.504Z"
   },
   {
    "duration": 209,
    "start_time": "2023-03-18T11:37:03.534Z"
   },
   {
    "duration": 188,
    "start_time": "2023-03-18T11:37:03.744Z"
   },
   {
    "duration": 6,
    "start_time": "2023-03-18T11:37:03.934Z"
   },
   {
    "duration": 20,
    "start_time": "2023-03-18T11:37:03.942Z"
   },
   {
    "duration": 13,
    "start_time": "2023-03-18T11:37:03.964Z"
   },
   {
    "duration": 4,
    "start_time": "2023-03-18T11:37:03.979Z"
   },
   {
    "duration": 19,
    "start_time": "2023-03-18T11:37:03.986Z"
   },
   {
    "duration": 573,
    "start_time": "2023-03-18T11:37:04.008Z"
   },
   {
    "duration": 10,
    "start_time": "2023-03-18T11:37:04.583Z"
   },
   {
    "duration": 9,
    "start_time": "2023-03-18T11:37:04.595Z"
   },
   {
    "duration": 5,
    "start_time": "2023-03-18T11:37:04.606Z"
   },
   {
    "duration": 9,
    "start_time": "2023-03-18T11:37:04.613Z"
   },
   {
    "duration": 110,
    "start_time": "2023-03-18T11:37:04.662Z"
   },
   {
    "duration": 131,
    "start_time": "2023-03-18T11:37:04.775Z"
   },
   {
    "duration": 13,
    "start_time": "2023-03-18T11:37:04.908Z"
   },
   {
    "duration": 62,
    "start_time": "2023-03-18T11:37:04.923Z"
   },
   {
    "duration": 9,
    "start_time": "2023-03-18T11:37:04.987Z"
   },
   {
    "duration": 7,
    "start_time": "2023-03-18T11:37:04.999Z"
   },
   {
    "duration": 7,
    "start_time": "2023-03-18T11:37:05.008Z"
   },
   {
    "duration": 45,
    "start_time": "2023-03-18T11:37:05.017Z"
   },
   {
    "duration": 11,
    "start_time": "2023-03-18T11:37:05.064Z"
   },
   {
    "duration": 15,
    "start_time": "2023-03-18T11:37:05.077Z"
   },
   {
    "duration": 18,
    "start_time": "2023-03-18T11:37:05.095Z"
   },
   {
    "duration": 4,
    "start_time": "2023-03-18T11:37:05.116Z"
   },
   {
    "duration": 17,
    "start_time": "2023-03-18T11:37:05.123Z"
   },
   {
    "duration": 3,
    "start_time": "2023-03-18T11:37:05.163Z"
   },
   {
    "duration": 6,
    "start_time": "2023-03-18T11:37:05.168Z"
   },
   {
    "duration": 6,
    "start_time": "2023-03-18T11:37:05.181Z"
   },
   {
    "duration": 243,
    "start_time": "2023-03-18T11:37:05.189Z"
   },
   {
    "duration": 234,
    "start_time": "2023-03-18T11:37:05.434Z"
   },
   {
    "duration": 222,
    "start_time": "2023-03-18T11:37:05.670Z"
   },
   {
    "duration": 305,
    "start_time": "2023-03-18T11:37:05.893Z"
   },
   {
    "duration": 11,
    "start_time": "2023-04-03T16:42:34.212Z"
   },
   {
    "duration": 1581,
    "start_time": "2023-04-07T13:44:33.222Z"
   },
   {
    "duration": 3,
    "start_time": "2023-04-07T13:44:34.806Z"
   },
   {
    "duration": 738,
    "start_time": "2023-04-07T13:44:34.811Z"
   },
   {
    "duration": 13,
    "start_time": "2023-04-07T13:44:35.552Z"
   },
   {
    "duration": 22,
    "start_time": "2023-04-07T13:44:35.567Z"
   },
   {
    "duration": 25,
    "start_time": "2023-04-07T13:44:35.592Z"
   },
   {
    "duration": 134,
    "start_time": "2023-04-07T13:44:35.619Z"
   },
   {
    "duration": 9,
    "start_time": "2023-04-07T13:44:35.755Z"
   },
   {
    "duration": 50,
    "start_time": "2023-04-07T13:44:35.765Z"
   },
   {
    "duration": 26,
    "start_time": "2023-04-07T13:44:35.818Z"
   },
   {
    "duration": 6652,
    "start_time": "2023-04-07T13:44:35.846Z"
   },
   {
    "duration": 6410,
    "start_time": "2023-04-07T13:44:42.500Z"
   },
   {
    "duration": 12,
    "start_time": "2023-04-07T13:44:48.913Z"
   },
   {
    "duration": 17,
    "start_time": "2023-04-07T13:44:48.927Z"
   },
   {
    "duration": 6912,
    "start_time": "2023-04-07T13:44:48.945Z"
   },
   {
    "duration": 6568,
    "start_time": "2023-04-07T13:44:55.859Z"
   },
   {
    "duration": 12,
    "start_time": "2023-04-07T13:45:02.430Z"
   },
   {
    "duration": 94,
    "start_time": "2023-04-07T13:45:02.444Z"
   },
   {
    "duration": 6741,
    "start_time": "2023-04-07T13:45:02.540Z"
   },
   {
    "duration": 11,
    "start_time": "2023-04-07T13:45:09.283Z"
   },
   {
    "duration": 10,
    "start_time": "2023-04-07T13:45:09.307Z"
   },
   {
    "duration": 4,
    "start_time": "2023-04-07T13:45:09.319Z"
   },
   {
    "duration": 368,
    "start_time": "2023-04-07T13:45:09.325Z"
   },
   {
    "duration": 51,
    "start_time": "2023-04-07T13:45:09.696Z"
   },
   {
    "duration": 6,
    "start_time": "2023-04-07T13:45:09.749Z"
   },
   {
    "duration": 7,
    "start_time": "2023-04-07T13:45:09.757Z"
   },
   {
    "duration": 1418,
    "start_time": "2023-04-07T13:45:09.767Z"
   },
   {
    "duration": 672,
    "start_time": "2023-04-07T13:45:11.191Z"
   },
   {
    "duration": 7,
    "start_time": "2023-04-07T13:45:11.866Z"
   },
   {
    "duration": 33,
    "start_time": "2023-04-07T13:45:11.876Z"
   },
   {
    "duration": 30,
    "start_time": "2023-04-07T13:45:11.911Z"
   },
   {
    "duration": 5,
    "start_time": "2023-04-07T13:45:11.943Z"
   },
   {
    "duration": 12,
    "start_time": "2023-04-07T13:45:11.950Z"
   },
   {
    "duration": 44,
    "start_time": "2023-04-07T13:45:11.965Z"
   },
   {
    "duration": 5,
    "start_time": "2023-04-07T13:45:12.011Z"
   },
   {
    "duration": 85,
    "start_time": "2023-04-07T13:45:12.018Z"
   },
   {
    "duration": 4,
    "start_time": "2023-04-07T13:45:12.106Z"
   },
   {
    "duration": 20,
    "start_time": "2023-04-07T13:45:12.113Z"
   },
   {
    "duration": 8,
    "start_time": "2023-04-07T13:45:12.134Z"
   },
   {
    "duration": 142,
    "start_time": "2023-04-07T13:45:12.144Z"
   },
   {
    "duration": 51,
    "start_time": "2023-04-07T13:45:12.287Z"
   },
   {
    "duration": 4,
    "start_time": "2023-04-07T13:45:12.341Z"
   },
   {
    "duration": 12,
    "start_time": "2023-04-07T13:45:12.347Z"
   },
   {
    "duration": 155,
    "start_time": "2023-04-07T13:45:12.361Z"
   },
   {
    "duration": 64,
    "start_time": "2023-04-07T13:45:12.519Z"
   },
   {
    "duration": 18,
    "start_time": "2023-04-07T13:45:12.585Z"
   },
   {
    "duration": 26,
    "start_time": "2023-04-07T13:45:12.606Z"
   },
   {
    "duration": 221,
    "start_time": "2023-04-07T13:45:12.634Z"
   },
   {
    "duration": 25,
    "start_time": "2023-04-07T13:45:12.857Z"
   },
   {
    "duration": 21,
    "start_time": "2023-04-07T13:45:12.883Z"
   },
   {
    "duration": 27,
    "start_time": "2023-04-07T13:45:12.907Z"
   },
   {
    "duration": 17,
    "start_time": "2023-04-07T13:45:12.937Z"
   },
   {
    "duration": 9,
    "start_time": "2023-04-07T13:45:12.956Z"
   },
   {
    "duration": 23,
    "start_time": "2023-04-07T13:45:12.967Z"
   },
   {
    "duration": 299,
    "start_time": "2023-04-07T13:45:12.992Z"
   },
   {
    "duration": 179,
    "start_time": "2023-04-07T13:45:13.293Z"
   },
   {
    "duration": 4,
    "start_time": "2023-04-07T13:45:13.475Z"
   },
   {
    "duration": 9,
    "start_time": "2023-04-07T13:45:13.481Z"
   },
   {
    "duration": 9,
    "start_time": "2023-04-07T13:45:13.505Z"
   },
   {
    "duration": 4,
    "start_time": "2023-04-07T13:45:13.517Z"
   },
   {
    "duration": 14,
    "start_time": "2023-04-07T13:45:13.523Z"
   },
   {
    "duration": 408,
    "start_time": "2023-04-07T13:45:13.540Z"
   },
   {
    "duration": 12,
    "start_time": "2023-04-07T13:45:13.950Z"
   },
   {
    "duration": 7,
    "start_time": "2023-04-07T13:45:13.964Z"
   },
   {
    "duration": 5,
    "start_time": "2023-04-07T13:45:13.973Z"
   },
   {
    "duration": 24,
    "start_time": "2023-04-07T13:45:13.980Z"
   },
   {
    "duration": 129,
    "start_time": "2023-04-07T13:45:14.007Z"
   },
   {
    "duration": 148,
    "start_time": "2023-04-07T13:45:14.138Z"
   },
   {
    "duration": 21,
    "start_time": "2023-04-07T13:45:14.287Z"
   },
   {
    "duration": 50,
    "start_time": "2023-04-07T13:45:14.311Z"
   },
   {
    "duration": 7,
    "start_time": "2023-04-07T13:45:14.363Z"
   },
   {
    "duration": 5,
    "start_time": "2023-04-07T13:45:14.372Z"
   },
   {
    "duration": 27,
    "start_time": "2023-04-07T13:45:14.379Z"
   },
   {
    "duration": 16,
    "start_time": "2023-04-07T13:45:14.408Z"
   },
   {
    "duration": 12,
    "start_time": "2023-04-07T13:45:14.426Z"
   },
   {
    "duration": 12,
    "start_time": "2023-04-07T13:45:14.440Z"
   },
   {
    "duration": 13,
    "start_time": "2023-04-07T13:45:14.454Z"
   },
   {
    "duration": 2,
    "start_time": "2023-04-07T13:45:14.469Z"
   },
   {
    "duration": 33,
    "start_time": "2023-04-07T13:45:14.473Z"
   },
   {
    "duration": 5,
    "start_time": "2023-04-07T13:45:14.509Z"
   },
   {
    "duration": 4,
    "start_time": "2023-04-07T13:45:14.517Z"
   },
   {
    "duration": 8,
    "start_time": "2023-04-07T13:45:14.528Z"
   },
   {
    "duration": 284,
    "start_time": "2023-04-07T13:45:14.538Z"
   },
   {
    "duration": 244,
    "start_time": "2023-04-07T13:45:14.824Z"
   },
   {
    "duration": 264,
    "start_time": "2023-04-07T13:45:15.070Z"
   },
   {
    "duration": 368,
    "start_time": "2023-04-07T13:45:15.336Z"
   }
  ],
  "kernelspec": {
   "display_name": "Python 3 (ipykernel)",
   "language": "python",
   "name": "python3"
  },
  "language_info": {
   "codemirror_mode": {
    "name": "ipython",
    "version": 3
   },
   "file_extension": ".py",
   "mimetype": "text/x-python",
   "name": "python",
   "nbconvert_exporter": "python",
   "pygments_lexer": "ipython3",
   "version": "3.9.13"
  },
  "toc": {
   "base_numbering": 1,
   "nav_menu": {},
   "number_sections": false,
   "sideBar": true,
   "skip_h1_title": false,
   "title_cell": "Table of Contents",
   "title_sidebar": "Contents",
   "toc_cell": false,
   "toc_position": {
    "height": "calc(100% - 180px)",
    "left": "10px",
    "top": "150px",
    "width": "302.266px"
   },
   "toc_section_display": true,
   "toc_window_display": true
  }
 },
 "nbformat": 4,
 "nbformat_minor": 2
}
